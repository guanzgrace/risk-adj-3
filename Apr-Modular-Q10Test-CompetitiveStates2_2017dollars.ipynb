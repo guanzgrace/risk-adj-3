{
 "cells": [
  {
   "cell_type": "code",
   "execution_count": 1,
   "metadata": {},
   "outputs": [
    {
     "name": "stdout",
     "output_type": "stream",
     "text": [
      "{0: ['ME', 'IL', 'PA', 'GA', 'OK', 'DE', 'WA', 'CT', 'OH', 'VA', 'NE', 'MT', 'IN', 'CA', 'HI', 'ND', 'MD', 'SC', 'RI', 'AK', 'KY', 'WI', 'LA', 'MN', 'MS', 'WV', 'FL'], 1: ['SD', 'IL', 'PA', 'NH', 'NM', 'NV', 'OK', 'UT', 'CT', 'OH', 'VA', 'OR', 'CO', 'IN', 'HI', 'AL', 'RI', 'AK', 'LA', 'MN', 'IA', 'AR', 'WV'], 2: ['MI', 'ME', 'WY', 'DC', 'TX', 'AZ', 'NC', 'WA', 'OR', 'CO', 'MT', 'ND', 'TN', 'SC', 'AL', 'NY', 'KY', 'NJ', 'KS', 'ID', 'IA', 'AR', 'MO'], 3: ['MI', 'SD', 'WY', 'NH', 'DC', 'TX', 'GA', 'AZ', 'NM', 'NC', 'NV', 'DE', 'UT', 'NE', 'CA', 'MD', 'TN', 'NY', 'NJ', 'KS', 'WI', 'ID', 'MS', 'FL', 'MO']}\n",
      "{0: ['MI', 'SD', 'WY', 'NH', 'DC', 'TX', 'AZ', 'NM', 'NC', 'NV', 'UT', 'OR', 'CO', 'TN', 'AL', 'NY', 'NJ', 'KS', 'ID', 'IA', 'AR', 'MO'], 1: ['MI', 'ME', 'WY', 'DC', 'TX', 'GA', 'AZ', 'NC', 'DE', 'WA', 'NE', 'MT', 'CA', 'ND', 'MD', 'TN', 'SC', 'NY', 'KY', 'NJ', 'KS', 'WI', 'ID', 'MS', 'FL', 'MO'], 2: ['SD', 'IL', 'PA', 'NH', 'GA', 'NM', 'NV', 'OK', 'DE', 'UT', 'CT', 'OH', 'VA', 'NE', 'IN', 'CA', 'HI', 'MD', 'RI', 'AK', 'WI', 'LA', 'MN', 'MS', 'WV', 'FL'], 3: ['ME', 'IL', 'PA', 'OK', 'WA', 'CT', 'OH', 'VA', 'OR', 'CO', 'MT', 'IN', 'HI', 'ND', 'SC', 'AL', 'RI', 'AK', 'KY', 'LA', 'MN', 'IA', 'AR', 'WV']}\n"
     ]
    }
   ],
   "source": [
    "%run StatTest2_WithSimulation_Setup.ipynb"
   ]
  },
  {
   "cell_type": "code",
   "execution_count": 2,
   "metadata": {
    "scrolled": true
   },
   "outputs": [
    {
     "name": "stderr",
     "output_type": "stream",
     "text": [
      "/anaconda3/lib/python3.6/site-packages/IPython/core/interactiveshell.py:2785: DtypeWarning: Columns (1,2,52,323,649,882,932,1092,1202) have mixed types. Specify dtype option on import or set low_memory=False.\n",
      "  interactivity=interactivity, compiler=compiler, result=result)\n",
      "/anaconda3/lib/python3.6/site-packages/IPython/core/interactiveshell.py:2785: DtypeWarning: Columns (1,2,57,204,341,376,377,396,430,431,928,944,1006,1013,1151,1160,1169,1179,1411) have mixed types. Specify dtype option on import or set low_memory=False.\n",
      "  interactivity=interactivity, compiler=compiler, result=result)\n",
      "/anaconda3/lib/python3.6/site-packages/IPython/core/interactiveshell.py:2785: DtypeWarning: Columns (1,2,17,163,355,406,702,835,847,1083,1156,1183,1185,1200) have mixed types. Specify dtype option on import or set low_memory=False.\n",
      "  interactivity=interactivity, compiler=compiler, result=result)\n"
     ]
    }
   ],
   "source": [
    "data2014 = pd.read_csv(\"Our_Dataset/2014dataset.csv\")\n",
    "data2015 = pd.read_csv(\"Our_Dataset/2015dataset.csv\")\n",
    "data2016 = pd.read_csv(\"Our_Dataset/2016dataset.csv\")\n",
    "data2017 = pd.read_csv(\"Our_Dataset/2017dataset.csv\")"
   ]
  },
  {
   "cell_type": "code",
   "execution_count": 3,
   "metadata": {},
   "outputs": [],
   "source": [
    "# Create the labels.\n",
    "# By index:\n",
    "# label 2 is transfers\n",
    "# label 3 is premiums\n",
    "# label 4 is costs\n",
    "# label 5 is member months\n",
    "# label 6 is reinsurance (individual group only)\n",
    "\n",
    "ind_labels_14 = [\"HIOS ID\", \"HIOS INPUTTED INSURANCE COMPANY NAME\",\n",
    "                  \"HHS RISK ADJUSTMENT TRANSFER AMOUNT (INDIVIDUAL MARKET, INCLUDING CATASTROPHIC)\",\n",
    "                  \"1.1Directpremiumwritten2HealthInsuranceINDIVIDUALTotalasof3/31/15\",\n",
    "                  \"2.16Totalincurredclaims2HealthInsuranceINDIVIDUALTotalasof3/31/15\",\n",
    "                  \"7.4Membermonths2HealthInsuranceINDIVIDUALTotalasof3/31/15\",\n",
    "                  \"STATE\", \"REINSURANCE PAYMENT AMOUNT (OR NOT ELIGIBLE)\"] # no more reinsurance as of 2017\n",
    "ind_labels_15 = [label.replace('15', '16') for label in ind_labels_14]\n",
    "ind_labels_16 = [label.replace('15', '17') for label in ind_labels_14]\n",
    "ind_labels_17 = [label.replace('15', '18') for label in ind_labels_14][:-1]\n",
    "\n",
    "sg_labels_14 = [\"HIOS ID\", \"HIOS INPUTTED INSURANCE COMPANY NAME\",\n",
    "                 \"HHS RISK ADJUSTMENT TRANSFERS AMOUNT (SMALL GROUP MARKET)\",\n",
    "                  \"1.1Directpremiumwritten7HealthInsuranceSMALLGROUPTotalasof3/31/15\",\n",
    "                  \"2.16Totalincurredclaims7HealthInsuranceSMALLGROUPTotalasof3/31/15\",\n",
    "                  \"7.4Membermonths7HealthInsuranceSMALLGROUPTotalasof3/31/15\", \"STATE\"]\n",
    "sg_labels_15 = [label.replace('15', '16') for label in sg_labels_14]\n",
    "sg_labels_16 = [label.replace('15', '17') for label in sg_labels_14]\n",
    "sg_labels_17 = [label.replace('15', '18') for label in sg_labels_14]"
   ]
  },
  {
   "cell_type": "code",
   "execution_count": 4,
   "metadata": {},
   "outputs": [],
   "source": [
    "# Filter the data to include only the fields we want\n",
    "\n",
    "ind_data_14 = data2014[ind_labels_14].dropna()\n",
    "ind_data_15 = data2015[ind_labels_15].dropna()\n",
    "ind_data_16 = data2016[ind_labels_16].dropna()\n",
    "ind_data_17 = data2017[ind_labels_17].dropna()\n",
    "sg_data_14 = data2014[sg_labels_14].dropna()\n",
    "sg_data_15 = data2015[sg_labels_15].dropna()\n",
    "sg_data_16 = data2016[sg_labels_16].dropna()\n",
    "sg_data_17 = data2017[sg_labels_17].dropna()"
   ]
  },
  {
   "cell_type": "code",
   "execution_count": 5,
   "metadata": {},
   "outputs": [],
   "source": [
    "# Drop companies with <2000 MM\n",
    "ind_data_14 = ind_data_14.where(ind_data_14[ind_labels_14[5]] > 2000).dropna()\n",
    "ind_data_15 = ind_data_15.where(ind_data_15[ind_labels_15[5]] > 2000).dropna()\n",
    "ind_data_16 = ind_data_16.where(ind_data_16[ind_labels_16[5]] > 2000).dropna()\n",
    "ind_data_17 = ind_data_17.where(ind_data_17[ind_labels_17[5]] > 2000).dropna()\n",
    "sg_data_14 = sg_data_14.where(sg_data_14[sg_labels_14[5]] > 2000).dropna()\n",
    "sg_data_15 = sg_data_15.where(sg_data_15[sg_labels_15[5]] > 2000).dropna()\n",
    "sg_data_16 = sg_data_16.where(sg_data_16[sg_labels_16[5]] > 2000).dropna()\n",
    "sg_data_17 = sg_data_17.where(sg_data_17[sg_labels_17[5]] > 2000).dropna()"
   ]
  },
  {
   "cell_type": "code",
   "execution_count": 6,
   "metadata": {},
   "outputs": [],
   "source": [
    "# Calculate transfers, premiums, costs, and reinsurance (if individual group) per member month\n",
    "def calculate_pmm(df, df_labels, group):\n",
    "    df[\"MM\"] = df[df_labels[5]]\n",
    "    df[\"Transfers\"] = df[df_labels[2]]\n",
    "    df[\"TotalCosts\"] = abs(df[df_labels[4]])\n",
    "    df[\"Enrollees\"] = df[\"MM\"] / 12\n",
    "    df[\"TransfersPerEnrollee\"] = df[\"Transfers\"] / df[\"Enrollees\"]\n",
    "    df[\"TransfersPerSqrtEnrollee\"] = df[\"Transfers\"] / np.sqrt(df[\"Enrollees\"])\n",
    "    df[\"LogEnrollees\"] = np.log(df[\"Enrollees\"])\n",
    "    df[\"LogTransfers\"] = np.log(df[\"Transfers\"]**2 + 1)\n",
    "    df[\"TransfersPMM\"] = df[df_labels[2]] / df[df_labels[5]]\n",
    "    df[\"PremiumsPMM\"] = abs(df[df_labels[3]] / df[df_labels[5]])\n",
    "    df[\"CostsPMM\"] = abs(df[df_labels[4]] / df[df_labels[5]])\n",
    "    if group == \"i\":\n",
    "        df[\"ReinsurancePMM\"] = df[df_labels[7]] / df[df_labels[5]]\n",
    "        df[\"ProfitsPMM\"] = df[\"PremiumsPMM\"] - df[\"CostsPMM\"] + df[\"TransfersPMM\"] + df[\"ReinsurancePMM\"]\n",
    "        #df[\"PremMinusCostsPlusReinsurancePMM\"] = df[\"PremiumsPMM\"] - df[\"CostsPMM\"] + df[\"ReinsurancePMM\"]\n",
    "    elif group == \"sg\":\n",
    "        df[\"ProfitsPMM\"] = df[\"PremiumsPMM\"] - df[\"CostsPMM\"] + df[\"TransfersPMM\"]\n",
    "    df[\"PremMinusCostsPMM\"] = df[\"PremiumsPMM\"] - df[\"CostsPMM\"]\n",
    "    df[\"PremMinusCostsPlusTransfersPMM\"] = df[\"PremiumsPMM\"] - df[\"CostsPMM\"] + df[\"TransfersPMM\"]\n",
    "    df[\"SicknessPMM\"] = df[\"CostsPMM\"] - df[\"PremiumsPMM\"]\n",
    "    average_sickness = np.mean(df[\"SicknessPMM\"])\n",
    "    df[\"ExcessSicknessPMM\"] = df[\"SicknessPMM\"] - average_sickness\n",
    "    return df\n",
    "\n",
    "ind_data_14 = calculate_pmm(ind_data_14, ind_labels_14, \"i\")\n",
    "ind_data_15 = calculate_pmm(ind_data_15, ind_labels_15, \"i\")\n",
    "ind_data_16 = calculate_pmm(ind_data_16, ind_labels_16, \"i\")\n",
    "ind_data_17 = calculate_pmm(ind_data_17, ind_labels_17, \"sg\")\n",
    "sg_data_14 = calculate_pmm(sg_data_14, sg_labels_14, \"sg\")\n",
    "sg_data_15 = calculate_pmm(sg_data_15, sg_labels_15, \"sg\")\n",
    "sg_data_16 = calculate_pmm(sg_data_16, sg_labels_16, \"sg\")\n",
    "sg_data_17 = calculate_pmm(sg_data_17, sg_labels_17, \"sg\")"
   ]
  },
  {
   "cell_type": "code",
   "execution_count": 7,
   "metadata": {},
   "outputs": [],
   "source": [
    "# Combine the dataframes by left merging\n",
    "\n",
    "ind_data = ind_data_14.merge(ind_data_15, on='HIOS ID', how='outer', suffixes=('_14', '_15'))\\\n",
    ".merge(ind_data_16, on='HIOS ID', how='outer').merge(ind_data_17, on='HIOS ID', how='outer', suffixes=('_16', '_17'))"
   ]
  },
  {
   "cell_type": "code",
   "execution_count": 8,
   "metadata": {},
   "outputs": [],
   "source": [
    "# Do the same thing for small group\n",
    "\n",
    "sg_data = sg_data_14.merge(sg_data_15, on='HIOS ID', how='outer', suffixes=('_14', '_15'))\\\n",
    ".merge(sg_data_16, on='HIOS ID', how='outer').merge(sg_data_17, on='HIOS ID', how='outer', suffixes=('_16', '_17'))"
   ]
  },
  {
   "cell_type": "code",
   "execution_count": 9,
   "metadata": {},
   "outputs": [],
   "source": [
    "states = [\"PA\", \"WI\", \"OR\", \"NV\", \"FL\", \"VA\", \"NY\", \"AZ\", \"GA\", \"CO\",\n",
    "          \"MI\", \"ME\", \"CA\", \"MO\", \"OH\", \"NM\", \"CT\", \"MA\", \"NE\", \"HI\",\n",
    "          \"MN\", \"AR\", \"NJ\", \"MD\", \"WA\", \"UT\"]\n",
    "dfs = [sg_data_14, sg_data_15, sg_data_16, sg_data_17]"
   ]
  },
  {
   "cell_type": "code",
   "execution_count": 10,
   "metadata": {},
   "outputs": [
    {
     "name": "stdout",
     "output_type": "stream",
     "text": [
      "Cbar is 4398.953\n",
      "PA 14 Ratio is 1.105\n",
      "WI 14 Ratio is 1.127\n",
      "OR 14 Ratio is 1.208\n",
      "NV 14 Ratio is 1.365\n",
      "FL 14 Ratio is 1.199\n",
      "VA 14 Ratio is 1.250\n",
      "NY 14 Ratio is 0.973\n",
      "AZ 14 Ratio is 1.497\n",
      "GA 14 Ratio is 1.260\n",
      "CO 14 Ratio is 1.203\n",
      "MI 14 Ratio is 1.308\n",
      "ME 14 Ratio is 1.188\n",
      "CA 14 Ratio is 1.154\n",
      "MO 14 Ratio is 1.414\n",
      "OH 14 Ratio is 1.264\n",
      "NM 14 Ratio is 1.142\n",
      "CT 14 Ratio is 0.990\n",
      "NE 14 Ratio is 1.265\n",
      "HI 14 Ratio is 1.175\n",
      "MN 14 Ratio is 1.182\n",
      "AR 14 Ratio is 1.473\n",
      "NJ 14 Ratio is 1.173\n",
      "MD 14 Ratio is 1.238\n",
      "WA 14 Ratio is 1.199\n",
      "UT 14 Ratio is 1.628\n",
      "PA 15 Ratio is 1.072\n",
      "WI 15 Ratio is 1.099\n",
      "OR 15 Ratio is 1.138\n",
      "NV 15 Ratio is 1.302\n",
      "FL 15 Ratio is 1.162\n",
      "VA 15 Ratio is 1.269\n",
      "NY 15 Ratio is 0.896\n",
      "AZ 15 Ratio is 1.404\n",
      "GA 15 Ratio is 1.199\n",
      "CO 15 Ratio is 1.185\n",
      "MI 15 Ratio is 1.250\n",
      "ME 15 Ratio is 1.184\n",
      "CA 15 Ratio is 1.117\n",
      "MO 15 Ratio is 1.282\n",
      "OH 15 Ratio is 1.191\n",
      "NM 15 Ratio is 1.108\n",
      "CT 15 Ratio is 0.977\n",
      "NE 15 Ratio is 1.189\n",
      "HI 15 Ratio is 1.086\n",
      "MN 15 Ratio is 1.156\n",
      "AR 15 Ratio is 1.407\n",
      "NJ 15 Ratio is 1.009\n",
      "MD 15 Ratio is 1.269\n",
      "WA 15 Ratio is 1.156\n",
      "UT 15 Ratio is 1.511\n",
      "PA 16 Ratio is 1.026\n",
      "WI 16 Ratio is 1.053\n",
      "OR 16 Ratio is 1.078\n",
      "NV 16 Ratio is 1.286\n",
      "FL 16 Ratio is 1.112\n",
      "VA 16 Ratio is 1.116\n",
      "NY 16 Ratio is 0.862\n",
      "AZ 16 Ratio is 1.325\n",
      "GA 16 Ratio is 1.099\n",
      "CO 16 Ratio is 1.176\n",
      "MI 16 Ratio is 1.195\n",
      "ME 16 Ratio is 1.116\n",
      "CA 16 Ratio is 1.051\n",
      "MO 16 Ratio is 1.195\n",
      "OH 16 Ratio is 1.107\n",
      "NM 16 Ratio is 0.971\n",
      "CT 16 Ratio is 0.880\n",
      "NE 16 Ratio is 1.145\n",
      "HI 16 Ratio is 1.044\n",
      "MN 16 Ratio is 1.052\n",
      "AR 16 Ratio is 1.305\n",
      "NJ 16 Ratio is 0.923\n",
      "MD 16 Ratio is 1.216\n",
      "WA 16 Ratio is 1.134\n",
      "UT 16 Ratio is 1.450\n",
      "PA 17 Ratio is 0.920\n",
      "WI 17 Ratio is 1.005\n",
      "OR 17 Ratio is 1.062\n",
      "NV 17 Ratio is 1.270\n",
      "FL 17 Ratio is 1.046\n",
      "VA 17 Ratio is 1.055\n",
      "NY 17 Ratio is 0.782\n",
      "AZ 17 Ratio is 1.271\n",
      "GA 17 Ratio is 1.041\n",
      "CO 17 Ratio is 1.100\n",
      "MI 17 Ratio is 1.171\n",
      "ME 17 Ratio is 1.074\n",
      "CA 17 Ratio is 1.015\n",
      "MO 17 Ratio is 1.154\n",
      "OH 17 Ratio is 1.047\n",
      "NM 17 Ratio is 0.945\n",
      "CT 17 Ratio is 0.864\n",
      "NE 17 Ratio is 1.087\n",
      "HI 17 Ratio is 0.977\n",
      "MN 17 Ratio is 0.995\n",
      "AR 17 Ratio is 1.236\n",
      "NJ 17 Ratio is 0.852\n",
      "MD 17 Ratio is 1.150\n",
      "WA 17 Ratio is 1.115\n",
      "UT 17 Ratio is 1.391\n",
      "Empirical Transfers Sum = 7356810724.799\n"
     ]
    }
   ],
   "source": [
    "dfs_new = normalize_empirical_data_to_avg_2017_dollars(dfs, states)"
   ]
  },
  {
   "cell_type": "code",
   "execution_count": 11,
   "metadata": {},
   "outputs": [],
   "source": [
    "for df_temp in dfs_new:\n",
    "    df_temp[\"TransfersNormalizedPerSqrtEnrollee\"] = df_temp[\"TransfersNormalized\"] / np.sqrt(df_temp[\"Enrollees\"])"
   ]
  },
  {
   "cell_type": "code",
   "execution_count": 20,
   "metadata": {},
   "outputs": [
    {
     "name": "stdout",
     "output_type": "stream",
     "text": [
      "1233\n",
      "1233\n"
     ]
    }
   ],
   "source": [
    "stateyear_to_df = dict()\n",
    "stateyear_to_random = dict()\n",
    "    \n",
    "cost_matrix_sum = 0\n",
    "df_sum = 0\n",
    "for current_state in states:\n",
    "    for df_index in range(4):\n",
    "        label = current_state + df_index_to_year[df_index]\n",
    "        this_df = state(dfs[df_index], current_state)\n",
    "        if len(this_df) > 0:\n",
    "            sum_n = sum(this_df[\"Enrollees\"])\n",
    "            this_df[\"sum_n_minus_n_i\"] = sum_n - this_df[\"Enrollees\"]\n",
    "            this_df[\"a\"] = this_df[\"Enrollees\"] * (this_df[\"sum_n_minus_n_i\"] / sum_n)**2 + this_df[\"sum_n_minus_n_i\"] * (this_df[\"Enrollees\"] / sum_n)**2\n",
    "            this_df[\"sqrt_a\"] = np.sqrt(this_df[\"a\"])\n",
    "            \n",
    "            cost_matrix = [np.random.normal(0, sqrta, 10**5) for sqrta in this_df[\"sqrt_a\"]]\n",
    "            cost_matrix_sum = cost_matrix_sum + len(cost_matrix)\n",
    "            df_sum = df_sum + len(this_df[\"sqrt_a\"])\n",
    "            #this_df[\"sim_distr\"] = np.random.normal(0, this_df[\"sqrt_a\"], 10000)\n",
    "            stateyear_to_df[label] = this_df\n",
    "            stateyear_to_random[label] = np.array(cost_matrix)\n",
    "        \n",
    "print(cost_matrix_sum)\n",
    "print(df_sum)"
   ]
  },
  {
   "cell_type": "code",
   "execution_count": null,
   "metadata": {},
   "outputs": [],
   "source": []
  },
  {
   "cell_type": "code",
   "execution_count": 21,
   "metadata": {},
   "outputs": [
    {
     "data": {
      "text/plain": [
       "array([241.76282566,  21.09312408, -95.54190026,  29.00380682,\n",
       "         3.70217034, -47.29957341,  78.51190676,  22.11764172])"
      ]
     },
     "execution_count": 21,
     "metadata": {},
     "output_type": "execute_result"
    }
   ],
   "source": [
    "np.array(cost_matrix)[:,10000]"
   ]
  },
  {
   "cell_type": "code",
   "execution_count": 22,
   "metadata": {},
   "outputs": [
    {
     "name": "stdout",
     "output_type": "stream",
     "text": [
      "2191.7114739743915\n"
     ]
    }
   ],
   "source": [
    "lab = \"TransfersNormalizedPerSqrtEnrollee\"\n",
    "\n",
    "\n",
    "abs_empirical_transfers = np.absolute(np.concatenate((np.array(dfs_new[0][lab]),\n",
    "                                                    np.array(dfs_new[1][lab]),\n",
    "                                                    np.array(dfs_new[2][lab]),\n",
    "                                                    np.array(dfs_new[3][lab]))))\n",
    "sorted_abs_empirical_transfers = np.sort(abs_empirical_transfers)\n",
    "\n",
    "percentile_idx = int(len(sorted_abs_empirical_transfers) * 0.1)\n",
    "p10empirical = sorted_abs_empirical_transfers[percentile_idx]\n",
    "print(p10empirical)"
   ]
  },
  {
   "cell_type": "code",
   "execution_count": 23,
   "metadata": {},
   "outputs": [
    {
     "data": {
      "text/plain": [
       "1233"
      ]
     },
     "execution_count": 23,
     "metadata": {},
     "output_type": "execute_result"
    }
   ],
   "source": [
    "k"
   ]
  },
  {
   "cell_type": "code",
   "execution_count": 25,
   "metadata": {},
   "outputs": [
    {
     "name": "stdout",
     "output_type": "stream",
     "text": [
      "{0: ['ME', 'IL', 'PA', 'GA', 'OK', 'DE', 'WA', 'CT', 'OH', 'VA', 'NE', 'MT', 'IN', 'CA', 'HI', 'ND', 'MD', 'SC', 'RI', 'AK', 'KY', 'WI', 'LA', 'MN', 'MS', 'WV', 'FL'], 1: ['SD', 'IL', 'PA', 'NH', 'NM', 'NV', 'OK', 'UT', 'CT', 'OH', 'VA', 'OR', 'CO', 'IN', 'HI', 'AL', 'RI', 'AK', 'LA', 'MN', 'IA', 'AR', 'WV'], 2: ['MI', 'ME', 'WY', 'DC', 'TX', 'AZ', 'NC', 'WA', 'OR', 'CO', 'MT', 'ND', 'TN', 'SC', 'AL', 'NY', 'KY', 'NJ', 'KS', 'ID', 'IA', 'AR', 'MO'], 3: ['MI', 'SD', 'WY', 'NH', 'DC', 'TX', 'GA', 'AZ', 'NM', 'NC', 'NV', 'DE', 'UT', 'NE', 'CA', 'MD', 'TN', 'NY', 'NJ', 'KS', 'WI', 'ID', 'MS', 'FL', 'MO']}\n",
      "{0: ['MI', 'SD', 'WY', 'NH', 'DC', 'TX', 'AZ', 'NM', 'NC', 'NV', 'UT', 'OR', 'CO', 'TN', 'AL', 'NY', 'NJ', 'KS', 'ID', 'IA', 'AR', 'MO'], 1: ['MI', 'ME', 'WY', 'DC', 'TX', 'GA', 'AZ', 'NC', 'DE', 'WA', 'NE', 'MT', 'CA', 'ND', 'MD', 'TN', 'SC', 'NY', 'KY', 'NJ', 'KS', 'WI', 'ID', 'MS', 'FL', 'MO'], 2: ['SD', 'IL', 'PA', 'NH', 'GA', 'NM', 'NV', 'OK', 'DE', 'UT', 'CT', 'OH', 'VA', 'NE', 'IN', 'CA', 'HI', 'MD', 'RI', 'AK', 'WI', 'LA', 'MN', 'MS', 'WV', 'FL'], 3: ['ME', 'IL', 'PA', 'OK', 'WA', 'CT', 'OH', 'VA', 'OR', 'CO', 'MT', 'IN', 'HI', 'ND', 'SC', 'AL', 'RI', 'AK', 'KY', 'LA', 'MN', 'IA', 'AR', 'WV']}\n",
      "0 iterations completed in 0.2 s\n",
      "100 iterations completed in 17.9 s\n",
      "200 iterations completed in 17.2 s\n",
      "300 iterations completed in 14.5 s\n",
      "400 iterations completed in 14.5 s\n",
      "500 iterations completed in 14.4 s\n",
      "600 iterations completed in 14.3 s\n",
      "700 iterations completed in 14.3 s\n",
      "800 iterations completed in 14.4 s\n",
      "900 iterations completed in 14.5 s\n",
      "[ 8668.72072282  8723.65615776  8910.18550651  8927.81313407\n",
      "  8928.29373308  9033.16783269  9179.45035218  9183.09059493\n",
      "  9252.34672506  9284.20274301  9285.3221894   9298.55068744\n",
      "  9307.00693144  9320.86383625  9366.04401146  9373.30200694\n",
      "  9383.38867231  9398.78783456  9427.12214647  9449.97768238\n",
      "  9468.63680299  9487.17715546  9506.90444452  9557.2508906\n",
      "  9577.33558501  9581.42150751  9581.68059543  9584.16211136\n",
      "  9588.10475236  9618.89136476  9643.94754143  9672.17322552\n",
      "  9691.91293906  9699.11819351  9716.90402547  9720.10026801\n",
      "  9740.50392603  9759.90265869  9761.30667261  9762.54198004\n",
      "  9773.80104701  9774.52447818  9788.89678981  9793.77133251\n",
      "  9795.47683478  9795.8000207   9796.04255052  9830.40374365\n",
      "  9833.381672    9836.53422931  9849.70596972  9881.91776837\n",
      "  9882.2185133   9891.29644909  9891.43244739  9896.82665773\n",
      "  9904.49777971  9908.29110162  9913.87018225  9914.6635783\n",
      "  9919.68023418  9930.03936511  9939.22721269  9946.99531159\n",
      "  9949.28123891  9954.91557015  9962.92394435  9980.18854725\n",
      "  9981.44925494  9983.82604841 10004.00103137 10010.76332848\n",
      " 10025.67298554 10028.2712812  10030.29512536 10036.11445075\n",
      " 10036.69059101 10037.16893164 10039.3000749  10041.38517087\n",
      " 10043.44668131 10047.12531074 10050.92551672 10054.66798175\n",
      " 10055.82042922 10058.58514765 10058.79057609 10070.87355186\n",
      " 10084.58792285 10088.55813771 10095.47741073 10104.6859957\n",
      " 10107.29347543 10114.63191226 10115.55344308 10117.43189473\n",
      " 10120.5340539  10126.71491186 10127.62945893 10128.69768405\n",
      " 10134.04611155 10138.49426202 10139.93578612 10140.18895731\n",
      " 10140.77706731 10146.02369917 10146.99707545 10152.12513902\n",
      " 10158.20961076 10166.29762189 10169.13334782 10169.66782156\n",
      " 10175.02703506 10184.43417023 10188.46068586 10189.88346952\n",
      " 10191.05422005 10192.81257945 10205.1160824  10208.40978388\n",
      " 10213.08658859 10215.31322953 10221.15073347 10221.91860316\n",
      " 10226.36281954 10226.47991524 10229.16285844 10231.12639676\n",
      " 10231.85566812 10232.17787559 10242.06390012 10242.60947689\n",
      " 10246.2393208  10250.27521061 10252.51562844 10264.27509729\n",
      " 10264.41807906 10271.91665592 10273.20505691 10279.485926\n",
      " 10280.24825598 10283.50029091 10283.7021978  10286.72776382\n",
      " 10290.84309419 10302.07451339 10304.52822846 10306.96231478\n",
      " 10310.33167774 10319.45904524 10323.14876305 10325.0918124\n",
      " 10326.78059982 10333.22210984 10335.71721575 10348.34202407\n",
      " 10351.66074324 10355.47372514 10361.02155816 10363.37242774\n",
      " 10363.56249535 10364.72600496 10367.48399142 10370.36343297\n",
      " 10374.54280082 10377.93995716 10384.7514851  10385.78739007\n",
      " 10392.26385083 10392.89307352 10401.63929924 10402.66636111\n",
      " 10404.95070479 10405.20543579 10405.95434036 10407.13374391\n",
      " 10408.69326082 10410.26270532 10412.23079812 10420.84936499\n",
      " 10428.33851721 10429.61750816 10433.03904699 10434.31960961\n",
      " 10435.29102809 10436.45871212 10438.91845362 10445.15191108\n",
      " 10450.52823028 10453.03980522 10460.63865123 10475.04660485\n",
      " 10483.03799112 10483.09895724 10486.99723224 10503.32422873\n",
      " 10508.46141332 10511.81333169 10515.70621707 10516.47436164\n",
      " 10516.48138935 10526.28561092 10527.44820409 10528.52264801\n",
      " 10537.01832096 10543.65192547 10544.08242488 10546.02149967\n",
      " 10547.21386786 10552.65177515 10556.22072396 10558.4178171\n",
      " 10560.34293081 10565.91330889 10572.18989452 10575.54673794\n",
      " 10582.20777935 10583.3957074  10585.36482122 10588.34375142\n",
      " 10592.57968665 10592.92643118 10605.47575374 10607.5785715\n",
      " 10607.7749658  10608.93745109 10619.17900736 10619.25671881\n",
      " 10620.98200816 10622.19547802 10631.06838135 10634.59264202\n",
      " 10635.72731446 10649.33292041 10649.38302578 10660.42552661\n",
      " 10662.36036161 10663.7800307  10664.09852594 10665.01676807\n",
      " 10666.46600678 10666.68572442 10671.00816055 10676.34632699\n",
      " 10678.16906378 10679.88146166 10685.35227091 10685.73074466\n",
      " 10686.92383672 10688.09326992 10688.31621301 10689.45381108\n",
      " 10690.67200812 10691.35401533 10693.48437398 10695.76161139\n",
      " 10696.40651464 10705.54777697 10709.23585665 10712.42335939\n",
      " 10713.37658322 10714.23928217 10727.36127885 10731.1131837\n",
      " 10737.23180901 10738.63508519 10739.48693624 10743.35192402\n",
      " 10748.07662861 10751.42862567 10761.51424442 10762.14963221\n",
      " 10766.56818833 10775.68172942 10781.17130519 10784.28201186\n",
      " 10789.44627577 10790.39577662 10800.52948877 10801.00066122\n",
      " 10805.49145857 10811.76073997 10814.18114616 10815.83476188\n",
      " 10816.36927788 10817.5913148  10821.80089255 10825.14960096\n",
      " 10826.98961546 10830.17316577 10830.59111725 10831.94832723\n",
      " 10834.90534533 10835.77289516 10844.43298797 10845.64513762\n",
      " 10849.59014537 10850.12992239 10855.29116216 10856.74783368\n",
      " 10857.64124638 10860.09684212 10861.44370375 10868.51336331\n",
      " 10869.85349507 10870.55047532 10870.88025978 10872.86731214\n",
      " 10879.97753827 10880.77517373 10882.13789955 10888.10831539\n",
      " 10891.8990412  10904.36813402 10904.77519119 10905.09985288\n",
      " 10905.8585364  10907.9536321  10907.99411541 10912.58528897\n",
      " 10920.58270478 10923.22197588 10924.2496998  10928.24836882\n",
      " 10929.0387402  10936.74884632 10940.93665914 10945.69661308\n",
      " 10946.34079874 10947.17685248 10948.41781585 10948.75711029\n",
      " 10951.50905308 10957.63404052 10964.78636791 10971.1145328\n",
      " 10973.63486354 10977.88138727 10986.84042421 10991.16609691\n",
      " 10993.74732229 10994.61317635 10994.63082518 10998.05616307\n",
      " 11000.2367498  11002.19354663 11003.76796809 11007.72565358\n",
      " 11010.02849128 11011.92547468 11016.59825425 11017.34592168\n",
      " 11018.5333919  11019.9491972  11021.58616125 11026.69295583\n",
      " 11030.91002607 11033.81543446 11034.19618395 11035.72879613\n",
      " 11040.62534328 11042.28446926 11048.67813656 11054.16078778\n",
      " 11060.62234945 11062.57964183 11064.2692603  11065.28414523\n",
      " 11068.10565995 11073.06075776 11074.39260222 11078.23813196\n",
      " 11081.54393353 11082.03173732 11083.2693636  11089.01671322\n",
      " 11089.03870712 11089.13122189 11089.79884071 11089.83751325\n",
      " 11092.11899314 11095.74886669 11103.0697248  11103.11758402\n",
      " 11105.35007211 11107.03364527 11108.85353537 11111.63826451\n",
      " 11117.60178414 11120.35556698 11122.67251568 11123.84520791\n",
      " 11124.34412807 11127.22130619 11130.28210575 11133.22383241\n",
      " 11135.52920342 11141.95744436 11145.59106963 11145.9123932\n",
      " 11147.82387497 11149.2517096  11150.97584225 11153.0919889\n",
      " 11155.10999803 11156.60588252 11157.48568965 11168.95384364\n",
      " 11169.10315749 11169.34214106 11172.84089026 11173.24317109\n",
      " 11177.50956726 11178.37918469 11179.64061354 11183.26811745\n",
      " 11193.08450716 11196.11736273 11201.76155761 11204.02823524\n",
      " 11204.5807577  11207.3558341  11207.90147999 11209.47678091\n",
      " 11210.85270782 11214.1483055  11214.88654477 11217.27623918\n",
      " 11223.33135003 11223.54607699 11227.01870886 11228.17526275\n",
      " 11228.90562045 11229.65074548 11230.30009014 11230.62469227\n",
      " 11231.80886961 11233.79984149 11238.95416147 11239.61951797\n",
      " 11240.20211181 11240.24221404 11240.92981348 11241.57334646\n",
      " 11247.34196357 11259.75179618 11264.21369571 11269.88979291\n",
      " 11271.038497   11274.37192058 11275.25255981 11275.62059592\n",
      " 11279.28574977 11281.52036139 11282.59690466 11282.87931417\n",
      " 11283.70405894 11284.64461047 11285.08772743 11285.10986266\n",
      " 11287.76541755 11289.04022376 11290.68281874 11293.87334907\n",
      " 11298.16765895 11301.5756747  11302.60398031 11304.39394912\n",
      " 11306.52913638 11308.17342171 11308.22632819 11312.4180697\n",
      " 11315.49960086 11316.17176227 11321.72341713 11322.89433536\n",
      " 11323.59251631 11328.84779122 11329.94663425 11335.90304445\n",
      " 11337.75240921 11340.00910564 11343.55935468 11343.82428967\n",
      " 11344.03728448 11345.3932757  11349.73829265 11349.84960751\n",
      " 11352.45002559 11353.34151109 11354.09849874 11355.51929556\n",
      " 11356.28116343 11360.56576583 11362.33255415 11365.3106883\n",
      " 11365.41858526 11369.94483235 11371.34458697 11379.70759588\n",
      " 11379.73316262 11384.14740273 11385.93705065 11386.28388412\n",
      " 11397.15108118 11400.24394897 11403.946778   11408.28719896\n",
      " 11409.20077453 11411.08928231 11415.57416958 11416.964112\n",
      " 11417.45744417 11419.66525184 11422.20168498 11423.82895389\n",
      " 11430.21675629 11433.60264324 11433.71212694 11434.57979572\n",
      " 11436.88900669 11438.12564342 11440.18323598 11440.65270066\n",
      " 11445.11407203 11446.33144357 11451.98347479 11452.17130346\n",
      " 11456.42417242 11460.69459932 11462.38397667 11462.77775849\n",
      " 11463.59194885 11468.42803951 11470.54037947 11471.4898332\n",
      " 11479.68857091 11484.93655421 11485.64201947 11487.97703206\n",
      " 11489.74632977 11493.73423559 11497.76739678 11498.45249953\n",
      " 11500.67152777 11501.48386359 11510.25715254 11511.94234845\n",
      " 11532.11273504 11532.2077234  11540.3311593  11542.07030829\n",
      " 11544.7418137  11546.08674875 11547.38849097 11549.05127435\n",
      " 11549.44538668 11550.57046233 11552.09939294 11555.91419784\n",
      " 11557.49217783 11564.73366298 11565.60385348 11568.49510114\n",
      " 11582.73021769 11583.4079554  11584.08117219 11589.3371503\n",
      " 11589.35400369 11590.42535323 11590.6800854  11590.75843284\n",
      " 11593.16910056 11593.95224234 11595.90565351 11599.52846282\n",
      " 11599.9881674  11600.61113924 11602.42530689 11603.51226594\n",
      " 11608.00856445 11616.12155326 11618.52577188 11620.07000498\n",
      " 11621.15212498 11628.81782836 11629.04037265 11630.3877162\n",
      " 11640.65173318 11643.82385553 11644.0431963  11644.14281836\n",
      " 11644.37196466 11647.89537977 11649.2675704  11650.30588287\n",
      " 11650.74179439 11653.29647083 11657.35651962 11659.4601693\n",
      " 11660.32576827 11662.28843567 11664.76480735 11669.3706682\n",
      " 11669.83447079 11670.46033498 11671.04224214 11674.72123635\n",
      " 11676.85109209 11677.77914378 11678.37140344 11680.13855702\n",
      " 11680.86527017 11685.12555095 11685.83660322 11686.52763722\n",
      " 11686.98794813 11689.08266514 11697.44055503 11701.2201168\n",
      " 11702.08470197 11706.48445066 11709.17791712 11709.27429485\n",
      " 11710.1008246  11713.20434086 11713.58606599 11715.93667363\n",
      " 11716.20606436 11717.83316025 11725.75102714 11726.82505314\n",
      " 11732.9151283  11737.6493334  11738.66354785 11744.87571013\n",
      " 11754.600534   11755.82160409 11756.26795368 11756.54607849\n",
      " 11758.20783169 11758.34077444 11767.60689093 11771.69094892\n",
      " 11772.1413202  11784.06226832 11785.79845647 11787.28236193\n",
      " 11790.85695324 11791.13528534 11792.13197012 11793.82004272\n",
      " 11794.26731977 11795.07193949 11807.81185606 11809.62372751\n",
      " 11810.90947586 11815.4096695  11818.00629421 11821.26717235\n",
      " 11821.85940951 11822.26861422 11824.31641297 11843.38968946\n",
      " 11845.08976797 11855.97329956 11858.85230829 11866.26465733\n",
      " 11867.04294454 11874.96298828 11877.08079558 11877.93323277\n",
      " 11879.24682889 11880.20296226 11883.76044856 11886.12110321\n",
      " 11887.08712896 11891.35906347 11895.18062286 11901.16502724\n",
      " 11907.39595254 11908.57387905 11909.06714948 11909.61925281\n",
      " 11911.87767457 11911.90819367 11914.90556047 11919.84265505\n",
      " 11919.85229045 11920.04840315 11920.72134779 11923.21871067\n",
      " 11928.99949039 11931.83801943 11932.52431957 11933.65168688\n",
      " 11936.8133472  11937.78345674 11943.65867523 11945.79284625\n",
      " 11945.86652447 11948.27909334 11948.57517658 11957.2737905\n",
      " 11960.35028444 11968.00037921 11974.91379136 11975.77528727\n",
      " 11979.0161984  11985.13719658 11985.9429223  11986.0207137\n",
      " 11989.73744908 11990.50821021 11994.73465298 11996.07438807\n",
      " 11997.15131836 12002.21352747 12005.98809737 12010.54200483\n",
      " 12011.34108995 12013.06831384 12028.59907006 12029.38187013\n",
      " 12031.80261314 12035.98494683 12042.35894415 12044.33918773\n",
      " 12049.81461389 12050.42848721 12051.72946004 12056.99848818\n",
      " 12058.73998698 12061.37626092 12061.76546578 12062.27025533\n",
      " 12062.53250917 12065.92310803 12067.91628916 12070.90046888\n",
      " 12071.96204775 12075.22643817 12078.50126276 12085.74696742\n",
      " 12088.07657687 12090.40185003 12096.06405411 12101.93072487\n",
      " 12103.33962225 12106.04526479 12106.5156775  12117.17251467\n",
      " 12117.271215   12118.05124212 12119.15151394 12127.69402743\n",
      " 12130.5708899  12135.85824426 12135.99904607 12137.70166337\n",
      " 12143.45292728 12143.55336976 12145.1383206  12147.48416682\n",
      " 12147.56246321 12153.65196002 12161.181559   12162.67993975\n",
      " 12171.75846221 12177.99715674 12186.23384882 12195.48696669\n",
      " 12195.98956142 12196.58013052 12196.66402645 12198.59780048\n",
      " 12199.0408284  12210.61463713 12213.86691227 12215.03884069\n",
      " 12215.33451206 12231.89454054 12235.48439351 12236.03088563\n",
      " 12243.0631226  12247.81382717 12253.92545775 12254.1886692\n",
      " 12259.76917357 12263.12889866 12269.5330143  12276.46866492\n",
      " 12287.44460264 12287.96344027 12289.53403677 12289.79015362\n",
      " 12291.68323349 12297.87776626 12302.32108328 12305.97697831\n",
      " 12315.81649247 12325.51237015 12328.52462136 12333.59090166\n",
      " 12333.63114779 12337.41516831 12339.94991092 12341.59965491\n",
      " 12344.66026769 12346.31441051 12347.26642146 12349.74192527\n",
      " 12351.16079689 12351.4693028  12352.29904283 12360.79213823\n",
      " 12364.19426734 12376.36543094 12377.36840421 12382.88205143\n",
      " 12386.71902358 12391.08076767 12392.80996994 12393.0822457\n",
      " 12397.26198722 12398.19711869 12398.83319923 12402.24620363\n",
      " 12403.42277042 12403.63376123 12405.55338447 12409.17781741\n",
      " 12410.40950131 12411.40850122 12413.07852989 12418.98620999\n",
      " 12424.94773661 12428.39861722 12435.13896314 12435.80702978\n",
      " 12437.95622937 12441.57087407 12443.31765753 12444.37285375\n",
      " 12445.89941692 12449.11913181 12452.36273635 12454.45063801\n",
      " 12465.75737795 12469.81674625 12471.50791856 12478.28841602\n",
      " 12479.83698028 12479.89033702 12482.72802996 12488.26464463\n",
      " 12488.98799676 12494.75555353 12499.03398368 12505.36009469\n",
      " 12506.3681093  12508.40329821 12519.49460697 12521.83391314\n",
      " 12523.86744459 12525.24135643 12526.36875533 12556.71175758\n",
      " 12558.63660869 12569.83403821 12571.66649422 12582.30983407\n",
      " 12582.75042992 12585.5300211  12594.76679579 12599.70585724\n",
      " 12613.17086294 12616.50147428 12628.69849609 12631.73855146\n",
      " 12633.42677651 12639.16369642 12646.17059878 12646.94647751\n",
      " 12655.78779022 12657.98089979 12661.28399116 12664.60990107\n",
      " 12677.48631029 12679.19671788 12687.03631905 12693.15245605\n",
      " 12696.59661862 12709.32378568 12711.21721099 12715.26996273\n",
      " 12721.30190685 12725.46139303 12734.45319826 12763.5446944\n",
      " 12767.29772327 12780.71542886 12789.50222404 12790.29043993\n",
      " 12793.19546018 12796.18580368 12797.43869108 12797.91482154\n",
      " 12800.87296725 12804.05462858 12828.35520592 12834.9343812\n",
      " 12838.71278019 12847.55416604 12848.16807896 12858.63507109\n",
      " 12860.1062094  12864.00672975 12866.79128415 12868.96790299\n",
      " 12887.86052768 12893.73029277 12910.75264456 12919.24467588\n",
      " 12923.30370526 12931.61386618 12932.68510864 12947.13962163\n",
      " 12947.24742277 12948.91529599 12950.42631789 12974.56924191\n",
      " 12992.68593925 12993.21088619 12998.56763294 13003.72634009\n",
      " 13017.51313444 13018.38145576 13023.35134357 13023.78067174\n",
      " 13026.536503   13030.04531188 13046.62007147 13050.46184748\n",
      " 13053.81140498 13062.51016463 13087.71409812 13105.83728061\n",
      " 13110.47429799 13138.08870993 13145.65694876 13151.72407239\n",
      " 13159.33373743 13161.23522605 13161.975912   13183.21533781\n",
      " 13196.55577423 13196.88845759 13209.17731225 13213.79385416\n",
      " 13230.09352677 13234.84857704 13237.43589791 13239.89558989\n",
      " 13300.21391432 13303.4068915  13305.87012458 13320.98841351\n",
      " 13329.50483143 13363.12046398 13380.74236497 13386.9811338\n",
      " 13396.74310128 13407.74123499 13420.4478039  13423.71851946\n",
      " 13451.74684922 13495.37386981 13512.29994603 13514.37450234\n",
      " 13534.87573378 13540.54525013 13545.12708261 13551.37097078\n",
      " 13560.73165244 13573.40228607 13596.0746604  13608.49823462\n",
      " 13613.54811879 13649.90426501 13657.89450672 13702.61526093\n",
      " 13712.26435815 13719.03472355 13897.86556383 14116.04292098\n",
      " 14199.87373811 14296.59118085 14415.15883103 14525.8159421 ]\n",
      "q10 = 9285.322\n",
      "Sum sqrt(a) = 0.000\n"
     ]
    }
   ],
   "source": [
    "%run StatTest2_WithSimulation_Setup.ipynb\n",
    "\n",
    "beta = 100000\n",
    "k = len(sorted_abs_empirical_transfers)\n",
    "q10, at3, _ = apr_test_imbalances_2017(stateyear_to_df, stateyear_to_random, beta, k, 0.1, 0.01)"
   ]
  },
  {
   "cell_type": "code",
   "execution_count": 26,
   "metadata": {},
   "outputs": [],
   "source": [
    "#beta2 = 60000\n",
    "#q102, at32, _ = apr_test_imbalances_2017(stateyear_to_df, stateyear_to_random, beta2, k, 0.1, 0.01)\n",
    "#assert(q10 * 60000 / 100000 - q102 < 0.01)"
   ]
  },
  {
   "cell_type": "code",
   "execution_count": 27,
   "metadata": {},
   "outputs": [
    {
     "data": {
      "text/plain": [
       "23604.043341403394"
      ]
     },
     "execution_count": 27,
     "metadata": {},
     "output_type": "execute_result"
    }
   ],
   "source": [
    "p10empirical * 100000 / q10"
   ]
  },
  {
   "cell_type": "code",
   "execution_count": 28,
   "metadata": {},
   "outputs": [],
   "source": [
    "df2 = create_df2(states, dfs_new, \"TransfersNormalizedPerSqrtEnrollee\")\n",
    "k = len(df2)\n",
    "v = np.linspace(0, max(abs(df2)), 10000)\n",
    "v = v[1:len(v)]\n",
    "\n",
    "ratios = [ratio_list(df2, vi) for vi in v]\n",
    "#print(ratios)\n",
    "begin_p = 5/k\n",
    "end_p = 1-begin_p\n",
    "start_index = 0\n",
    "end_index = 0\n",
    "for index, ratio2 in enumerate(ratios):\n",
    "    if ratio2 >= begin_p:\n",
    "        start_index = index\n",
    "        break\n",
    "    \n",
    "for index, ratio2 in enumerate(ratios):\n",
    "    if ratio2 > end_p:\n",
    "        end_index = index\n",
    "        break\n",
    "\n",
    "if end_index == 0:\n",
    "    end_index = len(v) - 1\n",
    "    \n",
    "v = v[start_index:end_index]\n",
    "\n",
    "ratios2 = ratios[start_index:end_index]\n",
    "#multiplier = [np.sqrt(2)/vi for vi in v]\n",
    "ratios_sim1 = [ratio_list(at3[0], vi) for vi in v]\n",
    "ratios_sim2 = [ratio_list(at3[1], vi) for vi in v]\n",
    "ratios_sim3 = [ratio_list(at3[2], vi) for vi in v]"
   ]
  },
  {
   "cell_type": "code",
   "execution_count": 30,
   "metadata": {},
   "outputs": [
    {
     "data": {
      "text/plain": [
       "<matplotlib.legend.Legend at 0x1c15d9d0b8>"
      ]
     },
     "execution_count": 30,
     "metadata": {},
     "output_type": "execute_result"
    },
    {
     "data": {
      "image/png": "[encoded data removed]",
      "text/plain": [
       "<Figure size 720x504 with 1 Axes>"
      ]
     },
     "metadata": {},
     "output_type": "display_data"
    }
   ],
   "source": [
    "states_label = \"Competitive States\"\n",
    "plt.figure(figsize=(10, 7))\n",
    "plt.plot(v, ratios_sim1, label=\"Sample Simulation 1\", color='b')\n",
    "plt.plot(v, ratios_sim2, label=\"Sample Simulation 2\", color='c')\n",
    "plt.plot(v, ratios_sim3, label=\"Sample Simulation 3\", color='cornflowerblue')\n",
    "plt.plot(v, ratios2, label=\"P(|d_i|<v) (empirical)\", color='darkorange')\n",
    "plt.title(\"Simulation with beta=%d and P(|d_i|<v) vs. v for %s 2014-2017 (k=%d)\" % (beta, states_label, len(df2)))\n",
    "plt.axhline(y=0.1, color='g', linestyle='--')\n",
    "plt.legend()\n",
    "#print(\"beta = %.3f\" % (max_beta))y eye"
   ]
  },
  {
   "cell_type": "code",
   "execution_count": 31,
   "metadata": {},
   "outputs": [
    {
     "name": "stdout",
     "output_type": "stream",
     "text": [
      "final_beta = 23604\n",
      "Beta (=std): 23604\n",
      "Number of T/sqrt(n) above 2 stds: 213\n",
      "Proportion of T/sqrt(n) above 2 stds: 0.173\n",
      "P value = 0.000000\n"
     ]
    }
   ],
   "source": [
    "final_beta = p10empirical * 100000 / q10\n",
    "\n",
    "print(\"final_beta = %d\" % (final_beta))\n",
    "run_binom_stat_test2(final_beta, df2.values)"
   ]
  },
  {
   "cell_type": "code",
   "execution_count": null,
   "metadata": {},
   "outputs": [],
   "source": []
  }
 ],
 "metadata": {
  "kernelspec": {
   "display_name": "Python 3",
   "language": "python",
   "name": "python3"
  },
  "language_info": {
   "codemirror_mode": {
    "name": "ipython",
    "version": 3
   },
   "file_extension": ".py",
   "mimetype": "text/x-python",
   "name": "python",
   "nbconvert_exporter": "python",
   "pygments_lexer": "ipython3",
   "version": "3.6.5"
  }
 },
 "nbformat": 4,
 "nbformat_minor": 2
}
