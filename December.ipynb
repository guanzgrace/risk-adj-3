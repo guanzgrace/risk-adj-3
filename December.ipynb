{
 "cells": [
  {
   "cell_type": "code",
   "execution_count": 2,
   "metadata": {},
   "outputs": [],
   "source": [
    "import pandas as pd\n",
    "from scipy.stats.stats import pearsonr\n",
    "from scipy import stats\n",
    "from scipy import special\n",
    "import statsmodels.api as sm\n",
    "import numpy as np\n",
    "import matplotlib.pyplot as plt\n",
    "import math"
   ]
  },
  {
   "cell_type": "code",
   "execution_count": 3,
   "metadata": {
    "scrolled": true
   },
   "outputs": [
    {
     "name": "stderr",
     "output_type": "stream",
     "text": [
      "/anaconda3/lib/python3.6/site-packages/IPython/core/interactiveshell.py:2785: DtypeWarning: Columns (1,2,52,323,649,882,932,1092,1202) have mixed types. Specify dtype option on import or set low_memory=False.\n",
      "  interactivity=interactivity, compiler=compiler, result=result)\n",
      "/anaconda3/lib/python3.6/site-packages/IPython/core/interactiveshell.py:2785: DtypeWarning: Columns (1,2,57,204,341,376,377,396,430,431,928,944,1006,1013,1151,1160,1169,1179,1411) have mixed types. Specify dtype option on import or set low_memory=False.\n",
      "  interactivity=interactivity, compiler=compiler, result=result)\n",
      "/anaconda3/lib/python3.6/site-packages/IPython/core/interactiveshell.py:2785: DtypeWarning: Columns (1,2,17,163,355,406,702,835,847,1083,1156,1183,1185,1200) have mixed types. Specify dtype option on import or set low_memory=False.\n",
      "  interactivity=interactivity, compiler=compiler, result=result)\n"
     ]
    }
   ],
   "source": [
    "data2014 = pd.read_csv(\"Our_Dataset/2014dataset.csv\")\n",
    "data2015 = pd.read_csv(\"Our_Dataset/2015dataset.csv\")\n",
    "data2016 = pd.read_csv(\"Our_Dataset/2016dataset.csv\")\n",
    "data2017 = pd.read_csv(\"Our_Dataset/2017dataset.csv\")"
   ]
  },
  {
   "cell_type": "code",
   "execution_count": 4,
   "metadata": {},
   "outputs": [],
   "source": [
    "# Create the labels.\n",
    "# By index:\n",
    "# label 2 is transfers\n",
    "# label 3 is premiums\n",
    "# label 4 is costs\n",
    "# label 5 is member months\n",
    "# label 6 is reinsurance (individual group only)\n",
    "\n",
    "ind_labels_14 = [\"HIOS ID\", \"HIOS INPUTTED INSURANCE COMPANY NAME\",\n",
    "                  \"HHS RISK ADJUSTMENT TRANSFER AMOUNT (INDIVIDUAL MARKET, INCLUDING CATASTROPHIC)\",\n",
    "                  \"1.1Directpremiumwritten2HealthInsuranceINDIVIDUALTotalasof3/31/15\",\n",
    "                  \"2.16Totalincurredclaims2HealthInsuranceINDIVIDUALTotalasof3/31/15\",\n",
    "                  \"7.4Membermonths2HealthInsuranceINDIVIDUALTotalasof3/31/15\",\n",
    "                  \"STATE\", \"REINSURANCE PAYMENT AMOUNT (OR NOT ELIGIBLE)\"] # no more reinsurance as of 2017\n",
    "ind_labels_15 = [label.replace('15', '16') for label in ind_labels_14]\n",
    "ind_labels_16 = [label.replace('15', '17') for label in ind_labels_14]\n",
    "ind_labels_17 = [label.replace('15', '18') for label in ind_labels_14][:-1]\n",
    "\n",
    "sg_labels_14 = [\"HIOS ID\", \"HIOS INPUTTED INSURANCE COMPANY NAME\",\n",
    "                 \"HHS RISK ADJUSTMENT TRANSFERS AMOUNT (SMALL GROUP MARKET)\",\n",
    "                  \"1.1Directpremiumwritten7HealthInsuranceSMALLGROUPTotalasof3/31/15\",\n",
    "                  \"2.16Totalincurredclaims7HealthInsuranceSMALLGROUPTotalasof3/31/15\",\n",
    "                  \"7.4Membermonths7HealthInsuranceSMALLGROUPTotalasof3/31/15\", \"STATE\"]\n",
    "sg_labels_15 = [label.replace('15', '16') for label in sg_labels_14]\n",
    "sg_labels_16 = [label.replace('15', '17') for label in sg_labels_14]\n",
    "sg_labels_17 = [label.replace('15', '18') for label in sg_labels_14]"
   ]
  },
  {
   "cell_type": "code",
   "execution_count": 5,
   "metadata": {},
   "outputs": [],
   "source": [
    "# Filter the data to include only the fields we want\n",
    "\n",
    "ind_data_14 = data2014[ind_labels_14].dropna()\n",
    "ind_data_15 = data2015[ind_labels_15].dropna()\n",
    "ind_data_16 = data2016[ind_labels_16].dropna()\n",
    "ind_data_17 = data2017[ind_labels_17].dropna()\n",
    "sg_data_14 = data2014[sg_labels_14].dropna()\n",
    "sg_data_15 = data2015[sg_labels_15].dropna()\n",
    "sg_data_16 = data2016[sg_labels_16].dropna()\n",
    "sg_data_17 = data2017[sg_labels_17].dropna()"
   ]
  },
  {
   "cell_type": "code",
   "execution_count": 6,
   "metadata": {},
   "outputs": [],
   "source": [
    "# Drop companies with <2000 MM\n",
    "ind_data_14 = ind_data_14.where(ind_data_14[ind_labels_14[5]] > 2000).dropna()\n",
    "ind_data_15 = ind_data_15.where(ind_data_15[ind_labels_15[5]] > 2000).dropna()\n",
    "ind_data_16 = ind_data_16.where(ind_data_16[ind_labels_16[5]] > 2000).dropna()\n",
    "ind_data_17 = ind_data_17.where(ind_data_17[ind_labels_17[5]] > 2000).dropna()\n",
    "sg_data_14 = sg_data_14.where(sg_data_14[sg_labels_14[5]] > 2000).dropna()\n",
    "sg_data_15 = sg_data_15.where(sg_data_15[sg_labels_15[5]] > 2000).dropna()\n",
    "sg_data_16 = sg_data_16.where(sg_data_16[sg_labels_16[5]] > 2000).dropna()\n",
    "sg_data_17 = sg_data_17.where(sg_data_17[sg_labels_17[5]] > 2000).dropna()"
   ]
  },
  {
   "cell_type": "code",
   "execution_count": 7,
   "metadata": {},
   "outputs": [],
   "source": [
    "# Calculate transfers, premiums, costs, and reinsurance (if individual group) per member month\n",
    "def calculate_pmm(df, df_labels, group):\n",
    "    df[\"MM\"] = df[df_labels[5]]\n",
    "    df[\"Transfers\"] = df[df_labels[2]]\n",
    "    df[\"Enrollees\"] = df[\"MM\"] / 12\n",
    "    df[\"TransfersPerEnrollee\"] = df[\"Transfers\"] / df[\"Enrollees\"]\n",
    "    df[\"TransfersPerSqrtEnrollee\"] = df[\"Transfers\"] / np.sqrt(df[\"Enrollees\"])\n",
    "    df[\"LogEnrollees\"] = np.log(df[\"Enrollees\"])\n",
    "    df[\"LogTransfers\"] = np.log(df[\"Transfers\"]**2 + 1)\n",
    "    df[\"TransfersPMM\"] = df[df_labels[2]] / df[df_labels[5]]\n",
    "    df[\"PremiumsPMM\"] = abs(df[df_labels[3]] / df[df_labels[5]])\n",
    "    df[\"CostsPMM\"] = abs(df[df_labels[4]] / df[df_labels[5]])\n",
    "    if group == \"i\":\n",
    "        df[\"ReinsurancePMM\"] = df[df_labels[7]] / df[df_labels[5]]\n",
    "        df[\"ProfitsPMM\"] = df[\"PremiumsPMM\"] - df[\"CostsPMM\"] + df[\"TransfersPMM\"] + df[\"ReinsurancePMM\"]\n",
    "        #df[\"PremMinusCostsPlusReinsurancePMM\"] = df[\"PremiumsPMM\"] - df[\"CostsPMM\"] + df[\"ReinsurancePMM\"]\n",
    "    elif group == \"sg\":\n",
    "        df[\"ProfitsPMM\"] = df[\"PremiumsPMM\"] - df[\"CostsPMM\"] + df[\"TransfersPMM\"]\n",
    "    df[\"PremMinusCostsPMM\"] = df[\"PremiumsPMM\"] - df[\"CostsPMM\"]\n",
    "    df[\"PremMinusCostsPlusTransfersPMM\"] = df[\"PremiumsPMM\"] - df[\"CostsPMM\"] + df[\"TransfersPMM\"]\n",
    "    df[\"SicknessPMM\"] = df[\"CostsPMM\"] - df[\"PremiumsPMM\"]\n",
    "    average_sickness = np.mean(df[\"SicknessPMM\"])\n",
    "    df[\"ExcessSicknessPMM\"] = df[\"SicknessPMM\"] - average_sickness\n",
    "    return df\n",
    "\n",
    "ind_data_14 = calculate_pmm(ind_data_14, ind_labels_14, \"i\")\n",
    "ind_data_15 = calculate_pmm(ind_data_15, ind_labels_15, \"i\")\n",
    "ind_data_16 = calculate_pmm(ind_data_16, ind_labels_16, \"i\")\n",
    "ind_data_17 = calculate_pmm(ind_data_17, ind_labels_17, \"sg\")\n",
    "sg_data_14 = calculate_pmm(sg_data_14, sg_labels_14, \"sg\")\n",
    "sg_data_15 = calculate_pmm(sg_data_15, sg_labels_15, \"sg\")\n",
    "sg_data_16 = calculate_pmm(sg_data_16, sg_labels_16, \"sg\")\n",
    "sg_data_17 = calculate_pmm(sg_data_17, sg_labels_17, \"sg\")"
   ]
  },
  {
   "cell_type": "code",
   "execution_count": 8,
   "metadata": {},
   "outputs": [],
   "source": [
    "# Combine the dataframes by left merging\n",
    "\n",
    "ind_data = ind_data_14.merge(ind_data_15, on='HIOS ID', how='outer', suffixes=('_14', '_15'))\\\n",
    ".merge(ind_data_16, on='HIOS ID', how='outer').merge(ind_data_17, on='HIOS ID', how='outer', suffixes=('_16', '_17'))"
   ]
  },
  {
   "cell_type": "code",
   "execution_count": 9,
   "metadata": {},
   "outputs": [],
   "source": [
    "# Do the same thing for small group\n",
    "\n",
    "sg_data = sg_data_14.merge(sg_data_15, on='HIOS ID', how='outer', suffixes=('_14', '_15'))\\\n",
    ".merge(sg_data_16, on='HIOS ID', how='outer').merge(sg_data_17, on='HIOS ID', how='outer', suffixes=('_16', '_17'))"
   ]
  },
  {
   "cell_type": "code",
   "execution_count": 10,
   "metadata": {},
   "outputs": [
    {
     "data": {
      "text/plain": [
       "(611, 85)"
      ]
     },
     "execution_count": 10,
     "metadata": {},
     "output_type": "execute_result"
    }
   ],
   "source": [
    "sg_data.shape"
   ]
  },
  {
   "cell_type": "code",
   "execution_count": 11,
   "metadata": {},
   "outputs": [],
   "source": [
    "def plot(df, label, show_graphs):\n",
    "    no_nulls = df[['LogEnrollees', 'LogTransfers']].dropna()\n",
    "    X = no_nulls[['LogEnrollees']]\n",
    "    y = no_nulls['LogTransfers']\n",
    "    X = sm.add_constant(X)\n",
    "    est = sm.OLS(y, X).fit()\n",
    "    equation = \"Log T = %f + %f * Log Enrollees\" % (est.params[0], est.params[1])\n",
    "    if show_graphs:\n",
    "        fig, ax = plt.subplots(figsize=(8,8))\n",
    "        plt.scatter(df[\"LogEnrollees\"], df[\"LogTransfers\"])\n",
    "        x = np.linspace(min(df[\"LogEnrollees\"]), max(df[\"LogEnrollees\"]), 1000)\n",
    "        plt.plot(x, est.params[0] + est.params[1] * x, label=equation)\n",
    "        plt.title(label)\n",
    "        plt.xlabel(\"Log # Enrollees\")\n",
    "        plt.ylabel(\"Log Transfers^2 + 1\")\n",
    "        plt.legend()\n",
    "        plt.show()\n",
    "    print(label)\n",
    "    print(equation)\n",
    "    \n",
    "def state(df, state):\n",
    "    return df.where(df[\"STATE\"] == state).where(df[\"LogTransfers\"] > 2).dropna()\n",
    "\n",
    "def remove_outliers(df):\n",
    "    return df.where(df[\"LogTransfers\"] > 2).dropna()"
   ]
  },
  {
   "cell_type": "code",
   "execution_count": 12,
   "metadata": {},
   "outputs": [
    {
     "name": "stdout",
     "output_type": "stream",
     "text": [
      "Small Group 2014 (Entire Market)\n",
      "Log T = 14.025779 + 1.347502 * Log Enrollees\n",
      "Small Group 2015 (Entire Market)\n",
      "Log T = 16.075239 + 1.278445 * Log Enrollees\n",
      "Small Group 2016 (Entire Market)\n",
      "Log T = 15.619503 + 1.384965 * Log Enrollees\n",
      "Small Group 2017 (Entire Market)\n",
      "Log T = 16.152988 + 1.348814 * Log Enrollees\n",
      "Individual 2014 (Entire Market)\n",
      "Log T = 14.476398 + 1.575180 * Log Enrollees\n",
      "Individual 2015 (Entire Market)\n",
      "Log T = 14.738923 + 1.653377 * Log Enrollees\n",
      "Individual 2016 (Entire Market)\n",
      "Log T = 14.715496 + 1.683744 * Log Enrollees\n",
      "Individual 2017 (Entire Market)\n",
      "Log T = 18.056670 + 1.384628 * Log Enrollees\n"
     ]
    }
   ],
   "source": [
    "plot(remove_outliers(sg_data_14), \"Small Group 2014 (Entire Market)\", False)\n",
    "plot(remove_outliers(sg_data_15), \"Small Group 2015 (Entire Market)\", False)\n",
    "plot(remove_outliers(sg_data_16), \"Small Group 2016 (Entire Market)\", False)\n",
    "plot(remove_outliers(sg_data_17), \"Small Group 2017 (Entire Market)\", False)\n",
    "\n",
    "plot(remove_outliers(ind_data_14), \"Individual 2014 (Entire Market)\", False)\n",
    "plot(remove_outliers(ind_data_15), \"Individual 2015 (Entire Market)\", False)\n",
    "plot(remove_outliers(ind_data_16), \"Individual 2016 (Entire Market)\", False)\n",
    "plot(remove_outliers(ind_data_17), \"Individual 2017 (Entire Market)\", False)"
   ]
  },
  {
   "cell_type": "code",
   "execution_count": 13,
   "metadata": {},
   "outputs": [
    {
     "name": "stdout",
     "output_type": "stream",
     "text": [
      "Small Group 2014 (CA)\n",
      "Log T = 20.201590 + 0.908923 * Log Enrollees\n",
      "Small Group 2015 (CA)\n",
      "Log T = 17.279402 + 1.384180 * Log Enrollees\n",
      "Small Group 2016 (CA)\n",
      "Log T = 13.879453 + 1.782309 * Log Enrollees\n",
      "Small Group 2017 (CA)\n",
      "Log T = 11.177704 + 2.004392 * Log Enrollees\n",
      "Individual 2014 (CA)\n",
      "Log T = 17.602514 + 1.568328 * Log Enrollees\n",
      "Individual 2015 (CA)\n",
      "Log T = 15.612416 + 1.671452 * Log Enrollees\n",
      "Individual 2016 (CA)\n",
      "Log T = 13.830077 + 1.857634 * Log Enrollees\n",
      "Individual 2017 (CA)\n",
      "Log T = 10.395566 + 2.162331 * Log Enrollees\n"
     ]
    }
   ],
   "source": [
    "plot(state(sg_data_14, \"CA\"), \"Small Group 2014 (CA)\", False)\n",
    "plot(state(sg_data_15, \"CA\"), \"Small Group 2015 (CA)\", False)\n",
    "plot(state(sg_data_16, \"CA\"), \"Small Group 2016 (CA)\", False)\n",
    "plot(state(sg_data_17, \"CA\"), \"Small Group 2017 (CA)\", False)\n",
    "\n",
    "plot(state(ind_data_14, \"CA\"), \"Individual 2014 (CA)\", False)\n",
    "plot(state(ind_data_15, \"CA\"), \"Individual 2015 (CA)\", False)\n",
    "plot(state(ind_data_16, \"CA\"), \"Individual 2016 (CA)\", False)\n",
    "plot(state(ind_data_17, \"CA\"), \"Individual 2017 (CA)\", False)"
   ]
  },
  {
   "cell_type": "code",
   "execution_count": 14,
   "metadata": {},
   "outputs": [
    {
     "name": "stdout",
     "output_type": "stream",
     "text": [
      "Small Group 2014 (WI)\n",
      "Log T = 15.397180 + 1.026624 * Log Enrollees\n",
      "Small Group 2015 (WI)\n",
      "Log T = 15.799472 + 1.208017 * Log Enrollees\n",
      "Small Group 2016 (WI)\n",
      "Log T = 16.544129 + 1.190127 * Log Enrollees\n",
      "Small Group 2017 (WI)\n",
      "Log T = 21.788001 + 0.628396 * Log Enrollees\n",
      "Individual 2014 (WI)\n",
      "Log T = 12.277924 + 1.936107 * Log Enrollees\n",
      "Individual 2015 (WI)\n",
      "Log T = 16.854016 + 1.325381 * Log Enrollees\n",
      "Individual 2016 (WI)\n",
      "Log T = 6.863260 + 2.513512 * Log Enrollees\n"
     ]
    },
    {
     "data": {
      "image/png": "[encoded data removed]",
      "text/plain": [
       "<Figure size 576x576 with 1 Axes>"
      ]
     },
     "metadata": {},
     "output_type": "display_data"
    },
    {
     "name": "stdout",
     "output_type": "stream",
     "text": [
      "Individual 2017 (WI)\n",
      "Log T = 30.932439 + -0.130960 * Log Enrollees\n"
     ]
    }
   ],
   "source": [
    "plot(state(sg_data_14, \"WI\"), \"Small Group 2014 (WI)\", False)\n",
    "plot(state(sg_data_15, \"WI\"), \"Small Group 2015 (WI)\", False)\n",
    "plot(state(sg_data_16, \"WI\"), \"Small Group 2016 (WI)\", False)\n",
    "plot(state(sg_data_17, \"WI\"), \"Small Group 2017 (WI)\", False)\n",
    "\n",
    "plot(state(ind_data_14, \"WI\"), \"Individual 2014 (WI)\", False)\n",
    "plot(state(ind_data_15, \"WI\"), \"Individual 2015 (WI)\", False)\n",
    "plot(state(ind_data_16, \"WI\"), \"Individual 2016 (WI)\", False)\n",
    "plot(state(ind_data_17, \"WI\"), \"Individual 2017 (WI)\", True)"
   ]
  },
  {
   "cell_type": "code",
   "execution_count": 15,
   "metadata": {},
   "outputs": [
    {
     "data": {
      "text/plain": [
       "566     5304975.21\n",
       "568    -2256548.65\n",
       "570    18178903.48\n",
       "571   -11714318.79\n",
       "575    -8893268.99\n",
       "576      273647.15\n",
       "579     2834286.36\n",
       "580    -5487189.38\n",
       "581      369221.66\n",
       "585    10029127.59\n",
       "587    18489433.27\n",
       "588     1853727.76\n",
       "589     1144252.18\n",
       "590    -7998779.45\n",
       "591       76800.23\n",
       "593     3157217.18\n",
       "596     3033495.32\n",
       "Name: Transfers, dtype: float64"
      ]
     },
     "execution_count": 15,
     "metadata": {},
     "output_type": "execute_result"
    }
   ],
   "source": [
    "state(ind_data_17, \"WI\")[\"Transfers\"]"
   ]
  },
  {
   "cell_type": "code",
   "execution_count": 135,
   "metadata": {},
   "outputs": [
    {
     "data": {
      "image/png": "[encoded data removed]",
      "text/plain": [
       "<Figure size 576x576 with 1 Axes>"
      ]
     },
     "metadata": {},
     "output_type": "display_data"
    },
    {
     "name": "stdout",
     "output_type": "stream",
     "text": [
      "Small Group 2014 (NY)\n",
      "Log T = 14.624871 + 1.540068 * Log Enrollees\n",
      "Small Group 2015 (NY)\n",
      "Log T = 18.267316 + 1.301260 * Log Enrollees\n",
      "Small Group 2016 (NY)\n",
      "Log T = 19.501643 + 1.154605 * Log Enrollees\n"
     ]
    },
    {
     "data": {
      "image/png": "[encoded data removed]",
      "text/plain": [
       "<Figure size 576x576 with 1 Axes>"
      ]
     },
     "metadata": {},
     "output_type": "display_data"
    },
    {
     "name": "stdout",
     "output_type": "stream",
     "text": [
      "Small Group 2017 (NY)\n",
      "Log T = 19.064776 + 1.338010 * Log Enrollees\n"
     ]
    },
    {
     "data": {
      "image/png": "[encoded data removed]",
      "text/plain": [
       "<Figure size 576x576 with 1 Axes>"
      ]
     },
     "metadata": {},
     "output_type": "display_data"
    },
    {
     "name": "stdout",
     "output_type": "stream",
     "text": [
      "Individual 2014 (NY)\n",
      "Log T = 5.901063 + 2.606184 * Log Enrollees\n",
      "Individual 2015 (NY)\n",
      "Log T = 15.160759 + 1.775863 * Log Enrollees\n",
      "Individual 2016 (NY)\n",
      "Log T = 15.910785 + 1.694897 * Log Enrollees\n",
      "Individual 2017 (NY)\n",
      "Log T = 17.462005 + 1.517902 * Log Enrollees\n"
     ]
    }
   ],
   "source": [
    "plot(state(sg_data_14, \"NY\"), \"Small Group 2014 (NY)\", True)\n",
    "plot(state(sg_data_15, \"NY\"), \"Small Group 2015 (NY)\", False)\n",
    "plot(state(sg_data_16, \"NY\"), \"Small Group 2016 (NY)\", False)\n",
    "plot(state(sg_data_17, \"NY\"), \"Small Group 2017 (NY)\", True)\n",
    "\n",
    "plot(state(ind_data_14, \"NY\"), \"Individual 2014 (NY)\", True)\n",
    "plot(state(ind_data_15, \"NY\"), \"Individual 2015 (NY)\", False)\n",
    "plot(state(ind_data_16, \"NY\"), \"Individual 2016 (NY)\", False)\n",
    "plot(state(ind_data_17, \"NY\"), \"Individual 2017 (NY)\", False)"
   ]
  },
  {
   "cell_type": "code",
   "execution_count": 17,
   "metadata": {},
   "outputs": [],
   "source": [
    "# Shaprio-Wilk test for null hypothesis that sample x1... xn\n",
    "# comes form a normally distributed population\n",
    "\n",
    "def shapir(df, label):\n",
    "    a, b = stats.shapiro(df)\n",
    "    print(\"%s,%.4f,%.4f\" % (label,a,b))\n"
   ]
  },
  {
   "cell_type": "code",
   "execution_count": 18,
   "metadata": {},
   "outputs": [
    {
     "name": "stdout",
     "output_type": "stream",
     "text": [
      ",P(Transfers from normal distr),p-value\n"
     ]
    }
   ],
   "source": [
    "print(\",P(Transfers from normal distr),p-value\")"
   ]
  },
  {
   "cell_type": "code",
   "execution_count": 19,
   "metadata": {},
   "outputs": [
    {
     "name": "stdout",
     "output_type": "stream",
     "text": [
      "All States, SG, 2014,0.6163,0.0000\n",
      "All States, SG, 2015,0.5646,0.0000\n",
      "All States, SG, 2016,0.7191,0.0000\n",
      "All States, SG, 2017,0.7558,0.0000\n"
     ]
    }
   ],
   "source": [
    "shapir(remove_outliers(sg_data_14)[\"TransfersPerSqrtEnrollee\"], \"All States, SG, 2014\")\n",
    "shapir(remove_outliers(sg_data_15)[\"TransfersPerSqrtEnrollee\"], \"All States, SG, 2015\")\n",
    "shapir(remove_outliers(sg_data_16)[\"TransfersPerSqrtEnrollee\"], \"All States, SG, 2016\")\n",
    "shapir(remove_outliers(sg_data_17)[\"TransfersPerSqrtEnrollee\"], \"All States, SG, 2017\")"
   ]
  },
  {
   "cell_type": "code",
   "execution_count": 20,
   "metadata": {},
   "outputs": [
    {
     "name": "stdout",
     "output_type": "stream",
     "text": [
      "CA only, SG, 2014,0.8497,0.0220\n",
      "CA only, SG, 2015,0.9567,0.6017\n",
      "CA only, SG, 2016,0.9375,0.3198\n",
      "CA only, SG, 2017,0.9493,0.5138\n"
     ]
    }
   ],
   "source": [
    "shapir(state(sg_data_14, \"CA\")[\"TransfersPerSqrtEnrollee\"], \"CA only, SG, 2014\")\n",
    "shapir(state(sg_data_15, \"CA\")[\"TransfersPerSqrtEnrollee\"], \"CA only, SG, 2015\")\n",
    "shapir(state(sg_data_16, \"CA\")[\"TransfersPerSqrtEnrollee\"], \"CA only, SG, 2016\")\n",
    "shapir(state(sg_data_17, \"CA\")[\"TransfersPerSqrtEnrollee\"], \"CA only, SG, 2017\")"
   ]
  },
  {
   "cell_type": "code",
   "execution_count": 21,
   "metadata": {},
   "outputs": [
    {
     "name": "stdout",
     "output_type": "stream",
     "text": [
      "WI only, SG, 2014,0.7147,0.0000\n",
      "WI only, SG, 2015,0.8352,0.0004\n",
      "WI only, SG, 2016,0.9627,0.4484\n",
      "WI only, SG, 2017,0.9719,0.7344\n"
     ]
    }
   ],
   "source": [
    "shapir(state(sg_data_14, \"WI\")[\"TransfersPerSqrtEnrollee\"], \"WI only, SG, 2014\")\n",
    "shapir(state(sg_data_15, \"WI\")[\"TransfersPerSqrtEnrollee\"], \"WI only, SG, 2015\")\n",
    "shapir(state(sg_data_16, \"WI\")[\"TransfersPerSqrtEnrollee\"], \"WI only, SG, 2016\")\n",
    "shapir(state(sg_data_17, \"WI\")[\"TransfersPerSqrtEnrollee\"], \"WI only, SG, 2017\")"
   ]
  },
  {
   "cell_type": "code",
   "execution_count": 22,
   "metadata": {},
   "outputs": [
    {
     "name": "stdout",
     "output_type": "stream",
     "text": [
      "NY only, SG, 2014,0.8868,0.0235\n",
      "NY only, SG, 2015,0.7842,0.0005\n",
      "NY only, SG, 2016,0.8418,0.0050\n",
      "NY only, SG, 2017,0.8103,0.0012\n"
     ]
    }
   ],
   "source": [
    "shapir(state(sg_data_14, \"NY\")[\"TransfersPerSqrtEnrollee\"], \"NY only, SG, 2014\")\n",
    "shapir(state(sg_data_15, \"NY\")[\"TransfersPerSqrtEnrollee\"], \"NY only, SG, 2015\")\n",
    "shapir(state(sg_data_16, \"NY\")[\"TransfersPerSqrtEnrollee\"], \"NY only, SG, 2016\")\n",
    "shapir(state(sg_data_17, \"NY\")[\"TransfersPerSqrtEnrollee\"], \"NY only, SG, 2017\")"
   ]
  },
  {
   "cell_type": "code",
   "execution_count": 23,
   "metadata": {},
   "outputs": [],
   "source": [
    "NY2014 = state(sg_data_14, \"NY\")[[\"HIOS INPUTTED INSURANCE COMPANY NAME\", \"TransfersPerSqrtEnrollee\", \"Transfers\", \"Enrollees\", \"MM\", \"TransfersPMM\"]]"
   ]
  },
  {
   "cell_type": "code",
   "execution_count": 177,
   "metadata": {},
   "outputs": [],
   "source": [
    "def erfinv2(sample_size):# sig):\n",
    "    # erf inverse 0.5 * p/k where p=0.05\n",
    "    print(\"Sample size %d\" % (sample_size))\n",
    "    return special.erfinv(1-0.5*0.05/sample_size) * np.sqrt(2)# * sig\n",
    "\n",
    "def num_pass(df, a):\n",
    "    sample_size = df.shape[0]\n",
    "    count = 0\n",
    "    delta = erfinv2(sample_size)\n",
    "    print(\"Delta_0 % .3f\" % (delta))\n",
    "    es1 = max(abs(df[\"TransfersPerSqrtEnrollee\"])) / delta\n",
    "    print(\"Comparison es_0 = %.3f\" % (es1))\n",
    "    print(\"Comparison es_0*%.2f = %.3f\" % (a, a*es1))\n",
    "    \n",
    "    for index, row in df.iterrows():\n",
    "        t = row[\"Transfers\"]\n",
    "        n = row[\"Enrollees\"]\n",
    "        if abs(row[\"TransfersPerSqrtEnrollee\"]) < a*es1:\n",
    "            count += 1\n",
    "            print(\"T/sqrt(N)=%.3f \\t <a*es_0 Satisfied\" % (row[\"TransfersPerSqrtEnrollee\"]))\n",
    "        else:\n",
    "            print(\"T/sqrt(N)=%.3f \\t <a*es_0 NOT Satisfied \\t Distance |T/sqrt(N)|-a*es_0 %.1f \" % (row[\"TransfersPerSqrtEnrollee\"], abs(row[\"TransfersPerSqrtEnrollee\"]) - a*es1))\n",
    "    return count\n",
    "    \n",
    "def binom(k, n, p):\n",
    "    return stats.binom.cdf(k, n, p)"
   ]
  },
  {
   "cell_type": "code",
   "execution_count": 178,
   "metadata": {},
   "outputs": [],
   "source": [
    "def run_stat_test(data, label, a):\n",
    "    print(label)\n",
    "    p01 = special.erf(a/np.sqrt(2))\n",
    "    print(\"P01 = %.3f\" % (p01))\n",
    "    successes = num_pass(data, a)\n",
    "    print(\"Number of successes: %d\" % (successes))\n",
    "    print(\"P value = %.3f\" % (1- binom(successes, data.shape[0], p01)))"
   ]
  },
  {
   "cell_type": "code",
   "execution_count": 179,
   "metadata": {},
   "outputs": [
    {
     "name": "stdout",
     "output_type": "stream",
     "text": [
      "NY SG 2014\n",
      "P01 = 0.080\n",
      "Sample size 20\n",
      "Delta_0  3.227\n",
      "Comparison es_0 = 77712.505\n",
      "Comparison es_0*0.10 = 7771.250\n",
      "T/sqrt(N)=-3771.364 \t <a*es_0 Satisfied\n",
      "T/sqrt(N)=-204546.131 \t <a*es_0 NOT Satisfied \t Distance |T/sqrt(N)|-a*es_0 196774.9 \n",
      "T/sqrt(N)=55797.937 \t <a*es_0 NOT Satisfied \t Distance |T/sqrt(N)|-a*es_0 48026.7 \n",
      "T/sqrt(N)=-4967.824 \t <a*es_0 Satisfied\n",
      "T/sqrt(N)=-40522.228 \t <a*es_0 NOT Satisfied \t Distance |T/sqrt(N)|-a*es_0 32751.0 \n",
      "T/sqrt(N)=-64143.035 \t <a*es_0 NOT Satisfied \t Distance |T/sqrt(N)|-a*es_0 56371.8 \n",
      "T/sqrt(N)=59742.849 \t <a*es_0 NOT Satisfied \t Distance |T/sqrt(N)|-a*es_0 51971.6 \n",
      "T/sqrt(N)=-250795.228 \t <a*es_0 NOT Satisfied \t Distance |T/sqrt(N)|-a*es_0 243024.0 \n",
      "T/sqrt(N)=178.576 \t <a*es_0 Satisfied\n",
      "T/sqrt(N)=-210325.111 \t <a*es_0 NOT Satisfied \t Distance |T/sqrt(N)|-a*es_0 202553.9 \n",
      "T/sqrt(N)=-246.943 \t <a*es_0 Satisfied\n",
      "T/sqrt(N)=7350.314 \t <a*es_0 Satisfied\n",
      "T/sqrt(N)=20991.104 \t <a*es_0 NOT Satisfied \t Distance |T/sqrt(N)|-a*es_0 13219.9 \n",
      "T/sqrt(N)=-48788.722 \t <a*es_0 NOT Satisfied \t Distance |T/sqrt(N)|-a*es_0 41017.5 \n",
      "T/sqrt(N)=-41716.682 \t <a*es_0 NOT Satisfied \t Distance |T/sqrt(N)|-a*es_0 33945.4 \n",
      "T/sqrt(N)=-1616.783 \t <a*es_0 Satisfied\n",
      "T/sqrt(N)=-23053.523 \t <a*es_0 NOT Satisfied \t Distance |T/sqrt(N)|-a*es_0 15282.3 \n",
      "T/sqrt(N)=230952.363 \t <a*es_0 NOT Satisfied \t Distance |T/sqrt(N)|-a*es_0 223181.1 \n",
      "T/sqrt(N)=-83752.943 \t <a*es_0 NOT Satisfied \t Distance |T/sqrt(N)|-a*es_0 75981.7 \n",
      "T/sqrt(N)=-9463.387 \t <a*es_0 NOT Satisfied \t Distance |T/sqrt(N)|-a*es_0 1692.1 \n",
      "Number of successes: 6\n",
      "P value = 0.001\n"
     ]
    }
   ],
   "source": [
    "run_stat_test(state(sg_data_14, \"NY\"), \"NY SG 2014\", 0.1)"
   ]
  },
  {
   "cell_type": "code",
   "execution_count": 180,
   "metadata": {},
   "outputs": [
    {
     "name": "stdout",
     "output_type": "stream",
     "text": [
      "NY SG 2015\n",
      "P01 = 0.080\n",
      "Sample size 20\n",
      "Delta_0  3.227\n",
      "Comparison es_0 = 200013.088\n",
      "Comparison es_0*0.10 = 20001.309\n",
      "T/sqrt(N)=-70944.878 \t <a*es_0 NOT Satisfied \t Distance |T/sqrt(N)|-a*es_0 50943.6 \n",
      "T/sqrt(N)=-271979.813 \t <a*es_0 NOT Satisfied \t Distance |T/sqrt(N)|-a*es_0 251978.5 \n",
      "T/sqrt(N)=37827.748 \t <a*es_0 NOT Satisfied \t Distance |T/sqrt(N)|-a*es_0 17826.4 \n",
      "T/sqrt(N)=-107369.002 \t <a*es_0 NOT Satisfied \t Distance |T/sqrt(N)|-a*es_0 87367.7 \n",
      "T/sqrt(N)=-302.731 \t <a*es_0 Satisfied\n",
      "T/sqrt(N)=-35391.486 \t <a*es_0 NOT Satisfied \t Distance |T/sqrt(N)|-a*es_0 15390.2 \n",
      "T/sqrt(N)=-25295.228 \t <a*es_0 NOT Satisfied \t Distance |T/sqrt(N)|-a*es_0 5293.9 \n",
      "T/sqrt(N)=-32083.739 \t <a*es_0 NOT Satisfied \t Distance |T/sqrt(N)|-a*es_0 12082.4 \n",
      "T/sqrt(N)=-4159.256 \t <a*es_0 Satisfied\n",
      "T/sqrt(N)=-44073.384 \t <a*es_0 NOT Satisfied \t Distance |T/sqrt(N)|-a*es_0 24072.1 \n",
      "T/sqrt(N)=-19212.035 \t <a*es_0 Satisfied\n",
      "T/sqrt(N)=-645485.923 \t <a*es_0 NOT Satisfied \t Distance |T/sqrt(N)|-a*es_0 625484.6 \n",
      "T/sqrt(N)=-6392.168 \t <a*es_0 Satisfied\n",
      "T/sqrt(N)=15291.108 \t <a*es_0 Satisfied\n",
      "T/sqrt(N)=-135950.799 \t <a*es_0 NOT Satisfied \t Distance |T/sqrt(N)|-a*es_0 115949.5 \n",
      "T/sqrt(N)=540909.735 \t <a*es_0 NOT Satisfied \t Distance |T/sqrt(N)|-a*es_0 520908.4 \n",
      "T/sqrt(N)=-284054.749 \t <a*es_0 NOT Satisfied \t Distance |T/sqrt(N)|-a*es_0 264053.4 \n",
      "T/sqrt(N)=10323.419 \t <a*es_0 Satisfied\n",
      "T/sqrt(N)=37176.319 \t <a*es_0 NOT Satisfied \t Distance |T/sqrt(N)|-a*es_0 17175.0 \n",
      "T/sqrt(N)=40705.019 \t <a*es_0 NOT Satisfied \t Distance |T/sqrt(N)|-a*es_0 20703.7 \n",
      "Number of successes: 6\n",
      "P value = 0.001\n"
     ]
    }
   ],
   "source": [
    "run_stat_test(state(sg_data_15, \"NY\"), \"NY SG 2015\", 0.1)"
   ]
  },
  {
   "cell_type": "code",
   "execution_count": 181,
   "metadata": {},
   "outputs": [
    {
     "name": "stdout",
     "output_type": "stream",
     "text": [
      "NY SG 2016\n",
      "P01 = 0.080\n",
      "Sample size 19\n",
      "Delta_0  3.213\n",
      "Comparison es_0 = 140440.381\n",
      "Comparison es_0*0.10 = 14044.038\n",
      "T/sqrt(N)=-133158.128 \t <a*es_0 NOT Satisfied \t Distance |T/sqrt(N)|-a*es_0 119114.1 \n",
      "T/sqrt(N)=-451166.626 \t <a*es_0 NOT Satisfied \t Distance |T/sqrt(N)|-a*es_0 437122.6 \n",
      "T/sqrt(N)=-219950.411 \t <a*es_0 NOT Satisfied \t Distance |T/sqrt(N)|-a*es_0 205906.4 \n",
      "T/sqrt(N)=133.265 \t <a*es_0 Satisfied\n",
      "T/sqrt(N)=-95052.014 \t <a*es_0 NOT Satisfied \t Distance |T/sqrt(N)|-a*es_0 81008.0 \n",
      "T/sqrt(N)=-34081.709 \t <a*es_0 NOT Satisfied \t Distance |T/sqrt(N)|-a*es_0 20037.7 \n",
      "T/sqrt(N)=-276119.960 \t <a*es_0 NOT Satisfied \t Distance |T/sqrt(N)|-a*es_0 262075.9 \n",
      "T/sqrt(N)=-36855.961 \t <a*es_0 NOT Satisfied \t Distance |T/sqrt(N)|-a*es_0 22811.9 \n",
      "T/sqrt(N)=29029.544 \t <a*es_0 NOT Satisfied \t Distance |T/sqrt(N)|-a*es_0 14985.5 \n",
      "T/sqrt(N)=-63407.545 \t <a*es_0 NOT Satisfied \t Distance |T/sqrt(N)|-a*es_0 49363.5 \n",
      "T/sqrt(N)=9116.179 \t <a*es_0 Satisfied\n",
      "T/sqrt(N)=-35254.535 \t <a*es_0 NOT Satisfied \t Distance |T/sqrt(N)|-a*es_0 21210.5 \n",
      "T/sqrt(N)=1858.000 \t <a*es_0 Satisfied\n",
      "T/sqrt(N)=-27985.681 \t <a*es_0 NOT Satisfied \t Distance |T/sqrt(N)|-a*es_0 13941.6 \n",
      "T/sqrt(N)=-63886.553 \t <a*es_0 NOT Satisfied \t Distance |T/sqrt(N)|-a*es_0 49842.5 \n",
      "T/sqrt(N)=-16981.728 \t <a*es_0 NOT Satisfied \t Distance |T/sqrt(N)|-a*es_0 2937.7 \n",
      "T/sqrt(N)=-19321.722 \t <a*es_0 NOT Satisfied \t Distance |T/sqrt(N)|-a*es_0 5277.7 \n",
      "T/sqrt(N)=31044.649 \t <a*es_0 NOT Satisfied \t Distance |T/sqrt(N)|-a*es_0 17000.6 \n",
      "T/sqrt(N)=375770.829 \t <a*es_0 NOT Satisfied \t Distance |T/sqrt(N)|-a*es_0 361726.8 \n",
      "Number of successes: 3\n",
      "P value = 0.059\n",
      "NY SG 2016\n",
      "P01 = 0.159\n",
      "Sample size 19\n",
      "Delta_0  3.213\n",
      "Comparison es_0 = 140440.381\n",
      "Comparison es_0*0.20 = 28088.076\n",
      "T/sqrt(N)=-133158.128 \t <a*es_0 NOT Satisfied \t Distance |T/sqrt(N)|-a*es_0 105070.1 \n",
      "T/sqrt(N)=-451166.626 \t <a*es_0 NOT Satisfied \t Distance |T/sqrt(N)|-a*es_0 423078.6 \n",
      "T/sqrt(N)=-219950.411 \t <a*es_0 NOT Satisfied \t Distance |T/sqrt(N)|-a*es_0 191862.3 \n",
      "T/sqrt(N)=133.265 \t <a*es_0 Satisfied\n",
      "T/sqrt(N)=-95052.014 \t <a*es_0 NOT Satisfied \t Distance |T/sqrt(N)|-a*es_0 66963.9 \n",
      "T/sqrt(N)=-34081.709 \t <a*es_0 NOT Satisfied \t Distance |T/sqrt(N)|-a*es_0 5993.6 \n",
      "T/sqrt(N)=-276119.960 \t <a*es_0 NOT Satisfied \t Distance |T/sqrt(N)|-a*es_0 248031.9 \n",
      "T/sqrt(N)=-36855.961 \t <a*es_0 NOT Satisfied \t Distance |T/sqrt(N)|-a*es_0 8767.9 \n",
      "T/sqrt(N)=29029.544 \t <a*es_0 NOT Satisfied \t Distance |T/sqrt(N)|-a*es_0 941.5 \n",
      "T/sqrt(N)=-63407.545 \t <a*es_0 NOT Satisfied \t Distance |T/sqrt(N)|-a*es_0 35319.5 \n",
      "T/sqrt(N)=9116.179 \t <a*es_0 Satisfied\n",
      "T/sqrt(N)=-35254.535 \t <a*es_0 NOT Satisfied \t Distance |T/sqrt(N)|-a*es_0 7166.5 \n",
      "T/sqrt(N)=1858.000 \t <a*es_0 Satisfied\n",
      "T/sqrt(N)=-27985.681 \t <a*es_0 Satisfied\n",
      "T/sqrt(N)=-63886.553 \t <a*es_0 NOT Satisfied \t Distance |T/sqrt(N)|-a*es_0 35798.5 \n",
      "T/sqrt(N)=-16981.728 \t <a*es_0 Satisfied\n",
      "T/sqrt(N)=-19321.722 \t <a*es_0 Satisfied\n",
      "T/sqrt(N)=31044.649 \t <a*es_0 NOT Satisfied \t Distance |T/sqrt(N)|-a*es_0 2956.6 \n",
      "T/sqrt(N)=375770.829 \t <a*es_0 NOT Satisfied \t Distance |T/sqrt(N)|-a*es_0 347682.8 \n",
      "Number of successes: 6\n",
      "P value = 0.022\n"
     ]
    }
   ],
   "source": [
    "run_stat_test(state(sg_data_16, \"NY\"), \"NY SG 2016\", 0.1)\n",
    "run_stat_test(state(sg_data_16, \"NY\"), \"NY SG 2016\", 0.2)"
   ]
  },
  {
   "cell_type": "code",
   "execution_count": 182,
   "metadata": {},
   "outputs": [
    {
     "name": "stdout",
     "output_type": "stream",
     "text": [
      "NY SG 2017\n",
      "P01 = 0.080\n",
      "Sample size 20\n",
      "Delta_0  3.227\n",
      "Comparison es_0 = 130372.840\n",
      "Comparison es_0*0.10 = 13037.284\n",
      "T/sqrt(N)=-83936.051 \t <a*es_0 NOT Satisfied \t Distance |T/sqrt(N)|-a*es_0 70898.8 \n",
      "T/sqrt(N)=-99134.340 \t <a*es_0 NOT Satisfied \t Distance |T/sqrt(N)|-a*es_0 86097.1 \n",
      "T/sqrt(N)=12954.997 \t <a*es_0 Satisfied\n",
      "T/sqrt(N)=-89550.599 \t <a*es_0 NOT Satisfied \t Distance |T/sqrt(N)|-a*es_0 76513.3 \n",
      "T/sqrt(N)=-64714.498 \t <a*es_0 NOT Satisfied \t Distance |T/sqrt(N)|-a*es_0 51677.2 \n",
      "T/sqrt(N)=-72822.915 \t <a*es_0 NOT Satisfied \t Distance |T/sqrt(N)|-a*es_0 59785.6 \n",
      "T/sqrt(N)=-13830.985 \t <a*es_0 NOT Satisfied \t Distance |T/sqrt(N)|-a*es_0 793.7 \n",
      "T/sqrt(N)=-47259.284 \t <a*es_0 NOT Satisfied \t Distance |T/sqrt(N)|-a*es_0 34222.0 \n",
      "T/sqrt(N)=-75476.710 \t <a*es_0 NOT Satisfied \t Distance |T/sqrt(N)|-a*es_0 62439.4 \n",
      "T/sqrt(N)=-13194.282 \t <a*es_0 NOT Satisfied \t Distance |T/sqrt(N)|-a*es_0 157.0 \n",
      "T/sqrt(N)=-68637.891 \t <a*es_0 NOT Satisfied \t Distance |T/sqrt(N)|-a*es_0 55600.6 \n",
      "T/sqrt(N)=-104463.257 \t <a*es_0 NOT Satisfied \t Distance |T/sqrt(N)|-a*es_0 91426.0 \n",
      "T/sqrt(N)=-88465.933 \t <a*es_0 NOT Satisfied \t Distance |T/sqrt(N)|-a*es_0 75428.6 \n",
      "T/sqrt(N)=-14271.437 \t <a*es_0 NOT Satisfied \t Distance |T/sqrt(N)|-a*es_0 1234.2 \n",
      "T/sqrt(N)=-420741.633 \t <a*es_0 NOT Satisfied \t Distance |T/sqrt(N)|-a*es_0 407704.3 \n",
      "T/sqrt(N)=310857.403 \t <a*es_0 NOT Satisfied \t Distance |T/sqrt(N)|-a*es_0 297820.1 \n",
      "T/sqrt(N)=-171075.246 \t <a*es_0 NOT Satisfied \t Distance |T/sqrt(N)|-a*es_0 158038.0 \n",
      "T/sqrt(N)=-24258.492 \t <a*es_0 NOT Satisfied \t Distance |T/sqrt(N)|-a*es_0 11221.2 \n",
      "T/sqrt(N)=104377.969 \t <a*es_0 NOT Satisfied \t Distance |T/sqrt(N)|-a*es_0 91340.7 \n",
      "T/sqrt(N)=-74693.460 \t <a*es_0 NOT Satisfied \t Distance |T/sqrt(N)|-a*es_0 61656.2 \n",
      "Number of successes: 1\n",
      "P value = 0.481\n"
     ]
    }
   ],
   "source": [
    "run_stat_test(state(sg_data_17, \"NY\"), \"NY SG 2017\", .10)"
   ]
  },
  {
   "cell_type": "code",
   "execution_count": 184,
   "metadata": {},
   "outputs": [
    {
     "name": "stdout",
     "output_type": "stream",
     "text": [
      "WI SG 2014\n",
      "P01 = 0.080\n",
      "Sample size 26\n",
      "Delta_0  3.302\n",
      "Comparison es_0 = 15422.693\n",
      "Comparison es_0*0.10 = 1542.269\n",
      "T/sqrt(N)=-7103.710 \t <a*es_0 NOT Satisfied \t Distance |T/sqrt(N)|-a*es_0 5561.4 \n",
      "T/sqrt(N)=-663.593 \t <a*es_0 Satisfied\n",
      "T/sqrt(N)=-746.438 \t <a*es_0 Satisfied\n",
      "T/sqrt(N)=-50918.717 \t <a*es_0 NOT Satisfied \t Distance |T/sqrt(N)|-a*es_0 49376.4 \n",
      "T/sqrt(N)=-3204.441 \t <a*es_0 NOT Satisfied \t Distance |T/sqrt(N)|-a*es_0 1662.2 \n",
      "T/sqrt(N)=973.768 \t <a*es_0 Satisfied\n",
      "T/sqrt(N)=-2765.049 \t <a*es_0 NOT Satisfied \t Distance |T/sqrt(N)|-a*es_0 1222.8 \n",
      "T/sqrt(N)=-28225.773 \t <a*es_0 NOT Satisfied \t Distance |T/sqrt(N)|-a*es_0 26683.5 \n",
      "T/sqrt(N)=-1488.204 \t <a*es_0 Satisfied\n",
      "T/sqrt(N)=429.120 \t <a*es_0 Satisfied\n",
      "T/sqrt(N)=14166.236 \t <a*es_0 NOT Satisfied \t Distance |T/sqrt(N)|-a*es_0 12624.0 \n",
      "T/sqrt(N)=4732.016 \t <a*es_0 NOT Satisfied \t Distance |T/sqrt(N)|-a*es_0 3189.7 \n",
      "T/sqrt(N)=-1452.621 \t <a*es_0 Satisfied\n",
      "T/sqrt(N)=-10454.277 \t <a*es_0 NOT Satisfied \t Distance |T/sqrt(N)|-a*es_0 8912.0 \n",
      "T/sqrt(N)=-11314.626 \t <a*es_0 NOT Satisfied \t Distance |T/sqrt(N)|-a*es_0 9772.4 \n",
      "T/sqrt(N)=3043.390 \t <a*es_0 NOT Satisfied \t Distance |T/sqrt(N)|-a*es_0 1501.1 \n",
      "T/sqrt(N)=-48.707 \t <a*es_0 Satisfied\n",
      "T/sqrt(N)=-856.991 \t <a*es_0 Satisfied\n",
      "T/sqrt(N)=-5384.593 \t <a*es_0 NOT Satisfied \t Distance |T/sqrt(N)|-a*es_0 3842.3 \n",
      "T/sqrt(N)=-2551.268 \t <a*es_0 NOT Satisfied \t Distance |T/sqrt(N)|-a*es_0 1009.0 \n",
      "T/sqrt(N)=9902.281 \t <a*es_0 NOT Satisfied \t Distance |T/sqrt(N)|-a*es_0 8360.0 \n",
      "T/sqrt(N)=1857.662 \t <a*es_0 NOT Satisfied \t Distance |T/sqrt(N)|-a*es_0 315.4 \n",
      "T/sqrt(N)=5266.855 \t <a*es_0 NOT Satisfied \t Distance |T/sqrt(N)|-a*es_0 3724.6 \n",
      "T/sqrt(N)=-117.757 \t <a*es_0 Satisfied\n",
      "T/sqrt(N)=2818.350 \t <a*es_0 NOT Satisfied \t Distance |T/sqrt(N)|-a*es_0 1276.1 \n",
      "T/sqrt(N)=-987.453 \t <a*es_0 Satisfied\n",
      "Number of successes: 10\n",
      "P value = 0.000\n"
     ]
    }
   ],
   "source": [
    "run_stat_test(state(sg_data_14, \"WI\"), \"WI SG 2014\", .10)"
   ]
  },
  {
   "cell_type": "code",
   "execution_count": 185,
   "metadata": {},
   "outputs": [
    {
     "name": "stdout",
     "output_type": "stream",
     "text": [
      "WI SG 2015\n",
      "P01 = 0.080\n",
      "Sample size 29\n",
      "Delta_0  3.332\n",
      "Comparison es_0 = 27208.196\n",
      "Comparison es_0*0.10 = 2720.820\n",
      "T/sqrt(N)=-5884.726 \t <a*es_0 NOT Satisfied \t Distance |T/sqrt(N)|-a*es_0 3163.9 \n",
      "T/sqrt(N)=-3903.234 \t <a*es_0 NOT Satisfied \t Distance |T/sqrt(N)|-a*es_0 1182.4 \n",
      "T/sqrt(N)=-227.480 \t <a*es_0 Satisfied\n",
      "T/sqrt(N)=-29168.289 \t <a*es_0 NOT Satisfied \t Distance |T/sqrt(N)|-a*es_0 26447.5 \n",
      "T/sqrt(N)=5313.152 \t <a*es_0 NOT Satisfied \t Distance |T/sqrt(N)|-a*es_0 2592.3 \n",
      "T/sqrt(N)=-8789.759 \t <a*es_0 NOT Satisfied \t Distance |T/sqrt(N)|-a*es_0 6068.9 \n",
      "T/sqrt(N)=-45915.731 \t <a*es_0 NOT Satisfied \t Distance |T/sqrt(N)|-a*es_0 43194.9 \n",
      "T/sqrt(N)=5882.472 \t <a*es_0 NOT Satisfied \t Distance |T/sqrt(N)|-a*es_0 3161.7 \n",
      "T/sqrt(N)=-12854.952 \t <a*es_0 NOT Satisfied \t Distance |T/sqrt(N)|-a*es_0 10134.1 \n",
      "T/sqrt(N)=6057.130 \t <a*es_0 NOT Satisfied \t Distance |T/sqrt(N)|-a*es_0 3336.3 \n",
      "T/sqrt(N)=4241.400 \t <a*es_0 NOT Satisfied \t Distance |T/sqrt(N)|-a*es_0 1520.6 \n",
      "T/sqrt(N)=5819.110 \t <a*es_0 NOT Satisfied \t Distance |T/sqrt(N)|-a*es_0 3098.3 \n",
      "T/sqrt(N)=-5019.197 \t <a*es_0 NOT Satisfied \t Distance |T/sqrt(N)|-a*es_0 2298.4 \n",
      "T/sqrt(N)=37257.828 \t <a*es_0 NOT Satisfied \t Distance |T/sqrt(N)|-a*es_0 34537.0 \n",
      "T/sqrt(N)=-15885.675 \t <a*es_0 NOT Satisfied \t Distance |T/sqrt(N)|-a*es_0 13164.9 \n",
      "T/sqrt(N)=-328.891 \t <a*es_0 Satisfied\n",
      "T/sqrt(N)=-1093.419 \t <a*es_0 Satisfied\n",
      "T/sqrt(N)=-3944.871 \t <a*es_0 NOT Satisfied \t Distance |T/sqrt(N)|-a*es_0 1224.1 \n",
      "T/sqrt(N)=-526.042 \t <a*es_0 Satisfied\n",
      "T/sqrt(N)=1338.319 \t <a*es_0 Satisfied\n",
      "T/sqrt(N)=-19323.071 \t <a*es_0 NOT Satisfied \t Distance |T/sqrt(N)|-a*es_0 16602.3 \n",
      "T/sqrt(N)=-44616.981 \t <a*es_0 NOT Satisfied \t Distance |T/sqrt(N)|-a*es_0 41896.2 \n",
      "T/sqrt(N)=-3102.059 \t <a*es_0 NOT Satisfied \t Distance |T/sqrt(N)|-a*es_0 381.2 \n",
      "T/sqrt(N)=-90659.234 \t <a*es_0 NOT Satisfied \t Distance |T/sqrt(N)|-a*es_0 87938.4 \n",
      "T/sqrt(N)=8300.301 \t <a*es_0 NOT Satisfied \t Distance |T/sqrt(N)|-a*es_0 5579.5 \n",
      "T/sqrt(N)=11489.847 \t <a*es_0 NOT Satisfied \t Distance |T/sqrt(N)|-a*es_0 8769.0 \n",
      "T/sqrt(N)=25753.846 \t <a*es_0 NOT Satisfied \t Distance |T/sqrt(N)|-a*es_0 23033.0 \n",
      "T/sqrt(N)=14398.489 \t <a*es_0 NOT Satisfied \t Distance |T/sqrt(N)|-a*es_0 11677.7 \n",
      "T/sqrt(N)=2705.400 \t <a*es_0 Satisfied\n",
      "Number of successes: 6\n",
      "P value = 0.007\n"
     ]
    }
   ],
   "source": [
    "run_stat_test(state(sg_data_15, \"WI\"), \"WI SG 2015\", .10)"
   ]
  },
  {
   "cell_type": "code",
   "execution_count": 186,
   "metadata": {},
   "outputs": [
    {
     "name": "stdout",
     "output_type": "stream",
     "text": [
      "WI SG 2016\n",
      "P01 = 0.080\n",
      "Sample size 26\n",
      "Delta_0  3.302\n",
      "Comparison es_0 = 20973.047\n",
      "Comparison es_0*0.10 = 2097.305\n",
      "T/sqrt(N)=-40539.213 \t <a*es_0 NOT Satisfied \t Distance |T/sqrt(N)|-a*es_0 38441.9 \n",
      "T/sqrt(N)=-17556.349 \t <a*es_0 NOT Satisfied \t Distance |T/sqrt(N)|-a*es_0 15459.0 \n",
      "T/sqrt(N)=-41023.419 \t <a*es_0 NOT Satisfied \t Distance |T/sqrt(N)|-a*es_0 38926.1 \n",
      "T/sqrt(N)=10378.699 \t <a*es_0 NOT Satisfied \t Distance |T/sqrt(N)|-a*es_0 8281.4 \n",
      "T/sqrt(N)=1134.061 \t <a*es_0 Satisfied\n",
      "T/sqrt(N)=16353.180 \t <a*es_0 NOT Satisfied \t Distance |T/sqrt(N)|-a*es_0 14255.9 \n",
      "T/sqrt(N)=-25255.032 \t <a*es_0 NOT Satisfied \t Distance |T/sqrt(N)|-a*es_0 23157.7 \n",
      "T/sqrt(N)=-69243.463 \t <a*es_0 NOT Satisfied \t Distance |T/sqrt(N)|-a*es_0 67146.2 \n",
      "T/sqrt(N)=-37.326 \t <a*es_0 Satisfied\n",
      "T/sqrt(N)=13914.889 \t <a*es_0 NOT Satisfied \t Distance |T/sqrt(N)|-a*es_0 11817.6 \n",
      "T/sqrt(N)=6096.559 \t <a*es_0 NOT Satisfied \t Distance |T/sqrt(N)|-a*es_0 3999.3 \n",
      "T/sqrt(N)=33080.017 \t <a*es_0 NOT Satisfied \t Distance |T/sqrt(N)|-a*es_0 30982.7 \n",
      "T/sqrt(N)=7429.122 \t <a*es_0 NOT Satisfied \t Distance |T/sqrt(N)|-a*es_0 5331.8 \n",
      "T/sqrt(N)=-6056.324 \t <a*es_0 NOT Satisfied \t Distance |T/sqrt(N)|-a*es_0 3959.0 \n",
      "T/sqrt(N)=-25325.724 \t <a*es_0 NOT Satisfied \t Distance |T/sqrt(N)|-a*es_0 23228.4 \n",
      "T/sqrt(N)=-24923.779 \t <a*es_0 NOT Satisfied \t Distance |T/sqrt(N)|-a*es_0 22826.5 \n",
      "T/sqrt(N)=-41540.463 \t <a*es_0 NOT Satisfied \t Distance |T/sqrt(N)|-a*es_0 39443.2 \n",
      "T/sqrt(N)=-4985.675 \t <a*es_0 NOT Satisfied \t Distance |T/sqrt(N)|-a*es_0 2888.4 \n",
      "T/sqrt(N)=-6796.102 \t <a*es_0 NOT Satisfied \t Distance |T/sqrt(N)|-a*es_0 4698.8 \n",
      "T/sqrt(N)=-2429.722 \t <a*es_0 NOT Satisfied \t Distance |T/sqrt(N)|-a*es_0 332.4 \n",
      "T/sqrt(N)=-6542.815 \t <a*es_0 NOT Satisfied \t Distance |T/sqrt(N)|-a*es_0 4445.5 \n",
      "T/sqrt(N)=-11888.963 \t <a*es_0 NOT Satisfied \t Distance |T/sqrt(N)|-a*es_0 9791.7 \n",
      "T/sqrt(N)=-1043.364 \t <a*es_0 Satisfied\n",
      "T/sqrt(N)=-1031.634 \t <a*es_0 Satisfied\n",
      "T/sqrt(N)=7719.381 \t <a*es_0 NOT Satisfied \t Distance |T/sqrt(N)|-a*es_0 5622.1 \n",
      "T/sqrt(N)=40417.551 \t <a*es_0 NOT Satisfied \t Distance |T/sqrt(N)|-a*es_0 38320.2 \n",
      "Number of successes: 4\n",
      "P value = 0.052\n"
     ]
    }
   ],
   "source": [
    "run_stat_test(state(sg_data_16, \"WI\"), \"WI SG 2016\", .10)"
   ]
  },
  {
   "cell_type": "code",
   "execution_count": 187,
   "metadata": {},
   "outputs": [
    {
     "name": "stdout",
     "output_type": "stream",
     "text": [
      "WI SG 2017\n",
      "P01 = 0.080\n",
      "Sample size 23\n",
      "Delta_0  3.267\n",
      "Comparison es_0 = 21048.747\n",
      "Comparison es_0*0.10 = 2104.875\n",
      "T/sqrt(N)=-32394.708 \t <a*es_0 NOT Satisfied \t Distance |T/sqrt(N)|-a*es_0 30289.8 \n",
      "T/sqrt(N)=5417.537 \t <a*es_0 NOT Satisfied \t Distance |T/sqrt(N)|-a*es_0 3312.7 \n",
      "T/sqrt(N)=15857.939 \t <a*es_0 NOT Satisfied \t Distance |T/sqrt(N)|-a*es_0 13753.1 \n",
      "T/sqrt(N)=-23965.240 \t <a*es_0 NOT Satisfied \t Distance |T/sqrt(N)|-a*es_0 21860.4 \n",
      "T/sqrt(N)=2336.625 \t <a*es_0 NOT Satisfied \t Distance |T/sqrt(N)|-a*es_0 231.8 \n",
      "T/sqrt(N)=3798.517 \t <a*es_0 NOT Satisfied \t Distance |T/sqrt(N)|-a*es_0 1693.6 \n",
      "T/sqrt(N)=-36880.071 \t <a*es_0 NOT Satisfied \t Distance |T/sqrt(N)|-a*es_0 34775.2 \n",
      "T/sqrt(N)=-19000.413 \t <a*es_0 NOT Satisfied \t Distance |T/sqrt(N)|-a*es_0 16895.5 \n",
      "T/sqrt(N)=-18647.812 \t <a*es_0 NOT Satisfied \t Distance |T/sqrt(N)|-a*es_0 16542.9 \n",
      "T/sqrt(N)=-12625.120 \t <a*es_0 NOT Satisfied \t Distance |T/sqrt(N)|-a*es_0 10520.2 \n",
      "T/sqrt(N)=-4960.918 \t <a*es_0 NOT Satisfied \t Distance |T/sqrt(N)|-a*es_0 2856.0 \n",
      "T/sqrt(N)=16778.862 \t <a*es_0 NOT Satisfied \t Distance |T/sqrt(N)|-a*es_0 14674.0 \n",
      "T/sqrt(N)=-6092.690 \t <a*es_0 NOT Satisfied \t Distance |T/sqrt(N)|-a*es_0 3987.8 \n",
      "T/sqrt(N)=1032.621 \t <a*es_0 Satisfied\n",
      "T/sqrt(N)=41790.685 \t <a*es_0 NOT Satisfied \t Distance |T/sqrt(N)|-a*es_0 39685.8 \n",
      "T/sqrt(N)=-22812.918 \t <a*es_0 NOT Satisfied \t Distance |T/sqrt(N)|-a*es_0 20708.0 \n",
      "T/sqrt(N)=-20729.669 \t <a*es_0 NOT Satisfied \t Distance |T/sqrt(N)|-a*es_0 18624.8 \n",
      "T/sqrt(N)=-30961.629 \t <a*es_0 NOT Satisfied \t Distance |T/sqrt(N)|-a*es_0 28856.8 \n",
      "T/sqrt(N)=-9811.700 \t <a*es_0 NOT Satisfied \t Distance |T/sqrt(N)|-a*es_0 7706.8 \n",
      "T/sqrt(N)=-68766.149 \t <a*es_0 NOT Satisfied \t Distance |T/sqrt(N)|-a*es_0 66661.3 \n",
      "T/sqrt(N)=-945.666 \t <a*es_0 Satisfied\n",
      "T/sqrt(N)=17551.150 \t <a*es_0 NOT Satisfied \t Distance |T/sqrt(N)|-a*es_0 15446.3 \n",
      "T/sqrt(N)=4347.761 \t <a*es_0 NOT Satisfied \t Distance |T/sqrt(N)|-a*es_0 2242.9 \n",
      "Number of successes: 2\n",
      "P value = 0.276\n"
     ]
    }
   ],
   "source": [
    "run_stat_test(state(sg_data_17, \"WI\"), \"WI SG 2017\", .10)"
   ]
  },
  {
   "cell_type": "code",
   "execution_count": 188,
   "metadata": {},
   "outputs": [
    {
     "name": "stdout",
     "output_type": "stream",
     "text": [
      "CA SG 2014\n",
      "P01 = 0.080\n",
      "Sample size 14\n",
      "Delta_0  3.124\n",
      "Comparison es_0 = 27170.892\n",
      "Comparison es_0*0.10 = 2717.089\n",
      "T/sqrt(N)=-84874.656 \t <a*es_0 NOT Satisfied \t Distance |T/sqrt(N)|-a*es_0 82157.6 \n",
      "T/sqrt(N)=-5899.099 \t <a*es_0 NOT Satisfied \t Distance |T/sqrt(N)|-a*es_0 3182.0 \n",
      "T/sqrt(N)=38997.765 \t <a*es_0 NOT Satisfied \t Distance |T/sqrt(N)|-a*es_0 36280.7 \n",
      "T/sqrt(N)=37672.299 \t <a*es_0 NOT Satisfied \t Distance |T/sqrt(N)|-a*es_0 34955.2 \n",
      "T/sqrt(N)=-72749.665 \t <a*es_0 NOT Satisfied \t Distance |T/sqrt(N)|-a*es_0 70032.6 \n",
      "T/sqrt(N)=29011.286 \t <a*es_0 NOT Satisfied \t Distance |T/sqrt(N)|-a*es_0 26294.2 \n",
      "T/sqrt(N)=-4629.056 \t <a*es_0 NOT Satisfied \t Distance |T/sqrt(N)|-a*es_0 1912.0 \n",
      "T/sqrt(N)=-8770.933 \t <a*es_0 NOT Satisfied \t Distance |T/sqrt(N)|-a*es_0 6053.8 \n",
      "T/sqrt(N)=-7589.597 \t <a*es_0 NOT Satisfied \t Distance |T/sqrt(N)|-a*es_0 4872.5 \n",
      "T/sqrt(N)=-6397.976 \t <a*es_0 NOT Satisfied \t Distance |T/sqrt(N)|-a*es_0 3680.9 \n",
      "T/sqrt(N)=-9831.986 \t <a*es_0 NOT Satisfied \t Distance |T/sqrt(N)|-a*es_0 7114.9 \n",
      "T/sqrt(N)=-12025.412 \t <a*es_0 NOT Satisfied \t Distance |T/sqrt(N)|-a*es_0 9308.3 \n",
      "T/sqrt(N)=19681.215 \t <a*es_0 NOT Satisfied \t Distance |T/sqrt(N)|-a*es_0 16964.1 \n",
      "T/sqrt(N)=5222.880 \t <a*es_0 NOT Satisfied \t Distance |T/sqrt(N)|-a*es_0 2505.8 \n",
      "Number of successes: 0\n",
      "P value = 0.687\n"
     ]
    }
   ],
   "source": [
    "run_stat_test(state(sg_data_14, \"CA\"), \"CA SG 2014\", .10)"
   ]
  },
  {
   "cell_type": "code",
   "execution_count": 189,
   "metadata": {},
   "outputs": [
    {
     "name": "stdout",
     "output_type": "stream",
     "text": [
      "CA SG 2015\n",
      "P01 = 0.080\n",
      "Sample size 16\n",
      "Delta_0  3.163\n",
      "Comparison es_0 = 60449.296\n",
      "Comparison es_0*0.10 = 6044.930\n",
      "T/sqrt(N)=-191190.121 \t <a*es_0 NOT Satisfied \t Distance |T/sqrt(N)|-a*es_0 185145.2 \n",
      "T/sqrt(N)=26592.670 \t <a*es_0 NOT Satisfied \t Distance |T/sqrt(N)|-a*es_0 20547.7 \n",
      "T/sqrt(N)=171224.950 \t <a*es_0 NOT Satisfied \t Distance |T/sqrt(N)|-a*es_0 165180.0 \n",
      "T/sqrt(N)=-105630.884 \t <a*es_0 NOT Satisfied \t Distance |T/sqrt(N)|-a*es_0 99586.0 \n",
      "T/sqrt(N)=115348.343 \t <a*es_0 NOT Satisfied \t Distance |T/sqrt(N)|-a*es_0 109303.4 \n",
      "T/sqrt(N)=-35022.208 \t <a*es_0 NOT Satisfied \t Distance |T/sqrt(N)|-a*es_0 28977.3 \n",
      "T/sqrt(N)=-7039.841 \t <a*es_0 NOT Satisfied \t Distance |T/sqrt(N)|-a*es_0 994.9 \n",
      "T/sqrt(N)=23216.950 \t <a*es_0 NOT Satisfied \t Distance |T/sqrt(N)|-a*es_0 17172.0 \n",
      "T/sqrt(N)=-60168.174 \t <a*es_0 NOT Satisfied \t Distance |T/sqrt(N)|-a*es_0 54123.2 \n",
      "T/sqrt(N)=-8908.985 \t <a*es_0 NOT Satisfied \t Distance |T/sqrt(N)|-a*es_0 2864.1 \n",
      "T/sqrt(N)=-24673.533 \t <a*es_0 NOT Satisfied \t Distance |T/sqrt(N)|-a*es_0 18628.6 \n",
      "T/sqrt(N)=44629.521 \t <a*es_0 NOT Satisfied \t Distance |T/sqrt(N)|-a*es_0 38584.6 \n",
      "T/sqrt(N)=-43166.912 \t <a*es_0 NOT Satisfied \t Distance |T/sqrt(N)|-a*es_0 37122.0 \n",
      "T/sqrt(N)=20725.819 \t <a*es_0 NOT Satisfied \t Distance |T/sqrt(N)|-a*es_0 14680.9 \n",
      "T/sqrt(N)=14839.619 \t <a*es_0 NOT Satisfied \t Distance |T/sqrt(N)|-a*es_0 8794.7 \n",
      "T/sqrt(N)=37690.168 \t <a*es_0 NOT Satisfied \t Distance |T/sqrt(N)|-a*es_0 31645.2 \n",
      "Number of successes: 0\n",
      "P value = 0.735\n"
     ]
    }
   ],
   "source": [
    "run_stat_test(state(sg_data_15, \"CA\"), \"CA SG 2015\", .10)"
   ]
  },
  {
   "cell_type": "code",
   "execution_count": 190,
   "metadata": {},
   "outputs": [
    {
     "name": "stdout",
     "output_type": "stream",
     "text": [
      "CA SG 2016\n",
      "P01 = 0.080\n",
      "Sample size 16\n",
      "Delta_0  3.163\n",
      "Comparison es_0 = 107903.448\n",
      "Comparison es_0*0.10 = 10790.345\n",
      "T/sqrt(N)=-281547.972 \t <a*es_0 NOT Satisfied \t Distance |T/sqrt(N)|-a*es_0 270757.6 \n",
      "T/sqrt(N)=-120000.332 \t <a*es_0 NOT Satisfied \t Distance |T/sqrt(N)|-a*es_0 109210.0 \n",
      "T/sqrt(N)=-48525.434 \t <a*es_0 NOT Satisfied \t Distance |T/sqrt(N)|-a*es_0 37735.1 \n",
      "T/sqrt(N)=12215.609 \t <a*es_0 NOT Satisfied \t Distance |T/sqrt(N)|-a*es_0 1425.3 \n",
      "T/sqrt(N)=-88149.680 \t <a*es_0 NOT Satisfied \t Distance |T/sqrt(N)|-a*es_0 77359.3 \n",
      "T/sqrt(N)=-57705.658 \t <a*es_0 NOT Satisfied \t Distance |T/sqrt(N)|-a*es_0 46915.3 \n",
      "T/sqrt(N)=341278.965 \t <a*es_0 NOT Satisfied \t Distance |T/sqrt(N)|-a*es_0 330488.6 \n",
      "T/sqrt(N)=90221.616 \t <a*es_0 NOT Satisfied \t Distance |T/sqrt(N)|-a*es_0 79431.3 \n",
      "T/sqrt(N)=157665.542 \t <a*es_0 NOT Satisfied \t Distance |T/sqrt(N)|-a*es_0 146875.2 \n",
      "T/sqrt(N)=-105532.366 \t <a*es_0 NOT Satisfied \t Distance |T/sqrt(N)|-a*es_0 94742.0 \n",
      "T/sqrt(N)=-63259.335 \t <a*es_0 NOT Satisfied \t Distance |T/sqrt(N)|-a*es_0 52469.0 \n",
      "T/sqrt(N)=-25585.637 \t <a*es_0 NOT Satisfied \t Distance |T/sqrt(N)|-a*es_0 14795.3 \n",
      "T/sqrt(N)=-10374.096 \t <a*es_0 Satisfied\n",
      "T/sqrt(N)=13983.308 \t <a*es_0 NOT Satisfied \t Distance |T/sqrt(N)|-a*es_0 3193.0 \n",
      "T/sqrt(N)=11559.465 \t <a*es_0 NOT Satisfied \t Distance |T/sqrt(N)|-a*es_0 769.1 \n",
      "T/sqrt(N)=100492.114 \t <a*es_0 NOT Satisfied \t Distance |T/sqrt(N)|-a*es_0 89701.8 \n",
      "Number of successes: 1\n",
      "P value = 0.368\n"
     ]
    }
   ],
   "source": [
    "run_stat_test(state(sg_data_16, \"CA\"), \"CA SG 2016\", .10)"
   ]
  },
  {
   "cell_type": "code",
   "execution_count": 193,
   "metadata": {},
   "outputs": [
    {
     "name": "stdout",
     "output_type": "stream",
     "text": [
      "CA SG 2017\n",
      "P01 = 0.954\n",
      "Sample size 15\n",
      "Delta_0  3.144\n",
      "Comparison es_0 = 108947.075\n",
      "Comparison es_0*2.00 = 217894.151\n",
      "T/sqrt(N)=10708.915 \t <a*es_0 Satisfied\n",
      "T/sqrt(N)=-14849.597 \t <a*es_0 Satisfied\n",
      "T/sqrt(N)=325640.012 \t <a*es_0 NOT Satisfied \t Distance |T/sqrt(N)|-a*es_0 107745.9 \n",
      "T/sqrt(N)=-342527.457 \t <a*es_0 NOT Satisfied \t Distance |T/sqrt(N)|-a*es_0 124633.3 \n",
      "T/sqrt(N)=109113.676 \t <a*es_0 Satisfied\n",
      "T/sqrt(N)=-40163.170 \t <a*es_0 Satisfied\n",
      "T/sqrt(N)=-135295.815 \t <a*es_0 Satisfied\n",
      "T/sqrt(N)=22636.640 \t <a*es_0 Satisfied\n",
      "T/sqrt(N)=-112727.188 \t <a*es_0 Satisfied\n",
      "T/sqrt(N)=796.809 \t <a*es_0 Satisfied\n",
      "T/sqrt(N)=-31615.485 \t <a*es_0 Satisfied\n",
      "T/sqrt(N)=196646.013 \t <a*es_0 Satisfied\n",
      "T/sqrt(N)=-64658.352 \t <a*es_0 Satisfied\n",
      "T/sqrt(N)=8001.700 \t <a*es_0 Satisfied\n",
      "T/sqrt(N)=103946.657 \t <a*es_0 Satisfied\n",
      "Number of successes: 13\n",
      "P value = 0.853\n"
     ]
    }
   ],
   "source": [
    "run_stat_test(state(sg_data_17, \"CA\"), \"CA SG 2017\", 2)"
   ]
  },
  {
   "cell_type": "code",
   "execution_count": 201,
   "metadata": {},
   "outputs": [
    {
     "name": "stdout",
     "output_type": "stream",
     "text": [
      "310.37140496645634\n",
      "316.89499601330317\n",
      "351.7297958148017\n",
      "398.7784293663904\n"
     ]
    }
   ],
   "source": [
    "print(np.mean(state(sg_data_14, \"CA\")[\"CostsPMM\"]))\n",
    "print(np.mean(state(sg_data_15, \"CA\")[\"CostsPMM\"]))\n",
    "print(np.mean(state(sg_data_16, \"CA\")[\"CostsPMM\"]))\n",
    "print(np.mean(state(sg_data_17, \"CA\")[\"CostsPMM\"]))"
   ]
  },
  {
   "cell_type": "code",
   "execution_count": 202,
   "metadata": {},
   "outputs": [
    {
     "name": "stdout",
     "output_type": "stream",
     "text": [
      "337.4649435797306\n",
      "343.66981918083303\n",
      "360.9995994568882\n",
      "359.03065361603274\n"
     ]
    }
   ],
   "source": [
    "print(np.mean(state(sg_data_14, \"NY\")[\"CostsPMM\"]))\n",
    "print(np.mean(state(sg_data_15, \"NY\")[\"CostsPMM\"]))\n",
    "print(np.mean(state(sg_data_16, \"NY\")[\"CostsPMM\"]))\n",
    "print(np.mean(state(sg_data_17, \"NY\")[\"CostsPMM\"]))"
   ]
  },
  {
   "cell_type": "code",
   "execution_count": 203,
   "metadata": {},
   "outputs": [
    {
     "name": "stdout",
     "output_type": "stream",
     "text": [
      "337.1899385612042\n",
      "359.7252586639627\n",
      "376.3166138137452\n",
      "369.0653951541943\n"
     ]
    }
   ],
   "source": [
    "print(np.mean(state(sg_data_14, \"WI\")[\"CostsPMM\"]))\n",
    "print(np.mean(state(sg_data_15, \"WI\")[\"CostsPMM\"]))\n",
    "print(np.mean(state(sg_data_16, \"WI\")[\"CostsPMM\"]))\n",
    "print(np.mean(state(sg_data_17, \"WI\")[\"CostsPMM\"]))"
   ]
  },
  {
   "cell_type": "code",
   "execution_count": null,
   "metadata": {},
   "outputs": [],
   "source": []
  }
 ],
 "metadata": {
  "kernelspec": {
   "display_name": "Python 3",
   "language": "python",
   "name": "python3"
  },
  "language_info": {
   "codemirror_mode": {
    "name": "ipython",
    "version": 3
   },
   "file_extension": ".py",
   "mimetype": "text/x-python",
   "name": "python",
   "nbconvert_exporter": "python",
   "pygments_lexer": "ipython3",
   "version": "3.6.5"
  }
 },
 "nbformat": 4,
 "nbformat_minor": 2
}
