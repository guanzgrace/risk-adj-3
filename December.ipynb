{
 "cells": [
  {
   "cell_type": "code",
   "execution_count": 20,
   "metadata": {},
   "outputs": [],
   "source": [
    "import pandas as pd\n",
    "from scipy.stats.stats import pearsonr\n",
    "from scipy import stats\n",
    "import statsmodels.api as sm\n",
    "import numpy as np\n",
    "import matplotlib.pyplot as plt"
   ]
  },
  {
   "cell_type": "code",
   "execution_count": 2,
   "metadata": {
    "scrolled": true
   },
   "outputs": [
    {
     "name": "stderr",
     "output_type": "stream",
     "text": [
      "/anaconda3/lib/python3.6/site-packages/IPython/core/interactiveshell.py:2785: DtypeWarning: Columns (1,2,52,323,649,882,932,1092,1202) have mixed types. Specify dtype option on import or set low_memory=False.\n",
      "  interactivity=interactivity, compiler=compiler, result=result)\n",
      "/anaconda3/lib/python3.6/site-packages/IPython/core/interactiveshell.py:2785: DtypeWarning: Columns (1,2,57,204,341,376,377,396,430,431,928,944,1006,1013,1151,1160,1169,1179,1411) have mixed types. Specify dtype option on import or set low_memory=False.\n",
      "  interactivity=interactivity, compiler=compiler, result=result)\n",
      "/anaconda3/lib/python3.6/site-packages/IPython/core/interactiveshell.py:2785: DtypeWarning: Columns (1,2,17,163,355,406,702,835,847,1083,1156,1183,1185,1200) have mixed types. Specify dtype option on import or set low_memory=False.\n",
      "  interactivity=interactivity, compiler=compiler, result=result)\n"
     ]
    }
   ],
   "source": [
    "data2014 = pd.read_csv(\"Our_Dataset/2014dataset.csv\")\n",
    "data2015 = pd.read_csv(\"Our_Dataset/2015dataset.csv\")\n",
    "data2016 = pd.read_csv(\"Our_Dataset/2016dataset.csv\")\n",
    "data2017 = pd.read_csv(\"Our_Dataset/2017dataset.csv\")"
   ]
  },
  {
   "cell_type": "code",
   "execution_count": 3,
   "metadata": {},
   "outputs": [],
   "source": [
    "# Create the labels.\n",
    "# By index:\n",
    "# label 2 is transfers\n",
    "# label 3 is premiums\n",
    "# label 4 is costs\n",
    "# label 5 is member months\n",
    "# label 6 is reinsurance (individual group only)\n",
    "\n",
    "ind_labels_14 = [\"HIOS ID\", \"HIOS INPUTTED INSURANCE COMPANY NAME\",\n",
    "                  \"HHS RISK ADJUSTMENT TRANSFER AMOUNT (INDIVIDUAL MARKET, INCLUDING CATASTROPHIC)\",\n",
    "                  \"1.1Directpremiumwritten2HealthInsuranceINDIVIDUALTotalasof3/31/15\",\n",
    "                  \"2.16Totalincurredclaims2HealthInsuranceINDIVIDUALTotalasof3/31/15\",\n",
    "                  \"7.4Membermonths2HealthInsuranceINDIVIDUALTotalasof3/31/15\",\n",
    "                  \"STATE\", \"REINSURANCE PAYMENT AMOUNT (OR NOT ELIGIBLE)\"] # no more reinsurance as of 2017\n",
    "ind_labels_15 = [label.replace('15', '16') for label in ind_labels_14]\n",
    "ind_labels_16 = [label.replace('15', '17') for label in ind_labels_14]\n",
    "ind_labels_17 = [label.replace('15', '18') for label in ind_labels_14][:-1]\n",
    "\n",
    "sg_labels_14 = [\"HIOS ID\", \"HIOS INPUTTED INSURANCE COMPANY NAME\",\n",
    "                 \"HHS RISK ADJUSTMENT TRANSFERS AMOUNT (SMALL GROUP MARKET)\",\n",
    "                  \"1.1Directpremiumwritten7HealthInsuranceSMALLGROUPTotalasof3/31/15\",\n",
    "                  \"2.16Totalincurredclaims7HealthInsuranceSMALLGROUPTotalasof3/31/15\",\n",
    "                  \"7.4Membermonths7HealthInsuranceSMALLGROUPTotalasof3/31/15\", \"STATE\"]\n",
    "sg_labels_15 = [label.replace('15', '16') for label in sg_labels_14]\n",
    "sg_labels_16 = [label.replace('15', '17') for label in sg_labels_14]\n",
    "sg_labels_17 = [label.replace('15', '18') for label in sg_labels_14]"
   ]
  },
  {
   "cell_type": "code",
   "execution_count": 4,
   "metadata": {},
   "outputs": [],
   "source": [
    "# Filter the data to include only the fields we want\n",
    "\n",
    "ind_data_14 = data2014[ind_labels_14].dropna()\n",
    "ind_data_15 = data2015[ind_labels_15].dropna()\n",
    "ind_data_16 = data2016[ind_labels_16].dropna()\n",
    "ind_data_17 = data2017[ind_labels_17].dropna()\n",
    "sg_data_14 = data2014[sg_labels_14].dropna()\n",
    "sg_data_15 = data2015[sg_labels_15].dropna()\n",
    "sg_data_16 = data2016[sg_labels_16].dropna()\n",
    "sg_data_17 = data2017[sg_labels_17].dropna()"
   ]
  },
  {
   "cell_type": "code",
   "execution_count": 5,
   "metadata": {},
   "outputs": [],
   "source": [
    "# Drop companies with <2000 MM\n",
    "ind_data_14 = ind_data_14.where(ind_data_14[ind_labels_14[5]] > 2000).dropna()\n",
    "ind_data_15 = ind_data_15.where(ind_data_15[ind_labels_15[5]] > 2000).dropna()\n",
    "ind_data_16 = ind_data_16.where(ind_data_16[ind_labels_16[5]] > 2000).dropna()\n",
    "ind_data_17 = ind_data_17.where(ind_data_17[ind_labels_17[5]] > 2000).dropna()\n",
    "sg_data_14 = sg_data_14.where(sg_data_14[sg_labels_14[5]] > 2000).dropna()\n",
    "sg_data_15 = sg_data_15.where(sg_data_15[sg_labels_15[5]] > 2000).dropna()\n",
    "sg_data_16 = sg_data_16.where(sg_data_16[sg_labels_16[5]] > 2000).dropna()\n",
    "sg_data_17 = sg_data_17.where(sg_data_17[sg_labels_17[5]] > 2000).dropna()"
   ]
  },
  {
   "cell_type": "code",
   "execution_count": 6,
   "metadata": {},
   "outputs": [],
   "source": [
    "# Calculate transfers, premiums, costs, and reinsurance (if individual group) per member month\n",
    "def calculate_pmm(df, df_labels, group):\n",
    "    df[\"MM\"] = df[df_labels[5]]\n",
    "    df[\"Transfers\"] = df[df_labels[2]]\n",
    "    df[\"Enrollees\"] = df[\"MM\"] / 12\n",
    "    df[\"LogEnrollees\"] = np.log(df[\"Enrollees\"])\n",
    "    df[\"LogTransfers\"] = np.log(df[\"Transfers\"]**2 + 1)\n",
    "    df[\"TransfersPMM\"] = df[df_labels[2]] / df[df_labels[5]]\n",
    "    df[\"PremiumsPMM\"] = abs(df[df_labels[3]] / df[df_labels[5]])\n",
    "    df[\"CostsPMM\"] = abs(df[df_labels[4]] / df[df_labels[5]])\n",
    "    if group == \"i\":\n",
    "        df[\"ReinsurancePMM\"] = df[df_labels[7]] / df[df_labels[5]]\n",
    "        df[\"ProfitsPMM\"] = df[\"PremiumsPMM\"] - df[\"CostsPMM\"] + df[\"TransfersPMM\"] + df[\"ReinsurancePMM\"]\n",
    "        #df[\"PremMinusCostsPlusReinsurancePMM\"] = df[\"PremiumsPMM\"] - df[\"CostsPMM\"] + df[\"ReinsurancePMM\"]\n",
    "    elif group == \"sg\":\n",
    "        df[\"ProfitsPMM\"] = df[\"PremiumsPMM\"] - df[\"CostsPMM\"] + df[\"TransfersPMM\"]\n",
    "    df[\"PremMinusCostsPMM\"] = df[\"PremiumsPMM\"] - df[\"CostsPMM\"]\n",
    "    df[\"PremMinusCostsPlusTransfersPMM\"] = df[\"PremiumsPMM\"] - df[\"CostsPMM\"] + df[\"TransfersPMM\"]\n",
    "    df[\"SicknessPMM\"] = df[\"CostsPMM\"] - df[\"PremiumsPMM\"]\n",
    "    average_sickness = np.mean(df[\"SicknessPMM\"])\n",
    "    df[\"ExcessSicknessPMM\"] = df[\"SicknessPMM\"] - average_sickness\n",
    "    return df\n",
    "\n",
    "ind_data_14 = calculate_pmm(ind_data_14, ind_labels_14, \"i\")\n",
    "ind_data_15 = calculate_pmm(ind_data_15, ind_labels_15, \"i\")\n",
    "ind_data_16 = calculate_pmm(ind_data_16, ind_labels_16, \"i\")\n",
    "ind_data_17 = calculate_pmm(ind_data_17, ind_labels_17, \"sg\")\n",
    "sg_data_14 = calculate_pmm(sg_data_14, sg_labels_14, \"sg\")\n",
    "sg_data_15 = calculate_pmm(sg_data_15, sg_labels_15, \"sg\")\n",
    "sg_data_16 = calculate_pmm(sg_data_16, sg_labels_16, \"sg\")\n",
    "sg_data_17 = calculate_pmm(sg_data_17, sg_labels_17, \"sg\")"
   ]
  },
  {
   "cell_type": "code",
   "execution_count": 7,
   "metadata": {},
   "outputs": [],
   "source": [
    "# Combine the dataframes by left merging\n",
    "\n",
    "ind_data = ind_data_14.merge(ind_data_15, on='HIOS ID', how='outer', suffixes=('_14', '_15'))\\\n",
    ".merge(ind_data_16, on='HIOS ID', how='outer').merge(ind_data_17, on='HIOS ID', how='outer', suffixes=('_16', '_17'))"
   ]
  },
  {
   "cell_type": "code",
   "execution_count": 8,
   "metadata": {},
   "outputs": [],
   "source": [
    "# Do the same thing for small group\n",
    "\n",
    "sg_data = sg_data_14.merge(sg_data_15, on='HIOS ID', how='outer', suffixes=('_14', '_15'))\\\n",
    ".merge(sg_data_16, on='HIOS ID', how='outer').merge(sg_data_17, on='HIOS ID', how='outer', suffixes=('_16', '_17'))"
   ]
  },
  {
   "cell_type": "code",
   "execution_count": 9,
   "metadata": {},
   "outputs": [
    {
     "data": {
      "text/plain": [
       "(611, 77)"
      ]
     },
     "execution_count": 9,
     "metadata": {},
     "output_type": "execute_result"
    }
   ],
   "source": [
    "sg_data.shape"
   ]
  },
  {
   "cell_type": "code",
   "execution_count": 12,
   "metadata": {},
   "outputs": [],
   "source": [
    "def plot(df, label, show_graphs):\n",
    "    no_nulls = df[['LogEnrollees', 'LogTransfers']].dropna()\n",
    "    X = no_nulls[['LogEnrollees']]\n",
    "    y = no_nulls['LogTransfers']\n",
    "    X = sm.add_constant(X)\n",
    "    est = sm.OLS(y, X).fit()\n",
    "    equation = \"Log T = %f + %f * Log Enrollees\" % (est.params[0], est.params[1])\n",
    "    if show_graphs:\n",
    "        fig, ax = plt.subplots(figsize=(8,8))\n",
    "        plt.scatter(df[\"LogEnrollees\"], df[\"LogTransfers\"])\n",
    "        x = np.linspace(min(df[\"LogEnrollees\"]), max(df[\"LogEnrollees\"]), 1000)\n",
    "        plt.plot(x, est.params[0] + est.params[1] * x, label=equation)\n",
    "        plt.title(label)\n",
    "        plt.xlabel(\"Log # Enrollees\")\n",
    "        plt.ylabel(\"Log Transfers^2 + 1\")\n",
    "        plt.legend()\n",
    "        plt.show()\n",
    "    print(label)\n",
    "    print(equation)\n",
    "    \n",
    "def state(df, state):\n",
    "    return df.where(df[\"STATE\"] == state).where(df[\"LogTransfers\"] > 2).dropna()\n",
    "\n",
    "def remove_outliers(df):\n",
    "    return df.where(df[\"LogTransfers\"] > 2).dropna()"
   ]
  },
  {
   "cell_type": "code",
   "execution_count": 13,
   "metadata": {},
   "outputs": [
    {
     "name": "stdout",
     "output_type": "stream",
     "text": [
      "Small Group 2014 (Entire Market)\n",
      "Log T = 14.025779 + 1.347502 * Log Enrollees\n",
      "Small Group 2015 (Entire Market)\n",
      "Log T = 16.075239 + 1.278445 * Log Enrollees\n",
      "Small Group 2016 (Entire Market)\n",
      "Log T = 15.619503 + 1.384965 * Log Enrollees\n",
      "Small Group 2017 (Entire Market)\n",
      "Log T = 16.152988 + 1.348814 * Log Enrollees\n",
      "Individual 2014 (Entire Market)\n",
      "Log T = 14.476398 + 1.575180 * Log Enrollees\n",
      "Individual 2015 (Entire Market)\n",
      "Log T = 14.738923 + 1.653377 * Log Enrollees\n",
      "Individual 2016 (Entire Market)\n",
      "Log T = 14.715496 + 1.683744 * Log Enrollees\n",
      "Individual 2017 (Entire Market)\n",
      "Log T = 18.056670 + 1.384628 * Log Enrollees\n"
     ]
    }
   ],
   "source": [
    "plot(remove_outliers(sg_data_14), \"Small Group 2014 (Entire Market)\", False)\n",
    "plot(remove_outliers(sg_data_15), \"Small Group 2015 (Entire Market)\", False)\n",
    "plot(remove_outliers(sg_data_16), \"Small Group 2016 (Entire Market)\", False)\n",
    "plot(remove_outliers(sg_data_17), \"Small Group 2017 (Entire Market)\", False)\n",
    "\n",
    "plot(remove_outliers(ind_data_14), \"Individual 2014 (Entire Market)\", False)\n",
    "plot(remove_outliers(ind_data_15), \"Individual 2015 (Entire Market)\", False)\n",
    "plot(remove_outliers(ind_data_16), \"Individual 2016 (Entire Market)\", False)\n",
    "plot(remove_outliers(ind_data_17), \"Individual 2017 (Entire Market)\", False)"
   ]
  },
  {
   "cell_type": "code",
   "execution_count": 14,
   "metadata": {},
   "outputs": [
    {
     "name": "stdout",
     "output_type": "stream",
     "text": [
      "Small Group 2014 (CA)\n",
      "Log T = 20.201590 + 0.908923 * Log Enrollees\n",
      "Small Group 2015 (CA)\n",
      "Log T = 17.279402 + 1.384180 * Log Enrollees\n",
      "Small Group 2016 (CA)\n",
      "Log T = 13.879453 + 1.782309 * Log Enrollees\n",
      "Small Group 2017 (CA)\n",
      "Log T = 11.177704 + 2.004392 * Log Enrollees\n",
      "Individual 2014 (CA)\n",
      "Log T = 17.602514 + 1.568328 * Log Enrollees\n",
      "Individual 2015 (CA)\n",
      "Log T = 15.612416 + 1.671452 * Log Enrollees\n",
      "Individual 2016 (CA)\n",
      "Log T = 13.830077 + 1.857634 * Log Enrollees\n",
      "Individual 2017 (CA)\n",
      "Log T = 10.395566 + 2.162331 * Log Enrollees\n"
     ]
    }
   ],
   "source": [
    "plot(state(sg_data_14, \"CA\"), \"Small Group 2014 (CA)\", False)\n",
    "plot(state(sg_data_15, \"CA\"), \"Small Group 2015 (CA)\", False)\n",
    "plot(state(sg_data_16, \"CA\"), \"Small Group 2016 (CA)\", False)\n",
    "plot(state(sg_data_17, \"CA\"), \"Small Group 2017 (CA)\", False)\n",
    "\n",
    "plot(state(ind_data_14, \"CA\"), \"Individual 2014 (CA)\", False)\n",
    "plot(state(ind_data_15, \"CA\"), \"Individual 2015 (CA)\", False)\n",
    "plot(state(ind_data_16, \"CA\"), \"Individual 2016 (CA)\", False)\n",
    "plot(state(ind_data_17, \"CA\"), \"Individual 2017 (CA)\", False)"
   ]
  },
  {
   "cell_type": "code",
   "execution_count": 17,
   "metadata": {},
   "outputs": [
    {
     "name": "stdout",
     "output_type": "stream",
     "text": [
      "Small Group 2014 (WI)\n",
      "Log T = 15.397180 + 1.026624 * Log Enrollees\n",
      "Small Group 2015 (WI)\n",
      "Log T = 15.799472 + 1.208017 * Log Enrollees\n",
      "Small Group 2016 (WI)\n",
      "Log T = 16.544129 + 1.190127 * Log Enrollees\n",
      "Small Group 2017 (WI)\n",
      "Log T = 21.788001 + 0.628396 * Log Enrollees\n",
      "Individual 2014 (WI)\n",
      "Log T = 12.277924 + 1.936107 * Log Enrollees\n",
      "Individual 2015 (WI)\n",
      "Log T = 16.854016 + 1.325381 * Log Enrollees\n",
      "Individual 2016 (WI)\n",
      "Log T = 6.863260 + 2.513512 * Log Enrollees\n"
     ]
    },
    {
     "data": {
      "image/png": "[encoded data removed]",
      "text/plain": [
       "<Figure size 576x576 with 1 Axes>"
      ]
     },
     "metadata": {},
     "output_type": "display_data"
    },
    {
     "name": "stdout",
     "output_type": "stream",
     "text": [
      "Individual 2017 (WI)\n",
      "Log T = 30.932439 + -0.130960 * Log Enrollees\n"
     ]
    }
   ],
   "source": [
    "plot(state(sg_data_14, \"WI\"), \"Small Group 2014 (WI)\", False)\n",
    "plot(state(sg_data_15, \"WI\"), \"Small Group 2015 (WI)\", False)\n",
    "plot(state(sg_data_16, \"WI\"), \"Small Group 2016 (WI)\", False)\n",
    "plot(state(sg_data_17, \"WI\"), \"Small Group 2017 (WI)\", False)\n",
    "\n",
    "plot(state(ind_data_14, \"WI\"), \"Individual 2014 (WI)\", False)\n",
    "plot(state(ind_data_15, \"WI\"), \"Individual 2015 (WI)\", False)\n",
    "plot(state(ind_data_16, \"WI\"), \"Individual 2016 (WI)\", False)\n",
    "plot(state(ind_data_17, \"WI\"), \"Individual 2017 (WI)\", True)"
   ]
  },
  {
   "cell_type": "code",
   "execution_count": 21,
   "metadata": {},
   "outputs": [
    {
     "data": {
      "text/plain": [
       "566     5304975.21\n",
       "568    -2256548.65\n",
       "570    18178903.48\n",
       "571   -11714318.79\n",
       "575    -8893268.99\n",
       "576      273647.15\n",
       "579     2834286.36\n",
       "580    -5487189.38\n",
       "581      369221.66\n",
       "585    10029127.59\n",
       "587    18489433.27\n",
       "588     1853727.76\n",
       "589     1144252.18\n",
       "590    -7998779.45\n",
       "591       76800.23\n",
       "593     3157217.18\n",
       "596     3033495.32\n",
       "Name: Transfers, dtype: float64"
      ]
     },
     "execution_count": 21,
     "metadata": {},
     "output_type": "execute_result"
    }
   ],
   "source": [
    "state(ind_data_17, \"WI\")[\"Transfers\"]"
   ]
  },
  {
   "cell_type": "code",
   "execution_count": 18,
   "metadata": {},
   "outputs": [
    {
     "name": "stdout",
     "output_type": "stream",
     "text": [
      "Small Group 2014 (NY)\n",
      "Log T = 14.624871 + 1.540068 * Log Enrollees\n",
      "Small Group 2015 (NY)\n",
      "Log T = 18.267316 + 1.301260 * Log Enrollees\n",
      "Small Group 2016 (NY)\n",
      "Log T = 19.501643 + 1.154605 * Log Enrollees\n",
      "Small Group 2017 (NY)\n",
      "Log T = 19.064776 + 1.338010 * Log Enrollees\n"
     ]
    },
    {
     "data": {
      "image/png": "[encoded data removed]",
      "text/plain": [
       "<Figure size 576x576 with 1 Axes>"
      ]
     },
     "metadata": {},
     "output_type": "display_data"
    },
    {
     "name": "stdout",
     "output_type": "stream",
     "text": [
      "Individual 2014 (NY)\n",
      "Log T = 5.901063 + 2.606184 * Log Enrollees\n",
      "Individual 2015 (NY)\n",
      "Log T = 15.160759 + 1.775863 * Log Enrollees\n",
      "Individual 2016 (NY)\n",
      "Log T = 15.910785 + 1.694897 * Log Enrollees\n",
      "Individual 2017 (NY)\n",
      "Log T = 17.462005 + 1.517902 * Log Enrollees\n"
     ]
    }
   ],
   "source": [
    "plot(state(sg_data_14, \"NY\"), \"Small Group 2014 (NY)\", False)\n",
    "plot(state(sg_data_15, \"NY\"), \"Small Group 2015 (NY)\", False)\n",
    "plot(state(sg_data_16, \"NY\"), \"Small Group 2016 (NY)\", False)\n",
    "plot(state(sg_data_17, \"NY\"), \"Small Group 2017 (NY)\", False)\n",
    "\n",
    "plot(state(ind_data_14, \"NY\"), \"Individual 2014 (NY)\", True)\n",
    "plot(state(ind_data_15, \"NY\"), \"Individual 2015 (NY)\", False)\n",
    "plot(state(ind_data_16, \"NY\"), \"Individual 2016 (NY)\", False)\n",
    "plot(state(ind_data_17, \"NY\"), \"Individual 2017 (NY)\", False)"
   ]
  },
  {
   "cell_type": "code",
   "execution_count": 42,
   "metadata": {},
   "outputs": [],
   "source": [
    "# Shaprio-Wilk test for null hypothesis that sample x1... xn\n",
    "# comes form a normally distributed population\n",
    "\n",
    "def shapir(df, label):\n",
    "    a, b = stats.shapiro(df)\n",
    "    print(\"%s,%.4f,%.4f\" % (label,a,b))\n"
   ]
  },
  {
   "cell_type": "code",
   "execution_count": 43,
   "metadata": {},
   "outputs": [
    {
     "name": "stdout",
     "output_type": "stream",
     "text": [
      ",P(Transfers from normal distr),p-value\n"
     ]
    }
   ],
   "source": [
    "print(\",P(Transfers from normal distr),p-value\")"
   ]
  },
  {
   "cell_type": "code",
   "execution_count": 44,
   "metadata": {},
   "outputs": [
    {
     "name": "stdout",
     "output_type": "stream",
     "text": [
      "All States, SG, 2014,0.2756,0.0000\n",
      "All States, SG, 2015,0.2338,0.0000\n",
      "All States, SG, 2016,0.2837,0.0000\n",
      "All States, SG, 2017,0.2710,0.0000\n"
     ]
    }
   ],
   "source": [
    "shapir(remove_outliers(sg_data_14)[\"Transfers\"], \"All States, SG, 2014\")\n",
    "shapir(remove_outliers(sg_data_15)[\"Transfers\"], \"All States, SG, 2015\")\n",
    "shapir(remove_outliers(sg_data_16)[\"Transfers\"], \"All States, SG, 2016\")\n",
    "shapir(remove_outliers(sg_data_17)[\"Transfers\"], \"All States, SG, 2017\")"
   ]
  },
  {
   "cell_type": "code",
   "execution_count": 45,
   "metadata": {},
   "outputs": [
    {
     "name": "stdout",
     "output_type": "stream",
     "text": [
      "CA only, SG, 2014,0.8537,0.0249\n",
      "CA only, SG, 2015,0.8145,0.0043\n",
      "CA only, SG, 2016,0.7658,0.0010\n",
      "CA only, SG, 2017,0.7308,0.0005\n"
     ]
    }
   ],
   "source": [
    "shapir(state(sg_data_14, \"CA\")[\"Transfers\"], \"CA only, SG, 2014\")\n",
    "shapir(state(sg_data_15, \"CA\")[\"Transfers\"], \"CA only, SG, 2015\")\n",
    "shapir(state(sg_data_16, \"CA\")[\"Transfers\"], \"CA only, SG, 2016\")\n",
    "shapir(state(sg_data_17, \"CA\")[\"Transfers\"], \"CA only, SG, 2017\")"
   ]
  },
  {
   "cell_type": "code",
   "execution_count": 46,
   "metadata": {},
   "outputs": [
    {
     "name": "stdout",
     "output_type": "stream",
     "text": [
      "WI only, SG, 2014,0.8409,0.0010\n",
      "WI only, SG, 2015,0.6424,0.0000\n",
      "WI only, SG, 2016,0.7246,0.0000\n",
      "WI only, SG, 2017,0.9391,0.1722\n"
     ]
    }
   ],
   "source": [
    "shapir(state(sg_data_14, \"WI\")[\"Transfers\"], \"WI only, SG, 2014\")\n",
    "shapir(state(sg_data_15, \"WI\")[\"Transfers\"], \"WI only, SG, 2015\")\n",
    "shapir(state(sg_data_16, \"WI\")[\"Transfers\"], \"WI only, SG, 2016\")\n",
    "shapir(state(sg_data_17, \"WI\")[\"Transfers\"], \"WI only, SG, 2017\")"
   ]
  },
  {
   "cell_type": "code",
   "execution_count": 47,
   "metadata": {},
   "outputs": [
    {
     "name": "stdout",
     "output_type": "stream",
     "text": [
      "NY only, SG, 2014,0.6671,0.0000\n",
      "NY only, SG, 2015,0.5728,0.0000\n",
      "NY only, SG, 2016,0.5750,0.0000\n",
      "NY only, SG, 2017,0.5701,0.0000\n"
     ]
    }
   ],
   "source": [
    "shapir(state(sg_data_14, \"NY\")[\"Transfers\"], \"NY only, SG, 2014\")\n",
    "shapir(state(sg_data_15, \"NY\")[\"Transfers\"], \"NY only, SG, 2015\")\n",
    "shapir(state(sg_data_16, \"NY\")[\"Transfers\"], \"NY only, SG, 2016\")\n",
    "shapir(state(sg_data_17, \"NY\")[\"Transfers\"], \"NY only, SG, 2017\")"
   ]
  },
  {
   "cell_type": "code",
   "execution_count": null,
   "metadata": {},
   "outputs": [],
   "source": []
  }
 ],
 "metadata": {
  "kernelspec": {
   "display_name": "Python 3",
   "language": "python",
   "name": "python3"
  },
  "language_info": {
   "codemirror_mode": {
    "name": "ipython",
    "version": 3
   },
   "file_extension": ".py",
   "mimetype": "text/x-python",
   "name": "python",
   "nbconvert_exporter": "python",
   "pygments_lexer": "ipython3",
   "version": "3.6.5"
  }
 },
 "nbformat": 4,
 "nbformat_minor": 2
}
