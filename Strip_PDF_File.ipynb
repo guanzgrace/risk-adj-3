{
 "cells": [
  {
   "cell_type": "code",
   "execution_count": 1,
   "metadata": {},
   "outputs": [],
   "source": [
    "import pandas as pd\n",
    "import numpy as np\n",
    "from re import sub\n",
    "from decimal import Decimal\n",
    "\n",
    "# this script strips pdf data to make it parseable\n",
    "\n",
    "# author: Grace Guan\n",
    "# date created: 11/23/17\n",
    "\n",
    "def strip_money_values(pdf_data, column):\n",
    "    i = 0\n",
    "    for money in pdf_data[column]:\n",
    "        if money == '$-' or money == 'N/E' or \\\n",
    "            money == 'N/A_MA_Issuer' or money == 'N/A_DefaultCharge' or \\\n",
    "            money == 'N/A_Default_Charge':\n",
    "            pdf_data[column][i] = \"N/A\"\n",
    "        else:\n",
    "            \n",
    "            try: \n",
    "                value = Decimal(sub(r'[^\\d.]', '', money))\n",
    "            except:\n",
    "                print(money)\n",
    "            if '(' in money:\n",
    "                value = -1 * value\n",
    "            else:\n",
    "                value = value\n",
    "            pdf_data[column][i] = value\n",
    "        i = i + 1\n",
    "    return pdf_data\n",
    "\n",
    "def perform_stripping(path, output_path): \n",
    "    pdf = pd.read_csv(path)\n",
    "    columns = [\"HHS RISK ADJUSTMENT TRANSFER AMOUNT (INDIVIDUAL NONCATASTROPHIC RISK POOL)\",\n",
    "                                \"HHS RISK ADJUSTMENT TRANSFER AMOUNT (CATASTROPHIC RISK POOL)\",\n",
    "                                \"HHS RISK ADJUSTMENT TRANSFERS AMOUNT (SMALL GROUP RISK POOL)\"]\n",
    "\n",
    "    for column in columns:\n",
    "        pdf = strip_money_values(pdf, column)\n",
    "    pdf.head()\n",
    "    pdf.tail()\n",
    "    pdf.to_csv(output_path)\n",
    "    print(\"perform_stripping done\")"
   ]
  },
  {
   "cell_type": "code",
   "execution_count": 2,
   "metadata": {},
   "outputs": [
    {
     "name": "stderr",
     "output_type": "stream",
     "text": [
      "/anaconda3/lib/python3.6/site-packages/ipykernel_launcher.py:15: SettingWithCopyWarning: \n",
      "A value is trying to be set on a copy of a slice from a DataFrame\n",
      "\n",
      "See the caveats in the documentation: http://pandas.pydata.org/pandas-docs/stable/indexing.html#indexing-view-versus-copy\n",
      "  from ipykernel import kernelapp as app\n",
      "/anaconda3/lib/python3.6/site-packages/ipykernel_launcher.py:26: SettingWithCopyWarning: \n",
      "A value is trying to be set on a copy of a slice from a DataFrame\n",
      "\n",
      "See the caveats in the documentation: http://pandas.pydata.org/pandas-docs/stable/indexing.html#indexing-view-versus-copy\n"
     ]
    },
    {
     "name": "stdout",
     "output_type": "stream",
     "text": [
      "perform_stripping done\n"
     ]
    }
   ],
   "source": [
    "# how to execute the above scripts to clean the data of all '$', ',', and '(')''s.\n",
    "#pdf_data = pd.read_csv(\"input/2014-Benefit-Year-RI-RA-Updated.csv\")\n",
    "perform_stripping(\"Output/2017-PDF.csv\", \"Output/2017-PDF-S.csv\")\n",
    "# THIS CREATES THE FOLLOWING SPREADSHEET:\n",
    "# HIOS ID ... COMPANY NAME ... STATE ... REINSURANCE ... RISK ADJUSTMENT INDIDIVDUAL ... RISK ADJUSTMENT SMALL GROUP"
   ]
  },
  {
   "cell_type": "code",
   "execution_count": null,
   "metadata": {},
   "outputs": [],
   "source": []
  }
 ],
 "metadata": {
  "kernelspec": {
   "display_name": "Python 3",
   "language": "python",
   "name": "python3"
  },
  "language_info": {
   "codemirror_mode": {
    "name": "ipython",
    "version": 3
   },
   "file_extension": ".py",
   "mimetype": "text/x-python",
   "name": "python",
   "nbconvert_exporter": "python",
   "pygments_lexer": "ipython3",
   "version": "3.6.5"
  }
 },
 "nbformat": 4,
 "nbformat_minor": 2
}
