{
 "cells": [
  {
   "cell_type": "code",
   "execution_count": 1,
   "metadata": {},
   "outputs": [
    {
     "name": "stdout",
     "output_type": "stream",
     "text": [
      "{0: ['ME', 'IL', 'PA', 'GA', 'OK', 'DE', 'WA', 'CT', 'OH', 'VA', 'NE', 'MT', 'IN', 'CA', 'HI', 'ND', 'MD', 'SC', 'RI', 'AK', 'KY', 'WI', 'LA', 'MN', 'MS', 'WV', 'FL'], 1: ['SD', 'IL', 'PA', 'NH', 'NM', 'NV', 'OK', 'UT', 'CT', 'OH', 'VA', 'OR', 'CO', 'IN', 'HI', 'AL', 'RI', 'AK', 'LA', 'MN', 'IA', 'AR', 'WV'], 2: ['MI', 'ME', 'WY', 'DC', 'TX', 'AZ', 'NC', 'WA', 'OR', 'CO', 'MT', 'ND', 'TN', 'SC', 'AL', 'NY', 'KY', 'NJ', 'KS', 'ID', 'IA', 'AR', 'MO'], 3: ['MI', 'SD', 'WY', 'NH', 'DC', 'TX', 'GA', 'AZ', 'NM', 'NC', 'NV', 'DE', 'UT', 'NE', 'CA', 'MD', 'TN', 'NY', 'NJ', 'KS', 'WI', 'ID', 'MS', 'FL', 'MO']}\n",
      "{0: ['MI', 'SD', 'WY', 'NH', 'DC', 'TX', 'AZ', 'NM', 'NC', 'NV', 'UT', 'OR', 'CO', 'TN', 'AL', 'NY', 'NJ', 'KS', 'ID', 'IA', 'AR', 'MO'], 1: ['MI', 'ME', 'WY', 'DC', 'TX', 'GA', 'AZ', 'NC', 'DE', 'WA', 'NE', 'MT', 'CA', 'ND', 'MD', 'TN', 'SC', 'NY', 'KY', 'NJ', 'KS', 'WI', 'ID', 'MS', 'FL', 'MO'], 2: ['SD', 'IL', 'PA', 'NH', 'GA', 'NM', 'NV', 'OK', 'DE', 'UT', 'CT', 'OH', 'VA', 'NE', 'IN', 'CA', 'HI', 'MD', 'RI', 'AK', 'WI', 'LA', 'MN', 'MS', 'WV', 'FL'], 3: ['ME', 'IL', 'PA', 'OK', 'WA', 'CT', 'OH', 'VA', 'OR', 'CO', 'MT', 'IN', 'HI', 'ND', 'SC', 'AL', 'RI', 'AK', 'KY', 'LA', 'MN', 'IA', 'AR', 'WV']}\n"
     ]
    }
   ],
   "source": [
    "%run StatTest2_WithSimulation_Setup.ipynb"
   ]
  },
  {
   "cell_type": "code",
   "execution_count": 2,
   "metadata": {
    "scrolled": true
   },
   "outputs": [
    {
     "name": "stderr",
     "output_type": "stream",
     "text": [
      "/anaconda3/lib/python3.6/site-packages/IPython/core/interactiveshell.py:2785: DtypeWarning: Columns (1,2,52,323,649,882,932,1092,1202) have mixed types. Specify dtype option on import or set low_memory=False.\n",
      "  interactivity=interactivity, compiler=compiler, result=result)\n",
      "/anaconda3/lib/python3.6/site-packages/IPython/core/interactiveshell.py:2785: DtypeWarning: Columns (1,2,57,204,341,376,377,396,430,431,928,944,1006,1013,1151,1160,1169,1179,1411) have mixed types. Specify dtype option on import or set low_memory=False.\n",
      "  interactivity=interactivity, compiler=compiler, result=result)\n",
      "/anaconda3/lib/python3.6/site-packages/IPython/core/interactiveshell.py:2785: DtypeWarning: Columns (1,2,17,163,355,406,702,835,847,1083,1156,1183,1185,1200) have mixed types. Specify dtype option on import or set low_memory=False.\n",
      "  interactivity=interactivity, compiler=compiler, result=result)\n"
     ]
    }
   ],
   "source": [
    "data2014 = pd.read_csv(\"Our_Dataset/2014dataset.csv\")\n",
    "data2015 = pd.read_csv(\"Our_Dataset/2015dataset.csv\")\n",
    "data2016 = pd.read_csv(\"Our_Dataset/2016dataset.csv\")\n",
    "data2017 = pd.read_csv(\"Our_Dataset/2017dataset.csv\")"
   ]
  },
  {
   "cell_type": "code",
   "execution_count": 3,
   "metadata": {},
   "outputs": [],
   "source": [
    "# Create the labels.\n",
    "# By index:\n",
    "# label 2 is transfers\n",
    "# label 3 is premiums\n",
    "# label 4 is costs\n",
    "# label 5 is member months\n",
    "# label 6 is reinsurance (individual group only)\n",
    "\n",
    "ind_labels_14 = [\"HIOS ID\", \"HIOS INPUTTED INSURANCE COMPANY NAME\",\n",
    "                  \"HHS RISK ADJUSTMENT TRANSFER AMOUNT (INDIVIDUAL MARKET, INCLUDING CATASTROPHIC)\",\n",
    "                  \"1.1Directpremiumwritten2HealthInsuranceINDIVIDUALTotalasof3/31/15\",\n",
    "                  \"2.16Totalincurredclaims2HealthInsuranceINDIVIDUALTotalasof3/31/15\",\n",
    "                  \"7.4Membermonths2HealthInsuranceINDIVIDUALTotalasof3/31/15\",\n",
    "                  \"STATE\", \"REINSURANCE PAYMENT AMOUNT (OR NOT ELIGIBLE)\"] # no more reinsurance as of 2017\n",
    "ind_labels_15 = [label.replace('15', '16') for label in ind_labels_14]\n",
    "ind_labels_16 = [label.replace('15', '17') for label in ind_labels_14]\n",
    "ind_labels_17 = [label.replace('15', '18') for label in ind_labels_14][:-1]\n",
    "\n",
    "sg_labels_14 = [\"HIOS ID\", \"HIOS INPUTTED INSURANCE COMPANY NAME\",\n",
    "                 \"HHS RISK ADJUSTMENT TRANSFERS AMOUNT (SMALL GROUP MARKET)\",\n",
    "                  \"1.1Directpremiumwritten7HealthInsuranceSMALLGROUPTotalasof3/31/15\",\n",
    "                  \"2.16Totalincurredclaims7HealthInsuranceSMALLGROUPTotalasof3/31/15\",\n",
    "                  \"7.4Membermonths7HealthInsuranceSMALLGROUPTotalasof3/31/15\", \"STATE\"]\n",
    "sg_labels_15 = [label.replace('15', '16') for label in sg_labels_14]\n",
    "sg_labels_16 = [label.replace('15', '17') for label in sg_labels_14]\n",
    "sg_labels_17 = [label.replace('15', '18') for label in sg_labels_14]"
   ]
  },
  {
   "cell_type": "code",
   "execution_count": 4,
   "metadata": {},
   "outputs": [],
   "source": [
    "# Filter the data to include only the fields we want\n",
    "\n",
    "ind_data_14 = data2014[ind_labels_14].dropna()\n",
    "ind_data_15 = data2015[ind_labels_15].dropna()\n",
    "ind_data_16 = data2016[ind_labels_16].dropna()\n",
    "ind_data_17 = data2017[ind_labels_17].dropna()\n",
    "sg_data_14 = data2014[sg_labels_14].dropna()\n",
    "sg_data_15 = data2015[sg_labels_15].dropna()\n",
    "sg_data_16 = data2016[sg_labels_16].dropna()\n",
    "sg_data_17 = data2017[sg_labels_17].dropna()"
   ]
  },
  {
   "cell_type": "code",
   "execution_count": 5,
   "metadata": {},
   "outputs": [],
   "source": [
    "# Drop companies with <2000 MM\n",
    "ind_data_14 = ind_data_14.where(ind_data_14[ind_labels_14[5]] > 2000).dropna()\n",
    "ind_data_15 = ind_data_15.where(ind_data_15[ind_labels_15[5]] > 2000).dropna()\n",
    "ind_data_16 = ind_data_16.where(ind_data_16[ind_labels_16[5]] > 2000).dropna()\n",
    "ind_data_17 = ind_data_17.where(ind_data_17[ind_labels_17[5]] > 2000).dropna()\n",
    "sg_data_14 = sg_data_14.where(sg_data_14[sg_labels_14[5]] > 2000).dropna()\n",
    "sg_data_15 = sg_data_15.where(sg_data_15[sg_labels_15[5]] > 2000).dropna()\n",
    "sg_data_16 = sg_data_16.where(sg_data_16[sg_labels_16[5]] > 2000).dropna()\n",
    "sg_data_17 = sg_data_17.where(sg_data_17[sg_labels_17[5]] > 2000).dropna()"
   ]
  },
  {
   "cell_type": "code",
   "execution_count": 6,
   "metadata": {},
   "outputs": [],
   "source": [
    "# Calculate transfers, premiums, costs, and reinsurance (if individual group) per member month\n",
    "def calculate_pmm(df, df_labels, group):\n",
    "    df[\"MM\"] = df[df_labels[5]]\n",
    "    df[\"Transfers\"] = df[df_labels[2]]\n",
    "    df[\"TotalCosts\"] = abs(df[df_labels[4]])\n",
    "    df[\"Enrollees\"] = df[\"MM\"] / 12\n",
    "    df[\"TransfersPerEnrollee\"] = df[\"Transfers\"] / df[\"Enrollees\"]\n",
    "    df[\"TransfersPerSqrtEnrollee\"] = df[\"Transfers\"] / np.sqrt(df[\"Enrollees\"])\n",
    "    df[\"LogEnrollees\"] = np.log(df[\"Enrollees\"])\n",
    "    df[\"LogTransfers\"] = np.log(df[\"Transfers\"]**2 + 1)\n",
    "    df[\"TransfersPMM\"] = df[df_labels[2]] / df[df_labels[5]]\n",
    "    df[\"PremiumsPMM\"] = abs(df[df_labels[3]] / df[df_labels[5]])\n",
    "    df[\"CostsPMM\"] = abs(df[df_labels[4]] / df[df_labels[5]])\n",
    "    if group == \"i\":\n",
    "        df[\"ReinsurancePMM\"] = df[df_labels[7]] / df[df_labels[5]]\n",
    "        df[\"ProfitsPMM\"] = df[\"PremiumsPMM\"] - df[\"CostsPMM\"] + df[\"TransfersPMM\"] + df[\"ReinsurancePMM\"]\n",
    "        #df[\"PremMinusCostsPlusReinsurancePMM\"] = df[\"PremiumsPMM\"] - df[\"CostsPMM\"] + df[\"ReinsurancePMM\"]\n",
    "    elif group == \"sg\":\n",
    "        df[\"ProfitsPMM\"] = df[\"PremiumsPMM\"] - df[\"CostsPMM\"] + df[\"TransfersPMM\"]\n",
    "    df[\"PremMinusCostsPMM\"] = df[\"PremiumsPMM\"] - df[\"CostsPMM\"]\n",
    "    df[\"PremMinusCostsPlusTransfersPMM\"] = df[\"PremiumsPMM\"] - df[\"CostsPMM\"] + df[\"TransfersPMM\"]\n",
    "    df[\"SicknessPMM\"] = df[\"CostsPMM\"] - df[\"PremiumsPMM\"]\n",
    "    average_sickness = np.mean(df[\"SicknessPMM\"])\n",
    "    df[\"ExcessSicknessPMM\"] = df[\"SicknessPMM\"] - average_sickness\n",
    "    return df\n",
    "\n",
    "ind_data_14 = calculate_pmm(ind_data_14, ind_labels_14, \"i\")\n",
    "ind_data_15 = calculate_pmm(ind_data_15, ind_labels_15, \"i\")\n",
    "ind_data_16 = calculate_pmm(ind_data_16, ind_labels_16, \"i\")\n",
    "ind_data_17 = calculate_pmm(ind_data_17, ind_labels_17, \"sg\")\n",
    "sg_data_14 = calculate_pmm(sg_data_14, sg_labels_14, \"sg\")\n",
    "sg_data_15 = calculate_pmm(sg_data_15, sg_labels_15, \"sg\")\n",
    "sg_data_16 = calculate_pmm(sg_data_16, sg_labels_16, \"sg\")\n",
    "sg_data_17 = calculate_pmm(sg_data_17, sg_labels_17, \"sg\")"
   ]
  },
  {
   "cell_type": "code",
   "execution_count": 7,
   "metadata": {},
   "outputs": [],
   "source": [
    "# Combine the dataframes by left merging\n",
    "\n",
    "ind_data = ind_data_14.merge(ind_data_15, on='HIOS ID', how='outer', suffixes=('_14', '_15'))\\\n",
    ".merge(ind_data_16, on='HIOS ID', how='outer').merge(ind_data_17, on='HIOS ID', how='outer', suffixes=('_16', '_17'))"
   ]
  },
  {
   "cell_type": "code",
   "execution_count": 8,
   "metadata": {},
   "outputs": [],
   "source": [
    "# Do the same thing for small group\n",
    "\n",
    "sg_data = sg_data_14.merge(sg_data_15, on='HIOS ID', how='outer', suffixes=('_14', '_15'))\\\n",
    ".merge(sg_data_16, on='HIOS ID', how='outer').merge(sg_data_17, on='HIOS ID', how='outer', suffixes=('_16', '_17'))"
   ]
  },
  {
   "cell_type": "code",
   "execution_count": 9,
   "metadata": {},
   "outputs": [],
   "source": [
    "states = list(set(sg_data_14[\"STATE\"]))\n",
    "dfs = [sg_data_14, sg_data_15, sg_data_16, sg_data_17]"
   ]
  },
  {
   "cell_type": "code",
   "execution_count": 10,
   "metadata": {},
   "outputs": [
    {
     "name": "stdout",
     "output_type": "stream",
     "text": [
      "Cbar is 4398.953\n",
      "AK 14 Ratio is 0.763\n",
      "FL 14 Ratio is 1.199\n",
      "RI 14 Ratio is 1.009\n",
      "GA 14 Ratio is 1.260\n",
      "CO 14 Ratio is 1.203\n",
      "SD 14 Ratio is 1.155\n",
      "DE 14 Ratio is 1.153\n",
      "MS 14 Ratio is 1.361\n",
      "NJ 14 Ratio is 1.173\n",
      "WY 14 Ratio is 1.016\n",
      "NM 14 Ratio is 1.142\n",
      "NY 14 Ratio is 0.973\n",
      "TN 14 Ratio is 1.447\n",
      "TX 14 Ratio is 1.184\n",
      "NE 14 Ratio is 1.265\n",
      "ND 14 Ratio is 1.202\n",
      "PA 14 Ratio is 1.105\n",
      "LA 14 Ratio is 1.184\n",
      "VA 14 Ratio is 1.250\n",
      "MI 14 Ratio is 1.308\n",
      "MD 14 Ratio is 1.238\n",
      "CT 14 Ratio is 0.990\n",
      "MN 14 Ratio is 1.182\n",
      "WV 14 Ratio is 1.032\n",
      "AL 14 Ratio is 1.156\n",
      "AR 14 Ratio is 1.473\n",
      "ID 14 Ratio is 1.484\n",
      "MO 14 Ratio is 1.414\n",
      "OH 14 Ratio is 1.264\n",
      "WA 14 Ratio is 1.199\n",
      "AZ 14 Ratio is 1.497\n",
      "ME 14 Ratio is 1.188\n",
      "IN 14 Ratio is 1.261\n",
      "WI 14 Ratio is 1.127\n",
      "KY 14 Ratio is 1.389\n",
      "HI 14 Ratio is 1.175\n",
      "CA 14 Ratio is 1.154\n",
      "IL 14 Ratio is 1.083\n",
      "MT 14 Ratio is 1.184\n",
      "KS 14 Ratio is 1.392\n",
      "NV 14 Ratio is 1.365\n",
      "OR 14 Ratio is 1.208\n",
      "UT 14 Ratio is 1.628\n",
      "NC 14 Ratio is 1.254\n",
      "NH 14 Ratio is 1.061\n",
      "SC 14 Ratio is 1.115\n",
      "DC 14 Ratio is 1.139\n",
      "IA 14 Ratio is 1.318\n",
      "OK 14 Ratio is 1.244\n",
      "AK 15 Ratio is 0.709\n",
      "FL 15 Ratio is 1.162\n",
      "RI 15 Ratio is 1.077\n",
      "GA 15 Ratio is 1.199\n",
      "CO 15 Ratio is 1.185\n",
      "SD 15 Ratio is 1.096\n",
      "DE 15 Ratio is 1.217\n",
      "MS 15 Ratio is 1.305\n",
      "NJ 15 Ratio is 1.009\n",
      "WY 15 Ratio is 0.973\n",
      "NM 15 Ratio is 1.108\n",
      "NY 15 Ratio is 0.896\n",
      "TN 15 Ratio is 1.385\n",
      "TX 15 Ratio is 1.086\n",
      "NE 15 Ratio is 1.189\n",
      "ND 15 Ratio is 1.096\n",
      "PA 15 Ratio is 1.072\n",
      "LA 15 Ratio is 1.080\n",
      "VA 15 Ratio is 1.269\n",
      "MI 15 Ratio is 1.250\n",
      "MD 15 Ratio is 1.269\n",
      "CT 15 Ratio is 0.977\n",
      "MN 15 Ratio is 1.156\n",
      "WV 15 Ratio is 1.052\n",
      "AL 15 Ratio is 1.097\n",
      "AR 15 Ratio is 1.407\n",
      "ID 15 Ratio is 1.432\n",
      "MO 15 Ratio is 1.282\n",
      "OH 15 Ratio is 1.191\n",
      "WA 15 Ratio is 1.156\n",
      "AZ 15 Ratio is 1.404\n",
      "ME 15 Ratio is 1.184\n",
      "IN 15 Ratio is 1.177\n",
      "WI 15 Ratio is 1.099\n",
      "KY 15 Ratio is 1.298\n",
      "HI 15 Ratio is 1.086\n",
      "CA 15 Ratio is 1.117\n",
      "IL 15 Ratio is 1.040\n",
      "MT 15 Ratio is 1.100\n",
      "KS 15 Ratio is 1.229\n",
      "NV 15 Ratio is 1.302\n",
      "OR 15 Ratio is 1.138\n",
      "UT 15 Ratio is 1.511\n",
      "NC 15 Ratio is 1.180\n",
      "NH 15 Ratio is 1.041\n",
      "SC 15 Ratio is 1.056\n",
      "DC 15 Ratio is 1.118\n",
      "IA 15 Ratio is 1.274\n",
      "OK 15 Ratio is 1.142\n",
      "AK 16 Ratio is 0.641\n",
      "FL 16 Ratio is 1.112\n",
      "RI 16 Ratio is 0.987\n",
      "GA 16 Ratio is 1.099\n",
      "CO 16 Ratio is 1.176\n",
      "SD 16 Ratio is 1.023\n",
      "DE 16 Ratio is 1.095\n",
      "MS 16 Ratio is 1.234\n",
      "NJ 16 Ratio is 0.923\n",
      "WY 16 Ratio is 0.897\n",
      "NM 16 Ratio is 0.971\n",
      "NY 16 Ratio is 0.862\n",
      "TN 16 Ratio is 1.252\n",
      "TX 16 Ratio is 1.003\n",
      "NE 16 Ratio is 1.145\n",
      "ND 16 Ratio is 1.058\n",
      "PA 16 Ratio is 1.026\n",
      "LA 16 Ratio is 1.062\n",
      "VA 16 Ratio is 1.116\n",
      "MI 16 Ratio is 1.195\n",
      "MD 16 Ratio is 1.216\n",
      "CT 16 Ratio is 0.880\n",
      "MN 16 Ratio is 1.052\n",
      "WV 16 Ratio is 0.950\n",
      "AL 16 Ratio is 1.070\n",
      "AR 16 Ratio is 1.305\n",
      "ID 16 Ratio is 1.316\n",
      "MO 16 Ratio is 1.195\n",
      "OH 16 Ratio is 1.107\n",
      "WA 16 Ratio is 1.134\n",
      "AZ 16 Ratio is 1.325\n",
      "ME 16 Ratio is 1.116\n",
      "IN 16 Ratio is 1.080\n",
      "WI 16 Ratio is 1.053\n",
      "KY 16 Ratio is 1.197\n",
      "HI 16 Ratio is 1.044\n",
      "CA 16 Ratio is 1.051\n",
      "IL 16 Ratio is 0.997\n",
      "MT 16 Ratio is 1.148\n",
      "KS 16 Ratio is 1.138\n",
      "NV 16 Ratio is 1.286\n",
      "OR 16 Ratio is 1.078\n",
      "UT 16 Ratio is 1.450\n",
      "NC 16 Ratio is 1.177\n",
      "NH 16 Ratio is 0.986\n",
      "SC 16 Ratio is 0.995\n",
      "DC 16 Ratio is 1.051\n",
      "IA 16 Ratio is 1.217\n",
      "OK 16 Ratio is 1.136\n",
      "AK 17 Ratio is 0.650\n",
      "FL 17 Ratio is 1.046\n",
      "RI 17 Ratio is 0.922\n",
      "GA 17 Ratio is 1.041\n",
      "CO 17 Ratio is 1.100\n",
      "SD 17 Ratio is 0.972\n",
      "DE 17 Ratio is 0.953\n",
      "MS 17 Ratio is 1.164\n",
      "NJ 17 Ratio is 0.852\n",
      "WY 17 Ratio is 0.926\n",
      "NM 17 Ratio is 0.945\n",
      "NY 17 Ratio is 0.782\n",
      "TN 17 Ratio is 1.261\n",
      "TX 17 Ratio is 0.976\n",
      "NE 17 Ratio is 1.087\n",
      "ND 17 Ratio is 1.055\n",
      "PA 17 Ratio is 0.920\n",
      "LA 17 Ratio is 1.031\n",
      "VA 17 Ratio is 1.055\n",
      "MI 17 Ratio is 1.171\n",
      "MD 17 Ratio is 1.150\n",
      "CT 17 Ratio is 0.864\n",
      "MN 17 Ratio is 0.995\n",
      "WV 17 Ratio is 0.934\n",
      "AL 17 Ratio is 1.064\n",
      "AR 17 Ratio is 1.236\n",
      "ID 17 Ratio is 1.279\n",
      "MO 17 Ratio is 1.154\n",
      "OH 17 Ratio is 1.047\n",
      "WA 17 Ratio is 1.115\n",
      "AZ 17 Ratio is 1.271\n",
      "ME 17 Ratio is 1.074\n",
      "IN 17 Ratio is 1.034\n",
      "WI 17 Ratio is 1.005\n",
      "KY 17 Ratio is 1.110\n",
      "HI 17 Ratio is 0.977\n",
      "CA 17 Ratio is 1.015\n",
      "IL 17 Ratio is 0.944\n",
      "MT 17 Ratio is 1.081\n",
      "KS 17 Ratio is 1.019\n",
      "NV 17 Ratio is 1.270\n",
      "OR 17 Ratio is 1.062\n",
      "UT 17 Ratio is 1.391\n",
      "NC 17 Ratio is 1.025\n",
      "NH 17 Ratio is 0.928\n",
      "SC 17 Ratio is 0.954\n",
      "DC 17 Ratio is 0.989\n",
      "IA 17 Ratio is 1.257\n",
      "OK 17 Ratio is 1.136\n",
      "Empirical Transfers Sum = 8623923274.476\n"
     ]
    }
   ],
   "source": [
    "dfs_new = normalize_empirical_data_to_avg_2017_dollars(dfs, states)"
   ]
  },
  {
   "cell_type": "code",
   "execution_count": 11,
   "metadata": {},
   "outputs": [],
   "source": [
    "for df_temp in dfs_new:\n",
    "    df_temp[\"TransfersNormalizedPerSqrtEnrollee\"] = df_temp[\"TransfersNormalized\"] / np.sqrt(df_temp[\"Enrollees\"])"
   ]
  },
  {
   "cell_type": "code",
   "execution_count": 12,
   "metadata": {},
   "outputs": [
    {
     "name": "stdout",
     "output_type": "stream",
     "text": [
      "1966\n",
      "1966\n"
     ]
    }
   ],
   "source": [
    "stateyear_to_df = dict()\n",
    "stateyear_to_random = dict()\n",
    "    \n",
    "cost_matrix_sum = 0\n",
    "df_sum = 0\n",
    "for current_state in states:\n",
    "    for df_index in range(4):\n",
    "        label = current_state + df_index_to_year[df_index]\n",
    "        this_df = state(dfs[df_index], current_state)\n",
    "        if len(this_df) > 0:\n",
    "            sum_n = sum(this_df[\"Enrollees\"])\n",
    "            this_df[\"sum_n_minus_n_i\"] = sum_n - this_df[\"Enrollees\"]\n",
    "            this_df[\"a\"] = this_df[\"Enrollees\"] * (this_df[\"sum_n_minus_n_i\"] / sum_n)**2 + this_df[\"sum_n_minus_n_i\"] * (this_df[\"Enrollees\"] / sum_n)**2\n",
    "            this_df[\"sqrt_a\"] = np.sqrt(this_df[\"a\"])\n",
    "            \n",
    "            cost_matrix = [np.random.normal(0, sqrta, 10**5) for sqrta in this_df[\"sqrt_a\"]]\n",
    "            cost_matrix_sum = cost_matrix_sum + len(cost_matrix)\n",
    "            df_sum = df_sum + len(this_df[\"sqrt_a\"])\n",
    "            #this_df[\"sim_distr\"] = np.random.normal(0, this_df[\"sqrt_a\"], 10000)\n",
    "            stateyear_to_df[label] = this_df\n",
    "            stateyear_to_random[label] = np.array(cost_matrix)\n",
    "        \n",
    "print(cost_matrix_sum)\n",
    "print(df_sum)"
   ]
  },
  {
   "cell_type": "code",
   "execution_count": null,
   "metadata": {},
   "outputs": [],
   "source": []
  },
  {
   "cell_type": "code",
   "execution_count": 13,
   "metadata": {},
   "outputs": [
    {
     "data": {
      "text/plain": [
       "array([ 60.46114904, -25.20481897, -44.62242263,   6.5803348 ,\n",
       "       109.65825775,   3.01699705, 294.20691462])"
      ]
     },
     "execution_count": 13,
     "metadata": {},
     "output_type": "execute_result"
    }
   ],
   "source": [
    "np.array(cost_matrix)[:,10000]"
   ]
  },
  {
   "cell_type": "code",
   "execution_count": 14,
   "metadata": {},
   "outputs": [
    {
     "name": "stdout",
     "output_type": "stream",
     "text": [
      "1616.3923540851752\n"
     ]
    }
   ],
   "source": [
    "lab = \"TransfersNormalizedPerSqrtEnrollee\"\n",
    "\n",
    "\n",
    "abs_empirical_transfers = np.absolute(np.concatenate((np.array(dfs_new[0][lab]),\n",
    "                                                    np.array(dfs_new[1][lab]),\n",
    "                                                    np.array(dfs_new[2][lab]),\n",
    "                                                    np.array(dfs_new[3][lab]))))\n",
    "sorted_abs_empirical_transfers = np.sort(abs_empirical_transfers)\n",
    "\n",
    "percentile_idx = int(len(sorted_abs_empirical_transfers) * 0.1)\n",
    "p10empirical = sorted_abs_empirical_transfers[percentile_idx]\n",
    "print(p10empirical)"
   ]
  },
  {
   "cell_type": "code",
   "execution_count": 15,
   "metadata": {},
   "outputs": [
    {
     "name": "stdout",
     "output_type": "stream",
     "text": [
      "{0: ['ME', 'IL', 'PA', 'GA', 'OK', 'DE', 'WA', 'CT', 'OH', 'VA', 'NE', 'MT', 'IN', 'CA', 'HI', 'ND', 'MD', 'SC', 'RI', 'AK', 'KY', 'WI', 'LA', 'MN', 'MS', 'WV', 'FL'], 1: ['SD', 'IL', 'PA', 'NH', 'NM', 'NV', 'OK', 'UT', 'CT', 'OH', 'VA', 'OR', 'CO', 'IN', 'HI', 'AL', 'RI', 'AK', 'LA', 'MN', 'IA', 'AR', 'WV'], 2: ['MI', 'ME', 'WY', 'DC', 'TX', 'AZ', 'NC', 'WA', 'OR', 'CO', 'MT', 'ND', 'TN', 'SC', 'AL', 'NY', 'KY', 'NJ', 'KS', 'ID', 'IA', 'AR', 'MO'], 3: ['MI', 'SD', 'WY', 'NH', 'DC', 'TX', 'GA', 'AZ', 'NM', 'NC', 'NV', 'DE', 'UT', 'NE', 'CA', 'MD', 'TN', 'NY', 'NJ', 'KS', 'WI', 'ID', 'MS', 'FL', 'MO']}\n",
      "{0: ['MI', 'SD', 'WY', 'NH', 'DC', 'TX', 'AZ', 'NM', 'NC', 'NV', 'UT', 'OR', 'CO', 'TN', 'AL', 'NY', 'NJ', 'KS', 'ID', 'IA', 'AR', 'MO'], 1: ['MI', 'ME', 'WY', 'DC', 'TX', 'GA', 'AZ', 'NC', 'DE', 'WA', 'NE', 'MT', 'CA', 'ND', 'MD', 'TN', 'SC', 'NY', 'KY', 'NJ', 'KS', 'WI', 'ID', 'MS', 'FL', 'MO'], 2: ['SD', 'IL', 'PA', 'NH', 'GA', 'NM', 'NV', 'OK', 'DE', 'UT', 'CT', 'OH', 'VA', 'NE', 'IN', 'CA', 'HI', 'MD', 'RI', 'AK', 'WI', 'LA', 'MN', 'MS', 'WV', 'FL'], 3: ['ME', 'IL', 'PA', 'OK', 'WA', 'CT', 'OH', 'VA', 'OR', 'CO', 'MT', 'IN', 'HI', 'ND', 'SC', 'AL', 'RI', 'AK', 'KY', 'LA', 'MN', 'IA', 'AR', 'WV']}\n",
      "0 iterations completed in 0.5 s\n",
      "10000 iterations completed in 2866.2 s\n",
      "20000 iterations completed in 2858.1 s\n",
      "30000 iterations completed in 2864.3 s\n",
      "40000 iterations completed in 2861.8 s\n",
      "50000 iterations completed in 2866.5 s\n",
      "60000 iterations completed in 2873.2 s\n",
      "70000 iterations completed in 2870.0 s\n",
      "80000 iterations completed in 2871.5 s\n",
      "90000 iterations completed in 2865.5 s\n",
      "[ 7928.12179536  8016.38772961  8043.74901029 ... 14083.81487943\n",
      " 14092.69495133 14443.75148815]\n",
      "q10 = 9228.243\n",
      "Sum sqrt(a) = 0.000\n"
     ]
    }
   ],
   "source": [
    "%run StatTest2_WithSimulation_Setup.ipynb\n",
    "\n",
    "beta = 100000\n",
    "k = len(sorted_abs_empirical_transfers)\n",
    "q10, at3, _ = apr_test_imbalances_2017(stateyear_to_df, stateyear_to_random, beta, k, 0.1, 0.01)"
   ]
  },
  {
   "cell_type": "code",
   "execution_count": 17,
   "metadata": {},
   "outputs": [
    {
     "data": {
      "text/plain": [
       "17515.70997534238"
      ]
     },
     "execution_count": 17,
     "metadata": {},
     "output_type": "execute_result"
    }
   ],
   "source": [
    "p10empirical * 100000 / q10"
   ]
  },
  {
   "cell_type": "code",
   "execution_count": 18,
   "metadata": {},
   "outputs": [],
   "source": [
    "df2 = create_df2(states, dfs_new, \"TransfersNormalizedPerSqrtEnrollee\")\n",
    "k = len(df2)\n",
    "v = np.linspace(0, max(abs(df2)), 10000)\n",
    "v = v[1:len(v)]\n",
    "\n",
    "ratios = [ratio_list(df2, vi) for vi in v]\n",
    "#print(ratios)\n",
    "begin_p = 5/k\n",
    "end_p = 1-begin_p\n",
    "start_index = 0\n",
    "end_index = 0\n",
    "for index, ratio2 in enumerate(ratios):\n",
    "    if ratio2 >= begin_p:\n",
    "        start_index = index\n",
    "        break\n",
    "    \n",
    "for index, ratio2 in enumerate(ratios):\n",
    "    if ratio2 > end_p:\n",
    "        end_index = index\n",
    "        break\n",
    "\n",
    "if end_index == 0:\n",
    "    end_index = len(v) - 1\n",
    "    \n",
    "v = v[start_index:end_index]\n",
    "\n",
    "ratios2 = ratios[start_index:end_index]\n",
    "#multiplier = [np.sqrt(2)/vi for vi in v]\n",
    "ratios_sim1 = [ratio_list(at3[0] * final_beta / 100000, vi) for vi in v]\n",
    "ratios_sim2 = [ratio_list(at3[1] * final_beta / 100000, vi) for vi in v]\n",
    "ratios_sim3 = [ratio_list(at3[2] * final_beta / 100000, vi) for vi in v]"
   ]
  },
  {
   "cell_type": "code",
   "execution_count": 19,
   "metadata": {},
   "outputs": [
    {
     "name": "stdout",
     "output_type": "stream",
     "text": [
      "final_beta = 17515\n",
      "Beta (=std): 17515\n",
      "Number of T/sqrt(n) above 2 stds: 374\n",
      "Proportion of T/sqrt(n) above 2 stds: 0.190\n",
      "P value = 0.000000\n"
     ]
    }
   ],
   "source": [
    "final_beta = p10empirical * 100000 / q10\n",
    "\n",
    "print(\"final_beta = %d\" % (final_beta))\n",
    "run_binom_stat_test2(final_beta, df2.values)"
   ]
  },
  {
   "cell_type": "code",
   "execution_count": 20,
   "metadata": {},
   "outputs": [
    {
     "data": {
      "text/plain": [
       "<matplotlib.legend.Legend at 0x1c24365898>"
      ]
     },
     "execution_count": 20,
     "metadata": {},
     "output_type": "execute_result"
    },
    {
     "data": {
      "image/png": "[encoded data removed]",
      "text/plain": [
       "<Figure size 720x504 with 1 Axes>"
      ]
     },
     "metadata": {},
     "output_type": "display_data"
    }
   ],
   "source": [
    "states_label = \"All States\"\n",
    "plt.figure(figsize=(10, 7))\n",
    "plt.plot(v, ratios_sim1, label=\"Sample Simulation 1\", color='b')\n",
    "plt.plot(v, ratios_sim2, label=\"Sample Simulation 2\", color='c')\n",
    "plt.plot(v, ratios_sim3, label=\"Sample Simulation 3\", color='cornflowerblue')\n",
    "plt.plot(v, ratios2, label=\"P(|d_i|<v) (empirical)\", color='darkorange')\n",
    "plt.title(\"Simulation with beta=%d and P(|d_i|<v) vs. v for %s 2014-2017 (k=%d)\" % (final_beta, states_label, len(df2)))\n",
    "plt.axhline(y=0.1, color='g', linestyle='--')\n",
    "plt.legend()\n",
    "#print(\"beta = %.3f\" % (max_beta))y eye"
   ]
  },
  {
   "cell_type": "code",
   "execution_count": 21,
   "metadata": {},
   "outputs": [
    {
     "data": {
      "text/plain": [
       "(0, 10000)"
      ]
     },
     "execution_count": 21,
     "metadata": {},
     "output_type": "execute_result"
    },
    {
     "data": {
      "image/png": "[encoded data removed]",
      "text/plain": [
       "<Figure size 720x504 with 1 Axes>"
      ]
     },
     "metadata": {},
     "output_type": "display_data"
    }
   ],
   "source": [
    "states_label = \"All States\"\n",
    "plt.figure(figsize=(10, 7))\n",
    "plt.plot(v, ratios_sim1, label=\"Sample Simulation 1\", color='b')\n",
    "plt.plot(v, ratios_sim2, label=\"Sample Simulation 2\", color='c')\n",
    "plt.plot(v, ratios_sim3, label=\"Sample Simulation 3\", color='cornflowerblue')\n",
    "plt.plot(v, ratios2, label=\"P(|d_i|<v) (empirical)\", color='darkorange')\n",
    "plt.title(\"Simulation with beta=%d and P(|d_i|<v) vs. v for %s 2014-2017 (k=%d)\" % (final_beta, states_label, len(df2)))\n",
    "plt.axhline(y=0.1, color='g', linestyle='--')\n",
    "plt.legend()\n",
    "plt.xlim((0, 10000))"
   ]
  },
  {
   "cell_type": "code",
   "execution_count": 22,
   "metadata": {},
   "outputs": [
    {
     "name": "stdout",
     "output_type": "stream",
     "text": [
      "final_beta = 17515\n",
      "Beta (=std): 17515\n",
      "Number of T/sqrt(n) above 2 stds: 374\n",
      "Proportion of T/sqrt(n) above 2 stds: 0.190\n",
      "P value = 0.000000\n"
     ]
    }
   ],
   "source": [
    "final_beta = p10empirical * 100000 / q10\n",
    "\n",
    "print(\"final_beta = %d\" % (final_beta))\n",
    "run_binom_stat_test2(final_beta, df2.values)"
   ]
  },
  {
   "cell_type": "code",
   "execution_count": null,
   "metadata": {},
   "outputs": [],
   "source": []
  }
 ],
 "metadata": {
  "kernelspec": {
   "display_name": "Python 3",
   "language": "python",
   "name": "python3"
  },
  "language_info": {
   "codemirror_mode": {
    "name": "ipython",
    "version": 3
   },
   "file_extension": ".py",
   "mimetype": "text/x-python",
   "name": "python",
   "nbconvert_exporter": "python",
   "pygments_lexer": "ipython3",
   "version": "3.6.5"
  }
 },
 "nbformat": 4,
 "nbformat_minor": 2
}
