{
 "cells": [
  {
   "cell_type": "code",
   "execution_count": 1,
   "metadata": {},
   "outputs": [],
   "source": [
    "%run StatTest2_WithSimulation_Setup.ipynb"
   ]
  },
  {
   "cell_type": "code",
   "execution_count": 2,
   "metadata": {
    "scrolled": true
   },
   "outputs": [
    {
     "name": "stderr",
     "output_type": "stream",
     "text": [
      "/anaconda3/lib/python3.6/site-packages/IPython/core/interactiveshell.py:2785: DtypeWarning: Columns (1,2,52,323,649,882,932,1092,1202) have mixed types. Specify dtype option on import or set low_memory=False.\n",
      "  interactivity=interactivity, compiler=compiler, result=result)\n",
      "/anaconda3/lib/python3.6/site-packages/IPython/core/interactiveshell.py:2785: DtypeWarning: Columns (1,2,57,204,341,376,377,396,430,431,928,944,1006,1013,1151,1160,1169,1179,1411) have mixed types. Specify dtype option on import or set low_memory=False.\n",
      "  interactivity=interactivity, compiler=compiler, result=result)\n",
      "/anaconda3/lib/python3.6/site-packages/IPython/core/interactiveshell.py:2785: DtypeWarning: Columns (1,2,17,163,355,406,702,835,847,1083,1156,1183,1185,1200) have mixed types. Specify dtype option on import or set low_memory=False.\n",
      "  interactivity=interactivity, compiler=compiler, result=result)\n"
     ]
    }
   ],
   "source": [
    "data2014 = pd.read_csv(\"Our_Dataset/2014dataset.csv\")\n",
    "data2015 = pd.read_csv(\"Our_Dataset/2015dataset.csv\")\n",
    "data2016 = pd.read_csv(\"Our_Dataset/2016dataset.csv\")\n",
    "data2017 = pd.read_csv(\"Our_Dataset/2017dataset.csv\")"
   ]
  },
  {
   "cell_type": "code",
   "execution_count": 3,
   "metadata": {},
   "outputs": [],
   "source": [
    "# Create the labels.\n",
    "# By index:\n",
    "# label 2 is transfers\n",
    "# label 3 is premiums\n",
    "# label 4 is costs\n",
    "# label 5 is member months\n",
    "# label 6 is reinsurance (individual group only)\n",
    "\n",
    "ind_labels_14 = [\"HIOS ID\", \"HIOS INPUTTED INSURANCE COMPANY NAME\",\n",
    "                  \"HHS RISK ADJUSTMENT TRANSFER AMOUNT (INDIVIDUAL MARKET, INCLUDING CATASTROPHIC)\",\n",
    "                  \"1.1Directpremiumwritten2HealthInsuranceINDIVIDUALTotalasof3/31/15\",\n",
    "                  \"2.16Totalincurredclaims2HealthInsuranceINDIVIDUALTotalasof3/31/15\",\n",
    "                  \"7.4Membermonths2HealthInsuranceINDIVIDUALTotalasof3/31/15\",\n",
    "                  \"STATE\", \"REINSURANCE PAYMENT AMOUNT (OR NOT ELIGIBLE)\"] # no more reinsurance as of 2017\n",
    "ind_labels_15 = [label.replace('15', '16') for label in ind_labels_14]\n",
    "ind_labels_16 = [label.replace('15', '17') for label in ind_labels_14]\n",
    "ind_labels_17 = [label.replace('15', '18') for label in ind_labels_14][:-1]\n",
    "\n",
    "sg_labels_14 = [\"HIOS ID\", \"HIOS INPUTTED INSURANCE COMPANY NAME\",\n",
    "                 \"HHS RISK ADJUSTMENT TRANSFERS AMOUNT (SMALL GROUP MARKET)\",\n",
    "                  \"1.1Directpremiumwritten7HealthInsuranceSMALLGROUPTotalasof3/31/15\",\n",
    "                  \"2.16Totalincurredclaims7HealthInsuranceSMALLGROUPTotalasof3/31/15\",\n",
    "                  \"7.4Membermonths7HealthInsuranceSMALLGROUPTotalasof3/31/15\", \"STATE\"]\n",
    "sg_labels_15 = [label.replace('15', '16') for label in sg_labels_14]\n",
    "sg_labels_16 = [label.replace('15', '17') for label in sg_labels_14]\n",
    "sg_labels_17 = [label.replace('15', '18') for label in sg_labels_14]"
   ]
  },
  {
   "cell_type": "code",
   "execution_count": 4,
   "metadata": {},
   "outputs": [],
   "source": [
    "# Filter the data to include only the fields we want\n",
    "\n",
    "ind_data_14 = data2014[ind_labels_14].dropna()\n",
    "ind_data_15 = data2015[ind_labels_15].dropna()\n",
    "ind_data_16 = data2016[ind_labels_16].dropna()\n",
    "ind_data_17 = data2017[ind_labels_17].dropna()\n",
    "sg_data_14 = data2014[sg_labels_14].dropna()\n",
    "sg_data_15 = data2015[sg_labels_15].dropna()\n",
    "sg_data_16 = data2016[sg_labels_16].dropna()\n",
    "sg_data_17 = data2017[sg_labels_17].dropna()"
   ]
  },
  {
   "cell_type": "code",
   "execution_count": 5,
   "metadata": {},
   "outputs": [],
   "source": [
    "# Drop companies with <2000 MM\n",
    "ind_data_14 = ind_data_14.where(ind_data_14[ind_labels_14[5]] > 2000).dropna()\n",
    "ind_data_15 = ind_data_15.where(ind_data_15[ind_labels_15[5]] > 2000).dropna()\n",
    "ind_data_16 = ind_data_16.where(ind_data_16[ind_labels_16[5]] > 2000).dropna()\n",
    "ind_data_17 = ind_data_17.where(ind_data_17[ind_labels_17[5]] > 2000).dropna()\n",
    "sg_data_14 = sg_data_14.where(sg_data_14[sg_labels_14[5]] > 2000).dropna()\n",
    "sg_data_15 = sg_data_15.where(sg_data_15[sg_labels_15[5]] > 2000).dropna()\n",
    "sg_data_16 = sg_data_16.where(sg_data_16[sg_labels_16[5]] > 2000).dropna()\n",
    "sg_data_17 = sg_data_17.where(sg_data_17[sg_labels_17[5]] > 2000).dropna()"
   ]
  },
  {
   "cell_type": "code",
   "execution_count": 6,
   "metadata": {},
   "outputs": [],
   "source": [
    "# Calculate transfers, premiums, costs, and reinsurance (if individual group) per member month\n",
    "def calculate_pmm(df, df_labels, group):\n",
    "    df[\"MM\"] = df[df_labels[5]]\n",
    "    df[\"Transfers\"] = df[df_labels[2]]\n",
    "    df[\"Enrollees\"] = df[\"MM\"] / 12\n",
    "    df[\"TransfersPerEnrollee\"] = df[\"Transfers\"] / df[\"Enrollees\"]\n",
    "    df[\"TransfersPerSqrtEnrollee\"] = df[\"Transfers\"] / np.sqrt(df[\"Enrollees\"])\n",
    "    df[\"LogEnrollees\"] = np.log(df[\"Enrollees\"])\n",
    "    df[\"LogTransfers\"] = np.log(df[\"Transfers\"]**2 + 1)\n",
    "    df[\"TransfersPMM\"] = df[df_labels[2]] / df[df_labels[5]]\n",
    "    df[\"PremiumsPMM\"] = abs(df[df_labels[3]] / df[df_labels[5]])\n",
    "    df[\"CostsPMM\"] = abs(df[df_labels[4]] / df[df_labels[5]])\n",
    "    if group == \"i\":\n",
    "        df[\"ReinsurancePMM\"] = df[df_labels[7]] / df[df_labels[5]]\n",
    "        df[\"ProfitsPMM\"] = df[\"PremiumsPMM\"] - df[\"CostsPMM\"] + df[\"TransfersPMM\"] + df[\"ReinsurancePMM\"]\n",
    "        #df[\"PremMinusCostsPlusReinsurancePMM\"] = df[\"PremiumsPMM\"] - df[\"CostsPMM\"] + df[\"ReinsurancePMM\"]\n",
    "    elif group == \"sg\":\n",
    "        df[\"ProfitsPMM\"] = df[\"PremiumsPMM\"] - df[\"CostsPMM\"] + df[\"TransfersPMM\"]\n",
    "    df[\"PremMinusCostsPMM\"] = df[\"PremiumsPMM\"] - df[\"CostsPMM\"]\n",
    "    df[\"PremMinusCostsPlusTransfersPMM\"] = df[\"PremiumsPMM\"] - df[\"CostsPMM\"] + df[\"TransfersPMM\"]\n",
    "    df[\"SicknessPMM\"] = df[\"CostsPMM\"] - df[\"PremiumsPMM\"]\n",
    "    average_sickness = np.mean(df[\"SicknessPMM\"])\n",
    "    df[\"ExcessSicknessPMM\"] = df[\"SicknessPMM\"] - average_sickness\n",
    "    return df\n",
    "\n",
    "ind_data_14 = calculate_pmm(ind_data_14, ind_labels_14, \"i\")\n",
    "ind_data_15 = calculate_pmm(ind_data_15, ind_labels_15, \"i\")\n",
    "ind_data_16 = calculate_pmm(ind_data_16, ind_labels_16, \"i\")\n",
    "ind_data_17 = calculate_pmm(ind_data_17, ind_labels_17, \"sg\")\n",
    "sg_data_14 = calculate_pmm(sg_data_14, sg_labels_14, \"sg\")\n",
    "sg_data_15 = calculate_pmm(sg_data_15, sg_labels_15, \"sg\")\n",
    "sg_data_16 = calculate_pmm(sg_data_16, sg_labels_16, \"sg\")\n",
    "sg_data_17 = calculate_pmm(sg_data_17, sg_labels_17, \"sg\")"
   ]
  },
  {
   "cell_type": "code",
   "execution_count": 7,
   "metadata": {},
   "outputs": [],
   "source": [
    "# Combine the dataframes by left merging\n",
    "\n",
    "ind_data = ind_data_14.merge(ind_data_15, on='HIOS ID', how='outer', suffixes=('_14', '_15'))\\\n",
    ".merge(ind_data_16, on='HIOS ID', how='outer').merge(ind_data_17, on='HIOS ID', how='outer', suffixes=('_16', '_17'))"
   ]
  },
  {
   "cell_type": "code",
   "execution_count": 8,
   "metadata": {},
   "outputs": [],
   "source": [
    "# Do the same thing for small group\n",
    "\n",
    "sg_data = sg_data_14.merge(sg_data_15, on='HIOS ID', how='outer', suffixes=('_14', '_15'))\\\n",
    ".merge(sg_data_16, on='HIOS ID', how='outer').merge(sg_data_17, on='HIOS ID', how='outer', suffixes=('_16', '_17'))"
   ]
  },
  {
   "cell_type": "code",
   "execution_count": 9,
   "metadata": {},
   "outputs": [],
   "source": [
    "states = [\"MT\"]\n",
    "dfs = [sg_data_14, sg_data_15, sg_data_16, sg_data_17]"
   ]
  },
  {
   "cell_type": "code",
   "execution_count": 10,
   "metadata": {},
   "outputs": [],
   "source": [
    "df2 = create_df2(states, dfs)"
   ]
  },
  {
   "cell_type": "code",
   "execution_count": 11,
   "metadata": {},
   "outputs": [],
   "source": [
    "k = len(df2)\n",
    "v = np.linspace(0, max(abs(df2)), 10000)\n",
    "v = v[1:len(v)]\n",
    "\n",
    "ratios = [ratio_list(df2, vi) for vi in v]\n",
    "#print(ratios)\n",
    "begin_p = 5/k\n",
    "end_p = 1-begin_p\n",
    "start_index = 0\n",
    "end_index = 0\n",
    "for index, ratio2 in enumerate(ratios):\n",
    "    if ratio2 >= begin_p:\n",
    "        start_index = index\n",
    "        break\n",
    "    \n",
    "for index, ratio2 in enumerate(ratios):\n",
    "    if ratio2 > end_p:\n",
    "        end_index = index\n",
    "        break\n",
    "\n",
    "if end_index == 0:\n",
    "    end_index = len(v) - 1\n",
    "    \n",
    "v = v[start_index:end_index]\n",
    "\n",
    "ratios2 = ratios[start_index:end_index]\n",
    "multiplier = [np.sqrt(2)/vi for vi in v]\n",
    "#plt.plot(v, ratios2)\n",
    "#plt.plot(v, multiplier)"
   ]
  },
  {
   "cell_type": "code",
   "execution_count": 12,
   "metadata": {},
   "outputs": [],
   "source": [
    "y = [multiplier[i] * special.erfinv(ratio2) for i, ratio2 in enumerate(ratios2)]\n",
    "#plt.plot(v, y)\n",
    "#plt.title(\"1/beta vs. v\")\n",
    "beta = [1/yi for yi in y]\n",
    "#plt.plot(v, beta)\n",
    "#plt.axvline(x=64432.69, color='r', linestyle='--', label=\"Point of max difference\")\n",
    "#plt.title(\"beta vs. v\")"
   ]
  },
  {
   "cell_type": "code",
   "execution_count": 13,
   "metadata": {},
   "outputs": [],
   "source": [
    "# Finding the minimum beta\n",
    "# Whenever we reject a beta, we reject all betas greater than that,\n",
    "# so keep pushing beta smaller until we reach max_difference == test_statistic\n",
    "# Run test for larger data sizes (combining states, years)"
   ]
  },
  {
   "cell_type": "code",
   "execution_count": 14,
   "metadata": {},
   "outputs": [],
   "source": [
    "max_beta=max(beta)\n",
    "max_beta = int(max_beta/100)*100"
   ]
  },
  {
   "cell_type": "code",
   "execution_count": 15,
   "metadata": {
    "scrolled": true
   },
   "outputs": [
    {
     "name": "stdout",
     "output_type": "stream",
     "text": [
      "beta = 14900.000\n"
     ]
    },
    {
     "data": {
      "image/png": "[encoded data removed]",
      "text/plain": [
       "<Figure size 432x288 with 1 Axes>"
      ]
     },
     "metadata": {},
     "output_type": "display_data"
    }
   ],
   "source": [
    "theoretical = [special.erf(vi/(max_beta*np.sqrt(2))) for vi in v]\n",
    "\n",
    "plt.plot(v, theoretical, label=\"P(|N(0,beta^2)|<v)\")\n",
    "plt.plot(v, ratios2, label=\"P(|d_i|<v)\")\n",
    "plt.title(\"P(|N(0,beta^2)|<v) and P(|d_i|<v) vs. v for %s 2014-2017 (k=%d)\" % (states, len(df2)))\n",
    "#plt.axvline(x=64432.69, color='r', linestyle='--', label=\"Point of max difference\")\n",
    "plt.legend()\n",
    "print(\"beta = %.3f\" % (max_beta))"
   ]
  },
  {
   "cell_type": "code",
   "execution_count": 16,
   "metadata": {},
   "outputs": [
    {
     "name": "stdout",
     "output_type": "stream",
     "text": [
      "k = 19\n",
      "test_stat at this k = 0.31157\n",
      "\n",
      "At the point of maximum difference with beta = 14900:\n",
      "P(|d_i|<v) = 0.4737\n",
      "P(|N(0,max_beta^2)|<v) = 0.1393\n",
      "Difference = 0.3344\n",
      "\n",
      "\n",
      "\n",
      "\n",
      "At the point of maximum difference with beta = 14900:\n",
      "P(|d_i|<v) = 0.4737\n",
      "P(|N(0,max_beta^2)|<v) = 0.1393\n",
      "Difference = 0.3344\n",
      "\n",
      "\n",
      "\n",
      "\n",
      "At the point of maximum difference with beta = 14800:\n",
      "P(|d_i|<v) = 0.4211\n",
      "P(|N(0,max_beta^2)|<v) = 0.0875\n",
      "Difference = 0.3335\n",
      "\n",
      "\n",
      "\n",
      "\n",
      "At the point of maximum difference with beta = 14700:\n",
      "P(|d_i|<v) = 0.4211\n",
      "P(|N(0,max_beta^2)|<v) = 0.0881\n",
      "Difference = 0.3329\n",
      "\n",
      "\n",
      "\n",
      "\n",
      "At the point of maximum difference with beta = 14600:\n",
      "P(|d_i|<v) = 0.4211\n",
      "P(|N(0,max_beta^2)|<v) = 0.0887\n",
      "Difference = 0.3323\n",
      "\n",
      "\n",
      "\n",
      "\n",
      "At the point of maximum difference with beta = 14500:\n",
      "P(|d_i|<v) = 0.4211\n",
      "P(|N(0,max_beta^2)|<v) = 0.0893\n",
      "Difference = 0.3317\n",
      "\n",
      "\n",
      "\n",
      "\n",
      "At the point of maximum difference with beta = 14400:\n",
      "P(|d_i|<v) = 0.4211\n",
      "P(|N(0,max_beta^2)|<v) = 0.0900\n",
      "Difference = 0.3311\n",
      "\n",
      "\n",
      "\n",
      "\n",
      "At the point of maximum difference with beta = 14300:\n",
      "P(|d_i|<v) = 0.4211\n",
      "P(|N(0,max_beta^2)|<v) = 0.0906\n",
      "Difference = 0.3305\n",
      "\n",
      "\n",
      "\n",
      "\n",
      "At the point of maximum difference with beta = 14200:\n",
      "P(|d_i|<v) = 0.4211\n",
      "P(|N(0,max_beta^2)|<v) = 0.0912\n",
      "Difference = 0.3298\n",
      "\n",
      "\n",
      "\n",
      "\n",
      "At the point of maximum difference with beta = 14100:\n",
      "P(|d_i|<v) = 0.4211\n",
      "P(|N(0,max_beta^2)|<v) = 0.0919\n",
      "Difference = 0.3292\n",
      "\n",
      "\n",
      "\n",
      "\n",
      "At the point of maximum difference with beta = 14000:\n",
      "P(|d_i|<v) = 0.4211\n",
      "P(|N(0,max_beta^2)|<v) = 0.0925\n",
      "Difference = 0.3285\n",
      "\n",
      "\n",
      "\n",
      "\n",
      "At the point of maximum difference with beta = 13900:\n",
      "P(|d_i|<v) = 0.4211\n",
      "P(|N(0,max_beta^2)|<v) = 0.0932\n",
      "Difference = 0.3279\n",
      "\n",
      "\n",
      "\n",
      "\n",
      "At the point of maximum difference with beta = 13800:\n",
      "P(|d_i|<v) = 0.4211\n",
      "P(|N(0,max_beta^2)|<v) = 0.0939\n",
      "Difference = 0.3272\n",
      "\n",
      "\n",
      "\n",
      "\n",
      "At the point of maximum difference with beta = 13700:\n",
      "P(|d_i|<v) = 0.4211\n",
      "P(|N(0,max_beta^2)|<v) = 0.0945\n",
      "Difference = 0.3265\n",
      "\n",
      "\n",
      "\n",
      "\n",
      "At the point of maximum difference with beta = 13600:\n",
      "P(|d_i|<v) = 0.4211\n",
      "P(|N(0,max_beta^2)|<v) = 0.0952\n",
      "Difference = 0.3258\n",
      "\n",
      "\n",
      "\n",
      "\n",
      "At the point of maximum difference with beta = 13500:\n",
      "P(|d_i|<v) = 0.4211\n",
      "P(|N(0,max_beta^2)|<v) = 0.0959\n",
      "Difference = 0.3251\n",
      "\n",
      "\n",
      "\n",
      "\n",
      "At the point of maximum difference with beta = 13400:\n",
      "P(|d_i|<v) = 0.4211\n",
      "P(|N(0,max_beta^2)|<v) = 0.0966\n",
      "Difference = 0.3244\n",
      "\n",
      "\n",
      "\n",
      "\n",
      "At the point of maximum difference with beta = 13300:\n",
      "P(|d_i|<v) = 0.4211\n",
      "P(|N(0,max_beta^2)|<v) = 0.0974\n",
      "Difference = 0.3237\n",
      "\n",
      "\n",
      "\n",
      "\n",
      "At the point of maximum difference with beta = 13200:\n",
      "P(|d_i|<v) = 0.4211\n",
      "P(|N(0,max_beta^2)|<v) = 0.0981\n",
      "Difference = 0.3229\n",
      "\n",
      "\n",
      "\n",
      "\n",
      "At the point of maximum difference with beta = 13100:\n",
      "P(|d_i|<v) = 0.4211\n",
      "P(|N(0,max_beta^2)|<v) = 0.0988\n",
      "Difference = 0.3222\n",
      "\n",
      "\n",
      "\n",
      "\n",
      "At the point of maximum difference with beta = 13000:\n",
      "P(|d_i|<v) = 0.4211\n",
      "P(|N(0,max_beta^2)|<v) = 0.0996\n",
      "Difference = 0.3214\n",
      "\n",
      "\n",
      "\n",
      "\n",
      "At the point of maximum difference with beta = 12900:\n",
      "P(|d_i|<v) = 0.4211\n",
      "P(|N(0,max_beta^2)|<v) = 0.1004\n",
      "Difference = 0.3207\n",
      "\n",
      "\n",
      "\n",
      "\n",
      "At the point of maximum difference with beta = 12800:\n",
      "P(|d_i|<v) = 0.4211\n",
      "P(|N(0,max_beta^2)|<v) = 0.1012\n",
      "Difference = 0.3199\n",
      "\n",
      "\n",
      "\n",
      "\n",
      "At the point of maximum difference with beta = 12700:\n",
      "P(|d_i|<v) = 0.4211\n",
      "P(|N(0,max_beta^2)|<v) = 0.1019\n",
      "Difference = 0.3191\n",
      "\n",
      "\n",
      "\n",
      "\n",
      "At the point of maximum difference with beta = 12600:\n",
      "P(|d_i|<v) = 0.4211\n",
      "P(|N(0,max_beta^2)|<v) = 0.1028\n",
      "Difference = 0.3183\n",
      "\n",
      "\n",
      "\n",
      "\n",
      "At the point of maximum difference with beta = 12500:\n",
      "P(|d_i|<v) = 0.4211\n",
      "P(|N(0,max_beta^2)|<v) = 0.1036\n",
      "Difference = 0.3175\n",
      "\n",
      "\n",
      "\n",
      "\n",
      "At the point of maximum difference with beta = 12400:\n",
      "P(|d_i|<v) = 0.4211\n",
      "P(|N(0,max_beta^2)|<v) = 0.1044\n",
      "Difference = 0.3167\n",
      "\n",
      "\n",
      "\n",
      "\n",
      "At the point of maximum difference with beta = 12300:\n",
      "P(|d_i|<v) = 0.4211\n",
      "P(|N(0,max_beta^2)|<v) = 0.1052\n",
      "Difference = 0.3158\n",
      "\n",
      "\n",
      "\n",
      "\n",
      "At the point of maximum difference with beta = 12200:\n",
      "P(|d_i|<v) = 0.4211\n",
      "P(|N(0,max_beta^2)|<v) = 0.1061\n",
      "Difference = 0.3150\n",
      "\n",
      "\n",
      "\n",
      "\n",
      "At the point of maximum difference with beta = 12100:\n",
      "P(|d_i|<v) = 0.4211\n",
      "P(|N(0,max_beta^2)|<v) = 0.1070\n",
      "Difference = 0.3141\n",
      "\n",
      "\n",
      "\n",
      "\n",
      "At the point of maximum difference with beta = 12000:\n",
      "P(|d_i|<v) = 0.4211\n",
      "P(|N(0,max_beta^2)|<v) = 0.1079\n",
      "Difference = 0.3132\n",
      "\n",
      "\n",
      "\n",
      "\n",
      "At the point of maximum difference with beta = 11900:\n",
      "P(|d_i|<v) = 0.4211\n",
      "P(|N(0,max_beta^2)|<v) = 0.1088\n",
      "Difference = 0.3123\n",
      "\n",
      "\n",
      "\n"
     ]
    }
   ],
   "source": [
    "beta1, Mb_index = run_test_against_theoretical(df2, max_beta, ratios2)"
   ]
  },
  {
   "cell_type": "code",
   "execution_count": 17,
   "metadata": {},
   "outputs": [
    {
     "data": {
      "text/plain": [
       "<matplotlib.legend.Legend at 0x1c1383c400>"
      ]
     },
     "execution_count": 17,
     "metadata": {},
     "output_type": "execute_result"
    },
    {
     "data": {
      "image/png": "[encoded data removed]",
      "text/plain": [
       "<Figure size 432x288 with 1 Axes>"
      ]
     },
     "metadata": {},
     "output_type": "display_data"
    }
   ],
   "source": [
    "beta1 = beta1+100\n",
    "\n",
    "theoretical = [special.erf(vi/(beta1*np.sqrt(2))) for vi in v]\n",
    "\n",
    "plt.plot(v, theoretical, label=\"P(|N(0,beta^2)|<v) beta=%d\" % (beta1))\n",
    "plt.plot(v, ratios2, label=\"P(|d_i|<v)\")\n",
    "plt.title(\"P(|N(0,beta^2)|<v) and P(|d_i|<v) vs. v for %s 2014-2017 (k=%d)\" % (states, len(df2)))\n",
    "plt.axvline(x=v[Mb_index], color='r', linestyle='--', label=\"Point of max difference\")\n",
    "plt.legend()\n",
    "#plt.xlim(0, 50000)\n",
    "#print(\"beta = %.3f\" % (max_beta))"
   ]
  },
  {
   "cell_type": "code",
   "execution_count": 18,
   "metadata": {},
   "outputs": [
    {
     "name": "stdout",
     "output_type": "stream",
     "text": [
      "Beta (=std): 11900\n",
      "Number of T/sqrt(n) above 2 stds: 3\n",
      "Proportion of T/sqrt(n) above 2 stds: 0.158\n",
      "P value = 0.009587\n"
     ]
    }
   ],
   "source": [
    "run_binom_stat_test2(beta1, df2.values)"
   ]
  },
  {
   "cell_type": "code",
   "execution_count": 19,
   "metadata": {},
   "outputs": [],
   "source": [
    "df3 = create_df3(states, dfs)"
   ]
  },
  {
   "cell_type": "code",
   "execution_count": 20,
   "metadata": {},
   "outputs": [],
   "source": [
    "ratios_c = create_simulation(states, dfs, beta1 - 10000)\n",
    "ratios_c2 = create_simulation(states, dfs, beta1)\n",
    "ratios_c3 = create_simulation(states, dfs, beta1 + 10000)"
   ]
  },
  {
   "cell_type": "code",
   "execution_count": 21,
   "metadata": {},
   "outputs": [
    {
     "data": {
      "text/plain": [
       "<matplotlib.legend.Legend at 0x1c138448d0>"
      ]
     },
     "execution_count": 21,
     "metadata": {},
     "output_type": "execute_result"
    },
    {
     "data": {
      "image/png": "[encoded data removed]",
      "text/plain": [
       "<Figure size 720x504 with 1 Axes>"
      ]
     },
     "metadata": {},
     "output_type": "display_data"
    }
   ],
   "source": [
    "theoretical = [special.erf(vi/(beta1*np.sqrt(2))) for vi in v]\n",
    "\n",
    "plt.figure(figsize=(10, 7))\n",
    "plt.plot(v, theoretical, label=\"P(|N(0,beta^2)|<v) with beta = %d\" % (beta1))\n",
    "plt.plot(v, ratios2, label=\"P(|d_i|<v) = empirical distribution\")\n",
    "plt.plot(v, ratios_c, label=\"Simulation with es = %d, 100 times\" % (beta1 - 10000))\n",
    "plt.plot(v, ratios_c2, label=\"Simulation with es = %d, 100 times\" % (beta1))\n",
    "plt.plot(v, ratios_c3, label=\"Simulation with es = %d, 100 times\" % (beta1 + 10000))\n",
    "plt.title(\"P(|N(0,beta^2)|<v) and P(|d_i|<v) vs. v for %s (k=%d)\" % (states, len(df2)))\n",
    "plt.legend()"
   ]
  },
  {
   "cell_type": "code",
   "execution_count": 22,
   "metadata": {},
   "outputs": [
    {
     "name": "stdout",
     "output_type": "stream",
     "text": [
      "k = 19\n",
      "test_stat at this k = 0.31157\n"
     ]
    },
    {
     "data": {
      "text/plain": [
       "(11900, 69)"
      ]
     },
     "execution_count": 22,
     "metadata": {},
     "output_type": "execute_result"
    }
   ],
   "source": [
    "run_test_against_simulation(states, dfs, beta1, ratios2)"
   ]
  },
  {
   "cell_type": "code",
   "execution_count": 23,
   "metadata": {},
   "outputs": [
    {
     "name": "stdout",
     "output_type": "stream",
     "text": [
      "Beta (=std): 11900\n",
      "Number of T/sqrt(n) above 2 stds: 3\n",
      "Proportion of T/sqrt(n) above 2 stds: 0.158\n",
      "P value = 0.009587\n"
     ]
    }
   ],
   "source": [
    "run_binom_stat_test2(beta1, df2.values)"
   ]
  },
  {
   "cell_type": "code",
   "execution_count": null,
   "metadata": {},
   "outputs": [],
   "source": []
  }
 ],
 "metadata": {
  "kernelspec": {
   "display_name": "Python 3",
   "language": "python",
   "name": "python3"
  },
  "language_info": {
   "codemirror_mode": {
    "name": "ipython",
    "version": 3
   },
   "file_extension": ".py",
   "mimetype": "text/x-python",
   "name": "python",
   "nbconvert_exporter": "python",
   "pygments_lexer": "ipython3",
   "version": "3.6.5"
  }
 },
 "nbformat": 4,
 "nbformat_minor": 2
}
