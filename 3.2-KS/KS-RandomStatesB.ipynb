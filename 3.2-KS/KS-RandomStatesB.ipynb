{
 "cells": [
  {
   "cell_type": "code",
   "execution_count": 1,
   "metadata": {},
   "outputs": [
    {
     "name": "stdout",
     "output_type": "stream",
     "text": [
      "{0: ['ME', 'IL', 'PA', 'GA', 'OK', 'DE', 'WA', 'CT', 'OH', 'VA', 'NE', 'MT', 'IN', 'CA', 'HI', 'ND', 'MD', 'SC', 'RI', 'AK', 'KY', 'WI', 'LA', 'MN', 'MS', 'WV', 'FL'], 1: ['SD', 'IL', 'PA', 'NH', 'NM', 'NV', 'OK', 'UT', 'CT', 'OH', 'VA', 'OR', 'CO', 'IN', 'HI', 'AL', 'RI', 'AK', 'LA', 'MN', 'IA', 'AR', 'WV'], 2: ['MI', 'ME', 'WY', 'DC', 'TX', 'AZ', 'NC', 'WA', 'OR', 'CO', 'MT', 'ND', 'TN', 'SC', 'AL', 'NY', 'KY', 'NJ', 'KS', 'ID', 'IA', 'AR', 'MO'], 3: ['MI', 'SD', 'WY', 'NH', 'DC', 'TX', 'GA', 'AZ', 'NM', 'NC', 'NV', 'DE', 'UT', 'NE', 'CA', 'MD', 'TN', 'NY', 'NJ', 'KS', 'WI', 'ID', 'MS', 'FL', 'MO']}\n",
      "{0: ['MI', 'SD', 'WY', 'NH', 'DC', 'TX', 'AZ', 'NM', 'NC', 'NV', 'UT', 'OR', 'CO', 'TN', 'AL', 'NY', 'NJ', 'KS', 'ID', 'IA', 'AR', 'MO'], 1: ['MI', 'ME', 'WY', 'DC', 'TX', 'GA', 'AZ', 'NC', 'DE', 'WA', 'NE', 'MT', 'CA', 'ND', 'MD', 'TN', 'SC', 'NY', 'KY', 'NJ', 'KS', 'WI', 'ID', 'MS', 'FL', 'MO'], 2: ['SD', 'IL', 'PA', 'NH', 'GA', 'NM', 'NV', 'OK', 'DE', 'UT', 'CT', 'OH', 'VA', 'NE', 'IN', 'CA', 'HI', 'MD', 'RI', 'AK', 'WI', 'LA', 'MN', 'MS', 'WV', 'FL'], 3: ['ME', 'IL', 'PA', 'OK', 'WA', 'CT', 'OH', 'VA', 'OR', 'CO', 'MT', 'IN', 'HI', 'ND', 'SC', 'AL', 'RI', 'AK', 'KY', 'LA', 'MN', 'IA', 'AR', 'WV']}\n"
     ]
    }
   ],
   "source": [
    "%run ../StatTest2_WithSimulation_Setup.ipynb"
   ]
  },
  {
   "cell_type": "code",
   "execution_count": 2,
   "metadata": {},
   "outputs": [],
   "source": [
    "###################\n",
    "# LOCAL VARIABLES #\n",
    "###################\n",
    "\n",
    "states = ['MI', 'SD', 'HI', 'MD', 'AR', 'MO', 'FL', 'MN', 'NJ',\n",
    "          'KY', 'WY', 'OK', 'ME', 'DC', 'GA', 'CA', 'SC', 'WV',\n",
    "          'RI', 'TX', 'AL', 'AZ', 'UT', 'PA', 'NH', 'KS', 'DE',\n",
    "          'NE', 'MS', 'WI', 'LA', 'IL', 'ND', 'CT', 'OH', 'IA',\n",
    "          'IN', 'NM', 'TN', 'WA', 'AK', 'NY', 'VA', 'NC', 'ID',\n",
    "          'MT', 'NV', 'CO', 'OR']\n",
    "state_label = \"Random States B\""
   ]
  },
  {
   "cell_type": "code",
   "execution_count": 3,
   "metadata": {
    "scrolled": true
   },
   "outputs": [
    {
     "name": "stderr",
     "output_type": "stream",
     "text": [
      "/anaconda3/lib/python3.6/site-packages/IPython/core/interactiveshell.py:2785: DtypeWarning: Columns (1,2,52,323,649,882,932,1092,1202) have mixed types. Specify dtype option on import or set low_memory=False.\n",
      "  interactivity=interactivity, compiler=compiler, result=result)\n",
      "/anaconda3/lib/python3.6/site-packages/IPython/core/interactiveshell.py:2785: DtypeWarning: Columns (1,2,57,204,341,376,377,396,430,431,928,944,1006,1013,1151,1160,1169,1179,1411) have mixed types. Specify dtype option on import or set low_memory=False.\n",
      "  interactivity=interactivity, compiler=compiler, result=result)\n",
      "/anaconda3/lib/python3.6/site-packages/IPython/core/interactiveshell.py:2785: DtypeWarning: Columns (1,2,17,163,355,406,702,835,847,1083,1156,1183,1185,1200) have mixed types. Specify dtype option on import or set low_memory=False.\n",
      "  interactivity=interactivity, compiler=compiler, result=result)\n"
     ]
    }
   ],
   "source": [
    "data2014 = pd.read_csv(\"../0-Our_Dataset/2014dataset.csv\")\n",
    "data2015 = pd.read_csv(\"../0-Our_Dataset/2015dataset.csv\")\n",
    "data2016 = pd.read_csv(\"../0-Our_Dataset/2016dataset.csv\")\n",
    "data2017 = pd.read_csv(\"../0-Our_Dataset/2017dataset.csv\")"
   ]
  },
  {
   "cell_type": "code",
   "execution_count": 4,
   "metadata": {},
   "outputs": [],
   "source": [
    "# Create the labels.\n",
    "# By index:\n",
    "# label 2 is transfers\n",
    "# label 3 is premiums\n",
    "# label 4 is costs\n",
    "# label 5 is member months\n",
    "# label 6 is reinsurance (individual group only)\n",
    "\n",
    "ind_labels_14 = [\"HIOS ID\", \"HIOS INPUTTED INSURANCE COMPANY NAME\",\n",
    "                  \"HHS RISK ADJUSTMENT TRANSFER AMOUNT (INDIVIDUAL MARKET, INCLUDING CATASTROPHIC)\",\n",
    "                  \"1.1Directpremiumwritten2HealthInsuranceINDIVIDUALTotalasof3/31/15\",\n",
    "                  \"2.16Totalincurredclaims2HealthInsuranceINDIVIDUALTotalasof3/31/15\",\n",
    "                  \"7.4Membermonths2HealthInsuranceINDIVIDUALTotalasof3/31/15\",\n",
    "                  \"STATE\", \"REINSURANCE PAYMENT AMOUNT (OR NOT ELIGIBLE)\"] # no more reinsurance as of 2017\n",
    "ind_labels_15 = [label.replace('15', '16') for label in ind_labels_14]\n",
    "ind_labels_16 = [label.replace('15', '17') for label in ind_labels_14]\n",
    "ind_labels_17 = [label.replace('15', '18') for label in ind_labels_14][:-1]\n",
    "\n",
    "sg_labels_14 = [\"HIOS ID\", \"HIOS INPUTTED INSURANCE COMPANY NAME\",\n",
    "                 \"HHS RISK ADJUSTMENT TRANSFERS AMOUNT (SMALL GROUP MARKET)\",\n",
    "                  \"1.1Directpremiumwritten7HealthInsuranceSMALLGROUPTotalasof3/31/15\",\n",
    "                  \"2.16Totalincurredclaims7HealthInsuranceSMALLGROUPTotalasof3/31/15\",\n",
    "                  \"7.4Membermonths7HealthInsuranceSMALLGROUPTotalasof3/31/15\", \"STATE\"]\n",
    "sg_labels_15 = [label.replace('15', '16') for label in sg_labels_14]\n",
    "sg_labels_16 = [label.replace('15', '17') for label in sg_labels_14]\n",
    "sg_labels_17 = [label.replace('15', '18') for label in sg_labels_14]"
   ]
  },
  {
   "cell_type": "code",
   "execution_count": 5,
   "metadata": {},
   "outputs": [],
   "source": [
    "# Filter the data to include only the fields we want\n",
    "\n",
    "ind_data_14 = data2014[ind_labels_14].dropna()\n",
    "ind_data_15 = data2015[ind_labels_15].dropna()\n",
    "ind_data_16 = data2016[ind_labels_16].dropna()\n",
    "ind_data_17 = data2017[ind_labels_17].dropna()\n",
    "sg_data_14 = data2014[sg_labels_14].dropna()\n",
    "sg_data_15 = data2015[sg_labels_15].dropna()\n",
    "sg_data_16 = data2016[sg_labels_16].dropna()\n",
    "sg_data_17 = data2017[sg_labels_17].dropna()"
   ]
  },
  {
   "cell_type": "code",
   "execution_count": 6,
   "metadata": {},
   "outputs": [],
   "source": [
    "# Drop companies with <2000 MM\n",
    "ind_data_14 = ind_data_14.where(ind_data_14[ind_labels_14[5]] > 2000).dropna()\n",
    "ind_data_15 = ind_data_15.where(ind_data_15[ind_labels_15[5]] > 2000).dropna()\n",
    "ind_data_16 = ind_data_16.where(ind_data_16[ind_labels_16[5]] > 2000).dropna()\n",
    "ind_data_17 = ind_data_17.where(ind_data_17[ind_labels_17[5]] > 2000).dropna()\n",
    "sg_data_14 = sg_data_14.where(sg_data_14[sg_labels_14[5]] > 2000).dropna()\n",
    "sg_data_15 = sg_data_15.where(sg_data_15[sg_labels_15[5]] > 2000).dropna()\n",
    "sg_data_16 = sg_data_16.where(sg_data_16[sg_labels_16[5]] > 2000).dropna()\n",
    "sg_data_17 = sg_data_17.where(sg_data_17[sg_labels_17[5]] > 2000).dropna()"
   ]
  },
  {
   "cell_type": "code",
   "execution_count": 7,
   "metadata": {},
   "outputs": [],
   "source": [
    "# Calculate transfers, premiums, costs, and reinsurance (if individual group) per member month\n",
    "def calculate_pmm(df, df_labels, group):\n",
    "    df[\"MM\"] = df[df_labels[5]]\n",
    "    df[\"Transfers\"] = df[df_labels[2]]\n",
    "    df[\"TotalCosts\"] = abs(df[df_labels[4]])\n",
    "    df[\"Enrollees\"] = df[\"MM\"] / 12\n",
    "    df[\"TransfersPerEnrollee\"] = df[\"Transfers\"] / df[\"Enrollees\"]\n",
    "    df[\"TransfersPerSqrtEnrollee\"] = df[\"Transfers\"] / np.sqrt(df[\"Enrollees\"])\n",
    "    df[\"LogEnrollees\"] = np.log(df[\"Enrollees\"])\n",
    "    df[\"LogTransfers\"] = np.log(df[\"Transfers\"]**2 + 1)\n",
    "    df[\"TransfersPMM\"] = df[df_labels[2]] / df[df_labels[5]]\n",
    "    df[\"PremiumsPMM\"] = abs(df[df_labels[3]] / df[df_labels[5]])\n",
    "    df[\"CostsPMM\"] = abs(df[df_labels[4]] / df[df_labels[5]])\n",
    "    if group == \"i\":\n",
    "        df[\"ReinsurancePMM\"] = df[df_labels[7]] / df[df_labels[5]]\n",
    "        df[\"ProfitsPMM\"] = df[\"PremiumsPMM\"] - df[\"CostsPMM\"] + df[\"TransfersPMM\"] + df[\"ReinsurancePMM\"]\n",
    "        #df[\"PremMinusCostsPlusReinsurancePMM\"] = df[\"PremiumsPMM\"] - df[\"CostsPMM\"] + df[\"ReinsurancePMM\"]\n",
    "    elif group == \"sg\":\n",
    "        df[\"ProfitsPMM\"] = df[\"PremiumsPMM\"] - df[\"CostsPMM\"] + df[\"TransfersPMM\"]\n",
    "    df[\"PremMinusCostsPMM\"] = df[\"PremiumsPMM\"] - df[\"CostsPMM\"]\n",
    "    df[\"PremMinusCostsPlusTransfersPMM\"] = df[\"PremiumsPMM\"] - df[\"CostsPMM\"] + df[\"TransfersPMM\"]\n",
    "    df[\"SicknessPMM\"] = df[\"CostsPMM\"] - df[\"PremiumsPMM\"]\n",
    "    average_sickness = np.mean(df[\"SicknessPMM\"])\n",
    "    df[\"ExcessSicknessPMM\"] = df[\"SicknessPMM\"] - average_sickness\n",
    "    return df\n",
    "\n",
    "ind_data_14 = calculate_pmm(ind_data_14, ind_labels_14, \"i\")\n",
    "ind_data_15 = calculate_pmm(ind_data_15, ind_labels_15, \"i\")\n",
    "ind_data_16 = calculate_pmm(ind_data_16, ind_labels_16, \"i\")\n",
    "ind_data_17 = calculate_pmm(ind_data_17, ind_labels_17, \"sg\")\n",
    "sg_data_14 = calculate_pmm(sg_data_14, sg_labels_14, \"sg\")\n",
    "sg_data_15 = calculate_pmm(sg_data_15, sg_labels_15, \"sg\")\n",
    "sg_data_16 = calculate_pmm(sg_data_16, sg_labels_16, \"sg\")\n",
    "sg_data_17 = calculate_pmm(sg_data_17, sg_labels_17, \"sg\")"
   ]
  },
  {
   "cell_type": "code",
   "execution_count": 8,
   "metadata": {},
   "outputs": [],
   "source": [
    "# Combine the dataframes by left merging\n",
    "\n",
    "ind_data = ind_data_14.merge(ind_data_15, on='HIOS ID', how='outer', suffixes=('_14', '_15'))\\\n",
    ".merge(ind_data_16, on='HIOS ID', how='outer').merge(ind_data_17, on='HIOS ID', how='outer', suffixes=('_16', '_17'))"
   ]
  },
  {
   "cell_type": "code",
   "execution_count": 9,
   "metadata": {},
   "outputs": [],
   "source": [
    "# Do the same thing for small group\n",
    "\n",
    "sg_data = sg_data_14.merge(sg_data_15, on='HIOS ID', how='outer', suffixes=('_14', '_15'))\\\n",
    ".merge(sg_data_16, on='HIOS ID', how='outer').merge(sg_data_17, on='HIOS ID', how='outer', suffixes=('_16', '_17'))"
   ]
  },
  {
   "cell_type": "code",
   "execution_count": 10,
   "metadata": {},
   "outputs": [],
   "source": [
    "dfs = [sg_data_14, sg_data_15, sg_data_16, sg_data_17]"
   ]
  },
  {
   "cell_type": "code",
   "execution_count": 11,
   "metadata": {},
   "outputs": [
    {
     "name": "stdout",
     "output_type": "stream",
     "text": [
      "MI 14 Ratio is 1.308\n",
      "SD 14 Ratio is 1.155\n",
      "WY 14 Ratio is 1.016\n",
      "NH 14 Ratio is 1.061\n",
      "DC 14 Ratio is 1.139\n",
      "TX 14 Ratio is 1.184\n",
      "AZ 14 Ratio is 1.497\n",
      "NM 14 Ratio is 1.142\n",
      "NC 14 Ratio is 1.254\n",
      "NV 14 Ratio is 1.365\n",
      "UT 14 Ratio is 1.628\n",
      "OR 14 Ratio is 1.208\n",
      "CO 14 Ratio is 1.203\n",
      "TN 14 Ratio is 1.447\n",
      "AL 14 Ratio is 1.156\n",
      "NY 14 Ratio is 0.973\n",
      "NJ 14 Ratio is 1.173\n",
      "KS 14 Ratio is 1.392\n",
      "ID 14 Ratio is 1.484\n",
      "IA 14 Ratio is 1.318\n",
      "AR 14 Ratio is 1.473\n",
      "MO 14 Ratio is 1.414\n",
      "MI 15 Ratio is 1.250\n",
      "ME 15 Ratio is 1.184\n",
      "WY 15 Ratio is 0.973\n",
      "DC 15 Ratio is 1.118\n",
      "TX 15 Ratio is 1.086\n",
      "GA 15 Ratio is 1.199\n",
      "AZ 15 Ratio is 1.404\n",
      "NC 15 Ratio is 1.180\n",
      "DE 15 Ratio is 1.217\n",
      "WA 15 Ratio is 1.156\n",
      "NE 15 Ratio is 1.189\n",
      "MT 15 Ratio is 1.100\n",
      "CA 15 Ratio is 1.117\n",
      "ND 15 Ratio is 1.096\n",
      "MD 15 Ratio is 1.269\n",
      "TN 15 Ratio is 1.385\n",
      "SC 15 Ratio is 1.056\n",
      "NY 15 Ratio is 0.896\n",
      "KY 15 Ratio is 1.298\n",
      "NJ 15 Ratio is 1.009\n",
      "KS 15 Ratio is 1.229\n",
      "WI 15 Ratio is 1.099\n",
      "ID 15 Ratio is 1.432\n",
      "MS 15 Ratio is 1.305\n",
      "FL 15 Ratio is 1.162\n",
      "MO 15 Ratio is 1.282\n",
      "SD 16 Ratio is 1.023\n",
      "IL 16 Ratio is 0.997\n",
      "PA 16 Ratio is 1.026\n",
      "NH 16 Ratio is 0.986\n",
      "GA 16 Ratio is 1.099\n",
      "NM 16 Ratio is 0.971\n",
      "NV 16 Ratio is 1.286\n",
      "OK 16 Ratio is 1.136\n",
      "DE 16 Ratio is 1.095\n",
      "UT 16 Ratio is 1.450\n",
      "CT 16 Ratio is 0.880\n",
      "OH 16 Ratio is 1.107\n",
      "VA 16 Ratio is 1.116\n",
      "NE 16 Ratio is 1.145\n",
      "IN 16 Ratio is 1.080\n",
      "CA 16 Ratio is 1.051\n",
      "HI 16 Ratio is 1.044\n",
      "MD 16 Ratio is 1.216\n",
      "RI 16 Ratio is 0.987\n",
      "AK 16 Ratio is 0.641\n",
      "WI 16 Ratio is 1.053\n",
      "LA 16 Ratio is 1.062\n",
      "MN 16 Ratio is 1.052\n",
      "MS 16 Ratio is 1.234\n",
      "WV 16 Ratio is 0.950\n",
      "FL 16 Ratio is 1.112\n",
      "ME 17 Ratio is 1.074\n",
      "IL 17 Ratio is 0.944\n",
      "PA 17 Ratio is 0.920\n",
      "OK 17 Ratio is 1.136\n",
      "WA 17 Ratio is 1.115\n",
      "CT 17 Ratio is 0.864\n",
      "OH 17 Ratio is 1.047\n",
      "VA 17 Ratio is 1.055\n",
      "OR 17 Ratio is 1.062\n",
      "CO 17 Ratio is 1.100\n",
      "MT 17 Ratio is 1.081\n",
      "IN 17 Ratio is 1.034\n",
      "HI 17 Ratio is 0.977\n",
      "ND 17 Ratio is 1.055\n",
      "SC 17 Ratio is 0.954\n",
      "AL 17 Ratio is 1.064\n",
      "RI 17 Ratio is 0.922\n",
      "AK 17 Ratio is 0.650\n",
      "KY 17 Ratio is 1.110\n",
      "LA 17 Ratio is 1.031\n",
      "MN 17 Ratio is 0.995\n",
      "IA 17 Ratio is 1.257\n",
      "AR 17 Ratio is 1.236\n",
      "WV 17 Ratio is 0.934\n",
      "Empirical Transfers Sum = 4619361681.256\n"
     ]
    }
   ],
   "source": [
    "dfs_new = normalize_empirical_data_split_randomly_for_years_2(dfs)"
   ]
  },
  {
   "cell_type": "code",
   "execution_count": 12,
   "metadata": {},
   "outputs": [],
   "source": [
    "for df_temp in dfs_new:\n",
    "    df_temp[\"TransfersNormalizedPerSqrtEnrollee\"] = df_temp[\"TransfersNormalized\"] / np.sqrt(df_temp[\"Enrollees\"])"
   ]
  },
  {
   "cell_type": "code",
   "execution_count": 13,
   "metadata": {},
   "outputs": [],
   "source": [
    "df2 = create_df2(states, dfs_new, \"TransfersNormalizedPerSqrtEnrollee\")"
   ]
  },
  {
   "cell_type": "code",
   "execution_count": 14,
   "metadata": {},
   "outputs": [],
   "source": [
    "k = len(df2)\n",
    "v = np.linspace(0, max(abs(df2)), 10000)\n",
    "v = v[1:len(v)]\n",
    "\n",
    "ratios = [ratio_list(df2, vi) for vi in v]\n",
    "#print(ratios)\n",
    "begin_p = 5/k\n",
    "end_p = 1-begin_p\n",
    "start_index = 0\n",
    "end_index = 0\n",
    "for index, ratio2 in enumerate(ratios):\n",
    "    if ratio2 >= begin_p:\n",
    "        start_index = index\n",
    "        break\n",
    "    \n",
    "for index, ratio2 in enumerate(ratios):\n",
    "    if ratio2 > end_p:\n",
    "        end_index = index\n",
    "        break\n",
    "\n",
    "if end_index == 0:\n",
    "    end_index = len(v) - 1\n",
    "    \n",
    "v = v[start_index:end_index]\n",
    "\n",
    "ratios2 = ratios[start_index:end_index]\n",
    "multiplier = [np.sqrt(2)/vi for vi in v]\n",
    "#plt.plot(v, ratios2)\n",
    "#plt.plot(v, multiplier)"
   ]
  },
  {
   "cell_type": "code",
   "execution_count": 15,
   "metadata": {},
   "outputs": [],
   "source": [
    "y = [multiplier[i] * special.erfinv(ratio2) for i, ratio2 in enumerate(ratios2)]\n",
    "#plt.plot(v, y)\n",
    "#plt.title(\"1/beta vs. v\")\n",
    "beta = [1/yi for yi in y]\n",
    "#plt.plot(v, beta)\n",
    "#plt.axvline(x=64432.69, color='r', linestyle='--', label=\"Point of max difference\")\n",
    "#plt.title(\"beta vs. v\")"
   ]
  },
  {
   "cell_type": "code",
   "execution_count": 16,
   "metadata": {},
   "outputs": [],
   "source": [
    "# Finding the minimum beta\n",
    "# Whenever we reject a beta, we reject all betas greater than that,\n",
    "# so keep pushing beta smaller until we reach max_difference == test_statistic\n",
    "# Run test for larger data sizes (combining states, years)"
   ]
  },
  {
   "cell_type": "code",
   "execution_count": 17,
   "metadata": {},
   "outputs": [],
   "source": [
    "max_beta=max(beta)\n",
    "max_beta = int(max_beta/100)*100"
   ]
  },
  {
   "cell_type": "code",
   "execution_count": 18,
   "metadata": {
    "scrolled": true
   },
   "outputs": [
    {
     "name": "stdout",
     "output_type": "stream",
     "text": [
      "beta = 92000.000\n"
     ]
    },
    {
     "data": {
      "image/png": "[encoded data removed]",
      "text/plain": [
       "<Figure size 576x432 with 1 Axes>"
      ]
     },
     "metadata": {},
     "output_type": "display_data"
    }
   ],
   "source": [
    "theoretical = [special.erf(vi/(max_beta*np.sqrt(2))) for vi in v]\n",
    "\n",
    "plt.figure(figsize=(8, 6))\n",
    "plt.plot(v, theoretical, label=\"P(|N(0,beta^2)|<v)\")\n",
    "plt.plot(v, ratios2, label=\"P(|d_i|<v)\")\n",
    "plt.title(\"P(|N(0,beta^2)|<v) and P(|d_i|<v) vs. v for %s 2014-2017 (k=%d)\" % (state_label, len(df2)))\n",
    "#plt.axvline(x=64432.69, color='r', linestyle='--', label=\"Point of max difference\")\n",
    "plt.legend()\n",
    "print(\"beta = %.3f\" % (max_beta))\n",
    "plt.legend()\n",
    "plt.xlabel(\"v\")\n",
    "plt.ylabel(\"CDF\")\n",
    "plt.show()"
   ]
  },
  {
   "cell_type": "code",
   "execution_count": 19,
   "metadata": {},
   "outputs": [
    {
     "name": "stdout",
     "output_type": "stream",
     "text": [
      "k = 990\n",
      "test_stat at this k = 0.03873\n",
      "\n",
      "At the point of maximum difference with beta = 92000:\n",
      "P(|d_i|<v) = 0.7838\n",
      "P(|N(0,max_beta^2)|<v) = 0.2743\n",
      "Difference = 0.5095\n",
      "\n",
      "\n",
      "\n",
      "\n",
      "At the point of maximum difference with beta = 82000:\n",
      "P(|d_i|<v) = 0.7828\n",
      "P(|N(0,max_beta^2)|<v) = 0.3051\n",
      "Difference = 0.4777\n",
      "\n",
      "\n",
      "\n",
      "\n",
      "At the point of maximum difference with beta = 72000:\n",
      "P(|d_i|<v) = 0.7828\n",
      "P(|N(0,max_beta^2)|<v) = 0.3449\n",
      "Difference = 0.4379\n",
      "\n",
      "\n",
      "\n",
      "\n",
      "At the point of maximum difference with beta = 62000:\n",
      "P(|d_i|<v) = 0.7253\n",
      "P(|N(0,max_beta^2)|<v) = 0.3336\n",
      "Difference = 0.3917\n",
      "\n",
      "\n",
      "\n",
      "\n",
      "At the point of maximum difference with beta = 52000:\n",
      "P(|d_i|<v) = 0.7253\n",
      "P(|N(0,max_beta^2)|<v) = 0.3927\n",
      "Difference = 0.3326\n",
      "\n",
      "\n",
      "\n",
      "\n",
      "At the point of maximum difference with beta = 42000:\n",
      "P(|d_i|<v) = 0.6960\n",
      "P(|N(0,max_beta^2)|<v) = 0.4454\n",
      "Difference = 0.2506\n",
      "\n",
      "\n",
      "\n",
      "\n",
      "At the point of maximum difference with beta = 32000:\n",
      "P(|d_i|<v) = 0.5131\n",
      "P(|N(0,max_beta^2)|<v) = 0.3539\n",
      "Difference = 0.1593\n",
      "\n",
      "\n",
      "\n",
      "\n",
      "At the point of maximum difference with beta = 22000:\n",
      "P(|d_i|<v) = 0.2707\n",
      "P(|N(0,max_beta^2)|<v) = 0.2114\n",
      "Difference = 0.0593\n",
      "\n",
      "\n",
      "\n",
      "\n",
      "At the point of maximum difference with beta = 22000:\n",
      "P(|d_i|<v) = 0.2707\n",
      "P(|N(0,max_beta^2)|<v) = 0.2114\n",
      "Difference = 0.0593\n",
      "\n",
      "\n",
      "\n",
      "\n",
      "At the point of maximum difference with beta = 21900:\n",
      "P(|d_i|<v) = 0.2707\n",
      "P(|N(0,max_beta^2)|<v) = 0.2124\n",
      "Difference = 0.0583\n",
      "\n",
      "\n",
      "\n",
      "\n",
      "At the point of maximum difference with beta = 21800:\n",
      "P(|d_i|<v) = 0.2707\n",
      "P(|N(0,max_beta^2)|<v) = 0.2133\n",
      "Difference = 0.0574\n",
      "\n",
      "\n",
      "\n",
      "\n",
      "At the point of maximum difference with beta = 21700:\n",
      "P(|d_i|<v) = 0.2707\n",
      "P(|N(0,max_beta^2)|<v) = 0.2143\n",
      "Difference = 0.0564\n",
      "\n",
      "\n",
      "\n",
      "\n",
      "At the point of maximum difference with beta = 21600:\n",
      "P(|d_i|<v) = 0.2707\n",
      "P(|N(0,max_beta^2)|<v) = 0.2153\n",
      "Difference = 0.0554\n",
      "\n",
      "\n",
      "\n",
      "\n",
      "At the point of maximum difference with beta = 21500:\n",
      "P(|d_i|<v) = 0.2707\n",
      "P(|N(0,max_beta^2)|<v) = 0.2162\n",
      "Difference = 0.0545\n",
      "\n",
      "\n",
      "\n",
      "\n",
      "At the point of maximum difference with beta = 21400:\n",
      "P(|d_i|<v) = 0.2707\n",
      "P(|N(0,max_beta^2)|<v) = 0.2172\n",
      "Difference = 0.0535\n",
      "\n",
      "\n",
      "\n",
      "\n",
      "At the point of maximum difference with beta = 21300:\n",
      "P(|d_i|<v) = 0.2707\n",
      "P(|N(0,max_beta^2)|<v) = 0.2182\n",
      "Difference = 0.0525\n",
      "\n",
      "\n",
      "\n",
      "\n",
      "At the point of maximum difference with beta = 21200:\n",
      "P(|d_i|<v) = 0.2707\n",
      "P(|N(0,max_beta^2)|<v) = 0.2192\n",
      "Difference = 0.0515\n",
      "\n",
      "\n",
      "\n",
      "\n",
      "At the point of maximum difference with beta = 21100:\n",
      "P(|d_i|<v) = 0.2707\n",
      "P(|N(0,max_beta^2)|<v) = 0.2202\n",
      "Difference = 0.0505\n",
      "\n",
      "\n",
      "\n",
      "\n",
      "At the point of maximum difference with beta = 21000:\n",
      "P(|d_i|<v) = 0.2707\n",
      "P(|N(0,max_beta^2)|<v) = 0.2213\n",
      "Difference = 0.0494\n",
      "\n",
      "\n",
      "\n",
      "\n",
      "At the point of maximum difference with beta = 20900:\n",
      "P(|d_i|<v) = 0.2152\n",
      "P(|N(0,max_beta^2)|<v) = 0.1666\n",
      "Difference = 0.0485\n",
      "\n",
      "\n",
      "\n",
      "\n",
      "At the point of maximum difference with beta = 20800:\n",
      "P(|d_i|<v) = 0.2152\n",
      "P(|N(0,max_beta^2)|<v) = 0.1674\n",
      "Difference = 0.0478\n",
      "\n",
      "\n",
      "\n",
      "\n",
      "At the point of maximum difference with beta = 20700:\n",
      "P(|d_i|<v) = 0.2152\n",
      "P(|N(0,max_beta^2)|<v) = 0.1682\n",
      "Difference = 0.0470\n",
      "\n",
      "\n",
      "\n",
      "\n",
      "At the point of maximum difference with beta = 20600:\n",
      "P(|d_i|<v) = 0.2152\n",
      "P(|N(0,max_beta^2)|<v) = 0.1690\n",
      "Difference = 0.0462\n",
      "\n",
      "\n",
      "\n",
      "\n",
      "At the point of maximum difference with beta = 20500:\n",
      "P(|d_i|<v) = 0.2152\n",
      "P(|N(0,max_beta^2)|<v) = 0.1698\n",
      "Difference = 0.0453\n",
      "\n",
      "\n",
      "\n",
      "\n",
      "At the point of maximum difference with beta = 20400:\n",
      "P(|d_i|<v) = 0.2152\n",
      "P(|N(0,max_beta^2)|<v) = 0.1706\n",
      "Difference = 0.0445\n",
      "\n",
      "\n",
      "\n",
      "\n",
      "At the point of maximum difference with beta = 20300:\n",
      "P(|d_i|<v) = 0.2152\n",
      "P(|N(0,max_beta^2)|<v) = 0.1715\n",
      "Difference = 0.0437\n",
      "\n",
      "\n",
      "\n",
      "\n",
      "At the point of maximum difference with beta = 20200:\n",
      "P(|d_i|<v) = 0.2152\n",
      "P(|N(0,max_beta^2)|<v) = 0.1723\n",
      "Difference = 0.0429\n",
      "\n",
      "\n",
      "\n",
      "\n",
      "At the point of maximum difference with beta = 20100:\n",
      "P(|d_i|<v) = 0.2152\n",
      "P(|N(0,max_beta^2)|<v) = 0.1731\n",
      "Difference = 0.0420\n",
      "\n",
      "\n",
      "\n",
      "\n",
      "At the point of maximum difference with beta = 20000:\n",
      "P(|d_i|<v) = 0.2152\n",
      "P(|N(0,max_beta^2)|<v) = 0.1740\n",
      "Difference = 0.0412\n",
      "\n",
      "\n",
      "\n",
      "\n",
      "At the point of maximum difference with beta = 19900:\n",
      "P(|d_i|<v) = 0.2152\n",
      "P(|N(0,max_beta^2)|<v) = 0.1748\n",
      "Difference = 0.0403\n",
      "\n",
      "\n",
      "\n",
      "\n",
      "At the point of maximum difference with beta = 19800:\n",
      "P(|d_i|<v) = 0.2152\n",
      "P(|N(0,max_beta^2)|<v) = 0.1757\n",
      "Difference = 0.0394\n",
      "\n",
      "\n",
      "\n"
     ]
    }
   ],
   "source": [
    "beta_theoretical, Mb_index = run_test_against_theoretical(df2, max_beta, ratios2, False)"
   ]
  },
  {
   "cell_type": "code",
   "execution_count": 20,
   "metadata": {},
   "outputs": [
    {
     "data": {
      "image/png": "[encoded data removed]",
      "text/plain": [
       "<Figure size 576x432 with 1 Axes>"
      ]
     },
     "metadata": {},
     "output_type": "display_data"
    }
   ],
   "source": [
    "beta_theoretical = beta_theoretical+100\n",
    "\n",
    "theoretical = [special.erf(vi/(beta_theoretical*np.sqrt(2))) for vi in v]\n",
    "\n",
    "plt.figure(figsize=(8, 6))\n",
    "plt.plot(v, theoretical, label=\"P(|N(0,beta^2)|<v) beta=%d\" % (beta_theoretical))\n",
    "plt.plot(v, ratios2, label=\"P(|d_i|<v)\")\n",
    "plt.title(\"P(|N(0,beta^2)|<v) and P(|d_i|<v) vs. v for %s 2014-2017 (k=%d)\" % (state_label, len(df2)))\n",
    "plt.axvline(x=v[Mb_index], color='r', linestyle='--', label=\"Point of max difference\")\n",
    "plt.legend()\n",
    "plt.xlabel(\"v\")\n",
    "plt.ylabel(\"CDF\")\n",
    "plt.show()"
   ]
  },
  {
   "cell_type": "code",
   "execution_count": 21,
   "metadata": {},
   "outputs": [
    {
     "name": "stdout",
     "output_type": "stream",
     "text": [
      "Theoretical Test Results\n",
      "Beta (=std): 19800\n",
      "Number of T/sqrt(n) above 2 stds: 166\n",
      "Proportion of T/sqrt(n) above 2 stds: 0.168\n",
      "P value = 0.000000\n"
     ]
    }
   ],
   "source": [
    "print(\"Theoretical Test Results\")\n",
    "run_binom_stat_test2(beta_theoretical, df2.values)"
   ]
  },
  {
   "cell_type": "code",
   "execution_count": 22,
   "metadata": {},
   "outputs": [],
   "source": [
    "#ratios_c, _ = create_simulation_adjust_for_imbalances(states, dfs_new, beta_theoretical - 10000)\n",
    "#ratios_c2, _ = create_simulation_adjust_for_imbalances(states, dfs_new, beta_theoretical)\n",
    "#ratios_c3, _ = create_simulation_adjust_for_imbalances(states, dfs_new, beta_theoretical + 10000)"
   ]
  },
  {
   "cell_type": "code",
   "execution_count": 23,
   "metadata": {},
   "outputs": [],
   "source": [
    "#theoretical = [special.erf(vi/(beta_theoretical*np.sqrt(2))) for vi in v]\n",
    "\n",
    "#plt.figure(figsize=(10, 7))\n",
    "#plt.plot(v, theoretical, label=\"P(|N(0,beta^2)|<v) with beta = %d\" % (beta_theoretical))\n",
    "#plt.plot(v, ratios2, label=\"P(|d_i|<v) = empirical distribution\")\n",
    "#plt.plot(v, ratios_c, label=\"Simulation with es = %d, 5 times\" % (beta_theoretical - 10000))\n",
    "#plt.plot(v, ratios_c2, label=\"Simulation with es = %d, 5 times\" % (beta_theoretical))\n",
    "#plt.plot(v, ratios_c3, label=\"Simulation with es = %d, 5 times\" % (beta_theoretical + 10000))\n",
    "#plt.title(\"P(|N(0,beta^2)|<v) and P(|d_i|<v) vs. v for %s (k=%d)\" % (state_label, len(df2)))\n",
    "#plt.legend()\n",
    "#plt.show()"
   ]
  },
  {
   "cell_type": "code",
   "execution_count": null,
   "metadata": {},
   "outputs": [
    {
     "name": "stdout",
     "output_type": "stream",
     "text": [
      "k = 990\n",
      "test_stat at this k = 0.03873\n"
     ]
    }
   ],
   "source": [
    "beta_sims = list()\n",
    "\n",
    "for i in range(5):\n",
    "    beta_sim, _= run_test_against_simulation(states, dfs_new, beta_theoretical - 3000, ratios2, False)\n",
    "    beta_sims.append(beta_sim)"
   ]
  },
  {
   "cell_type": "code",
   "execution_count": null,
   "metadata": {},
   "outputs": [],
   "source": [
    "print(\"Simulation without Adjustment Test Results\")\n",
    "run_binom_stat_test2(np.mean(beta_sims), df2.values)\n",
    "run_binom_stat_test3(np.mean(beta_sims), df2.values)"
   ]
  },
  {
   "cell_type": "code",
   "execution_count": null,
   "metadata": {},
   "outputs": [],
   "source": [
    "beta_sim_adjs = list()\n",
    "\n",
    "for i in range(5):\n",
    "    beta_sim_adj, _, sum_sqrt_a = run_test_against_simulation_adjust_for_imbalances(states, dfs_new,\n",
    "                                                                   beta_theoretical - 3000, ratios2, False)\n",
    "    beta_sim_adjs.append(beta_sim_adj)"
   ]
  },
  {
   "cell_type": "code",
   "execution_count": null,
   "metadata": {},
   "outputs": [],
   "source": [
    "print(\"Simulation WITH Adjustment Test Results\")\n",
    "run_binom_stat_test2(np.mean(beta_sim_adjs), df2.values)\n",
    "run_binom_stat_test3(np.mean(beta_sim_adjs), df2.values)"
   ]
  },
  {
   "cell_type": "code",
   "execution_count": null,
   "metadata": {},
   "outputs": [],
   "source": [
    "print(\"Theoretical Test Results\")\n",
    "run_binom_stat_test2(beta_theoretical, df2.values)\n",
    "run_binom_stat_test3(beta_theoretical, df2.values)\n",
    "print(\"\\n\")\n",
    "print(\"Simulation without Adjustment Test Results\")\n",
    "run_binom_stat_test2(np.mean(beta_sims), df2.values)\n",
    "run_binom_stat_test3(np.mean(beta_sims), df2.values)\n",
    "print(\"\\n\")\n",
    "print(\"Simulation WITH Adjustment Test Results\")\n",
    "run_binom_stat_test2(np.mean(beta_sim_adjs), df2.values)\n",
    "run_binom_stat_test3(np.mean(beta_sim_adjs), df2.values)"
   ]
  },
  {
   "cell_type": "code",
   "execution_count": null,
   "metadata": {},
   "outputs": [],
   "source": [
    "np.mean(beta_sims) * sum_sqrt_a * np.sqrt(2) / np.sqrt(np.pi)"
   ]
  },
  {
   "cell_type": "code",
   "execution_count": null,
   "metadata": {},
   "outputs": [],
   "source": [
    "np.mean(beta_sim_adjs) * sum_sqrt_a * np.sqrt(2) / np.sqrt(np.pi)"
   ]
  },
  {
   "cell_type": "code",
   "execution_count": null,
   "metadata": {},
   "outputs": [],
   "source": [
    "beta_sims"
   ]
  },
  {
   "cell_type": "code",
   "execution_count": null,
   "metadata": {},
   "outputs": [],
   "source": [
    "beta_sim_adjs"
   ]
  },
  {
   "cell_type": "code",
   "execution_count": null,
   "metadata": {},
   "outputs": [],
   "source": []
  }
 ],
 "metadata": {
  "kernelspec": {
   "display_name": "Python 3",
   "language": "python",
   "name": "python3"
  },
  "language_info": {
   "codemirror_mode": {
    "name": "ipython",
    "version": 3
   },
   "file_extension": ".py",
   "mimetype": "text/x-python",
   "name": "python",
   "nbconvert_exporter": "python",
   "pygments_lexer": "ipython3",
   "version": "3.6.5"
  }
 },
 "nbformat": 4,
 "nbformat_minor": 2
}
