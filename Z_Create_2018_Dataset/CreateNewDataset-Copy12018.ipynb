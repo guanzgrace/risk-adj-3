{
 "cells": [
  {
   "cell_type": "code",
   "execution_count": 1,
   "metadata": {},
   "outputs": [],
   "source": [
    "import pandas as pd\n",
    "import numpy as np"
   ]
  },
  {
   "cell_type": "code",
   "execution_count": 2,
   "metadata": {},
   "outputs": [],
   "source": [
    "importname117 = \"Input/2018-all-2.csv\"\n",
    "importname217 = \"Input/2018-PDF-stripped.csv\"\n",
    "outputname17 = \"Output/2018dataset.csv\""
   ]
  },
  {
   "cell_type": "code",
   "execution_count": 3,
   "metadata": {},
   "outputs": [],
   "source": [
    "def change_csv(importname1, importname2, outputname1):\n",
    "    all1 = pd.read_csv(importname1, encoding = 'ISO-8859-1', low_memory=True)\n",
    "    all1 = all1.replace(0, np.nan)\n",
    "    all1 = all1.dropna(axis=1,how='all')\n",
    "    all1 = all1[np.isfinite(all1['HIOSIssuerID:'])]\n",
    "    all1 = all1.rename(columns={\"HIOSIssuerID:\": \"HIOS ID\"})\n",
    "    all1_cols = all1.columns\n",
    "    new_cols = []\n",
    "    for col in all1_cols:\n",
    "        new_cols.append(col.replace(\"3/31/18\", \"3/31/19\").replace(\"12/31/17\", \"12/31/18\"))\n",
    "    all1.columns = new_cols\n",
    "    all1 = all1.drop_duplicates(subset=['HIOS ID'])\n",
    "    all1.head()\n",
    "    \n",
    "    rira1 = pd.read_csv(importname2)\n",
    "    # rira1 = rira1.drop([\"Unnamed: 0\", \"Unnamed: 0.1\"],axis=1)\n",
    "    rira1.head()\n",
    "    merged1 = rira1.merge(all1, on='HIOS ID', how='left')\n",
    "    \n",
    "    \n",
    "    merged1[\"HHS RISK ADJUSTMENT TRANSFER AMOUNT (INDIVIDUAL MARKET, INCLUDING CATASTROPHIC)\"] = \\\n",
    "    merged1[\"HHS RISK ADJUSTMENT TRANSFER AMOUNT (INDIVIDUAL NONCATASTROPHIC RISK POOL)\"] + \\\n",
    "    merged1[\"HHS RISK ADJUSTMENT TRANSFER AMOUNT (CATASTROPHIC RISK POOL)\"]\n",
    "    \n",
    "    merged1[\"HHS RISK ADJUSTMENT TRANSFERS AMOUNT (SMALL GROUP MARKET)\"] = \\\n",
    "    merged1[\"HHS RISK ADJUSTMENT TRANSFERS AMOUNT (SMALL GROUP RISK POOL)\"]\n",
    "    \n",
    "    \n",
    "    merged1.to_csv(outputname1)"
   ]
  },
  {
   "cell_type": "code",
   "execution_count": 4,
   "metadata": {},
   "outputs": [
    {
     "name": "stderr",
     "output_type": "stream",
     "text": [
      "/anaconda3/lib/python3.6/site-packages/IPython/core/interactiveshell.py:2909: DtypeWarning: Columns (13) have mixed types. Specify dtype option on import or set low_memory=False.\n",
      "  if self.run_code(code, result):\n"
     ]
    }
   ],
   "source": [
    "change_csv(importname117,importname217,outputname17)"
   ]
  },
  {
   "cell_type": "code",
   "execution_count": null,
   "metadata": {},
   "outputs": [],
   "source": []
  }
 ],
 "metadata": {
  "kernelspec": {
   "display_name": "Python 3",
   "language": "python",
   "name": "python3"
  },
  "language_info": {
   "codemirror_mode": {
    "name": "ipython",
    "version": 3
   },
   "file_extension": ".py",
   "mimetype": "text/x-python",
   "name": "python",
   "nbconvert_exporter": "python",
   "pygments_lexer": "ipython3",
   "version": "3.6.5"
  }
 },
 "nbformat": 4,
 "nbformat_minor": 2
}
