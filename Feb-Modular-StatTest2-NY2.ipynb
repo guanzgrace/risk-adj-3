{
 "cells": [
  {
   "cell_type": "code",
   "execution_count": 1,
   "metadata": {},
   "outputs": [],
   "source": [
    "%run StatTest2_WithSimulation_Setup.ipynb"
   ]
  },
  {
   "cell_type": "code",
   "execution_count": 2,
   "metadata": {
    "scrolled": true
   },
   "outputs": [
    {
     "name": "stderr",
     "output_type": "stream",
     "text": [
      "/anaconda3/lib/python3.6/site-packages/IPython/core/interactiveshell.py:2785: DtypeWarning: Columns (1,2,52,323,649,882,932,1092,1202) have mixed types. Specify dtype option on import or set low_memory=False.\n",
      "  interactivity=interactivity, compiler=compiler, result=result)\n",
      "/anaconda3/lib/python3.6/site-packages/IPython/core/interactiveshell.py:2785: DtypeWarning: Columns (1,2,57,204,341,376,377,396,430,431,928,944,1006,1013,1151,1160,1169,1179,1411) have mixed types. Specify dtype option on import or set low_memory=False.\n",
      "  interactivity=interactivity, compiler=compiler, result=result)\n",
      "/anaconda3/lib/python3.6/site-packages/IPython/core/interactiveshell.py:2785: DtypeWarning: Columns (1,2,17,163,355,406,702,835,847,1083,1156,1183,1185,1200) have mixed types. Specify dtype option on import or set low_memory=False.\n",
      "  interactivity=interactivity, compiler=compiler, result=result)\n"
     ]
    }
   ],
   "source": [
    "data2014 = pd.read_csv(\"Our_Dataset/2014dataset.csv\")\n",
    "data2015 = pd.read_csv(\"Our_Dataset/2015dataset.csv\")\n",
    "data2016 = pd.read_csv(\"Our_Dataset/2016dataset.csv\")\n",
    "data2017 = pd.read_csv(\"Our_Dataset/2017dataset.csv\")"
   ]
  },
  {
   "cell_type": "code",
   "execution_count": 3,
   "metadata": {},
   "outputs": [],
   "source": [
    "# Create the labels.\n",
    "# By index:\n",
    "# label 2 is transfers\n",
    "# label 3 is premiums\n",
    "# label 4 is costs\n",
    "# label 5 is member months\n",
    "# label 6 is reinsurance (individual group only)\n",
    "\n",
    "ind_labels_14 = [\"HIOS ID\", \"HIOS INPUTTED INSURANCE COMPANY NAME\",\n",
    "                  \"HHS RISK ADJUSTMENT TRANSFER AMOUNT (INDIVIDUAL MARKET, INCLUDING CATASTROPHIC)\",\n",
    "                  \"1.1Directpremiumwritten2HealthInsuranceINDIVIDUALTotalasof3/31/15\",\n",
    "                  \"2.16Totalincurredclaims2HealthInsuranceINDIVIDUALTotalasof3/31/15\",\n",
    "                  \"7.4Membermonths2HealthInsuranceINDIVIDUALTotalasof3/31/15\",\n",
    "                  \"STATE\", \"REINSURANCE PAYMENT AMOUNT (OR NOT ELIGIBLE)\"] # no more reinsurance as of 2017\n",
    "ind_labels_15 = [label.replace('15', '16') for label in ind_labels_14]\n",
    "ind_labels_16 = [label.replace('15', '17') for label in ind_labels_14]\n",
    "ind_labels_17 = [label.replace('15', '18') for label in ind_labels_14][:-1]\n",
    "\n",
    "sg_labels_14 = [\"HIOS ID\", \"HIOS INPUTTED INSURANCE COMPANY NAME\",\n",
    "                 \"HHS RISK ADJUSTMENT TRANSFERS AMOUNT (SMALL GROUP MARKET)\",\n",
    "                  \"1.1Directpremiumwritten7HealthInsuranceSMALLGROUPTotalasof3/31/15\",\n",
    "                  \"2.16Totalincurredclaims7HealthInsuranceSMALLGROUPTotalasof3/31/15\",\n",
    "                  \"7.4Membermonths7HealthInsuranceSMALLGROUPTotalasof3/31/15\", \"STATE\"]\n",
    "sg_labels_15 = [label.replace('15', '16') for label in sg_labels_14]\n",
    "sg_labels_16 = [label.replace('15', '17') for label in sg_labels_14]\n",
    "sg_labels_17 = [label.replace('15', '18') for label in sg_labels_14]"
   ]
  },
  {
   "cell_type": "code",
   "execution_count": 4,
   "metadata": {},
   "outputs": [],
   "source": [
    "# Filter the data to include only the fields we want\n",
    "\n",
    "ind_data_14 = data2014[ind_labels_14].dropna()\n",
    "ind_data_15 = data2015[ind_labels_15].dropna()\n",
    "ind_data_16 = data2016[ind_labels_16].dropna()\n",
    "ind_data_17 = data2017[ind_labels_17].dropna()\n",
    "sg_data_14 = data2014[sg_labels_14].dropna()\n",
    "sg_data_15 = data2015[sg_labels_15].dropna()\n",
    "sg_data_16 = data2016[sg_labels_16].dropna()\n",
    "sg_data_17 = data2017[sg_labels_17].dropna()"
   ]
  },
  {
   "cell_type": "code",
   "execution_count": 5,
   "metadata": {},
   "outputs": [],
   "source": [
    "# Drop companies with <2000 MM\n",
    "ind_data_14 = ind_data_14.where(ind_data_14[ind_labels_14[5]] > 2000).dropna()\n",
    "ind_data_15 = ind_data_15.where(ind_data_15[ind_labels_15[5]] > 2000).dropna()\n",
    "ind_data_16 = ind_data_16.where(ind_data_16[ind_labels_16[5]] > 2000).dropna()\n",
    "ind_data_17 = ind_data_17.where(ind_data_17[ind_labels_17[5]] > 2000).dropna()\n",
    "sg_data_14 = sg_data_14.where(sg_data_14[sg_labels_14[5]] > 2000).dropna()\n",
    "sg_data_15 = sg_data_15.where(sg_data_15[sg_labels_15[5]] > 2000).dropna()\n",
    "sg_data_16 = sg_data_16.where(sg_data_16[sg_labels_16[5]] > 2000).dropna()\n",
    "sg_data_17 = sg_data_17.where(sg_data_17[sg_labels_17[5]] > 2000).dropna()"
   ]
  },
  {
   "cell_type": "code",
   "execution_count": 6,
   "metadata": {},
   "outputs": [],
   "source": [
    "# Calculate transfers, premiums, costs, and reinsurance (if individual group) per member month\n",
    "def calculate_pmm(df, df_labels, group):\n",
    "    df[\"MM\"] = df[df_labels[5]]\n",
    "    df[\"Transfers\"] = df[df_labels[2]]\n",
    "    df[\"TotalCosts\"] = abs(df[df_labels[4]])\n",
    "    df[\"Enrollees\"] = df[\"MM\"] / 12\n",
    "    df[\"TransfersPerEnrollee\"] = df[\"Transfers\"] / df[\"Enrollees\"]\n",
    "    df[\"TransfersPerSqrtEnrollee\"] = df[\"Transfers\"] / np.sqrt(df[\"Enrollees\"])\n",
    "    df[\"LogEnrollees\"] = np.log(df[\"Enrollees\"])\n",
    "    df[\"LogTransfers\"] = np.log(df[\"Transfers\"]**2 + 1)\n",
    "    df[\"TransfersPMM\"] = df[df_labels[2]] / df[df_labels[5]]\n",
    "    df[\"PremiumsPMM\"] = abs(df[df_labels[3]] / df[df_labels[5]])\n",
    "    df[\"CostsPMM\"] = abs(df[df_labels[4]] / df[df_labels[5]])\n",
    "    if group == \"i\":\n",
    "        df[\"ReinsurancePMM\"] = df[df_labels[7]] / df[df_labels[5]]\n",
    "        df[\"ProfitsPMM\"] = df[\"PremiumsPMM\"] - df[\"CostsPMM\"] + df[\"TransfersPMM\"] + df[\"ReinsurancePMM\"]\n",
    "        #df[\"PremMinusCostsPlusReinsurancePMM\"] = df[\"PremiumsPMM\"] - df[\"CostsPMM\"] + df[\"ReinsurancePMM\"]\n",
    "    elif group == \"sg\":\n",
    "        df[\"ProfitsPMM\"] = df[\"PremiumsPMM\"] - df[\"CostsPMM\"] + df[\"TransfersPMM\"]\n",
    "    df[\"PremMinusCostsPMM\"] = df[\"PremiumsPMM\"] - df[\"CostsPMM\"]\n",
    "    df[\"PremMinusCostsPlusTransfersPMM\"] = df[\"PremiumsPMM\"] - df[\"CostsPMM\"] + df[\"TransfersPMM\"]\n",
    "    df[\"SicknessPMM\"] = df[\"CostsPMM\"] - df[\"PremiumsPMM\"]\n",
    "    average_sickness = np.mean(df[\"SicknessPMM\"])\n",
    "    df[\"ExcessSicknessPMM\"] = df[\"SicknessPMM\"] - average_sickness\n",
    "    return df\n",
    "\n",
    "ind_data_14 = calculate_pmm(ind_data_14, ind_labels_14, \"i\")\n",
    "ind_data_15 = calculate_pmm(ind_data_15, ind_labels_15, \"i\")\n",
    "ind_data_16 = calculate_pmm(ind_data_16, ind_labels_16, \"i\")\n",
    "ind_data_17 = calculate_pmm(ind_data_17, ind_labels_17, \"sg\")\n",
    "sg_data_14 = calculate_pmm(sg_data_14, sg_labels_14, \"sg\")\n",
    "sg_data_15 = calculate_pmm(sg_data_15, sg_labels_15, \"sg\")\n",
    "sg_data_16 = calculate_pmm(sg_data_16, sg_labels_16, \"sg\")\n",
    "sg_data_17 = calculate_pmm(sg_data_17, sg_labels_17, \"sg\")"
   ]
  },
  {
   "cell_type": "code",
   "execution_count": 7,
   "metadata": {},
   "outputs": [],
   "source": [
    "# Combine the dataframes by left merging\n",
    "\n",
    "ind_data = ind_data_14.merge(ind_data_15, on='HIOS ID', how='outer', suffixes=('_14', '_15'))\\\n",
    ".merge(ind_data_16, on='HIOS ID', how='outer').merge(ind_data_17, on='HIOS ID', how='outer', suffixes=('_16', '_17'))"
   ]
  },
  {
   "cell_type": "code",
   "execution_count": 8,
   "metadata": {},
   "outputs": [],
   "source": [
    "# Do the same thing for small group\n",
    "\n",
    "sg_data = sg_data_14.merge(sg_data_15, on='HIOS ID', how='outer', suffixes=('_14', '_15'))\\\n",
    ".merge(sg_data_16, on='HIOS ID', how='outer').merge(sg_data_17, on='HIOS ID', how='outer', suffixes=('_16', '_17'))"
   ]
  },
  {
   "cell_type": "code",
   "execution_count": 9,
   "metadata": {},
   "outputs": [],
   "source": [
    "states = [\"NY\"]\n",
    "dfs = [sg_data_14, sg_data_15, sg_data_16, sg_data_17]"
   ]
  },
  {
   "cell_type": "code",
   "execution_count": 10,
   "metadata": {},
   "outputs": [
    {
     "name": "stdout",
     "output_type": "stream",
     "text": [
      "20\n",
      "20\n",
      "19\n",
      "20\n",
      "NY 14 Ratio is 1.112\n",
      "NY 15 Ratio is 1.024\n",
      "NY 16 Ratio is 0.985\n",
      "NY 17 Ratio is 0.894\n"
     ]
    }
   ],
   "source": [
    "dfs_new = normalize_empirical_data(dfs, states)"
   ]
  },
  {
   "cell_type": "code",
   "execution_count": 11,
   "metadata": {},
   "outputs": [],
   "source": [
    "for df_temp in dfs_new:\n",
    "    df_temp[\"TransfersNormalizedPerSqrtEnrollee\"] = df_temp[\"TransfersNormalized\"] / np.sqrt(df_temp[\"Enrollees\"])"
   ]
  },
  {
   "cell_type": "code",
   "execution_count": 12,
   "metadata": {},
   "outputs": [
    {
     "data": {
      "text/html": [
       "<div>\n",
       "<style scoped>\n",
       "    .dataframe tbody tr th:only-of-type {\n",
       "        vertical-align: middle;\n",
       "    }\n",
       "\n",
       "    .dataframe tbody tr th {\n",
       "        vertical-align: top;\n",
       "    }\n",
       "\n",
       "    .dataframe thead th {\n",
       "        text-align: right;\n",
       "    }\n",
       "</style>\n",
       "<table border=\"1\" class=\"dataframe\">\n",
       "  <thead>\n",
       "    <tr style=\"text-align: right;\">\n",
       "      <th></th>\n",
       "      <th>TransfersPerSqrtEnrollee</th>\n",
       "      <th>TransfersNormalizedPerSqrtEnrollee</th>\n",
       "    </tr>\n",
       "  </thead>\n",
       "  <tbody>\n",
       "    <tr>\n",
       "      <th>369</th>\n",
       "      <td>-83936.051075</td>\n",
       "      <td>-75022.785647</td>\n",
       "    </tr>\n",
       "    <tr>\n",
       "      <th>370</th>\n",
       "      <td>-99134.339912</td>\n",
       "      <td>-88607.150781</td>\n",
       "    </tr>\n",
       "    <tr>\n",
       "      <th>371</th>\n",
       "      <td>12954.997165</td>\n",
       "      <td>11579.291174</td>\n",
       "    </tr>\n",
       "    <tr>\n",
       "      <th>373</th>\n",
       "      <td>-89550.598545</td>\n",
       "      <td>-80041.117889</td>\n",
       "    </tr>\n",
       "    <tr>\n",
       "      <th>375</th>\n",
       "      <td>-64714.498394</td>\n",
       "      <td>-57842.391667</td>\n",
       "    </tr>\n",
       "    <tr>\n",
       "      <th>376</th>\n",
       "      <td>-72822.914520</td>\n",
       "      <td>-65089.765795</td>\n",
       "    </tr>\n",
       "    <tr>\n",
       "      <th>379</th>\n",
       "      <td>-13830.985219</td>\n",
       "      <td>-12362.257052</td>\n",
       "    </tr>\n",
       "    <tr>\n",
       "      <th>380</th>\n",
       "      <td>-47259.283734</td>\n",
       "      <td>-42240.766250</td>\n",
       "    </tr>\n",
       "    <tr>\n",
       "      <th>382</th>\n",
       "      <td>-75476.709653</td>\n",
       "      <td>-67461.751382</td>\n",
       "    </tr>\n",
       "    <tr>\n",
       "      <th>383</th>\n",
       "      <td>-13194.282310</td>\n",
       "      <td>-11793.166355</td>\n",
       "    </tr>\n",
       "    <tr>\n",
       "      <th>384</th>\n",
       "      <td>-68637.891471</td>\n",
       "      <td>-61349.155139</td>\n",
       "    </tr>\n",
       "    <tr>\n",
       "      <th>385</th>\n",
       "      <td>-104463.256973</td>\n",
       "      <td>-93370.184033</td>\n",
       "    </tr>\n",
       "    <tr>\n",
       "      <th>386</th>\n",
       "      <td>-88465.932803</td>\n",
       "      <td>-79071.634045</td>\n",
       "    </tr>\n",
       "    <tr>\n",
       "      <th>387</th>\n",
       "      <td>-14271.436890</td>\n",
       "      <td>-12755.936656</td>\n",
       "    </tr>\n",
       "    <tr>\n",
       "      <th>388</th>\n",
       "      <td>-420741.632743</td>\n",
       "      <td>-376062.596725</td>\n",
       "    </tr>\n",
       "    <tr>\n",
       "      <th>389</th>\n",
       "      <td>310857.403428</td>\n",
       "      <td>277847.099613</td>\n",
       "    </tr>\n",
       "    <tr>\n",
       "      <th>391</th>\n",
       "      <td>-171075.245582</td>\n",
       "      <td>-152908.569256</td>\n",
       "    </tr>\n",
       "    <tr>\n",
       "      <th>392</th>\n",
       "      <td>-24258.491583</td>\n",
       "      <td>-21682.454570</td>\n",
       "    </tr>\n",
       "    <tr>\n",
       "      <th>394</th>\n",
       "      <td>104377.968670</td>\n",
       "      <td>93293.952593</td>\n",
       "    </tr>\n",
       "    <tr>\n",
       "      <th>395</th>\n",
       "      <td>-74693.459581</td>\n",
       "      <td>-66761.675533</td>\n",
       "    </tr>\n",
       "  </tbody>\n",
       "</table>\n",
       "</div>"
      ],
      "text/plain": [
       "     TransfersPerSqrtEnrollee  TransfersNormalizedPerSqrtEnrollee\n",
       "369             -83936.051075                       -75022.785647\n",
       "370             -99134.339912                       -88607.150781\n",
       "371              12954.997165                        11579.291174\n",
       "373             -89550.598545                       -80041.117889\n",
       "375             -64714.498394                       -57842.391667\n",
       "376             -72822.914520                       -65089.765795\n",
       "379             -13830.985219                       -12362.257052\n",
       "380             -47259.283734                       -42240.766250\n",
       "382             -75476.709653                       -67461.751382\n",
       "383             -13194.282310                       -11793.166355\n",
       "384             -68637.891471                       -61349.155139\n",
       "385            -104463.256973                       -93370.184033\n",
       "386             -88465.932803                       -79071.634045\n",
       "387             -14271.436890                       -12755.936656\n",
       "388            -420741.632743                      -376062.596725\n",
       "389             310857.403428                       277847.099613\n",
       "391            -171075.245582                      -152908.569256\n",
       "392             -24258.491583                       -21682.454570\n",
       "394             104377.968670                        93293.952593\n",
       "395             -74693.459581                       -66761.675533"
      ]
     },
     "execution_count": 12,
     "metadata": {},
     "output_type": "execute_result"
    }
   ],
   "source": [
    "dfs_new[3][[\"TransfersPerSqrtEnrollee\", \"TransfersNormalizedPerSqrtEnrollee\"]]"
   ]
  },
  {
   "cell_type": "code",
   "execution_count": 13,
   "metadata": {},
   "outputs": [],
   "source": [
    "df2 = create_df2(states, dfs_new, \"TransfersNormalizedPerSqrtEnrollee\")"
   ]
  },
  {
   "cell_type": "code",
   "execution_count": 14,
   "metadata": {},
   "outputs": [],
   "source": [
    "k = len(df2)\n",
    "v = np.linspace(0, max(abs(df2)), 10000)\n",
    "v = v[1:len(v)]\n",
    "\n",
    "ratios = [ratio_list(df2, vi) for vi in v]\n",
    "#print(ratios)\n",
    "begin_p = 5/k\n",
    "end_p = 1-begin_p\n",
    "start_index = 0\n",
    "end_index = 0\n",
    "for index, ratio2 in enumerate(ratios):\n",
    "    if ratio2 >= begin_p:\n",
    "        start_index = index\n",
    "        break\n",
    "    \n",
    "for index, ratio2 in enumerate(ratios):\n",
    "    if ratio2 > end_p:\n",
    "        end_index = index\n",
    "        break\n",
    "\n",
    "if end_index == 0:\n",
    "    end_index = len(v) - 1\n",
    "    \n",
    "v = v[start_index:end_index]\n",
    "\n",
    "ratios2 = ratios[start_index:end_index]\n",
    "multiplier = [np.sqrt(2)/vi for vi in v]\n",
    "#plt.plot(v, ratios2)\n",
    "#plt.plot(v, multiplier)"
   ]
  },
  {
   "cell_type": "code",
   "execution_count": 15,
   "metadata": {},
   "outputs": [],
   "source": [
    "y = [multiplier[i] * special.erfinv(ratio2) for i, ratio2 in enumerate(ratios2)]\n",
    "#plt.plot(v, y)\n",
    "#plt.title(\"1/beta vs. v\")\n",
    "beta = [1/yi for yi in y]\n",
    "#plt.plot(v, beta)\n",
    "#plt.axvline(x=64432.69, color='r', linestyle='--', label=\"Point of max difference\")\n",
    "#plt.title(\"beta vs. v\")"
   ]
  },
  {
   "cell_type": "code",
   "execution_count": 16,
   "metadata": {},
   "outputs": [],
   "source": [
    "# Finding the minimum beta\n",
    "# Whenever we reject a beta, we reject all betas greater than that,\n",
    "# so keep pushing beta smaller until we reach max_difference == test_statistic\n",
    "# Run test for larger data sizes (combining states, years)"
   ]
  },
  {
   "cell_type": "code",
   "execution_count": 17,
   "metadata": {},
   "outputs": [],
   "source": [
    "max_beta=max(beta)\n",
    "max_beta = int(max_beta/100)*100"
   ]
  },
  {
   "cell_type": "code",
   "execution_count": 18,
   "metadata": {
    "scrolled": true
   },
   "outputs": [
    {
     "name": "stdout",
     "output_type": "stream",
     "text": [
      "beta = 199200.000\n"
     ]
    },
    {
     "data": {
      "image/png": "[encoded data removed]",
      "text/plain": [
       "<Figure size 432x288 with 1 Axes>"
      ]
     },
     "metadata": {},
     "output_type": "display_data"
    }
   ],
   "source": [
    "theoretical = [special.erf(vi/(max_beta*np.sqrt(2))) for vi in v]\n",
    "\n",
    "plt.plot(v, theoretical, label=\"P(|N(0,beta^2)|<v)\")\n",
    "plt.plot(v, ratios2, label=\"P(|d_i|<v)\")\n",
    "plt.title(\"P(|N(0,beta^2)|<v) and P(|d_i|<v) vs. v for %s 2014-2017 (k=%d)\" % (states, len(df2)))\n",
    "#plt.axvline(x=64432.69, color='r', linestyle='--', label=\"Point of max difference\")\n",
    "plt.legend()\n",
    "print(\"beta = %.3f\" % (max_beta))"
   ]
  },
  {
   "cell_type": "code",
   "execution_count": 19,
   "metadata": {},
   "outputs": [
    {
     "name": "stdout",
     "output_type": "stream",
     "text": [
      "k = 79\n",
      "test_stat at this k = 0.15280\n",
      "\n",
      "At the point of maximum difference with beta = 199200:\n",
      "P(|d_i|<v) = 0.7722\n",
      "P(|N(0,max_beta^2)|<v) = 0.3617\n",
      "Difference = 0.4105\n",
      "\n",
      "\n",
      "\n",
      "\n",
      "At the point of maximum difference with beta = 189200:\n",
      "P(|d_i|<v) = 0.7722\n",
      "P(|N(0,max_beta^2)|<v) = 0.3793\n",
      "Difference = 0.3928\n",
      "\n",
      "\n",
      "\n",
      "\n",
      "At the point of maximum difference with beta = 179200:\n",
      "P(|d_i|<v) = 0.7722\n",
      "P(|N(0,max_beta^2)|<v) = 0.3987\n",
      "Difference = 0.3735\n",
      "\n",
      "\n",
      "\n",
      "\n",
      "At the point of maximum difference with beta = 169200:\n",
      "P(|d_i|<v) = 0.7722\n",
      "P(|N(0,max_beta^2)|<v) = 0.4200\n",
      "Difference = 0.3522\n",
      "\n",
      "\n",
      "\n",
      "\n",
      "At the point of maximum difference with beta = 159200:\n",
      "P(|d_i|<v) = 0.7722\n",
      "P(|N(0,max_beta^2)|<v) = 0.4436\n",
      "Difference = 0.3286\n",
      "\n",
      "\n",
      "\n",
      "\n",
      "At the point of maximum difference with beta = 149200:\n",
      "P(|d_i|<v) = 0.7722\n",
      "P(|N(0,max_beta^2)|<v) = 0.4697\n",
      "Difference = 0.3024\n",
      "\n",
      "\n",
      "\n",
      "\n",
      "At the point of maximum difference with beta = 139200:\n",
      "P(|d_i|<v) = 0.7089\n",
      "P(|N(0,max_beta^2)|<v) = 0.4349\n",
      "Difference = 0.2739\n",
      "\n",
      "\n",
      "\n",
      "\n",
      "At the point of maximum difference with beta = 129200:\n",
      "P(|d_i|<v) = 0.6456\n",
      "P(|N(0,max_beta^2)|<v) = 0.3985\n",
      "Difference = 0.2471\n",
      "\n",
      "\n",
      "\n",
      "\n",
      "At the point of maximum difference with beta = 119200:\n",
      "P(|d_i|<v) = 0.6456\n",
      "P(|N(0,max_beta^2)|<v) = 0.4286\n",
      "Difference = 0.2170\n",
      "\n",
      "\n",
      "\n",
      "\n",
      "At the point of maximum difference with beta = 109200:\n",
      "P(|d_i|<v) = 0.5190\n",
      "P(|N(0,max_beta^2)|<v) = 0.3290\n",
      "Difference = 0.1900\n",
      "\n",
      "\n",
      "\n",
      "\n",
      "At the point of maximum difference with beta = 99200:\n",
      "P(|d_i|<v) = 0.5190\n",
      "P(|N(0,max_beta^2)|<v) = 0.3599\n",
      "Difference = 0.1591\n",
      "\n",
      "\n",
      "\n",
      "\n",
      "At the point of maximum difference with beta = 99200:\n",
      "P(|d_i|<v) = 0.5190\n",
      "P(|N(0,max_beta^2)|<v) = 0.3599\n",
      "Difference = 0.1591\n",
      "\n",
      "\n",
      "\n",
      "\n",
      "At the point of maximum difference with beta = 99100:\n",
      "P(|d_i|<v) = 0.5190\n",
      "P(|N(0,max_beta^2)|<v) = 0.3603\n",
      "Difference = 0.1587\n",
      "\n",
      "\n",
      "\n",
      "\n",
      "At the point of maximum difference with beta = 99000:\n",
      "P(|d_i|<v) = 0.5190\n",
      "P(|N(0,max_beta^2)|<v) = 0.3606\n",
      "Difference = 0.1584\n",
      "\n",
      "\n",
      "\n",
      "\n",
      "At the point of maximum difference with beta = 98900:\n",
      "P(|d_i|<v) = 0.5190\n",
      "P(|N(0,max_beta^2)|<v) = 0.3609\n",
      "Difference = 0.1580\n",
      "\n",
      "\n",
      "\n",
      "\n",
      "At the point of maximum difference with beta = 98800:\n",
      "P(|d_i|<v) = 0.5190\n",
      "P(|N(0,max_beta^2)|<v) = 0.3613\n",
      "Difference = 0.1577\n",
      "\n",
      "\n",
      "\n",
      "\n",
      "At the point of maximum difference with beta = 98700:\n",
      "P(|d_i|<v) = 0.5190\n",
      "P(|N(0,max_beta^2)|<v) = 0.3616\n",
      "Difference = 0.1574\n",
      "\n",
      "\n",
      "\n",
      "\n",
      "At the point of maximum difference with beta = 98600:\n",
      "P(|d_i|<v) = 0.5190\n",
      "P(|N(0,max_beta^2)|<v) = 0.3620\n",
      "Difference = 0.1570\n",
      "\n",
      "\n",
      "\n",
      "\n",
      "At the point of maximum difference with beta = 98500:\n",
      "P(|d_i|<v) = 0.5190\n",
      "P(|N(0,max_beta^2)|<v) = 0.3623\n",
      "Difference = 0.1567\n",
      "\n",
      "\n",
      "\n",
      "\n",
      "At the point of maximum difference with beta = 98400:\n",
      "P(|d_i|<v) = 0.5190\n",
      "P(|N(0,max_beta^2)|<v) = 0.3627\n",
      "Difference = 0.1563\n",
      "\n",
      "\n",
      "\n",
      "\n",
      "At the point of maximum difference with beta = 98300:\n",
      "P(|d_i|<v) = 0.5190\n",
      "P(|N(0,max_beta^2)|<v) = 0.3630\n",
      "Difference = 0.1560\n",
      "\n",
      "\n",
      "\n",
      "\n",
      "At the point of maximum difference with beta = 98200:\n",
      "P(|d_i|<v) = 0.5190\n",
      "P(|N(0,max_beta^2)|<v) = 0.3633\n",
      "Difference = 0.1556\n",
      "\n",
      "\n",
      "\n",
      "\n",
      "At the point of maximum difference with beta = 98100:\n",
      "P(|d_i|<v) = 0.5190\n",
      "P(|N(0,max_beta^2)|<v) = 0.3637\n",
      "Difference = 0.1553\n",
      "\n",
      "\n",
      "\n",
      "\n",
      "At the point of maximum difference with beta = 98000:\n",
      "P(|d_i|<v) = 0.5190\n",
      "P(|N(0,max_beta^2)|<v) = 0.3640\n",
      "Difference = 0.1550\n",
      "\n",
      "\n",
      "\n",
      "\n",
      "At the point of maximum difference with beta = 97900:\n",
      "P(|d_i|<v) = 0.5190\n",
      "P(|N(0,max_beta^2)|<v) = 0.3644\n",
      "Difference = 0.1546\n",
      "\n",
      "\n",
      "\n",
      "\n",
      "At the point of maximum difference with beta = 97800:\n",
      "P(|d_i|<v) = 0.5190\n",
      "P(|N(0,max_beta^2)|<v) = 0.3647\n",
      "Difference = 0.1543\n",
      "\n",
      "\n",
      "\n",
      "\n",
      "At the point of maximum difference with beta = 97700:\n",
      "P(|d_i|<v) = 0.5190\n",
      "P(|N(0,max_beta^2)|<v) = 0.3651\n",
      "Difference = 0.1539\n",
      "\n",
      "\n",
      "\n",
      "\n",
      "At the point of maximum difference with beta = 97600:\n",
      "P(|d_i|<v) = 0.5190\n",
      "P(|N(0,max_beta^2)|<v) = 0.3654\n",
      "Difference = 0.1536\n",
      "\n",
      "\n",
      "\n",
      "\n",
      "At the point of maximum difference with beta = 97500:\n",
      "P(|d_i|<v) = 0.5190\n",
      "P(|N(0,max_beta^2)|<v) = 0.3658\n",
      "Difference = 0.1532\n",
      "\n",
      "\n",
      "\n",
      "\n",
      "At the point of maximum difference with beta = 97400:\n",
      "P(|d_i|<v) = 0.5190\n",
      "P(|N(0,max_beta^2)|<v) = 0.3661\n",
      "Difference = 0.1529\n",
      "\n",
      "\n",
      "\n"
     ]
    }
   ],
   "source": [
    "beta1, Mb_index = run_test_against_theoretical(df2, max_beta, ratios2)"
   ]
  },
  {
   "cell_type": "code",
   "execution_count": 20,
   "metadata": {},
   "outputs": [
    {
     "data": {
      "text/plain": [
       "<matplotlib.legend.Legend at 0x1c1577e828>"
      ]
     },
     "execution_count": 20,
     "metadata": {},
     "output_type": "execute_result"
    },
    {
     "data": {
      "image/png": "[encoded data removed]",
      "text/plain": [
       "<Figure size 432x288 with 1 Axes>"
      ]
     },
     "metadata": {},
     "output_type": "display_data"
    }
   ],
   "source": [
    "beta1 = beta1+100\n",
    "\n",
    "theoretical = [special.erf(vi/(beta1*np.sqrt(2))) for vi in v]\n",
    "\n",
    "plt.plot(v, theoretical, label=\"P(|N(0,beta^2)|<v) beta=%d\" % (beta1))\n",
    "plt.plot(v, ratios2, label=\"P(|d_i|<v)\")\n",
    "plt.title(\"P(|N(0,beta^2)|<v) and P(|d_i|<v) vs. v for %s 2014-2017 (k=%d)\" % (states, len(df2)))\n",
    "plt.axvline(x=v[Mb_index], color='r', linestyle='--', label=\"Point of max difference\")\n",
    "plt.legend()\n",
    "#plt.xlim(0, 50000)\n",
    "#print(\"beta = %.3f\" % (max_beta))"
   ]
  },
  {
   "cell_type": "code",
   "execution_count": 21,
   "metadata": {},
   "outputs": [
    {
     "name": "stdout",
     "output_type": "stream",
     "text": [
      "Beta (=std): 97400\n",
      "Number of T/sqrt(n) above 2 stds: 14\n",
      "Proportion of T/sqrt(n) above 2 stds: 0.177\n",
      "P value = 0.000002\n"
     ]
    }
   ],
   "source": [
    "run_binom_stat_test2(beta1, df2.values)"
   ]
  },
  {
   "cell_type": "code",
   "execution_count": 22,
   "metadata": {},
   "outputs": [],
   "source": [
    "df3 = create_df3(states, dfs_new)"
   ]
  },
  {
   "cell_type": "code",
   "execution_count": 23,
   "metadata": {},
   "outputs": [],
   "source": [
    "ratios_c = create_simulation_adjust_for_imbalances(states, dfs_new, beta1 - 10000)\n",
    "ratios_c2 = create_simulation_adjust_for_imbalances(states, dfs_new, beta1)\n",
    "ratios_c3 = create_simulation_adjust_for_imbalances(states, dfs_new, beta1 + 10000)"
   ]
  },
  {
   "cell_type": "code",
   "execution_count": 24,
   "metadata": {},
   "outputs": [
    {
     "data": {
      "text/plain": [
       "<matplotlib.legend.Legend at 0x1c15de69e8>"
      ]
     },
     "execution_count": 24,
     "metadata": {},
     "output_type": "execute_result"
    },
    {
     "data": {
      "image/png": "[encoded data removed]",
      "text/plain": [
       "<Figure size 720x504 with 1 Axes>"
      ]
     },
     "metadata": {},
     "output_type": "display_data"
    }
   ],
   "source": [
    "theoretical = [special.erf(vi/(beta1*np.sqrt(2))) for vi in v]\n",
    "\n",
    "plt.figure(figsize=(10, 7))\n",
    "plt.plot(v, theoretical, label=\"P(|N(0,beta^2)|<v) with beta = %d\" % (beta1))\n",
    "plt.plot(v, ratios2, label=\"P(|d_i|<v) = empirical distribution\")\n",
    "plt.plot(v, ratios_c, label=\"Simulation with es = %d, 5 times\" % (beta1 - 10000))\n",
    "plt.plot(v, ratios_c2, label=\"Simulation with es = %d, 5 times\" % (beta1))\n",
    "plt.plot(v, ratios_c3, label=\"Simulation with es = %d, 5 times\" % (beta1 + 10000))\n",
    "plt.title(\"P(|N(0,beta^2)|<v) and P(|d_i|<v) vs. v for %s (k=%d)\" % (states, len(df2)))\n",
    "plt.legend()"
   ]
  },
  {
   "cell_type": "code",
   "execution_count": 25,
   "metadata": {},
   "outputs": [
    {
     "name": "stdout",
     "output_type": "stream",
     "text": [
      "k = 79\n",
      "test_stat at this k = 0.15280\n",
      "\n",
      "At the point of maximum difference with beta = 97400:\n",
      "P(|d_i|<v) = 0.4557\n",
      "P(|N(0,max_beta^2)|<v) = 0.3105\n",
      "Difference = 0.1451 NOT > test_stat\n",
      "\n",
      "At the point of maximum difference with beta = 107400:\n",
      "P(|d_i|<v) = 0.4557\n",
      "P(|N(0,max_beta^2)|<v) = 0.2954\n",
      "Difference = 0.1603\n",
      "\n",
      "\n",
      "\n",
      "\n",
      "At the point of maximum difference with beta = 107300:\n",
      "P(|d_i|<v) = 0.5190\n",
      "P(|N(0,max_beta^2)|<v) = 0.3561\n",
      "Difference = 0.1629\n",
      "\n",
      "\n",
      "\n",
      "\n",
      "At the point of maximum difference with beta = 107200:\n",
      "P(|d_i|<v) = 0.5190\n",
      "P(|N(0,max_beta^2)|<v) = 0.3502\n",
      "Difference = 0.1688\n",
      "\n",
      "\n",
      "\n",
      "\n",
      "At the point of maximum difference with beta = 107100:\n",
      "P(|d_i|<v) = 0.5190\n",
      "P(|N(0,max_beta^2)|<v) = 0.3586\n",
      "Difference = 0.1603\n",
      "\n",
      "\n",
      "\n",
      "\n",
      "At the point of maximum difference with beta = 107000:\n",
      "P(|d_i|<v) = 0.4557\n",
      "P(|N(0,max_beta^2)|<v) = 0.2743\n",
      "Difference = 0.1814\n",
      "\n",
      "\n",
      "\n",
      "\n",
      "At the point of maximum difference with beta = 106900:\n",
      "P(|d_i|<v) = 0.6456\n",
      "P(|N(0,max_beta^2)|<v) = 0.4776\n",
      "Difference = 0.1679\n",
      "\n",
      "\n",
      "\n",
      "\n",
      "At the point of maximum difference with beta = 106800:\n",
      "P(|d_i|<v) = 0.5190\n",
      "P(|N(0,max_beta^2)|<v) = 0.3401\n",
      "Difference = 0.1789\n",
      "\n",
      "\n",
      "\n",
      "\n",
      "At the point of maximum difference with beta = 106700:\n",
      "P(|d_i|<v) = 0.6456\n",
      "P(|N(0,max_beta^2)|<v) = 0.4802\n",
      "Difference = 0.1654\n",
      "\n",
      "\n",
      "\n",
      "\n",
      "At the point of maximum difference with beta = 106600:\n",
      "P(|d_i|<v) = 0.5190\n",
      "P(|N(0,max_beta^2)|<v) = 0.3603\n",
      "Difference = 0.1586\n",
      "\n",
      "\n",
      "\n",
      "\n",
      "At the point of maximum difference with beta = 106500:\n",
      "P(|d_i|<v) = 0.5190\n",
      "P(|N(0,max_beta^2)|<v) = 0.3747\n",
      "Difference = 0.1443 NOT > test_stat\n"
     ]
    }
   ],
   "source": [
    "beta1, _= run_test_against_simulation_adjust_for_imbalances(states, dfs_new, beta1, ratios2)"
   ]
  },
  {
   "cell_type": "code",
   "execution_count": 26,
   "metadata": {},
   "outputs": [
    {
     "name": "stdout",
     "output_type": "stream",
     "text": [
      "Beta (=std): 106500\n",
      "Number of T/sqrt(n) above 2 stds: 14\n",
      "Proportion of T/sqrt(n) above 2 stds: 0.177\n",
      "P value = 0.000002\n"
     ]
    }
   ],
   "source": [
    "run_binom_stat_test2(beta1, df2.values)"
   ]
  },
  {
   "cell_type": "code",
   "execution_count": null,
   "metadata": {},
   "outputs": [],
   "source": []
  }
 ],
 "metadata": {
  "kernelspec": {
   "display_name": "Python 3",
   "language": "python",
   "name": "python3"
  },
  "language_info": {
   "codemirror_mode": {
    "name": "ipython",
    "version": 3
   },
   "file_extension": ".py",
   "mimetype": "text/x-python",
   "name": "python",
   "nbconvert_exporter": "python",
   "pygments_lexer": "ipython3",
   "version": "3.6.5"
  }
 },
 "nbformat": 4,
 "nbformat_minor": 2
}
