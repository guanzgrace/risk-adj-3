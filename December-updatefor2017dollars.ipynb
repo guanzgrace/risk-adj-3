{
 "cells": [
  {
   "cell_type": "code",
   "execution_count": 1,
   "metadata": {},
   "outputs": [
    {
     "name": "stdout",
     "output_type": "stream",
     "text": [
      "{0: ['ME', 'IL', 'PA', 'GA', 'OK', 'DE', 'WA', 'CT', 'OH', 'VA', 'NE', 'MT', 'IN', 'CA', 'HI', 'ND', 'MD', 'SC', 'RI', 'AK', 'KY', 'WI', 'LA', 'MN', 'MS', 'WV', 'FL'], 1: ['SD', 'IL', 'PA', 'NH', 'NM', 'NV', 'OK', 'UT', 'CT', 'OH', 'VA', 'OR', 'CO', 'IN', 'HI', 'AL', 'RI', 'AK', 'LA', 'MN', 'IA', 'AR', 'WV'], 2: ['MI', 'ME', 'WY', 'DC', 'TX', 'AZ', 'NC', 'WA', 'OR', 'CO', 'MT', 'ND', 'TN', 'SC', 'AL', 'NY', 'KY', 'NJ', 'KS', 'ID', 'IA', 'AR', 'MO'], 3: ['MI', 'SD', 'WY', 'NH', 'DC', 'TX', 'GA', 'AZ', 'NM', 'NC', 'NV', 'DE', 'UT', 'NE', 'CA', 'MD', 'TN', 'NY', 'NJ', 'KS', 'WI', 'ID', 'MS', 'FL', 'MO']}\n",
      "{0: ['MI', 'SD', 'WY', 'NH', 'DC', 'TX', 'AZ', 'NM', 'NC', 'NV', 'UT', 'OR', 'CO', 'TN', 'AL', 'NY', 'NJ', 'KS', 'ID', 'IA', 'AR', 'MO'], 1: ['MI', 'ME', 'WY', 'DC', 'TX', 'GA', 'AZ', 'NC', 'DE', 'WA', 'NE', 'MT', 'CA', 'ND', 'MD', 'TN', 'SC', 'NY', 'KY', 'NJ', 'KS', 'WI', 'ID', 'MS', 'FL', 'MO'], 2: ['SD', 'IL', 'PA', 'NH', 'GA', 'NM', 'NV', 'OK', 'DE', 'UT', 'CT', 'OH', 'VA', 'NE', 'IN', 'CA', 'HI', 'MD', 'RI', 'AK', 'WI', 'LA', 'MN', 'MS', 'WV', 'FL'], 3: ['ME', 'IL', 'PA', 'OK', 'WA', 'CT', 'OH', 'VA', 'OR', 'CO', 'MT', 'IN', 'HI', 'ND', 'SC', 'AL', 'RI', 'AK', 'KY', 'LA', 'MN', 'IA', 'AR', 'WV']}\n"
     ]
    }
   ],
   "source": [
    "%run StatTest2_WithSimulation_Setup.ipynb"
   ]
  },
  {
   "cell_type": "code",
   "execution_count": 2,
   "metadata": {
    "scrolled": true
   },
   "outputs": [
    {
     "name": "stderr",
     "output_type": "stream",
     "text": [
      "/anaconda3/lib/python3.6/site-packages/IPython/core/interactiveshell.py:2785: DtypeWarning: Columns (1,2,52,323,649,882,932,1092,1202) have mixed types. Specify dtype option on import or set low_memory=False.\n",
      "  interactivity=interactivity, compiler=compiler, result=result)\n",
      "/anaconda3/lib/python3.6/site-packages/IPython/core/interactiveshell.py:2785: DtypeWarning: Columns (1,2,57,204,341,376,377,396,430,431,928,944,1006,1013,1151,1160,1169,1179,1411) have mixed types. Specify dtype option on import or set low_memory=False.\n",
      "  interactivity=interactivity, compiler=compiler, result=result)\n",
      "/anaconda3/lib/python3.6/site-packages/IPython/core/interactiveshell.py:2785: DtypeWarning: Columns (1,2,17,163,355,406,702,835,847,1083,1156,1183,1185,1200) have mixed types. Specify dtype option on import or set low_memory=False.\n",
      "  interactivity=interactivity, compiler=compiler, result=result)\n"
     ]
    }
   ],
   "source": [
    "data2014 = pd.read_csv(\"Our_Dataset/2014dataset.csv\")\n",
    "data2015 = pd.read_csv(\"Our_Dataset/2015dataset.csv\")\n",
    "data2016 = pd.read_csv(\"Our_Dataset/2016dataset.csv\")\n",
    "data2017 = pd.read_csv(\"Our_Dataset/2017dataset.csv\")"
   ]
  },
  {
   "cell_type": "code",
   "execution_count": 3,
   "metadata": {},
   "outputs": [],
   "source": [
    "# Create the labels.\n",
    "# By index:\n",
    "# label 2 is transfers\n",
    "# label 3 is premiums\n",
    "# label 4 is costs\n",
    "# label 5 is member months\n",
    "# label 6 is reinsurance (individual group only)\n",
    "\n",
    "ind_labels_14 = [\"HIOS ID\", \"HIOS INPUTTED INSURANCE COMPANY NAME\",\n",
    "                  \"HHS RISK ADJUSTMENT TRANSFER AMOUNT (INDIVIDUAL MARKET, INCLUDING CATASTROPHIC)\",\n",
    "                  \"1.1Directpremiumwritten2HealthInsuranceINDIVIDUALTotalasof3/31/15\",\n",
    "                  \"2.16Totalincurredclaims2HealthInsuranceINDIVIDUALTotalasof3/31/15\",\n",
    "                  \"7.4Membermonths2HealthInsuranceINDIVIDUALTotalasof3/31/15\",\n",
    "                  \"STATE\", \"REINSURANCE PAYMENT AMOUNT (OR NOT ELIGIBLE)\"] # no more reinsurance as of 2017\n",
    "ind_labels_15 = [label.replace('15', '16') for label in ind_labels_14]\n",
    "ind_labels_16 = [label.replace('15', '17') for label in ind_labels_14]\n",
    "ind_labels_17 = [label.replace('15', '18') for label in ind_labels_14][:-1]\n",
    "\n",
    "sg_labels_14 = [\"HIOS ID\", \"HIOS INPUTTED INSURANCE COMPANY NAME\",\n",
    "                 \"HHS RISK ADJUSTMENT TRANSFERS AMOUNT (SMALL GROUP MARKET)\",\n",
    "                  \"1.1Directpremiumwritten7HealthInsuranceSMALLGROUPTotalasof3/31/15\",\n",
    "                  \"2.16Totalincurredclaims7HealthInsuranceSMALLGROUPTotalasof3/31/15\",\n",
    "                  \"7.4Membermonths7HealthInsuranceSMALLGROUPTotalasof3/31/15\", \"STATE\"]\n",
    "sg_labels_15 = [label.replace('15', '16') for label in sg_labels_14]\n",
    "sg_labels_16 = [label.replace('15', '17') for label in sg_labels_14]\n",
    "sg_labels_17 = [label.replace('15', '18') for label in sg_labels_14]"
   ]
  },
  {
   "cell_type": "code",
   "execution_count": 4,
   "metadata": {},
   "outputs": [],
   "source": [
    "# Filter the data to include only the fields we want\n",
    "\n",
    "ind_data_14 = data2014[ind_labels_14].dropna()\n",
    "ind_data_15 = data2015[ind_labels_15].dropna()\n",
    "ind_data_16 = data2016[ind_labels_16].dropna()\n",
    "ind_data_17 = data2017[ind_labels_17].dropna()\n",
    "sg_data_14 = data2014[sg_labels_14].dropna()\n",
    "sg_data_15 = data2015[sg_labels_15].dropna()\n",
    "sg_data_16 = data2016[sg_labels_16].dropna()\n",
    "sg_data_17 = data2017[sg_labels_17].dropna()"
   ]
  },
  {
   "cell_type": "code",
   "execution_count": 5,
   "metadata": {},
   "outputs": [],
   "source": [
    "# Drop companies with <2000 MM\n",
    "ind_data_14 = ind_data_14.where(ind_data_14[ind_labels_14[5]] > 2000).dropna()\n",
    "ind_data_15 = ind_data_15.where(ind_data_15[ind_labels_15[5]] > 2000).dropna()\n",
    "ind_data_16 = ind_data_16.where(ind_data_16[ind_labels_16[5]] > 2000).dropna()\n",
    "ind_data_17 = ind_data_17.where(ind_data_17[ind_labels_17[5]] > 2000).dropna()\n",
    "sg_data_14 = sg_data_14.where(sg_data_14[sg_labels_14[5]] > 2000).dropna()\n",
    "sg_data_15 = sg_data_15.where(sg_data_15[sg_labels_15[5]] > 2000).dropna()\n",
    "sg_data_16 = sg_data_16.where(sg_data_16[sg_labels_16[5]] > 2000).dropna()\n",
    "sg_data_17 = sg_data_17.where(sg_data_17[sg_labels_17[5]] > 2000).dropna()"
   ]
  },
  {
   "cell_type": "code",
   "execution_count": 6,
   "metadata": {},
   "outputs": [],
   "source": [
    "# Calculate transfers, premiums, costs, and reinsurance (if individual group) per member month\n",
    "def calculate_pmm(df, df_labels, group):\n",
    "    df[\"MM\"] = df[df_labels[5]]\n",
    "    df[\"Transfers\"] = df[df_labels[2]]\n",
    "    df[\"TotalCosts\"] = abs(df[df_labels[4]])\n",
    "    df[\"Enrollees\"] = df[\"MM\"] / 12\n",
    "    df[\"TransfersPerEnrollee\"] = df[\"Transfers\"] / df[\"Enrollees\"]\n",
    "    df[\"TransfersPerSqrtEnrollee\"] = df[\"Transfers\"] / np.sqrt(df[\"Enrollees\"])\n",
    "    df[\"LogEnrollees\"] = np.log(df[\"Enrollees\"])\n",
    "    df[\"LogTransfers\"] = np.log(df[\"Transfers\"]**2 + 1)\n",
    "    df[\"TransfersPMM\"] = df[df_labels[2]] / df[df_labels[5]]\n",
    "    df[\"PremiumsPMM\"] = abs(df[df_labels[3]] / df[df_labels[5]])\n",
    "    df[\"CostsPMM\"] = abs(df[df_labels[4]] / df[df_labels[5]])\n",
    "    if group == \"i\":\n",
    "        df[\"ReinsurancePMM\"] = df[df_labels[7]] / df[df_labels[5]]\n",
    "        df[\"ProfitsPMM\"] = df[\"PremiumsPMM\"] - df[\"CostsPMM\"] + df[\"TransfersPMM\"] + df[\"ReinsurancePMM\"]\n",
    "        #df[\"PremMinusCostsPlusReinsurancePMM\"] = df[\"PremiumsPMM\"] - df[\"CostsPMM\"] + df[\"ReinsurancePMM\"]\n",
    "    elif group == \"sg\":\n",
    "        df[\"ProfitsPMM\"] = df[\"PremiumsPMM\"] - df[\"CostsPMM\"] + df[\"TransfersPMM\"]\n",
    "    df[\"PremMinusCostsPMM\"] = df[\"PremiumsPMM\"] - df[\"CostsPMM\"]\n",
    "    df[\"PremMinusCostsPlusTransfersPMM\"] = df[\"PremiumsPMM\"] - df[\"CostsPMM\"] + df[\"TransfersPMM\"]\n",
    "    df[\"SicknessPMM\"] = df[\"CostsPMM\"] - df[\"PremiumsPMM\"]\n",
    "    average_sickness = np.mean(df[\"SicknessPMM\"])\n",
    "    df[\"ExcessSicknessPMM\"] = df[\"SicknessPMM\"] - average_sickness\n",
    "    return df\n",
    "\n",
    "ind_data_14 = calculate_pmm(ind_data_14, ind_labels_14, \"i\")\n",
    "ind_data_15 = calculate_pmm(ind_data_15, ind_labels_15, \"i\")\n",
    "ind_data_16 = calculate_pmm(ind_data_16, ind_labels_16, \"i\")\n",
    "ind_data_17 = calculate_pmm(ind_data_17, ind_labels_17, \"sg\")\n",
    "sg_data_14 = calculate_pmm(sg_data_14, sg_labels_14, \"sg\")\n",
    "sg_data_15 = calculate_pmm(sg_data_15, sg_labels_15, \"sg\")\n",
    "sg_data_16 = calculate_pmm(sg_data_16, sg_labels_16, \"sg\")\n",
    "sg_data_17 = calculate_pmm(sg_data_17, sg_labels_17, \"sg\")"
   ]
  },
  {
   "cell_type": "code",
   "execution_count": 7,
   "metadata": {},
   "outputs": [],
   "source": [
    "# Combine the dataframes by left merging\n",
    "\n",
    "ind_data = ind_data_14.merge(ind_data_15, on='HIOS ID', how='outer', suffixes=('_14', '_15'))\\\n",
    ".merge(ind_data_16, on='HIOS ID', how='outer').merge(ind_data_17, on='HIOS ID', how='outer', suffixes=('_16', '_17'))"
   ]
  },
  {
   "cell_type": "code",
   "execution_count": 8,
   "metadata": {},
   "outputs": [],
   "source": [
    "# Do the same thing for small group\n",
    "\n",
    "sg_data = sg_data_14.merge(sg_data_15, on='HIOS ID', how='outer', suffixes=('_14', '_15'))\\\n",
    ".merge(sg_data_16, on='HIOS ID', how='outer').merge(sg_data_17, on='HIOS ID', how='outer', suffixes=('_16', '_17'))"
   ]
  },
  {
   "cell_type": "code",
   "execution_count": 9,
   "metadata": {},
   "outputs": [],
   "source": [
    "dfs = [sg_data_14, sg_data_15, sg_data_16, sg_data_17]"
   ]
  },
  {
   "cell_type": "code",
   "execution_count": 10,
   "metadata": {},
   "outputs": [
    {
     "name": "stdout",
     "output_type": "stream",
     "text": [
      "Cbar is 4398.953\n",
      "CA 14 Ratio is 1.154\n",
      "WI 14 Ratio is 1.127\n",
      "NY 14 Ratio is 0.973\n",
      "CA 15 Ratio is 1.117\n",
      "WI 15 Ratio is 1.099\n",
      "NY 15 Ratio is 0.896\n",
      "CA 16 Ratio is 1.051\n",
      "WI 16 Ratio is 1.053\n",
      "NY 16 Ratio is 0.862\n",
      "CA 17 Ratio is 1.015\n",
      "WI 17 Ratio is 1.005\n",
      "NY 17 Ratio is 0.782\n",
      "Empirical Transfers Sum = 4001520027.257\n"
     ]
    }
   ],
   "source": [
    "states = [\"CA\", \"WI\", \"NY\"]\n",
    "dfs_new = normalize_empirical_data_to_avg_2017_dollars(dfs, states)\n",
    "for df_temp in dfs_new:\n",
    "    df_temp[\"TransfersNPerSqrtEnrollee\"] = df_temp[\"TransfersNormalized\"] / np.sqrt(df_temp[\"Enrollees\"])\n",
    "    \n",
    "sg_data_14 = dfs_new[0]\n",
    "sg_data_15 = dfs_new[1]\n",
    "sg_data_16 = dfs_new[2]\n",
    "sg_data_17 = dfs_new[3]"
   ]
  },
  {
   "cell_type": "code",
   "execution_count": 11,
   "metadata": {},
   "outputs": [],
   "source": [
    "'''def plot(df, label, show_graphs):\n",
    "    no_nulls = df[['LogEnrollees', 'LogTransfers']].dropna()\n",
    "    X = no_nulls[['LogEnrollees']]\n",
    "    y = no_nulls['LogTransfers']\n",
    "    X = sm.add_constant(X)\n",
    "    est = sm.OLS(y, X).fit()\n",
    "    equation = \"Log T = %f + %f * Log Enrollees\" % (est.params[0], est.params[1])\n",
    "    if show_graphs:\n",
    "        fig, ax = plt.subplots(figsize=(8,8))\n",
    "        plt.scatter(df[\"LogEnrollees\"], df[\"LogTransfers\"])\n",
    "        x = np.linspace(min(df[\"LogEnrollees\"]), max(df[\"LogEnrollees\"]), 1000)\n",
    "        plt.plot(x, est.params[0] + est.params[1] * x, label=equation)\n",
    "        plt.title(label)\n",
    "        plt.xlabel(\"Log # Enrollees\")\n",
    "        plt.ylabel(\"Log Transfers^2 + 1\")\n",
    "        plt.legend()\n",
    "        plt.show()\n",
    "    print(label)\n",
    "    print(equation)'''\n",
    "    \n",
    "def state(df, state):\n",
    "    return df.where(df[\"STATE\"] == state).where(df[\"LogTransfers\"] > 2).dropna()\n",
    "\n",
    "def remove_outliers(df):\n",
    "    return df.where(df[\"LogTransfers\"] > 2).dropna()"
   ]
  },
  {
   "cell_type": "code",
   "execution_count": 12,
   "metadata": {},
   "outputs": [
    {
     "data": {
      "text/plain": [
       "'plot(state(sg_data_14, \"NY\"), \"Small Group 2014 (NY)\", True)\\nplot(state(sg_data_15, \"NY\"), \"Small Group 2015 (NY)\", False)\\nplot(state(sg_data_16, \"NY\"), \"Small Group 2016 (NY)\", False)\\nplot(state(sg_data_17, \"NY\"), \"Small Group 2017 (NY)\", True)\\n\\nplot(state(ind_data_14, \"NY\"), \"Individual 2014 (NY)\", True)\\nplot(state(ind_data_15, \"NY\"), \"Individual 2015 (NY)\", False)\\nplot(state(ind_data_16, \"NY\"), \"Individual 2016 (NY)\", False)\\nplot(state(ind_data_17, \"NY\"), \"Individual 2017 (NY)\", False)'"
      ]
     },
     "execution_count": 12,
     "metadata": {},
     "output_type": "execute_result"
    }
   ],
   "source": [
    "'''plot(remove_outliers(sg_data_14), \"Small Group 2014 (Entire Market)\", False)\n",
    "plot(remove_outliers(sg_data_15), \"Small Group 2015 (Entire Market)\", False)\n",
    "plot(remove_outliers(sg_data_16), \"Small Group 2016 (Entire Market)\", False)\n",
    "plot(remove_outliers(sg_data_17), \"Small Group 2017 (Entire Market)\", False)\n",
    "\n",
    "plot(remove_outliers(ind_data_14), \"Individual 2014 (Entire Market)\", False)\n",
    "plot(remove_outliers(ind_data_15), \"Individual 2015 (Entire Market)\", False)\n",
    "plot(remove_outliers(ind_data_16), \"Individual 2016 (Entire Market)\", False)\n",
    "plot(remove_outliers(ind_data_17), \"Individual 2017 (Entire Market)\", False)'''\n",
    "'''plot(state(sg_data_14, \"CA\"), \"Small Group 2014 (CA)\", False)\n",
    "plot(state(sg_data_15, \"CA\"), \"Small Group 2015 (CA)\", False)\n",
    "plot(state(sg_data_16, \"CA\"), \"Small Group 2016 (CA)\", False)\n",
    "plot(state(sg_data_17, \"CA\"), \"Small Group 2017 (CA)\", False)\n",
    "\n",
    "plot(state(ind_data_14, \"CA\"), \"Individual 2014 (CA)\", False)\n",
    "plot(state(ind_data_15, \"CA\"), \"Individual 2015 (CA)\", False)\n",
    "plot(state(ind_data_16, \"CA\"), \"Individual 2016 (CA)\", False)\n",
    "plot(state(ind_data_17, \"CA\"), \"Individual 2017 (CA)\", False)'''\n",
    "'''plot(state(sg_data_14, \"WI\"), \"Small Group 2014 (WI)\", False)\n",
    "plot(state(sg_data_15, \"WI\"), \"Small Group 2015 (WI)\", False)\n",
    "plot(state(sg_data_16, \"WI\"), \"Small Group 2016 (WI)\", False)\n",
    "plot(state(sg_data_17, \"WI\"), \"Small Group 2017 (WI)\", False)\n",
    "\n",
    "plot(state(ind_data_14, \"WI\"), \"Individual 2014 (WI)\", False)\n",
    "plot(state(ind_data_15, \"WI\"), \"Individual 2015 (WI)\", False)\n",
    "plot(state(ind_data_16, \"WI\"), \"Individual 2016 (WI)\", False)\n",
    "plot(state(ind_data_17, \"WI\"), \"Individual 2017 (WI)\", True)'''\n",
    "'''plot(state(sg_data_14, \"NY\"), \"Small Group 2014 (NY)\", True)\n",
    "plot(state(sg_data_15, \"NY\"), \"Small Group 2015 (NY)\", False)\n",
    "plot(state(sg_data_16, \"NY\"), \"Small Group 2016 (NY)\", False)\n",
    "plot(state(sg_data_17, \"NY\"), \"Small Group 2017 (NY)\", True)\n",
    "\n",
    "plot(state(ind_data_14, \"NY\"), \"Individual 2014 (NY)\", True)\n",
    "plot(state(ind_data_15, \"NY\"), \"Individual 2015 (NY)\", False)\n",
    "plot(state(ind_data_16, \"NY\"), \"Individual 2016 (NY)\", False)\n",
    "plot(state(ind_data_17, \"NY\"), \"Individual 2017 (NY)\", False)'''"
   ]
  },
  {
   "cell_type": "code",
   "execution_count": 13,
   "metadata": {},
   "outputs": [
    {
     "data": {
      "text/plain": [
       "'# Shaprio-Wilk test for null hypothesis that sample x1... xn\\n# comes form a normally distributed population\\n\\ndef shapir(df, label):\\n    a, b = stats.shapiro(df)\\n    print(\"%s,%.4f,%.4f\" % (label,a,b))\\n\\nprint(\",P(Transfers from normal distr),p-value\")\\nshapir(remove_outliers(sg_data_14)[\"TransfersPerSqrtEnrollee\"], \"All States, SG, 2014\")\\nshapir(remove_outliers(sg_data_15)[\"TransfersPerSqrtEnrollee\"], \"All States, SG, 2015\")\\nshapir(remove_outliers(sg_data_16)[\"TransfersPerSqrtEnrollee\"], \"All States, SG, 2016\")\\nshapir(remove_outliers(sg_data_17)[\"TransfersPerSqrtEnrollee\"], \"All States, SG, 2017\")\\nshapir(state(sg_data_14, \"CA\")[\"TransfersPerSqrtEnrollee\"], \"CA only, SG, 2014\")\\nshapir(state(sg_data_15, \"CA\")[\"TransfersPerSqrtEnrollee\"], \"CA only, SG, 2015\")\\nshapir(state(sg_data_16, \"CA\")[\"TransfersPerSqrtEnrollee\"], \"CA only, SG, 2016\")\\nshapir(state(sg_data_17, \"CA\")[\"TransfersPerSqrtEnrollee\"], \"CA only, SG, 2017\")\\nshapir(state(sg_data_14, \"WI\")[\"TransfersPerSqrtEnrollee\"], \"WI only, SG, 2014\")\\nshapir(state(sg_data_15, \"WI\")[\"TransfersPerSqrtEnrollee\"], \"WI only, SG, 2015\")\\nshapir(state(sg_data_16, \"WI\")[\"TransfersPerSqrtEnrollee\"], \"WI only, SG, 2016\")\\nshapir(state(sg_data_17, \"WI\")[\"TransfersPerSqrtEnrollee\"], \"WI only, SG, 2017\")\\nshapir(state(sg_data_14, \"NY\")[\"TransfersPerSqrtEnrollee\"], \"NY only, SG, 2014\")\\nshapir(state(sg_data_15, \"NY\")[\"TransfersPerSqrtEnrollee\"], \"NY only, SG, 2015\")\\nshapir(state(sg_data_16, \"NY\")[\"TransfersPerSqrtEnrollee\"], \"NY only, SG, 2016\")\\nshapir(state(sg_data_17, \"NY\")[\"TransfersPerSqrtEnrollee\"], \"NY only, SG, 2017\")'"
      ]
     },
     "execution_count": 13,
     "metadata": {},
     "output_type": "execute_result"
    }
   ],
   "source": [
    "'''# Shaprio-Wilk test for null hypothesis that sample x1... xn\n",
    "# comes form a normally distributed population\n",
    "\n",
    "def shapir(df, label):\n",
    "    a, b = stats.shapiro(df)\n",
    "    print(\"%s,%.4f,%.4f\" % (label,a,b))\n",
    "\n",
    "print(\",P(Transfers from normal distr),p-value\")\n",
    "shapir(remove_outliers(sg_data_14)[\"TransfersPerSqrtEnrollee\"], \"All States, SG, 2014\")\n",
    "shapir(remove_outliers(sg_data_15)[\"TransfersPerSqrtEnrollee\"], \"All States, SG, 2015\")\n",
    "shapir(remove_outliers(sg_data_16)[\"TransfersPerSqrtEnrollee\"], \"All States, SG, 2016\")\n",
    "shapir(remove_outliers(sg_data_17)[\"TransfersPerSqrtEnrollee\"], \"All States, SG, 2017\")\n",
    "shapir(state(sg_data_14, \"CA\")[\"TransfersPerSqrtEnrollee\"], \"CA only, SG, 2014\")\n",
    "shapir(state(sg_data_15, \"CA\")[\"TransfersPerSqrtEnrollee\"], \"CA only, SG, 2015\")\n",
    "shapir(state(sg_data_16, \"CA\")[\"TransfersPerSqrtEnrollee\"], \"CA only, SG, 2016\")\n",
    "shapir(state(sg_data_17, \"CA\")[\"TransfersPerSqrtEnrollee\"], \"CA only, SG, 2017\")\n",
    "shapir(state(sg_data_14, \"WI\")[\"TransfersPerSqrtEnrollee\"], \"WI only, SG, 2014\")\n",
    "shapir(state(sg_data_15, \"WI\")[\"TransfersPerSqrtEnrollee\"], \"WI only, SG, 2015\")\n",
    "shapir(state(sg_data_16, \"WI\")[\"TransfersPerSqrtEnrollee\"], \"WI only, SG, 2016\")\n",
    "shapir(state(sg_data_17, \"WI\")[\"TransfersPerSqrtEnrollee\"], \"WI only, SG, 2017\")\n",
    "shapir(state(sg_data_14, \"NY\")[\"TransfersPerSqrtEnrollee\"], \"NY only, SG, 2014\")\n",
    "shapir(state(sg_data_15, \"NY\")[\"TransfersPerSqrtEnrollee\"], \"NY only, SG, 2015\")\n",
    "shapir(state(sg_data_16, \"NY\")[\"TransfersPerSqrtEnrollee\"], \"NY only, SG, 2016\")\n",
    "shapir(state(sg_data_17, \"NY\")[\"TransfersPerSqrtEnrollee\"], \"NY only, SG, 2017\")'''"
   ]
  },
  {
   "cell_type": "code",
   "execution_count": 14,
   "metadata": {},
   "outputs": [],
   "source": [
    "#NY2014 = state(sg_data_14, \"NY\")[[\"HIOS INPUTTED INSURANCE COMPANY NAME\", \"TransfersPerSqrtEnrollee\", \"Transfers\", \"Enrollees\", \"MM\", \"TransfersPMM\"]]"
   ]
  },
  {
   "cell_type": "code",
   "execution_count": 15,
   "metadata": {},
   "outputs": [],
   "source": [
    "def erfinv2(sample_size):# sig):\n",
    "    # erf inverse 0.5 * p/k where p=0.05\n",
    "    print(\"Sample size %d\" % (sample_size))\n",
    "    return special.erfinv(1-0.5*0.05/sample_size) * np.sqrt(2)# * sig\n",
    "\n",
    "def num_pass(df, a):\n",
    "    sample_size = df.shape[0]\n",
    "    count = 0\n",
    "    delta = erfinv2(sample_size)\n",
    "    print(\"Delta_0 % .3f\" % (delta))\n",
    "    es1 = max(abs(df[\"TransfersNPerSqrtEnrollee\"])) / delta\n",
    "    print(\"Comparison es_0 = %.3f\" % (es1))\n",
    "    print(\"Comparison es_0*%.2f = %.3f\" % (a, a*es1))\n",
    "    \n",
    "    for index, row in df.iterrows():\n",
    "        d = row[\"TransfersNPerSqrtEnrollee\"]\n",
    "        if abs(d) < a*es1:\n",
    "            count += 1\n",
    "            print(\"T/sqrt(N)=%.3f \\t <a*es_0 Satisfied\" % (d))\n",
    "        else:\n",
    "            print(\"T/sqrt(N)=%.3f \\t <a*es_0 NOT Satisfied \\t Distance |T/sqrt(N)|-a*es_0 %.1f \" % (d, abs(d) - a*es1))\n",
    "    return count\n",
    "    \n",
    "def binom(k, n, p):\n",
    "    return stats.binom.cdf(k, n, p)"
   ]
  },
  {
   "cell_type": "code",
   "execution_count": 16,
   "metadata": {},
   "outputs": [],
   "source": [
    "def run_stat_test(data, label, a):\n",
    "    print(label)\n",
    "    p01 = special.erf(a/np.sqrt(2))\n",
    "    print(\"P01 = %.3f\" % (p01))\n",
    "    successes = num_pass(data, a)\n",
    "    print(\"Number of successes: %d\" % (successes))\n",
    "    print(\"P value = %.3f\" % (1- binom(successes, data.shape[0], p01)))"
   ]
  },
  {
   "cell_type": "code",
   "execution_count": 17,
   "metadata": {},
   "outputs": [
    {
     "name": "stdout",
     "output_type": "stream",
     "text": [
      "NY SG 2014\n",
      "P01 = 0.080\n",
      "Sample size 20\n",
      "Delta_0  3.227\n",
      "Comparison es_0 = 75630.610\n",
      "Comparison es_0*0.10 = 7563.061\n",
      "T/sqrt(N)=-3670.330 \t <a*es_0 Satisfied\n",
      "T/sqrt(N)=-199066.401 \t <a*es_0 NOT Satisfied \t Distance |T/sqrt(N)|-a*es_0 191503.3 \n",
      "T/sqrt(N)=54303.127 \t <a*es_0 NOT Satisfied \t Distance |T/sqrt(N)|-a*es_0 46740.1 \n",
      "T/sqrt(N)=-4834.737 \t <a*es_0 Satisfied\n",
      "T/sqrt(N)=-39436.650 \t <a*es_0 NOT Satisfied \t Distance |T/sqrt(N)|-a*es_0 31873.6 \n",
      "T/sqrt(N)=-62424.662 \t <a*es_0 NOT Satisfied \t Distance |T/sqrt(N)|-a*es_0 54861.6 \n",
      "T/sqrt(N)=58142.356 \t <a*es_0 NOT Satisfied \t Distance |T/sqrt(N)|-a*es_0 50579.3 \n",
      "T/sqrt(N)=-244076.499 \t <a*es_0 NOT Satisfied \t Distance |T/sqrt(N)|-a*es_0 236513.4 \n",
      "T/sqrt(N)=173.792 \t <a*es_0 Satisfied\n",
      "T/sqrt(N)=-204690.565 \t <a*es_0 NOT Satisfied \t Distance |T/sqrt(N)|-a*es_0 197127.5 \n",
      "T/sqrt(N)=-240.327 \t <a*es_0 Satisfied\n",
      "T/sqrt(N)=7153.401 \t <a*es_0 Satisfied\n",
      "T/sqrt(N)=20428.759 \t <a*es_0 NOT Satisfied \t Distance |T/sqrt(N)|-a*es_0 12865.7 \n",
      "T/sqrt(N)=-47481.686 \t <a*es_0 NOT Satisfied \t Distance |T/sqrt(N)|-a*es_0 39918.6 \n",
      "T/sqrt(N)=-40599.105 \t <a*es_0 NOT Satisfied \t Distance |T/sqrt(N)|-a*es_0 33036.0 \n",
      "T/sqrt(N)=-1573.469 \t <a*es_0 Satisfied\n",
      "T/sqrt(N)=-22435.926 \t <a*es_0 NOT Satisfied \t Distance |T/sqrt(N)|-a*es_0 14872.9 \n",
      "T/sqrt(N)=224765.218 \t <a*es_0 NOT Satisfied \t Distance |T/sqrt(N)|-a*es_0 217202.2 \n",
      "T/sqrt(N)=-81509.227 \t <a*es_0 NOT Satisfied \t Distance |T/sqrt(N)|-a*es_0 73946.2 \n",
      "T/sqrt(N)=-9209.866 \t <a*es_0 NOT Satisfied \t Distance |T/sqrt(N)|-a*es_0 1646.8 \n",
      "Number of successes: 6\n",
      "P value = 0.001\n"
     ]
    }
   ],
   "source": [
    "run_stat_test(state(sg_data_14, \"NY\"), \"NY SG 2014\", 0.1)"
   ]
  },
  {
   "cell_type": "code",
   "execution_count": 18,
   "metadata": {},
   "outputs": [
    {
     "name": "stdout",
     "output_type": "stream",
     "text": [
      "NY SG 2015\n",
      "P01 = 0.080\n",
      "Sample size 20\n",
      "Delta_0  3.227\n",
      "Comparison es_0 = 179223.785\n",
      "Comparison es_0*0.10 = 17922.379\n",
      "T/sqrt(N)=-63570.888 \t <a*es_0 NOT Satisfied \t Distance |T/sqrt(N)|-a*es_0 45648.5 \n",
      "T/sqrt(N)=-243710.310 \t <a*es_0 NOT Satisfied \t Distance |T/sqrt(N)|-a*es_0 225787.9 \n",
      "T/sqrt(N)=33895.943 \t <a*es_0 NOT Satisfied \t Distance |T/sqrt(N)|-a*es_0 15973.6 \n",
      "T/sqrt(N)=-96209.098 \t <a*es_0 NOT Satisfied \t Distance |T/sqrt(N)|-a*es_0 78286.7 \n",
      "T/sqrt(N)=-271.265 \t <a*es_0 Satisfied\n",
      "T/sqrt(N)=-31712.906 \t <a*es_0 NOT Satisfied \t Distance |T/sqrt(N)|-a*es_0 13790.5 \n",
      "T/sqrt(N)=-22666.049 \t <a*es_0 NOT Satisfied \t Distance |T/sqrt(N)|-a*es_0 4743.7 \n",
      "T/sqrt(N)=-28748.965 \t <a*es_0 NOT Satisfied \t Distance |T/sqrt(N)|-a*es_0 10826.6 \n",
      "T/sqrt(N)=-3726.944 \t <a*es_0 Satisfied\n",
      "T/sqrt(N)=-39492.409 \t <a*es_0 NOT Satisfied \t Distance |T/sqrt(N)|-a*es_0 21570.0 \n",
      "T/sqrt(N)=-17215.142 \t <a*es_0 Satisfied\n",
      "T/sqrt(N)=-578394.303 \t <a*es_0 NOT Satisfied \t Distance |T/sqrt(N)|-a*es_0 560471.9 \n",
      "T/sqrt(N)=-5727.768 \t <a*es_0 Satisfied\n",
      "T/sqrt(N)=13701.755 \t <a*es_0 Satisfied\n",
      "T/sqrt(N)=-121820.113 \t <a*es_0 NOT Satisfied \t Distance |T/sqrt(N)|-a*es_0 103897.7 \n",
      "T/sqrt(N)=484687.733 \t <a*es_0 NOT Satisfied \t Distance |T/sqrt(N)|-a*es_0 466765.4 \n",
      "T/sqrt(N)=-254530.180 \t <a*es_0 NOT Satisfied \t Distance |T/sqrt(N)|-a*es_0 236607.8 \n",
      "T/sqrt(N)=9250.406 \t <a*es_0 Satisfied\n",
      "T/sqrt(N)=33312.223 \t <a*es_0 NOT Satisfied \t Distance |T/sqrt(N)|-a*es_0 15389.8 \n",
      "T/sqrt(N)=36474.151 \t <a*es_0 NOT Satisfied \t Distance |T/sqrt(N)|-a*es_0 18551.8 \n",
      "Number of successes: 6\n",
      "P value = 0.001\n"
     ]
    }
   ],
   "source": [
    "run_stat_test(state(sg_data_15, \"NY\"), \"NY SG 2015\", 0.1)"
   ]
  },
  {
   "cell_type": "code",
   "execution_count": 19,
   "metadata": {},
   "outputs": [
    {
     "name": "stdout",
     "output_type": "stream",
     "text": [
      "NY SG 2016\n",
      "P01 = 0.080\n",
      "Sample size 19\n",
      "Delta_0  3.213\n",
      "Comparison es_0 = 121078.502\n",
      "Comparison es_0*0.10 = 12107.850\n",
      "T/sqrt(N)=-114800.221 \t <a*es_0 NOT Satisfied \t Distance |T/sqrt(N)|-a*es_0 102692.4 \n",
      "T/sqrt(N)=-388966.328 \t <a*es_0 NOT Satisfied \t Distance |T/sqrt(N)|-a*es_0 376858.5 \n",
      "T/sqrt(N)=-189626.845 \t <a*es_0 NOT Satisfied \t Distance |T/sqrt(N)|-a*es_0 177519.0 \n",
      "T/sqrt(N)=114.893 \t <a*es_0 Satisfied\n",
      "T/sqrt(N)=-81947.624 \t <a*es_0 NOT Satisfied \t Distance |T/sqrt(N)|-a*es_0 69839.8 \n",
      "T/sqrt(N)=-29383.018 \t <a*es_0 NOT Satisfied \t Distance |T/sqrt(N)|-a*es_0 17275.2 \n",
      "T/sqrt(N)=-238052.552 \t <a*es_0 NOT Satisfied \t Distance |T/sqrt(N)|-a*es_0 225944.7 \n",
      "T/sqrt(N)=-31774.797 \t <a*es_0 NOT Satisfied \t Distance |T/sqrt(N)|-a*es_0 19666.9 \n",
      "T/sqrt(N)=25027.373 \t <a*es_0 NOT Satisfied \t Distance |T/sqrt(N)|-a*es_0 12919.5 \n",
      "T/sqrt(N)=-54665.834 \t <a*es_0 NOT Satisfied \t Distance |T/sqrt(N)|-a*es_0 42558.0 \n",
      "T/sqrt(N)=7859.373 \t <a*es_0 Satisfied\n",
      "T/sqrt(N)=-30394.152 \t <a*es_0 NOT Satisfied \t Distance |T/sqrt(N)|-a*es_0 18286.3 \n",
      "T/sqrt(N)=1601.846 \t <a*es_0 Satisfied\n",
      "T/sqrt(N)=-24127.422 \t <a*es_0 NOT Satisfied \t Distance |T/sqrt(N)|-a*es_0 12019.6 \n",
      "T/sqrt(N)=-55078.803 \t <a*es_0 NOT Satisfied \t Distance |T/sqrt(N)|-a*es_0 42971.0 \n",
      "T/sqrt(N)=-14640.534 \t <a*es_0 NOT Satisfied \t Distance |T/sqrt(N)|-a*es_0 2532.7 \n",
      "T/sqrt(N)=-16657.924 \t <a*es_0 NOT Satisfied \t Distance |T/sqrt(N)|-a*es_0 4550.1 \n",
      "T/sqrt(N)=26764.664 \t <a*es_0 NOT Satisfied \t Distance |T/sqrt(N)|-a*es_0 14656.8 \n",
      "T/sqrt(N)=323965.008 \t <a*es_0 NOT Satisfied \t Distance |T/sqrt(N)|-a*es_0 311857.2 \n",
      "Number of successes: 3\n",
      "P value = 0.059\n"
     ]
    }
   ],
   "source": [
    "run_stat_test(state(sg_data_16, \"NY\"), \"NY SG 2016\", 0.1)\n",
    "#run_stat_test(state(sg_data_16, \"NY\"), \"NY SG 2016\", 0.2)"
   ]
  },
  {
   "cell_type": "code",
   "execution_count": 20,
   "metadata": {},
   "outputs": [
    {
     "name": "stdout",
     "output_type": "stream",
     "text": [
      "NY SG 2017\n",
      "P01 = 0.080\n",
      "Sample size 20\n",
      "Delta_0  3.227\n",
      "Comparison es_0 = 102009.810\n",
      "Comparison es_0*0.10 = 10200.981\n",
      "T/sqrt(N)=-65675.493 \t <a*es_0 NOT Satisfied \t Distance |T/sqrt(N)|-a*es_0 55474.5 \n",
      "T/sqrt(N)=-77567.346 \t <a*es_0 NOT Satisfied \t Distance |T/sqrt(N)|-a*es_0 67366.4 \n",
      "T/sqrt(N)=10136.596 \t <a*es_0 Satisfied\n",
      "T/sqrt(N)=-70068.578 \t <a*es_0 NOT Satisfied \t Distance |T/sqrt(N)|-a*es_0 59867.6 \n",
      "T/sqrt(N)=-50635.651 \t <a*es_0 NOT Satisfied \t Distance |T/sqrt(N)|-a*es_0 40434.7 \n",
      "T/sqrt(N)=-56980.055 \t <a*es_0 NOT Satisfied \t Distance |T/sqrt(N)|-a*es_0 46779.1 \n",
      "T/sqrt(N)=-10822.010 \t <a*es_0 NOT Satisfied \t Distance |T/sqrt(N)|-a*es_0 621.0 \n",
      "T/sqrt(N)=-36977.875 \t <a*es_0 NOT Satisfied \t Distance |T/sqrt(N)|-a*es_0 26776.9 \n",
      "T/sqrt(N)=-59056.509 \t <a*es_0 NOT Satisfied \t Distance |T/sqrt(N)|-a*es_0 48855.5 \n",
      "T/sqrt(N)=-10323.824 \t <a*es_0 NOT Satisfied \t Distance |T/sqrt(N)|-a*es_0 122.8 \n",
      "T/sqrt(N)=-53705.498 \t <a*es_0 NOT Satisfied \t Distance |T/sqrt(N)|-a*es_0 43504.5 \n",
      "T/sqrt(N)=-81736.940 \t <a*es_0 NOT Satisfied \t Distance |T/sqrt(N)|-a*es_0 71536.0 \n",
      "T/sqrt(N)=-69219.885 \t <a*es_0 NOT Satisfied \t Distance |T/sqrt(N)|-a*es_0 59018.9 \n",
      "T/sqrt(N)=-11166.640 \t <a*es_0 NOT Satisfied \t Distance |T/sqrt(N)|-a*es_0 965.7 \n",
      "T/sqrt(N)=-329207.938 \t <a*es_0 NOT Satisfied \t Distance |T/sqrt(N)|-a*es_0 319007.0 \n",
      "T/sqrt(N)=243229.376 \t <a*es_0 NOT Satisfied \t Distance |T/sqrt(N)|-a*es_0 233028.4 \n",
      "T/sqrt(N)=-133857.276 \t <a*es_0 NOT Satisfied \t Distance |T/sqrt(N)|-a*es_0 123656.3 \n",
      "T/sqrt(N)=-18980.979 \t <a*es_0 NOT Satisfied \t Distance |T/sqrt(N)|-a*es_0 8780.0 \n",
      "T/sqrt(N)=81670.206 \t <a*es_0 NOT Satisfied \t Distance |T/sqrt(N)|-a*es_0 71469.2 \n",
      "T/sqrt(N)=-58443.657 \t <a*es_0 NOT Satisfied \t Distance |T/sqrt(N)|-a*es_0 48242.7 \n",
      "Number of successes: 1\n",
      "P value = 0.481\n"
     ]
    }
   ],
   "source": [
    "run_stat_test(state(sg_data_17, \"NY\"), \"NY SG 2017\", .10)"
   ]
  },
  {
   "cell_type": "code",
   "execution_count": 21,
   "metadata": {},
   "outputs": [
    {
     "name": "stdout",
     "output_type": "stream",
     "text": [
      "WI SG 2014\n",
      "P01 = 0.080\n",
      "Sample size 26\n",
      "Delta_0  3.302\n",
      "Comparison es_0 = 17387.155\n",
      "Comparison es_0*0.10 = 1738.715\n",
      "T/sqrt(N)=-8008.543 \t <a*es_0 NOT Satisfied \t Distance |T/sqrt(N)|-a*es_0 6269.8 \n",
      "T/sqrt(N)=-748.118 \t <a*es_0 Satisfied\n",
      "T/sqrt(N)=-841.516 \t <a*es_0 Satisfied\n",
      "T/sqrt(N)=-57404.478 \t <a*es_0 NOT Satisfied \t Distance |T/sqrt(N)|-a*es_0 55665.8 \n",
      "T/sqrt(N)=-3612.606 \t <a*es_0 NOT Satisfied \t Distance |T/sqrt(N)|-a*es_0 1873.9 \n",
      "T/sqrt(N)=1097.802 \t <a*es_0 Satisfied\n",
      "T/sqrt(N)=-3117.246 \t <a*es_0 NOT Satisfied \t Distance |T/sqrt(N)|-a*es_0 1378.5 \n",
      "T/sqrt(N)=-31821.024 \t <a*es_0 NOT Satisfied \t Distance |T/sqrt(N)|-a*es_0 30082.3 \n",
      "T/sqrt(N)=-1677.764 \t <a*es_0 Satisfied\n",
      "T/sqrt(N)=483.779 \t <a*es_0 Satisfied\n",
      "T/sqrt(N)=15970.657 \t <a*es_0 NOT Satisfied \t Distance |T/sqrt(N)|-a*es_0 14231.9 \n",
      "T/sqrt(N)=5334.755 \t <a*es_0 NOT Satisfied \t Distance |T/sqrt(N)|-a*es_0 3596.0 \n",
      "T/sqrt(N)=-1637.649 \t <a*es_0 Satisfied\n",
      "T/sqrt(N)=-11785.888 \t <a*es_0 NOT Satisfied \t Distance |T/sqrt(N)|-a*es_0 10047.2 \n",
      "T/sqrt(N)=-12755.824 \t <a*es_0 NOT Satisfied \t Distance |T/sqrt(N)|-a*es_0 11017.1 \n",
      "T/sqrt(N)=3431.042 \t <a*es_0 NOT Satisfied \t Distance |T/sqrt(N)|-a*es_0 1692.3 \n",
      "T/sqrt(N)=-54.911 \t <a*es_0 Satisfied\n",
      "T/sqrt(N)=-966.150 \t <a*es_0 Satisfied\n",
      "T/sqrt(N)=-6070.454 \t <a*es_0 NOT Satisfied \t Distance |T/sqrt(N)|-a*es_0 4331.7 \n",
      "T/sqrt(N)=-2876.235 \t <a*es_0 NOT Satisfied \t Distance |T/sqrt(N)|-a*es_0 1137.5 \n",
      "T/sqrt(N)=11163.582 \t <a*es_0 NOT Satisfied \t Distance |T/sqrt(N)|-a*es_0 9424.9 \n",
      "T/sqrt(N)=2094.282 \t <a*es_0 NOT Satisfied \t Distance |T/sqrt(N)|-a*es_0 355.6 \n",
      "T/sqrt(N)=5937.719 \t <a*es_0 NOT Satisfied \t Distance |T/sqrt(N)|-a*es_0 4199.0 \n",
      "T/sqrt(N)=-132.757 \t <a*es_0 Satisfied\n",
      "T/sqrt(N)=3177.337 \t <a*es_0 NOT Satisfied \t Distance |T/sqrt(N)|-a*es_0 1438.6 \n",
      "T/sqrt(N)=-1113.230 \t <a*es_0 Satisfied\n",
      "Number of successes: 10\n",
      "P value = 0.000\n"
     ]
    }
   ],
   "source": [
    "run_stat_test(state(sg_data_14, \"WI\"), \"WI SG 2014\", .10)"
   ]
  },
  {
   "cell_type": "code",
   "execution_count": 22,
   "metadata": {},
   "outputs": [
    {
     "name": "stdout",
     "output_type": "stream",
     "text": [
      "WI SG 2015\n",
      "P01 = 0.080\n",
      "Sample size 29\n",
      "Delta_0  3.332\n",
      "Comparison es_0 = 29894.191\n",
      "Comparison es_0*0.10 = 2989.419\n",
      "T/sqrt(N)=-6465.666 \t <a*es_0 NOT Satisfied \t Distance |T/sqrt(N)|-a*es_0 3476.2 \n",
      "T/sqrt(N)=-4288.561 \t <a*es_0 NOT Satisfied \t Distance |T/sqrt(N)|-a*es_0 1299.1 \n",
      "T/sqrt(N)=-249.937 \t <a*es_0 Satisfied\n",
      "T/sqrt(N)=-32047.784 \t <a*es_0 NOT Satisfied \t Distance |T/sqrt(N)|-a*es_0 29058.4 \n",
      "T/sqrt(N)=5837.667 \t <a*es_0 NOT Satisfied \t Distance |T/sqrt(N)|-a*es_0 2848.2 \n",
      "T/sqrt(N)=-9657.484 \t <a*es_0 NOT Satisfied \t Distance |T/sqrt(N)|-a*es_0 6668.1 \n",
      "T/sqrt(N)=-50448.533 \t <a*es_0 NOT Satisfied \t Distance |T/sqrt(N)|-a*es_0 47459.1 \n",
      "T/sqrt(N)=6463.190 \t <a*es_0 NOT Satisfied \t Distance |T/sqrt(N)|-a*es_0 3473.8 \n",
      "T/sqrt(N)=-14123.993 \t <a*es_0 NOT Satisfied \t Distance |T/sqrt(N)|-a*es_0 11134.6 \n",
      "T/sqrt(N)=6655.090 \t <a*es_0 NOT Satisfied \t Distance |T/sqrt(N)|-a*es_0 3665.7 \n",
      "T/sqrt(N)=4660.111 \t <a*es_0 NOT Satisfied \t Distance |T/sqrt(N)|-a*es_0 1670.7 \n",
      "T/sqrt(N)=6393.572 \t <a*es_0 NOT Satisfied \t Distance |T/sqrt(N)|-a*es_0 3404.2 \n",
      "T/sqrt(N)=-5514.692 \t <a*es_0 NOT Satisfied \t Distance |T/sqrt(N)|-a*es_0 2525.3 \n",
      "T/sqrt(N)=40935.923 \t <a*es_0 NOT Satisfied \t Distance |T/sqrt(N)|-a*es_0 37946.5 \n",
      "T/sqrt(N)=-17453.910 \t <a*es_0 NOT Satisfied \t Distance |T/sqrt(N)|-a*es_0 14464.5 \n",
      "T/sqrt(N)=-361.359 \t <a*es_0 Satisfied\n",
      "T/sqrt(N)=-1201.362 \t <a*es_0 Satisfied\n",
      "T/sqrt(N)=-4334.309 \t <a*es_0 NOT Satisfied \t Distance |T/sqrt(N)|-a*es_0 1344.9 \n",
      "T/sqrt(N)=-577.972 \t <a*es_0 Satisfied\n",
      "T/sqrt(N)=1470.438 \t <a*es_0 Satisfied\n",
      "T/sqrt(N)=-21230.645 \t <a*es_0 NOT Satisfied \t Distance |T/sqrt(N)|-a*es_0 18241.2 \n",
      "T/sqrt(N)=-49021.571 \t <a*es_0 NOT Satisfied \t Distance |T/sqrt(N)|-a*es_0 46032.2 \n",
      "T/sqrt(N)=-3408.294 \t <a*es_0 NOT Satisfied \t Distance |T/sqrt(N)|-a*es_0 418.9 \n",
      "T/sqrt(N)=-99609.118 \t <a*es_0 NOT Satisfied \t Distance |T/sqrt(N)|-a*es_0 96619.7 \n",
      "T/sqrt(N)=9119.707 \t <a*es_0 NOT Satisfied \t Distance |T/sqrt(N)|-a*es_0 6130.3 \n",
      "T/sqrt(N)=12624.126 \t <a*es_0 NOT Satisfied \t Distance |T/sqrt(N)|-a*es_0 9634.7 \n",
      "T/sqrt(N)=28296.267 \t <a*es_0 NOT Satisfied \t Distance |T/sqrt(N)|-a*es_0 25306.8 \n",
      "T/sqrt(N)=15819.909 \t <a*es_0 NOT Satisfied \t Distance |T/sqrt(N)|-a*es_0 12830.5 \n",
      "T/sqrt(N)=2972.477 \t <a*es_0 Satisfied\n",
      "Number of successes: 6\n",
      "P value = 0.007\n"
     ]
    }
   ],
   "source": [
    "run_stat_test(state(sg_data_15, \"WI\"), \"WI SG 2015\", .10)"
   ]
  },
  {
   "cell_type": "code",
   "execution_count": 23,
   "metadata": {},
   "outputs": [
    {
     "name": "stdout",
     "output_type": "stream",
     "text": [
      "WI SG 2016\n",
      "P01 = 0.080\n",
      "Sample size 26\n",
      "Delta_0  3.302\n",
      "Comparison es_0 = 22093.832\n",
      "Comparison es_0*0.10 = 2209.383\n",
      "T/sqrt(N)=-42705.600 \t <a*es_0 NOT Satisfied \t Distance |T/sqrt(N)|-a*es_0 40496.2 \n",
      "T/sqrt(N)=-18494.548 \t <a*es_0 NOT Satisfied \t Distance |T/sqrt(N)|-a*es_0 16285.2 \n",
      "T/sqrt(N)=-43215.681 \t <a*es_0 NOT Satisfied \t Distance |T/sqrt(N)|-a*es_0 41006.3 \n",
      "T/sqrt(N)=10933.330 \t <a*es_0 NOT Satisfied \t Distance |T/sqrt(N)|-a*es_0 8723.9 \n",
      "T/sqrt(N)=1194.664 \t <a*es_0 Satisfied\n",
      "T/sqrt(N)=17227.083 \t <a*es_0 NOT Satisfied \t Distance |T/sqrt(N)|-a*es_0 15017.7 \n",
      "T/sqrt(N)=-26604.643 \t <a*es_0 NOT Satisfied \t Distance |T/sqrt(N)|-a*es_0 24395.3 \n",
      "T/sqrt(N)=-72943.785 \t <a*es_0 NOT Satisfied \t Distance |T/sqrt(N)|-a*es_0 70734.4 \n",
      "T/sqrt(N)=-39.321 \t <a*es_0 Satisfied\n",
      "T/sqrt(N)=14658.491 \t <a*es_0 NOT Satisfied \t Distance |T/sqrt(N)|-a*es_0 12449.1 \n",
      "T/sqrt(N)=6422.355 \t <a*es_0 NOT Satisfied \t Distance |T/sqrt(N)|-a*es_0 4213.0 \n",
      "T/sqrt(N)=34847.790 \t <a*es_0 NOT Satisfied \t Distance |T/sqrt(N)|-a*es_0 32638.4 \n",
      "T/sqrt(N)=7826.129 \t <a*es_0 NOT Satisfied \t Distance |T/sqrt(N)|-a*es_0 5616.7 \n",
      "T/sqrt(N)=-6379.969 \t <a*es_0 NOT Satisfied \t Distance |T/sqrt(N)|-a*es_0 4170.6 \n",
      "T/sqrt(N)=-26679.112 \t <a*es_0 NOT Satisfied \t Distance |T/sqrt(N)|-a*es_0 24469.7 \n",
      "T/sqrt(N)=-26255.688 \t <a*es_0 NOT Satisfied \t Distance |T/sqrt(N)|-a*es_0 24046.3 \n",
      "T/sqrt(N)=-43760.356 \t <a*es_0 NOT Satisfied \t Distance |T/sqrt(N)|-a*es_0 41551.0 \n",
      "T/sqrt(N)=-5252.106 \t <a*es_0 NOT Satisfied \t Distance |T/sqrt(N)|-a*es_0 3042.7 \n",
      "T/sqrt(N)=-7159.281 \t <a*es_0 NOT Satisfied \t Distance |T/sqrt(N)|-a*es_0 4949.9 \n",
      "T/sqrt(N)=-2559.565 \t <a*es_0 NOT Satisfied \t Distance |T/sqrt(N)|-a*es_0 350.2 \n",
      "T/sqrt(N)=-6892.458 \t <a*es_0 NOT Satisfied \t Distance |T/sqrt(N)|-a*es_0 4683.1 \n",
      "T/sqrt(N)=-12524.301 \t <a*es_0 NOT Satisfied \t Distance |T/sqrt(N)|-a*es_0 10314.9 \n",
      "T/sqrt(N)=-1099.121 \t <a*es_0 Satisfied\n",
      "T/sqrt(N)=-1086.764 \t <a*es_0 Satisfied\n",
      "T/sqrt(N)=8131.900 \t <a*es_0 NOT Satisfied \t Distance |T/sqrt(N)|-a*es_0 5922.5 \n",
      "T/sqrt(N)=42577.436 \t <a*es_0 NOT Satisfied \t Distance |T/sqrt(N)|-a*es_0 40368.1 \n",
      "Number of successes: 4\n",
      "P value = 0.052\n"
     ]
    }
   ],
   "source": [
    "run_stat_test(state(sg_data_16, \"WI\"), \"WI SG 2016\", .10)"
   ]
  },
  {
   "cell_type": "code",
   "execution_count": 24,
   "metadata": {},
   "outputs": [
    {
     "name": "stdout",
     "output_type": "stream",
     "text": [
      "WI SG 2017\n",
      "P01 = 0.080\n",
      "Sample size 23\n",
      "Delta_0  3.267\n",
      "Comparison es_0 = 21150.947\n",
      "Comparison es_0*0.10 = 2115.095\n",
      "T/sqrt(N)=-32551.997 \t <a*es_0 NOT Satisfied \t Distance |T/sqrt(N)|-a*es_0 30436.9 \n",
      "T/sqrt(N)=5443.841 \t <a*es_0 NOT Satisfied \t Distance |T/sqrt(N)|-a*es_0 3328.7 \n",
      "T/sqrt(N)=15934.936 \t <a*es_0 NOT Satisfied \t Distance |T/sqrt(N)|-a*es_0 13819.8 \n",
      "T/sqrt(N)=-24081.601 \t <a*es_0 NOT Satisfied \t Distance |T/sqrt(N)|-a*es_0 21966.5 \n",
      "T/sqrt(N)=2347.971 \t <a*es_0 NOT Satisfied \t Distance |T/sqrt(N)|-a*es_0 232.9 \n",
      "T/sqrt(N)=3816.960 \t <a*es_0 NOT Satisfied \t Distance |T/sqrt(N)|-a*es_0 1701.9 \n",
      "T/sqrt(N)=-37059.139 \t <a*es_0 NOT Satisfied \t Distance |T/sqrt(N)|-a*es_0 34944.0 \n",
      "T/sqrt(N)=-19092.668 \t <a*es_0 NOT Satisfied \t Distance |T/sqrt(N)|-a*es_0 16977.6 \n",
      "T/sqrt(N)=-18738.355 \t <a*es_0 NOT Satisfied \t Distance |T/sqrt(N)|-a*es_0 16623.3 \n",
      "T/sqrt(N)=-12686.420 \t <a*es_0 NOT Satisfied \t Distance |T/sqrt(N)|-a*es_0 10571.3 \n",
      "T/sqrt(N)=-4985.006 \t <a*es_0 NOT Satisfied \t Distance |T/sqrt(N)|-a*es_0 2869.9 \n",
      "T/sqrt(N)=16860.330 \t <a*es_0 NOT Satisfied \t Distance |T/sqrt(N)|-a*es_0 14745.2 \n",
      "T/sqrt(N)=-6122.272 \t <a*es_0 NOT Satisfied \t Distance |T/sqrt(N)|-a*es_0 4007.2 \n",
      "T/sqrt(N)=1037.635 \t <a*es_0 Satisfied\n",
      "T/sqrt(N)=41993.595 \t <a*es_0 NOT Satisfied \t Distance |T/sqrt(N)|-a*es_0 39878.5 \n",
      "T/sqrt(N)=-22923.684 \t <a*es_0 NOT Satisfied \t Distance |T/sqrt(N)|-a*es_0 20808.6 \n",
      "T/sqrt(N)=-20830.320 \t <a*es_0 NOT Satisfied \t Distance |T/sqrt(N)|-a*es_0 18715.2 \n",
      "T/sqrt(N)=-31111.961 \t <a*es_0 NOT Satisfied \t Distance |T/sqrt(N)|-a*es_0 28996.9 \n",
      "T/sqrt(N)=-9859.340 \t <a*es_0 NOT Satisfied \t Distance |T/sqrt(N)|-a*es_0 7744.2 \n",
      "T/sqrt(N)=-69100.036 \t <a*es_0 NOT Satisfied \t Distance |T/sqrt(N)|-a*es_0 66984.9 \n",
      "T/sqrt(N)=-950.258 \t <a*es_0 Satisfied\n",
      "T/sqrt(N)=17636.368 \t <a*es_0 NOT Satisfied \t Distance |T/sqrt(N)|-a*es_0 15521.3 \n",
      "T/sqrt(N)=4368.871 \t <a*es_0 NOT Satisfied \t Distance |T/sqrt(N)|-a*es_0 2253.8 \n",
      "Number of successes: 2\n",
      "P value = 0.276\n"
     ]
    }
   ],
   "source": [
    "run_stat_test(state(sg_data_17, \"WI\"), \"WI SG 2017\", .10)"
   ]
  },
  {
   "cell_type": "code",
   "execution_count": 25,
   "metadata": {},
   "outputs": [
    {
     "name": "stdout",
     "output_type": "stream",
     "text": [
      "CA SG 2014\n",
      "P01 = 0.080\n",
      "Sample size 14\n",
      "Delta_0  3.124\n",
      "Comparison es_0 = 31356.480\n",
      "Comparison es_0*0.10 = 3135.648\n",
      "T/sqrt(N)=-97949.321 \t <a*es_0 NOT Satisfied \t Distance |T/sqrt(N)|-a*es_0 94813.7 \n",
      "T/sqrt(N)=-6807.836 \t <a*es_0 NOT Satisfied \t Distance |T/sqrt(N)|-a*es_0 3672.2 \n",
      "T/sqrt(N)=45005.244 \t <a*es_0 NOT Satisfied \t Distance |T/sqrt(N)|-a*es_0 41869.6 \n",
      "T/sqrt(N)=43475.594 \t <a*es_0 NOT Satisfied \t Distance |T/sqrt(N)|-a*es_0 40339.9 \n",
      "T/sqrt(N)=-83956.515 \t <a*es_0 NOT Satisfied \t Distance |T/sqrt(N)|-a*es_0 80820.9 \n",
      "T/sqrt(N)=33480.381 \t <a*es_0 NOT Satisfied \t Distance |T/sqrt(N)|-a*es_0 30344.7 \n",
      "T/sqrt(N)=-5342.147 \t <a*es_0 NOT Satisfied \t Distance |T/sqrt(N)|-a*es_0 2206.5 \n",
      "T/sqrt(N)=-10122.066 \t <a*es_0 NOT Satisfied \t Distance |T/sqrt(N)|-a*es_0 6986.4 \n",
      "T/sqrt(N)=-8758.750 \t <a*es_0 NOT Satisfied \t Distance |T/sqrt(N)|-a*es_0 5623.1 \n",
      "T/sqrt(N)=-7383.564 \t <a*es_0 NOT Satisfied \t Distance |T/sqrt(N)|-a*es_0 4247.9 \n",
      "T/sqrt(N)=-11346.572 \t <a*es_0 NOT Satisfied \t Distance |T/sqrt(N)|-a*es_0 8210.9 \n",
      "T/sqrt(N)=-13877.887 \t <a*es_0 NOT Satisfied \t Distance |T/sqrt(N)|-a*es_0 10742.2 \n",
      "T/sqrt(N)=22713.042 \t <a*es_0 NOT Satisfied \t Distance |T/sqrt(N)|-a*es_0 19577.4 \n",
      "T/sqrt(N)=6027.447 \t <a*es_0 NOT Satisfied \t Distance |T/sqrt(N)|-a*es_0 2891.8 \n",
      "Number of successes: 0\n",
      "P value = 0.687\n"
     ]
    }
   ],
   "source": [
    "run_stat_test(state(sg_data_14, \"CA\"), \"CA SG 2014\", .10)"
   ]
  },
  {
   "cell_type": "code",
   "execution_count": 26,
   "metadata": {},
   "outputs": [
    {
     "name": "stdout",
     "output_type": "stream",
     "text": [
      "CA SG 2015\n",
      "P01 = 0.080\n",
      "Sample size 16\n",
      "Delta_0  3.163\n",
      "Comparison es_0 = 67516.374\n",
      "Comparison es_0*0.10 = 6751.637\n",
      "T/sqrt(N)=-213542.000 \t <a*es_0 NOT Satisfied \t Distance |T/sqrt(N)|-a*es_0 206790.4 \n",
      "T/sqrt(N)=29701.597 \t <a*es_0 NOT Satisfied \t Distance |T/sqrt(N)|-a*es_0 22950.0 \n",
      "T/sqrt(N)=191242.717 \t <a*es_0 NOT Satisfied \t Distance |T/sqrt(N)|-a*es_0 184491.1 \n",
      "T/sqrt(N)=-117980.103 \t <a*es_0 NOT Satisfied \t Distance |T/sqrt(N)|-a*es_0 111228.5 \n",
      "T/sqrt(N)=128833.622 \t <a*es_0 NOT Satisfied \t Distance |T/sqrt(N)|-a*es_0 122082.0 \n",
      "T/sqrt(N)=-39116.625 \t <a*es_0 NOT Satisfied \t Distance |T/sqrt(N)|-a*es_0 32365.0 \n",
      "T/sqrt(N)=-7862.863 \t <a*es_0 NOT Satisfied \t Distance |T/sqrt(N)|-a*es_0 1111.2 \n",
      "T/sqrt(N)=25931.225 \t <a*es_0 NOT Satisfied \t Distance |T/sqrt(N)|-a*es_0 19179.6 \n",
      "T/sqrt(N)=-67202.386 \t <a*es_0 NOT Satisfied \t Distance |T/sqrt(N)|-a*es_0 60450.7 \n",
      "T/sqrt(N)=-9950.527 \t <a*es_0 NOT Satisfied \t Distance |T/sqrt(N)|-a*es_0 3198.9 \n",
      "T/sqrt(N)=-27558.095 \t <a*es_0 NOT Satisfied \t Distance |T/sqrt(N)|-a*es_0 20806.5 \n",
      "T/sqrt(N)=49847.121 \t <a*es_0 NOT Satisfied \t Distance |T/sqrt(N)|-a*es_0 43095.5 \n",
      "T/sqrt(N)=-48213.520 \t <a*es_0 NOT Satisfied \t Distance |T/sqrt(N)|-a*es_0 41461.9 \n",
      "T/sqrt(N)=23148.858 \t <a*es_0 NOT Satisfied \t Distance |T/sqrt(N)|-a*es_0 16397.2 \n",
      "T/sqrt(N)=16574.507 \t <a*es_0 NOT Satisfied \t Distance |T/sqrt(N)|-a*es_0 9822.9 \n",
      "T/sqrt(N)=42096.494 \t <a*es_0 NOT Satisfied \t Distance |T/sqrt(N)|-a*es_0 35344.9 \n",
      "Number of successes: 0\n",
      "P value = 0.735\n"
     ]
    }
   ],
   "source": [
    "run_stat_test(state(sg_data_15, \"CA\"), \"CA SG 2015\", .10)"
   ]
  },
  {
   "cell_type": "code",
   "execution_count": 27,
   "metadata": {},
   "outputs": [
    {
     "name": "stdout",
     "output_type": "stream",
     "text": [
      "CA SG 2016\n",
      "P01 = 0.080\n",
      "Sample size 16\n",
      "Delta_0  3.163\n",
      "Comparison es_0 = 113458.697\n",
      "Comparison es_0*0.10 = 11345.870\n",
      "T/sqrt(N)=-296043.052 \t <a*es_0 NOT Satisfied \t Distance |T/sqrt(N)|-a*es_0 284697.2 \n",
      "T/sqrt(N)=-126178.371 \t <a*es_0 NOT Satisfied \t Distance |T/sqrt(N)|-a*es_0 114832.5 \n",
      "T/sqrt(N)=-51023.694 \t <a*es_0 NOT Satisfied \t Distance |T/sqrt(N)|-a*es_0 39677.8 \n",
      "T/sqrt(N)=12844.512 \t <a*es_0 NOT Satisfied \t Distance |T/sqrt(N)|-a*es_0 1498.6 \n",
      "T/sqrt(N)=-92687.936 \t <a*es_0 NOT Satisfied \t Distance |T/sqrt(N)|-a*es_0 81342.1 \n",
      "T/sqrt(N)=-60676.548 \t <a*es_0 NOT Satisfied \t Distance |T/sqrt(N)|-a*es_0 49330.7 \n",
      "T/sqrt(N)=358849.206 \t <a*es_0 NOT Satisfied \t Distance |T/sqrt(N)|-a*es_0 347503.3 \n",
      "T/sqrt(N)=94866.542 \t <a*es_0 NOT Satisfied \t Distance |T/sqrt(N)|-a*es_0 83520.7 \n",
      "T/sqrt(N)=165782.719 \t <a*es_0 NOT Satisfied \t Distance |T/sqrt(N)|-a*es_0 154436.8 \n",
      "T/sqrt(N)=-110965.543 \t <a*es_0 NOT Satisfied \t Distance |T/sqrt(N)|-a*es_0 99619.7 \n",
      "T/sqrt(N)=-66516.148 \t <a*es_0 NOT Satisfied \t Distance |T/sqrt(N)|-a*es_0 55170.3 \n",
      "T/sqrt(N)=-26902.876 \t <a*es_0 NOT Satisfied \t Distance |T/sqrt(N)|-a*es_0 15557.0 \n",
      "T/sqrt(N)=-10908.191 \t <a*es_0 Satisfied\n",
      "T/sqrt(N)=14703.217 \t <a*es_0 NOT Satisfied \t Distance |T/sqrt(N)|-a*es_0 3357.3 \n",
      "T/sqrt(N)=12154.587 \t <a*es_0 NOT Satisfied \t Distance |T/sqrt(N)|-a*es_0 808.7 \n",
      "T/sqrt(N)=105665.801 \t <a*es_0 NOT Satisfied \t Distance |T/sqrt(N)|-a*es_0 94319.9 \n",
      "Number of successes: 1\n",
      "P value = 0.368\n"
     ]
    }
   ],
   "source": [
    "run_stat_test(state(sg_data_16, \"CA\"), \"CA SG 2016\", .10)"
   ]
  },
  {
   "cell_type": "code",
   "execution_count": 28,
   "metadata": {},
   "outputs": [
    {
     "name": "stdout",
     "output_type": "stream",
     "text": [
      "CA SG 2017\n",
      "P01 = 0.080\n",
      "Sample size 15\n",
      "Delta_0  3.144\n",
      "Comparison es_0 = 110582.440\n",
      "Comparison es_0*0.10 = 11058.244\n",
      "T/sqrt(N)=10869.662 \t <a*es_0 Satisfied\n",
      "T/sqrt(N)=-15072.499 \t <a*es_0 NOT Satisfied \t Distance |T/sqrt(N)|-a*es_0 4014.3 \n",
      "T/sqrt(N)=330528.074 \t <a*es_0 NOT Satisfied \t Distance |T/sqrt(N)|-a*es_0 319469.8 \n",
      "T/sqrt(N)=-347669.010 \t <a*es_0 NOT Satisfied \t Distance |T/sqrt(N)|-a*es_0 336610.8 \n",
      "T/sqrt(N)=110751.541 \t <a*es_0 NOT Satisfied \t Distance |T/sqrt(N)|-a*es_0 99693.3 \n",
      "T/sqrt(N)=-40766.045 \t <a*es_0 NOT Satisfied \t Distance |T/sqrt(N)|-a*es_0 29707.8 \n",
      "T/sqrt(N)=-137326.691 \t <a*es_0 NOT Satisfied \t Distance |T/sqrt(N)|-a*es_0 126268.4 \n",
      "T/sqrt(N)=22976.431 \t <a*es_0 NOT Satisfied \t Distance |T/sqrt(N)|-a*es_0 11918.2 \n",
      "T/sqrt(N)=-114419.294 \t <a*es_0 NOT Satisfied \t Distance |T/sqrt(N)|-a*es_0 103361.0 \n",
      "T/sqrt(N)=808.770 \t <a*es_0 Satisfied\n",
      "T/sqrt(N)=-32090.053 \t <a*es_0 NOT Satisfied \t Distance |T/sqrt(N)|-a*es_0 21031.8 \n",
      "T/sqrt(N)=199597.793 \t <a*es_0 NOT Satisfied \t Distance |T/sqrt(N)|-a*es_0 188539.5 \n",
      "T/sqrt(N)=-65628.914 \t <a*es_0 NOT Satisfied \t Distance |T/sqrt(N)|-a*es_0 54570.7 \n",
      "T/sqrt(N)=8121.811 \t <a*es_0 Satisfied\n",
      "T/sqrt(N)=105506.962 \t <a*es_0 NOT Satisfied \t Distance |T/sqrt(N)|-a*es_0 94448.7 \n",
      "Number of successes: 3\n",
      "P value = 0.027\n"
     ]
    }
   ],
   "source": [
    "run_stat_test(state(sg_data_17, \"CA\"), \"CA SG 2017\", .10)"
   ]
  },
  {
   "cell_type": "code",
   "execution_count": 29,
   "metadata": {},
   "outputs": [
    {
     "data": {
      "text/plain": [
       "'print(np.mean(state(sg_data_14, \"CA\")[\"CostsPMM\"]))\\nprint(np.mean(state(sg_data_15, \"CA\")[\"CostsPMM\"]))\\nprint(np.mean(state(sg_data_16, \"CA\")[\"CostsPMM\"]))\\nprint(np.mean(state(sg_data_17, \"CA\")[\"CostsPMM\"]))\\nprint(np.mean(state(sg_data_14, \"NY\")[\"CostsPMM\"]))\\nprint(np.mean(state(sg_data_15, \"NY\")[\"CostsPMM\"]))\\nprint(np.mean(state(sg_data_16, \"NY\")[\"CostsPMM\"]))\\nprint(np.mean(state(sg_data_17, \"NY\")[\"CostsPMM\"]))\\nprint(np.mean(state(sg_data_14, \"WI\")[\"CostsPMM\"]))\\nprint(np.mean(state(sg_data_15, \"WI\")[\"CostsPMM\"]))\\nprint(np.mean(state(sg_data_16, \"WI\")[\"CostsPMM\"]))\\nprint(np.mean(state(sg_data_17, \"WI\")[\"CostsPMM\"]))'"
      ]
     },
     "execution_count": 29,
     "metadata": {},
     "output_type": "execute_result"
    }
   ],
   "source": [
    "'''print(np.mean(state(sg_data_14, \"CA\")[\"CostsPMM\"]))\n",
    "print(np.mean(state(sg_data_15, \"CA\")[\"CostsPMM\"]))\n",
    "print(np.mean(state(sg_data_16, \"CA\")[\"CostsPMM\"]))\n",
    "print(np.mean(state(sg_data_17, \"CA\")[\"CostsPMM\"]))\n",
    "print(np.mean(state(sg_data_14, \"NY\")[\"CostsPMM\"]))\n",
    "print(np.mean(state(sg_data_15, \"NY\")[\"CostsPMM\"]))\n",
    "print(np.mean(state(sg_data_16, \"NY\")[\"CostsPMM\"]))\n",
    "print(np.mean(state(sg_data_17, \"NY\")[\"CostsPMM\"]))\n",
    "print(np.mean(state(sg_data_14, \"WI\")[\"CostsPMM\"]))\n",
    "print(np.mean(state(sg_data_15, \"WI\")[\"CostsPMM\"]))\n",
    "print(np.mean(state(sg_data_16, \"WI\")[\"CostsPMM\"]))\n",
    "print(np.mean(state(sg_data_17, \"WI\")[\"CostsPMM\"]))'''"
   ]
  },
  {
   "cell_type": "code",
   "execution_count": null,
   "metadata": {},
   "outputs": [],
   "source": []
  },
  {
   "cell_type": "code",
   "execution_count": null,
   "metadata": {},
   "outputs": [],
   "source": []
  },
  {
   "cell_type": "code",
   "execution_count": null,
   "metadata": {},
   "outputs": [],
   "source": []
  }
 ],
 "metadata": {
  "kernelspec": {
   "display_name": "Python 3",
   "language": "python",
   "name": "python3"
  },
  "language_info": {
   "codemirror_mode": {
    "name": "ipython",
    "version": 3
   },
   "file_extension": ".py",
   "mimetype": "text/x-python",
   "name": "python",
   "nbconvert_exporter": "python",
   "pygments_lexer": "ipython3",
   "version": "3.6.5"
  }
 },
 "nbformat": 4,
 "nbformat_minor": 2
}
