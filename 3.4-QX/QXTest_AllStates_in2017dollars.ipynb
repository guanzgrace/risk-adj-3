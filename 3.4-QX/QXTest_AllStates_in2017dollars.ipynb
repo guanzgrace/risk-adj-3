{
 "cells": [
  {
   "cell_type": "code",
   "execution_count": 1,
   "metadata": {},
   "outputs": [
    {
     "name": "stdout",
     "output_type": "stream",
     "text": [
      "{0: ['ME', 'IL', 'PA', 'GA', 'OK', 'DE', 'WA', 'CT', 'OH', 'VA', 'NE', 'MT', 'IN', 'CA', 'HI', 'ND', 'MD', 'SC', 'RI', 'AK', 'KY', 'WI', 'LA', 'MN', 'MS', 'WV', 'FL'], 1: ['SD', 'IL', 'PA', 'NH', 'NM', 'NV', 'OK', 'UT', 'CT', 'OH', 'VA', 'OR', 'CO', 'IN', 'HI', 'AL', 'RI', 'AK', 'LA', 'MN', 'IA', 'AR', 'WV'], 2: ['MI', 'ME', 'WY', 'DC', 'TX', 'AZ', 'NC', 'WA', 'OR', 'CO', 'MT', 'ND', 'TN', 'SC', 'AL', 'NY', 'KY', 'NJ', 'KS', 'ID', 'IA', 'AR', 'MO'], 3: ['MI', 'SD', 'WY', 'NH', 'DC', 'TX', 'GA', 'AZ', 'NM', 'NC', 'NV', 'DE', 'UT', 'NE', 'CA', 'MD', 'TN', 'NY', 'NJ', 'KS', 'WI', 'ID', 'MS', 'FL', 'MO']}\n",
      "{0: ['MI', 'SD', 'WY', 'NH', 'DC', 'TX', 'AZ', 'NM', 'NC', 'NV', 'UT', 'OR', 'CO', 'TN', 'AL', 'NY', 'NJ', 'KS', 'ID', 'IA', 'AR', 'MO'], 1: ['MI', 'ME', 'WY', 'DC', 'TX', 'GA', 'AZ', 'NC', 'DE', 'WA', 'NE', 'MT', 'CA', 'ND', 'MD', 'TN', 'SC', 'NY', 'KY', 'NJ', 'KS', 'WI', 'ID', 'MS', 'FL', 'MO'], 2: ['SD', 'IL', 'PA', 'NH', 'GA', 'NM', 'NV', 'OK', 'DE', 'UT', 'CT', 'OH', 'VA', 'NE', 'IN', 'CA', 'HI', 'MD', 'RI', 'AK', 'WI', 'LA', 'MN', 'MS', 'WV', 'FL'], 3: ['ME', 'IL', 'PA', 'OK', 'WA', 'CT', 'OH', 'VA', 'OR', 'CO', 'MT', 'IN', 'HI', 'ND', 'SC', 'AL', 'RI', 'AK', 'KY', 'LA', 'MN', 'IA', 'AR', 'WV']}\n"
     ]
    }
   ],
   "source": [
    "%run ../StatTest2_WithSimulation_Setup.ipynb"
   ]
  },
  {
   "cell_type": "code",
   "execution_count": 2,
   "metadata": {},
   "outputs": [],
   "source": [
    "###################\n",
    "# LOCAL VARIABLES #\n",
    "###################\n",
    "\n",
    "states = ['MI', 'SD', 'HI', 'MD', 'AR', 'MO', 'FL', 'MN', 'NJ',\n",
    "          'KY', 'WY', 'OK', 'ME', 'DC', 'GA', 'CA', 'SC', 'WV',\n",
    "          'RI', 'TX', 'AL', 'AZ', 'UT', 'PA', 'NH', 'KS', 'DE',\n",
    "          'NE', 'MS', 'WI', 'LA', 'IL', 'ND', 'CT', 'OH', 'IA',\n",
    "          'IN', 'NM', 'TN', 'WA', 'AK', 'NY', 'VA', 'NC', 'ID',\n",
    "          'MT', 'NV', 'CO', 'OR']\n",
    "state_label = \"All States\"\n",
    "file_label = \"all_states\"\n",
    "t_file = \"npy/\" + file_label + \"_simulated_transfers.npy\"\n",
    "d_file = \"npy/\" + file_label + \"_simulated_transfers_over_sqrtn.npy\"\n",
    "big_j = 10**5"
   ]
  },
  {
   "cell_type": "code",
   "execution_count": 3,
   "metadata": {
    "scrolled": true
   },
   "outputs": [
    {
     "name": "stderr",
     "output_type": "stream",
     "text": [
      "/anaconda3/lib/python3.6/site-packages/IPython/core/interactiveshell.py:2785: DtypeWarning: Columns (1,2,52,323,649,882,932,1092,1202) have mixed types. Specify dtype option on import or set low_memory=False.\n",
      "  interactivity=interactivity, compiler=compiler, result=result)\n",
      "/anaconda3/lib/python3.6/site-packages/IPython/core/interactiveshell.py:2785: DtypeWarning: Columns (1,2,57,204,341,376,377,396,430,431,928,944,1006,1013,1151,1160,1169,1179,1411) have mixed types. Specify dtype option on import or set low_memory=False.\n",
      "  interactivity=interactivity, compiler=compiler, result=result)\n",
      "/anaconda3/lib/python3.6/site-packages/IPython/core/interactiveshell.py:2785: DtypeWarning: Columns (1,2,17,163,355,406,702,835,847,1083,1156,1183,1185,1200) have mixed types. Specify dtype option on import or set low_memory=False.\n",
      "  interactivity=interactivity, compiler=compiler, result=result)\n"
     ]
    }
   ],
   "source": [
    "data2014 = pd.read_csv(\"../0-Our_Dataset/2014dataset.csv\")\n",
    "data2015 = pd.read_csv(\"../0-Our_Dataset/2015dataset.csv\")\n",
    "data2016 = pd.read_csv(\"../0-Our_Dataset/2016dataset.csv\")\n",
    "data2017 = pd.read_csv(\"../0-Our_Dataset/2017dataset.csv\")"
   ]
  },
  {
   "cell_type": "code",
   "execution_count": 4,
   "metadata": {},
   "outputs": [],
   "source": [
    "# Create the labels.\n",
    "# By index:\n",
    "# label 2 is transfers\n",
    "# label 3 is premiums\n",
    "# label 4 is costs\n",
    "# label 5 is member months\n",
    "# label 6 is reinsurance (individual group only)\n",
    "\n",
    "ind_labels_14 = [\"HIOS ID\", \"HIOS INPUTTED INSURANCE COMPANY NAME\",\n",
    "                  \"HHS RISK ADJUSTMENT TRANSFER AMOUNT (INDIVIDUAL MARKET, INCLUDING CATASTROPHIC)\",\n",
    "                  \"1.1Directpremiumwritten2HealthInsuranceINDIVIDUALTotalasof3/31/15\",\n",
    "                  \"2.16Totalincurredclaims2HealthInsuranceINDIVIDUALTotalasof3/31/15\",\n",
    "                  \"7.4Membermonths2HealthInsuranceINDIVIDUALTotalasof3/31/15\",\n",
    "                  \"STATE\", \"REINSURANCE PAYMENT AMOUNT (OR NOT ELIGIBLE)\"] # no more reinsurance as of 2017\n",
    "ind_labels_15 = [label.replace('15', '16') for label in ind_labels_14]\n",
    "ind_labels_16 = [label.replace('15', '17') for label in ind_labels_14]\n",
    "ind_labels_17 = [label.replace('15', '18') for label in ind_labels_14][:-1]\n",
    "\n",
    "sg_labels_14 = [\"HIOS ID\", \"HIOS INPUTTED INSURANCE COMPANY NAME\",\n",
    "                 \"HHS RISK ADJUSTMENT TRANSFERS AMOUNT (SMALL GROUP MARKET)\",\n",
    "                  \"1.1Directpremiumwritten7HealthInsuranceSMALLGROUPTotalasof3/31/15\",\n",
    "                  \"2.16Totalincurredclaims7HealthInsuranceSMALLGROUPTotalasof3/31/15\",\n",
    "                  \"7.4Membermonths7HealthInsuranceSMALLGROUPTotalasof3/31/15\", \"STATE\"]\n",
    "sg_labels_15 = [label.replace('15', '16') for label in sg_labels_14]\n",
    "sg_labels_16 = [label.replace('15', '17') for label in sg_labels_14]\n",
    "sg_labels_17 = [label.replace('15', '18') for label in sg_labels_14]"
   ]
  },
  {
   "cell_type": "code",
   "execution_count": 5,
   "metadata": {},
   "outputs": [],
   "source": [
    "# Filter the data to include only the fields we want\n",
    "\n",
    "ind_data_14 = data2014[ind_labels_14].dropna()\n",
    "ind_data_15 = data2015[ind_labels_15].dropna()\n",
    "ind_data_16 = data2016[ind_labels_16].dropna()\n",
    "ind_data_17 = data2017[ind_labels_17].dropna()\n",
    "sg_data_14 = data2014[sg_labels_14].dropna()\n",
    "sg_data_15 = data2015[sg_labels_15].dropna()\n",
    "sg_data_16 = data2016[sg_labels_16].dropna()\n",
    "sg_data_17 = data2017[sg_labels_17].dropna()"
   ]
  },
  {
   "cell_type": "code",
   "execution_count": 6,
   "metadata": {},
   "outputs": [],
   "source": [
    "# Drop companies with <2000 MM\n",
    "ind_data_14 = ind_data_14.where(ind_data_14[ind_labels_14[5]] > 2000).dropna()\n",
    "ind_data_15 = ind_data_15.where(ind_data_15[ind_labels_15[5]] > 2000).dropna()\n",
    "ind_data_16 = ind_data_16.where(ind_data_16[ind_labels_16[5]] > 2000).dropna()\n",
    "ind_data_17 = ind_data_17.where(ind_data_17[ind_labels_17[5]] > 2000).dropna()\n",
    "sg_data_14 = sg_data_14.where(sg_data_14[sg_labels_14[5]] > 2000).dropna()\n",
    "sg_data_15 = sg_data_15.where(sg_data_15[sg_labels_15[5]] > 2000).dropna()\n",
    "sg_data_16 = sg_data_16.where(sg_data_16[sg_labels_16[5]] > 2000).dropna()\n",
    "sg_data_17 = sg_data_17.where(sg_data_17[sg_labels_17[5]] > 2000).dropna()"
   ]
  },
  {
   "cell_type": "code",
   "execution_count": 7,
   "metadata": {},
   "outputs": [],
   "source": [
    "# Calculate transfers, premiums, costs, and reinsurance (if individual group) per member month\n",
    "def calculate_pmm(df, df_labels, group):\n",
    "    df[\"MM\"] = df[df_labels[5]]\n",
    "    df[\"Transfers\"] = df[df_labels[2]]\n",
    "    df[\"TotalCosts\"] = abs(df[df_labels[4]])\n",
    "    df[\"Enrollees\"] = df[\"MM\"] / 12\n",
    "    df[\"TransfersPerEnrollee\"] = df[\"Transfers\"] / df[\"Enrollees\"]\n",
    "    df[\"TransfersPerSqrtEnrollee\"] = df[\"Transfers\"] / np.sqrt(df[\"Enrollees\"])\n",
    "    df[\"LogEnrollees\"] = np.log(df[\"Enrollees\"])\n",
    "    df[\"LogTransfers\"] = np.log(df[\"Transfers\"]**2 + 1)\n",
    "    df[\"TransfersPMM\"] = df[df_labels[2]] / df[df_labels[5]]\n",
    "    df[\"PremiumsPMM\"] = abs(df[df_labels[3]] / df[df_labels[5]])\n",
    "    df[\"CostsPMM\"] = abs(df[df_labels[4]] / df[df_labels[5]])\n",
    "    if group == \"i\":\n",
    "        df[\"ReinsurancePMM\"] = df[df_labels[7]] / df[df_labels[5]]\n",
    "        df[\"ProfitsPMM\"] = df[\"PremiumsPMM\"] - df[\"CostsPMM\"] + df[\"TransfersPMM\"] + df[\"ReinsurancePMM\"]\n",
    "        #df[\"PremMinusCostsPlusReinsurancePMM\"] = df[\"PremiumsPMM\"] - df[\"CostsPMM\"] + df[\"ReinsurancePMM\"]\n",
    "    elif group == \"sg\":\n",
    "        df[\"ProfitsPMM\"] = df[\"PremiumsPMM\"] - df[\"CostsPMM\"] + df[\"TransfersPMM\"]\n",
    "    df[\"PremMinusCostsPMM\"] = df[\"PremiumsPMM\"] - df[\"CostsPMM\"]\n",
    "    df[\"PremMinusCostsPlusTransfersPMM\"] = df[\"PremiumsPMM\"] - df[\"CostsPMM\"] + df[\"TransfersPMM\"]\n",
    "    df[\"SicknessPMM\"] = df[\"CostsPMM\"] - df[\"PremiumsPMM\"]\n",
    "    average_sickness = np.mean(df[\"SicknessPMM\"])\n",
    "    df[\"ExcessSicknessPMM\"] = df[\"SicknessPMM\"] - average_sickness\n",
    "    return df\n",
    "\n",
    "ind_data_14 = calculate_pmm(ind_data_14, ind_labels_14, \"i\")\n",
    "ind_data_15 = calculate_pmm(ind_data_15, ind_labels_15, \"i\")\n",
    "ind_data_16 = calculate_pmm(ind_data_16, ind_labels_16, \"i\")\n",
    "ind_data_17 = calculate_pmm(ind_data_17, ind_labels_17, \"sg\")\n",
    "sg_data_14 = calculate_pmm(sg_data_14, sg_labels_14, \"sg\")\n",
    "sg_data_15 = calculate_pmm(sg_data_15, sg_labels_15, \"sg\")\n",
    "sg_data_16 = calculate_pmm(sg_data_16, sg_labels_16, \"sg\")\n",
    "sg_data_17 = calculate_pmm(sg_data_17, sg_labels_17, \"sg\")"
   ]
  },
  {
   "cell_type": "code",
   "execution_count": 8,
   "metadata": {},
   "outputs": [],
   "source": [
    "# Combine the dataframes by left merging\n",
    "\n",
    "ind_data = ind_data_14.merge(ind_data_15, on='HIOS ID', how='outer', suffixes=('_14', '_15'))\\\n",
    ".merge(ind_data_16, on='HIOS ID', how='outer').merge(ind_data_17, on='HIOS ID', how='outer', suffixes=('_16', '_17'))"
   ]
  },
  {
   "cell_type": "code",
   "execution_count": 9,
   "metadata": {},
   "outputs": [],
   "source": [
    "# Do the same thing for small group\n",
    "\n",
    "sg_data = sg_data_14.merge(sg_data_15, on='HIOS ID', how='outer', suffixes=('_14', '_15'))\\\n",
    ".merge(sg_data_16, on='HIOS ID', how='outer').merge(sg_data_17, on='HIOS ID', how='outer', suffixes=('_16', '_17'))"
   ]
  },
  {
   "cell_type": "code",
   "execution_count": 10,
   "metadata": {},
   "outputs": [],
   "source": [
    "dfs = [sg_data_14, sg_data_15, sg_data_16, sg_data_17]"
   ]
  },
  {
   "cell_type": "code",
   "execution_count": 11,
   "metadata": {},
   "outputs": [
    {
     "name": "stdout",
     "output_type": "stream",
     "text": [
      "Cbar is 4398.953\n",
      "MI 14 Ratio is 1.308\n",
      "SD 14 Ratio is 1.155\n",
      "HI 14 Ratio is 1.175\n",
      "MD 14 Ratio is 1.238\n",
      "AR 14 Ratio is 1.473\n",
      "MO 14 Ratio is 1.414\n",
      "FL 14 Ratio is 1.199\n",
      "MN 14 Ratio is 1.182\n",
      "NJ 14 Ratio is 1.173\n",
      "KY 14 Ratio is 1.389\n",
      "WY 14 Ratio is 1.016\n",
      "OK 14 Ratio is 1.244\n",
      "ME 14 Ratio is 1.188\n",
      "DC 14 Ratio is 1.139\n",
      "GA 14 Ratio is 1.260\n",
      "CA 14 Ratio is 1.154\n",
      "SC 14 Ratio is 1.115\n",
      "WV 14 Ratio is 1.032\n",
      "RI 14 Ratio is 1.009\n",
      "TX 14 Ratio is 1.184\n",
      "AL 14 Ratio is 1.156\n",
      "AZ 14 Ratio is 1.497\n",
      "UT 14 Ratio is 1.628\n",
      "PA 14 Ratio is 1.105\n",
      "NH 14 Ratio is 1.061\n",
      "KS 14 Ratio is 1.392\n",
      "DE 14 Ratio is 1.153\n",
      "NE 14 Ratio is 1.265\n",
      "MS 14 Ratio is 1.361\n",
      "WI 14 Ratio is 1.127\n",
      "LA 14 Ratio is 1.184\n",
      "IL 14 Ratio is 1.083\n",
      "ND 14 Ratio is 1.202\n",
      "CT 14 Ratio is 0.990\n",
      "OH 14 Ratio is 1.264\n",
      "IA 14 Ratio is 1.318\n",
      "IN 14 Ratio is 1.261\n",
      "NM 14 Ratio is 1.142\n",
      "TN 14 Ratio is 1.447\n",
      "WA 14 Ratio is 1.199\n",
      "AK 14 Ratio is 0.763\n",
      "NY 14 Ratio is 0.973\n",
      "VA 14 Ratio is 1.250\n",
      "NC 14 Ratio is 1.254\n",
      "ID 14 Ratio is 1.484\n",
      "MT 14 Ratio is 1.184\n",
      "NV 14 Ratio is 1.365\n",
      "CO 14 Ratio is 1.203\n",
      "OR 14 Ratio is 1.208\n",
      "MI 15 Ratio is 1.250\n",
      "SD 15 Ratio is 1.096\n",
      "HI 15 Ratio is 1.086\n",
      "MD 15 Ratio is 1.269\n",
      "AR 15 Ratio is 1.407\n",
      "MO 15 Ratio is 1.282\n",
      "FL 15 Ratio is 1.162\n",
      "MN 15 Ratio is 1.156\n",
      "NJ 15 Ratio is 1.009\n",
      "KY 15 Ratio is 1.298\n",
      "WY 15 Ratio is 0.973\n",
      "OK 15 Ratio is 1.142\n",
      "ME 15 Ratio is 1.184\n",
      "DC 15 Ratio is 1.118\n",
      "GA 15 Ratio is 1.199\n",
      "CA 15 Ratio is 1.117\n",
      "SC 15 Ratio is 1.056\n",
      "WV 15 Ratio is 1.052\n",
      "RI 15 Ratio is 1.077\n",
      "TX 15 Ratio is 1.086\n",
      "AL 15 Ratio is 1.097\n",
      "AZ 15 Ratio is 1.404\n",
      "UT 15 Ratio is 1.511\n",
      "PA 15 Ratio is 1.072\n",
      "NH 15 Ratio is 1.041\n",
      "KS 15 Ratio is 1.229\n",
      "DE 15 Ratio is 1.217\n",
      "NE 15 Ratio is 1.189\n",
      "MS 15 Ratio is 1.305\n",
      "WI 15 Ratio is 1.099\n",
      "LA 15 Ratio is 1.080\n",
      "IL 15 Ratio is 1.040\n",
      "ND 15 Ratio is 1.096\n",
      "CT 15 Ratio is 0.977\n",
      "OH 15 Ratio is 1.191\n",
      "IA 15 Ratio is 1.274\n",
      "IN 15 Ratio is 1.177\n",
      "NM 15 Ratio is 1.108\n",
      "TN 15 Ratio is 1.385\n",
      "WA 15 Ratio is 1.156\n",
      "AK 15 Ratio is 0.709\n",
      "NY 15 Ratio is 0.896\n",
      "VA 15 Ratio is 1.269\n",
      "NC 15 Ratio is 1.180\n",
      "ID 15 Ratio is 1.432\n",
      "MT 15 Ratio is 1.100\n",
      "NV 15 Ratio is 1.302\n",
      "CO 15 Ratio is 1.185\n",
      "OR 15 Ratio is 1.138\n",
      "MI 16 Ratio is 1.195\n",
      "SD 16 Ratio is 1.023\n",
      "HI 16 Ratio is 1.044\n",
      "MD 16 Ratio is 1.216\n",
      "AR 16 Ratio is 1.305\n",
      "MO 16 Ratio is 1.195\n",
      "FL 16 Ratio is 1.112\n",
      "MN 16 Ratio is 1.052\n",
      "NJ 16 Ratio is 0.923\n",
      "KY 16 Ratio is 1.197\n",
      "WY 16 Ratio is 0.897\n",
      "OK 16 Ratio is 1.136\n",
      "ME 16 Ratio is 1.116\n",
      "DC 16 Ratio is 1.051\n",
      "GA 16 Ratio is 1.099\n",
      "CA 16 Ratio is 1.051\n",
      "SC 16 Ratio is 0.995\n",
      "WV 16 Ratio is 0.950\n",
      "RI 16 Ratio is 0.987\n",
      "TX 16 Ratio is 1.003\n",
      "AL 16 Ratio is 1.070\n",
      "AZ 16 Ratio is 1.325\n",
      "UT 16 Ratio is 1.450\n",
      "PA 16 Ratio is 1.026\n",
      "NH 16 Ratio is 0.986\n",
      "KS 16 Ratio is 1.138\n",
      "DE 16 Ratio is 1.095\n",
      "NE 16 Ratio is 1.145\n",
      "MS 16 Ratio is 1.234\n",
      "WI 16 Ratio is 1.053\n",
      "LA 16 Ratio is 1.062\n",
      "IL 16 Ratio is 0.997\n",
      "ND 16 Ratio is 1.058\n",
      "CT 16 Ratio is 0.880\n",
      "OH 16 Ratio is 1.107\n",
      "IA 16 Ratio is 1.217\n",
      "IN 16 Ratio is 1.080\n",
      "NM 16 Ratio is 0.971\n",
      "TN 16 Ratio is 1.252\n",
      "WA 16 Ratio is 1.134\n",
      "AK 16 Ratio is 0.641\n",
      "NY 16 Ratio is 0.862\n",
      "VA 16 Ratio is 1.116\n",
      "NC 16 Ratio is 1.177\n",
      "ID 16 Ratio is 1.316\n",
      "MT 16 Ratio is 1.148\n",
      "NV 16 Ratio is 1.286\n",
      "CO 16 Ratio is 1.176\n",
      "OR 16 Ratio is 1.078\n",
      "MI 17 Ratio is 1.171\n",
      "SD 17 Ratio is 0.972\n",
      "HI 17 Ratio is 0.977\n",
      "MD 17 Ratio is 1.150\n",
      "AR 17 Ratio is 1.236\n",
      "MO 17 Ratio is 1.154\n",
      "FL 17 Ratio is 1.046\n",
      "MN 17 Ratio is 0.995\n",
      "NJ 17 Ratio is 0.852\n",
      "KY 17 Ratio is 1.110\n",
      "WY 17 Ratio is 0.926\n",
      "OK 17 Ratio is 1.136\n",
      "ME 17 Ratio is 1.074\n",
      "DC 17 Ratio is 0.989\n",
      "GA 17 Ratio is 1.041\n",
      "CA 17 Ratio is 1.015\n",
      "SC 17 Ratio is 0.954\n",
      "WV 17 Ratio is 0.934\n",
      "RI 17 Ratio is 0.922\n",
      "TX 17 Ratio is 0.976\n",
      "AL 17 Ratio is 1.064\n",
      "AZ 17 Ratio is 1.271\n",
      "UT 17 Ratio is 1.391\n",
      "PA 17 Ratio is 0.920\n",
      "NH 17 Ratio is 0.928\n",
      "KS 17 Ratio is 1.019\n",
      "DE 17 Ratio is 0.953\n",
      "NE 17 Ratio is 1.087\n",
      "MS 17 Ratio is 1.164\n",
      "WI 17 Ratio is 1.005\n",
      "LA 17 Ratio is 1.031\n",
      "IL 17 Ratio is 0.944\n",
      "ND 17 Ratio is 1.055\n",
      "CT 17 Ratio is 0.864\n",
      "OH 17 Ratio is 1.047\n",
      "IA 17 Ratio is 1.257\n",
      "IN 17 Ratio is 1.034\n",
      "NM 17 Ratio is 0.945\n",
      "TN 17 Ratio is 1.261\n",
      "WA 17 Ratio is 1.115\n",
      "AK 17 Ratio is 0.650\n",
      "NY 17 Ratio is 0.782\n",
      "VA 17 Ratio is 1.055\n",
      "NC 17 Ratio is 1.025\n",
      "ID 17 Ratio is 1.279\n",
      "MT 17 Ratio is 1.081\n",
      "NV 17 Ratio is 1.270\n",
      "CO 17 Ratio is 1.100\n",
      "OR 17 Ratio is 1.062\n",
      "Empirical Transfers Sum = 8623923274.476\n"
     ]
    }
   ],
   "source": [
    "dfs_new, empirical_transfers_sum = normalize_empirical_data_to_avg_2017_dollars(dfs, states)"
   ]
  },
  {
   "cell_type": "code",
   "execution_count": 12,
   "metadata": {},
   "outputs": [],
   "source": [
    "for df_temp in dfs_new:\n",
    "    df_temp[\"TransfersNormalizedPerSqrtEnrollee\"] = df_temp[\"TransfersNormalized\"] / np.sqrt(df_temp[\"Enrollees\"])"
   ]
  },
  {
   "cell_type": "code",
   "execution_count": 13,
   "metadata": {},
   "outputs": [
    {
     "name": "stdout",
     "output_type": "stream",
     "text": [
      "1966\n",
      "1966\n",
      "Executed in 27.021 s\n"
     ]
    }
   ],
   "source": [
    "start_cost_matrix = time.time()\n",
    "\n",
    "stateyear_to_df = dict()\n",
    "stateyear_to_random = dict()\n",
    "\n",
    "c_bar = 4398.953\n",
    "    \n",
    "sum_sqrt_a = 0\n",
    "cost_matrix_sum = 0\n",
    "df_sum = 0\n",
    "for current_state in states:\n",
    "    for df_index in range(4):\n",
    "        label = current_state + df_index_to_year[df_index]\n",
    "        this_df = state(dfs[df_index], current_state)\n",
    "        if len(this_df) > 0:\n",
    "            sum_n = sum(this_df[\"Enrollees\"])\n",
    "            this_df[\"sum_n_minus_n_i\"] = sum_n - this_df[\"Enrollees\"]\n",
    "            this_df[\"a\"] = this_df[\"Enrollees\"] * (this_df[\"sum_n_minus_n_i\"] / sum_n)**2 + this_df[\"sum_n_minus_n_i\"] * (this_df[\"Enrollees\"] / sum_n)**2\n",
    "            this_df[\"sqrt_a\"] = np.sqrt(this_df[\"a\"])\n",
    "            c_stateyear = sum(this_df[\"TotalCosts\"]) / sum(this_df[\"Enrollees\"])\n",
    "            \n",
    "            cost_matrix = [np.random.normal(0, sqrta, 10**5) for sqrta in this_df[\"sqrt_a\"]]\n",
    "            cost_matrix = np.array(cost_matrix) * c_bar / c_stateyear\n",
    "            \n",
    "            cost_matrix_sum = cost_matrix_sum + len(cost_matrix)\n",
    "            df_sum = df_sum + len(this_df[\"sqrt_a\"])\n",
    "            sum_sqrt_a = sum_sqrt_a + sum(this_df[\"sqrt_a\"])\n",
    "            stateyear_to_df[label] = this_df\n",
    "            stateyear_to_random[label] = np.array(cost_matrix)\n",
    "end_cost_matrix = time.time()\n",
    "            \n",
    "print(cost_matrix_sum)\n",
    "print(df_sum)\n",
    "print(\"Executed in %.3f s\" % (end_cost_matrix - start_cost_matrix))"
   ]
  },
  {
   "cell_type": "code",
   "execution_count": 14,
   "metadata": {},
   "outputs": [],
   "source": [
    "lab = \"TransfersNormalizedPerSqrtEnrollee\"\n",
    "\n",
    "\n",
    "abs_empirical_di = np.absolute(np.concatenate((np.array(dfs_new[0][lab]),\n",
    "                                               np.array(dfs_new[1][lab]),\n",
    "                                               np.array(dfs_new[2][lab]),\n",
    "                                               np.array(dfs_new[3][lab]))))\n",
    "sorted_abs_empirical_di = np.sort(abs_empirical_di)"
   ]
  },
  {
   "cell_type": "code",
   "execution_count": 15,
   "metadata": {
    "scrolled": true
   },
   "outputs": [
    {
     "name": "stdout",
     "output_type": "stream",
     "text": [
      "0 iterations completed in 0.4 s\n",
      "10000 iterations completed in 1369.8 s\n",
      "20000 iterations completed in 1240.6 s\n",
      "30000 iterations completed in 1201.6 s\n",
      "40000 iterations completed in 1184.0 s\n",
      "50000 iterations completed in 1202.1 s\n",
      "60000 iterations completed in 1178.2 s\n",
      "70000 iterations completed in 1186.3 s\n",
      "80000 iterations completed in 1177.4 s\n",
      "90000 iterations completed in 1177.5 s\n"
     ]
    }
   ],
   "source": [
    "beta = 40000\n",
    "pval = 0.01\n",
    "k = len(sorted_abs_empirical_di)\n",
    "all_transfers, all_di = apr_test_imbalances_2017_NEW(stateyear_to_df, stateyear_to_random, beta, k, big_j)"
   ]
  },
  {
   "cell_type": "code",
   "execution_count": 17,
   "metadata": {},
   "outputs": [],
   "source": [
    "#np.save(t_file, all_transfers[0:1000])\n",
    "#np.save(d_file, all_di[0:1000])"
   ]
  },
  {
   "cell_type": "code",
   "execution_count": 18,
   "metadata": {},
   "outputs": [],
   "source": [
    "simulated_transfers = all_transfers\n",
    "simulated_di = all_di"
   ]
  },
  {
   "cell_type": "code",
   "execution_count": 19,
   "metadata": {},
   "outputs": [
    {
     "name": "stdout",
     "output_type": "stream",
     "text": [
      "P10Empirical = 1616.392\n",
      "P15Empirical = 2732.149\n",
      "P20Empirical = 4096.268\n"
     ]
    }
   ],
   "source": [
    "percentile_idx = int(len(sorted_abs_empirical_di) * 0.10)\n",
    "p10empirical = sorted_abs_empirical_di[percentile_idx]\n",
    "print(\"P10Empirical = %.3f\" % (p10empirical))\n",
    "\n",
    "percentile_idx = int(len(sorted_abs_empirical_di) * 0.15)\n",
    "p15empirical = sorted_abs_empirical_di[percentile_idx]\n",
    "print(\"P15Empirical = %.3f\" % (p15empirical))\n",
    "\n",
    "percentile_idx = int(len(sorted_abs_empirical_di) * 0.2)\n",
    "p20empirical = sorted_abs_empirical_di[percentile_idx]\n",
    "print(\"P20Empirical = %.3f\" % (p20empirical))"
   ]
  },
  {
   "cell_type": "code",
   "execution_count": 20,
   "metadata": {},
   "outputs": [],
   "source": [
    "abs_simulated_di = np.absolute(simulated_di)  \n",
    "sorted_abs_simulated_di = np.sort(abs_simulated_di, axis=1)"
   ]
  },
  {
   "cell_type": "code",
   "execution_count": 21,
   "metadata": {},
   "outputs": [],
   "source": [
    "def calculate_beta_from_x(x):\n",
    "    percentile_idx = int(k * x)\n",
    "    px_empirical = sorted_abs_empirical_di[percentile_idx]\n",
    "    pxs = sorted_abs_simulated_di[:,percentile_idx]\n",
    "    sorted_pxs = np.sort(pxs)\n",
    "    px_idx = int((pval)*big_j)\n",
    "    qx = sorted_pxs[px_idx]\n",
    "    beta = px_empirical * 40000 / qx\n",
    "    print(\"x = %.2f, beta = %.3f\" % (x, beta))\n",
    "    return beta"
   ]
  },
  {
   "cell_type": "code",
   "execution_count": 22,
   "metadata": {},
   "outputs": [
    {
     "name": "stdout",
     "output_type": "stream",
     "text": [
      "x = 0.10, beta = 14861.963\n",
      "x = 0.12, beta = 15684.024\n",
      "x = 0.15, beta = 16102.481\n",
      "x = 0.17, beta = 16572.375\n",
      "x = 0.20, beta = 17571.205\n"
     ]
    }
   ],
   "source": [
    "xs = [0.1, 0.125, 0.15, 0.175, 0.2]\n",
    "min_beta = 100000\n",
    "min_x = 0\n",
    "for x in xs:\n",
    "    beta = calculate_beta_from_x(x)\n",
    "    if beta < min_beta:\n",
    "        min_beta = beta\n",
    "        min_x = x"
   ]
  },
  {
   "cell_type": "code",
   "execution_count": 23,
   "metadata": {},
   "outputs": [],
   "source": [
    "df2 = create_df2(states, dfs_new, \"TransfersNormalizedPerSqrtEnrollee\")\n",
    "k = len(df2)\n",
    "v = np.linspace(0, max(abs(df2)), 10000)\n",
    "v = v[1:len(v)]\n",
    "\n",
    "ratios = [ratio_list(df2, vi) for vi in v]\n",
    "begin_p = 5/k\n",
    "end_p = 1-begin_p\n",
    "start_index = 0\n",
    "end_index = 0\n",
    "for index, ratio2 in enumerate(ratios):\n",
    "    if ratio2 >= begin_p:\n",
    "        start_index = index\n",
    "        break\n",
    "    \n",
    "for index, ratio2 in enumerate(ratios):\n",
    "    if ratio2 > end_p:\n",
    "        end_index = index\n",
    "        break\n",
    "\n",
    "if end_index == 0:\n",
    "    end_index = len(v) - 1\n",
    "    \n",
    "v = v[start_index:end_index]\n",
    "\n",
    "ratios2 = ratios[start_index:end_index]\n",
    "ratios_sim1 = [ratio_list(all_di[0] * min_beta / 40000, vi) for vi in v]\n",
    "ratios_sim2 = [ratio_list(all_di[1] * min_beta / 40000, vi) for vi in v]\n",
    "ratios_sim3 = [ratio_list(all_di[2] * min_beta / 40000, vi) for vi in v]"
   ]
  },
  {
   "cell_type": "code",
   "execution_count": 24,
   "metadata": {},
   "outputs": [
    {
     "data": {
      "image/png": "[encoded data removed]",
      "text/plain": [
       "<Figure size 720x504 with 1 Axes>"
      ]
     },
     "metadata": {},
     "output_type": "display_data"
    }
   ],
   "source": [
    "plt.figure(figsize=(10, 7))\n",
    "plt.plot(v, ratios_sim1, label=\"Sample Simulation 1\", color='b')\n",
    "plt.plot(v, ratios_sim2, label=\"Sample Simulation 2\", color='c')\n",
    "plt.plot(v, ratios_sim3, label=\"Sample Simulation 3\", color='cornflowerblue')\n",
    "plt.plot(v, ratios2, label=\"P(|d_i|<v) (empirical)\", color='darkorange')\n",
    "plt.title(\"Q_%d Simulation with beta=%d and P(|d_i|<v) vs. v for %s 2014-2017 (k=%d)\" % (min_x * 100, min_beta, state_label, len(df2)))\n",
    "plt.xlabel(\"v\")\n",
    "plt.ylabel(\"CDF\")\n",
    "plt.axhline(y=min_x, color='g', linestyle='--', label=str(min_x))\n",
    "plt.legend()\n",
    "plt.show()"
   ]
  },
  {
   "cell_type": "code",
   "execution_count": 30,
   "metadata": {},
   "outputs": [
    {
     "data": {
      "image/png": "[encoded data removed]",
      "text/plain": [
       "<Figure size 720x504 with 1 Axes>"
      ]
     },
     "metadata": {},
     "output_type": "display_data"
    }
   ],
   "source": [
    "plt.figure(figsize=(10, 7))\n",
    "plt.plot(v, ratios_sim1, label=\"Sample Simulation 1\", color='b')\n",
    "plt.plot(v, ratios_sim2, label=\"Sample Simulation 2\", color='c')\n",
    "plt.plot(v, ratios_sim3, label=\"Sample Simulation 3\", color='cornflowerblue')\n",
    "plt.plot(v, ratios2, label=\"P(|d_i|<v) (empirical)\", color='darkorange')\n",
    "plt.title(\"Q_%d Simulation with beta=%d and P(|d_i|<v) vs. v for %s 2014-2017 (k=%d)\" % (min_x * 100, min_beta, state_label, len(df2)))\n",
    "plt.axhline(y=min_x, color='g', linestyle='--', label=str(min_x))\n",
    "plt.legend()\n",
    "plt.xlim((1000, 20000))\n",
    "plt.xlabel(\"v\")\n",
    "plt.ylabel(\"CDF\")\n",
    "plt.show()"
   ]
  },
  {
   "cell_type": "code",
   "execution_count": 26,
   "metadata": {},
   "outputs": [
    {
     "name": "stdout",
     "output_type": "stream",
     "text": [
      "Beta (=std): 14861\n",
      "Number of T/sqrt(n) above 2 stds: 474\n",
      "Proportion of T/sqrt(n) above 2 stds: 0.241\n",
      "P value = 0.000000\n"
     ]
    }
   ],
   "source": [
    "run_binom_stat_test2(min_beta, df2.values)"
   ]
  },
  {
   "cell_type": "code",
   "execution_count": 27,
   "metadata": {},
   "outputs": [
    {
     "name": "stdout",
     "output_type": "stream",
     "text": [
      "Sum of Empirical Transfers\n",
      "8623923274.476\n",
      "Average Sum of Simulated Transfers\n",
      "2747814104.645\n",
      "Empirical/Simulated Ratio\n",
      "3.138\n"
     ]
    }
   ],
   "source": [
    "print(\"Sum of Empirical Transfers\")\n",
    "print(\"%.3f\" % (empirical_transfers_sum))\n",
    "\n",
    "print(\"Average Sum of Simulated Transfers\")\n",
    "simulated_transfers_sum = np.mean(np.sum(np.absolute(simulated_transfers * min_beta / 40000), axis=1))\n",
    "print(\"%.3f\" % (simulated_transfers_sum))\n",
    "\n",
    "print(\"Empirical/Simulated Ratio\")\n",
    "print(\"%.3f\" % (empirical_transfers_sum / simulated_transfers_sum))"
   ]
  },
  {
   "cell_type": "code",
   "execution_count": 28,
   "metadata": {},
   "outputs": [
    {
     "data": {
      "text/plain": [
       "2780234587.989888"
      ]
     },
     "execution_count": 28,
     "metadata": {},
     "output_type": "execute_result"
    }
   ],
   "source": [
    "sum_sqrt_a * 16960 * np.sqrt(2) / np.sqrt(np.pi)"
   ]
  },
  {
   "cell_type": "code",
   "execution_count": 29,
   "metadata": {},
   "outputs": [
    {
     "data": {
      "text/plain": [
       "205454.44069464985"
      ]
     },
     "execution_count": 29,
     "metadata": {},
     "output_type": "execute_result"
    }
   ],
   "source": [
    "sum_sqrt_a"
   ]
  },
  {
   "cell_type": "code",
   "execution_count": null,
   "metadata": {},
   "outputs": [],
   "source": []
  }
 ],
 "metadata": {
  "kernelspec": {
   "display_name": "Python 3",
   "language": "python",
   "name": "python3"
  },
  "language_info": {
   "codemirror_mode": {
    "name": "ipython",
    "version": 3
   },
   "file_extension": ".py",
   "mimetype": "text/x-python",
   "name": "python",
   "nbconvert_exporter": "python",
   "pygments_lexer": "ipython3",
   "version": "3.6.5"
  }
 },
 "nbformat": 4,
 "nbformat_minor": 2
}
