{
 "cells": [
  {
   "cell_type": "code",
   "execution_count": 8,
   "metadata": {},
   "outputs": [],
   "source": [
    "import pandas as pd\n",
    "import numpy as np"
   ]
  },
  {
   "cell_type": "code",
   "execution_count": 9,
   "metadata": {},
   "outputs": [],
   "source": [
    "importname117 = \"Input/2017-all.csv\"\n",
    "importname217 = \"Input/2017-PDF-Stripped.csv\"\n",
    "outputname17 = \"Output/2017dataset.csv\""
   ]
  },
  {
   "cell_type": "code",
   "execution_count": 10,
   "metadata": {},
   "outputs": [],
   "source": [
    "def change_csv(importname1, importname2, outputname1):\n",
    "    all1 = pd.read_csv(importname1, encoding = 'ISO-8859-1', low_memory=True)\n",
    "    all1 = all1.replace(0, np.nan)\n",
    "    all1 = all1.dropna(axis=1,how='all')\n",
    "    all1 = all1[np.isfinite(all1['HIOSIssuerID:'])]\n",
    "    all1 = all1.rename(columns={\"HIOSIssuerID:\": \"HIOS ID\"})\n",
    "    all1 = all1.drop_duplicates(subset=['HIOS ID'])\n",
    "    all1.head()\n",
    "    \n",
    "    rira1 = pd.read_csv(importname2)\n",
    "    # rira1 = rira1.drop([\"Unnamed: 0\", \"Unnamed: 0.1\"],axis=1)\n",
    "    rira1.head()\n",
    "    merged1 = rira1.merge(all1, on='HIOS ID', how='left')\n",
    "    merged1.to_csv(outputname1)"
   ]
  },
  {
   "cell_type": "code",
   "execution_count": 11,
   "metadata": {},
   "outputs": [
    {
     "name": "stderr",
     "output_type": "stream",
     "text": [
      "/anaconda3/lib/python3.6/site-packages/IPython/core/interactiveshell.py:2909: DtypeWarning: Columns (13) have mixed types. Specify dtype option on import or set low_memory=False.\n",
      "  if self.run_code(code, result):\n"
     ]
    }
   ],
   "source": [
    "change_csv(importname117,importname217,outputname17)"
   ]
  },
  {
   "cell_type": "code",
   "execution_count": 5,
   "metadata": {
    "collapsed": true
   },
   "outputs": [],
   "source": [
    "#states = merged2015[\"STATE\"].drop_duplicates()\n",
    "#print(states)\n",
    "#print(\"state,individualratio,smallgroupratio,individualtransfers,smallgrouptransfers,individualmm,smallgroupmm\")\n",
    "#for state in states:\n",
    "#    temp = merged2015.where(merged2015[\"STATE\"] == state).dropna(how='all')\n",
    "#    a = sum(abs(temp[\"HHS RISK ADJUSTMENT TRANSFER AMOUNT (INDIVIDUAL MARKET, INCLUDING CATASTROPHIC)\"]).convert_objects(convert_numeric=True).dropna())\n",
    "#    b = sum(abs(temp[\"HHS RISK ADJUSTMENT TRANSFERS AMOUNT (SMALL GROUP MARKET)\"]).convert_objects(convert_numeric=True).dropna())\n",
    "#    c = sum(temp[\"7.4Membermonths2HealthInsuranceINDIVIDUALTotalasof3/31/15\"].convert_objects(convert_numeric=True).dropna())\n",
    "#    d = sum(temp[\"7.4Membermonths7HealthInsuranceSMALLGROUPTotalasof3/31/15\"].convert_objects(convert_numeric=True).dropna())\n",
    "#    individual_ratio = a/c\n",
    "#    smallgroup_ratio = b/d\n",
    "#    print(state + \",\" + str(individual_ratio) + \",\" + str(smallgroup_ratio) + \",\" +\n",
    "#          str(a) + \",\" + str(b) + \",\" + str(c) + \",\" + str(d))"
   ]
  },
  {
   "cell_type": "code",
   "execution_count": null,
   "metadata": {
    "collapsed": true
   },
   "outputs": [],
   "source": []
  }
 ],
 "metadata": {
  "kernelspec": {
   "display_name": "Python 3",
   "language": "python",
   "name": "python3"
  },
  "language_info": {
   "codemirror_mode": {
    "name": "ipython",
    "version": 3
   },
   "file_extension": ".py",
   "mimetype": "text/x-python",
   "name": "python",
   "nbconvert_exporter": "python",
   "pygments_lexer": "ipython3",
   "version": "3.6.5"
  }
 },
 "nbformat": 4,
 "nbformat_minor": 2
}
